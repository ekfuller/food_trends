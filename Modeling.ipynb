{
 "cells": [
  {
   "cell_type": "code",
   "execution_count": 37,
   "id": "ad93b2a7-08e2-4c4b-aa32-6539a1e605de",
   "metadata": {},
   "outputs": [],
   "source": [
    "import pandas as pd\n",
    "import pickle\n",
    "from sklearn.neighbors import KNeighborsRegressor\n",
    "from sklearn.pipeline import Pipeline, make_pipeline\n",
    "from sklearn.model_selection import train_test_split, GridSearchCV\n",
    "from sklearn.feature_extraction.text import CountVectorizer\n",
    "from sklearn.linear_model import LogisticRegression\n",
    "from sklearn.ensemble import RandomForestRegressor, ExtraTreesRegressor"
   ]
  },
  {
   "cell_type": "markdown",
   "id": "427be43d-4c72-49aa-bd89-8d9a4f75b076",
   "metadata": {},
   "source": [
    "with open('./Models/column_transformer.pkl', 'rb') as x:\n",
    "    ct = pickle.load(x)"
   ]
  },
  {
   "cell_type": "markdown",
   "id": "2dd4a431-f98c-4725-96e8-d48aba6f90f4",
   "metadata": {},
   "source": [
    "with open('./Data/X_train.pkl', 'rb') as x:\n",
    "    X_train = pickle.load(x)\n",
    "\n",
    "with open('./Data/X_test.pkl', 'rb') as x:\n",
    "    X_test = pickle.load(x)\n",
    "    \n",
    "with open('./Data/y_train.pkl', 'rb') as x:\n",
    "    y_train = pickle.load(x)\n",
    "    \n",
    "with open('./Data/y_test.pkl', 'rb') as x:\n",
    "    y_test = pickle.load(x)"
   ]
  },
  {
   "cell_type": "code",
   "execution_count": 16,
   "id": "d04c3a87-58d4-4d30-8d3d-23a0c2ba3e33",
   "metadata": {},
   "outputs": [],
   "source": [
    "posts_df = pd.read_csv('./Data/posts_with_date.csv')"
   ]
  },
  {
   "cell_type": "code",
   "execution_count": 19,
   "id": "cea01880-e2af-41c5-a1b2-2ed860080111",
   "metadata": {},
   "outputs": [],
   "source": [
    "X = posts_df['title']\n",
    "y = posts_df['score']\n",
    "\n",
    "X_train, X_test, y_train, y_test = train_test_split(X, y, random_state=20)"
   ]
  },
  {
   "cell_type": "markdown",
   "id": "8582cec5-9dec-4bee-a0a8-7d1dac2ea995",
   "metadata": {},
   "source": [
    "#### Basic KNN Regressor"
   ]
  },
  {
   "cell_type": "code",
   "execution_count": 25,
   "id": "75a12b0b-01aa-48a2-a242-cc81aba6c48d",
   "metadata": {},
   "outputs": [],
   "source": [
    "pipe_knn = Pipeline([\n",
    "    ('cv', CountVectorizer()),\n",
    "    ('knn', KNeighborsRegressor())\n",
    "])"
   ]
  },
  {
   "cell_type": "code",
   "execution_count": 26,
   "id": "8c91a272-3c3b-4daf-b33e-c064f70e86a9",
   "metadata": {},
   "outputs": [
    {
     "data": {
      "text/plain": [
       "Pipeline(steps=[('cv', CountVectorizer()), ('knn', KNeighborsRegressor())])"
      ]
     },
     "execution_count": 26,
     "metadata": {},
     "output_type": "execute_result"
    }
   ],
   "source": [
    "pipe_knn.fit(X_train, y_train)"
   ]
  },
  {
   "cell_type": "code",
   "execution_count": 27,
   "id": "c08ceb7f-ef59-4ad9-86ad-67c5cc7981f1",
   "metadata": {},
   "outputs": [
    {
     "data": {
      "text/plain": [
       "0.18268023773034592"
      ]
     },
     "execution_count": 27,
     "metadata": {},
     "output_type": "execute_result"
    }
   ],
   "source": [
    "pipe_knn.score(X_train, y_train)"
   ]
  },
  {
   "cell_type": "code",
   "execution_count": 28,
   "id": "efa52765-8253-4c8e-b2b0-1a3cb4f32425",
   "metadata": {},
   "outputs": [
    {
     "data": {
      "text/plain": [
       "-0.3652955606578576"
      ]
     },
     "execution_count": 28,
     "metadata": {},
     "output_type": "execute_result"
    }
   ],
   "source": [
    "pipe_knn.score(X_test, y_test)"
   ]
  },
  {
   "cell_type": "markdown",
   "id": "f8721880-4a56-4c6f-816a-2f14d7de9b3d",
   "metadata": {},
   "source": [
    "These numbers are both far below baseline"
   ]
  },
  {
   "cell_type": "markdown",
   "id": "3a11114c-56ca-47fa-9207-59dc333ea24e",
   "metadata": {},
   "source": [
    "#### Basic Logistic Regressor"
   ]
  },
  {
   "cell_type": "code",
   "execution_count": 34,
   "id": "dbcbb01f-d662-468f-ae5e-b76f7cd9c66d",
   "metadata": {},
   "outputs": [],
   "source": [
    "pipe_lr = Pipeline([\n",
    "    ('cv', CountVectorizer()),\n",
    "    ('lr', LogisticRegression(max_iter=1000))\n",
    "])"
   ]
  },
  {
   "cell_type": "code",
   "execution_count": 35,
   "id": "33c3ae8c-26fa-4252-a399-792f05f65e2c",
   "metadata": {},
   "outputs": [
    {
     "data": {
      "text/plain": [
       "(0.9710087159863946, 0.9696293343961738)"
      ]
     },
     "execution_count": 35,
     "metadata": {},
     "output_type": "execute_result"
    }
   ],
   "source": [
    "pipe_lr.fit(X_train, y_train)\n",
    "pipe_lr.score(X_train, y_train), pipe_lr.score(X_test, y_test)"
   ]
  },
  {
   "cell_type": "markdown",
   "id": "d639e574-102d-4b25-a627-328b577db76b",
   "metadata": {},
   "source": [
    "The testing accuracy exceeds baseline. LR seems like a promising model to tune"
   ]
  },
  {
   "cell_type": "markdown",
   "id": "28fd5cb0-9f53-4af1-b44c-abaad89c63ea",
   "metadata": {},
   "source": [
    "#### Basic Random Forest Regressor"
   ]
  },
  {
   "cell_type": "code",
   "execution_count": 39,
   "id": "064bddd1-af9d-43e9-9fa4-2fc9c36c2d0e",
   "metadata": {},
   "outputs": [],
   "source": [
    "pipe_rf = Pipeline([\n",
    "    ('cv', CountVectorizer()),\n",
    "    ('rf', RandomForestRegressor())\n",
    "])"
   ]
  },
  {
   "cell_type": "code",
   "execution_count": 40,
   "id": "4839fece-aab0-42dd-8e79-0a8351c03dd6",
   "metadata": {},
   "outputs": [
    {
     "data": {
      "text/plain": [
       "(0.8463848118644273, -0.09813894018395763)"
      ]
     },
     "execution_count": 40,
     "metadata": {},
     "output_type": "execute_result"
    }
   ],
   "source": [
    "pipe_rf.fit(X_train, y_train)\n",
    "pipe_rf.score(X_train, y_train), pipe_rf.score(X_test, y_test)"
   ]
  },
  {
   "cell_type": "markdown",
   "id": "66cd99e5-b44d-446f-a714-2df5a9c0da07",
   "metadata": {},
   "source": [
    "These numbers are both far below baseline"
   ]
  },
  {
   "cell_type": "markdown",
   "id": "75c1b19a-bed9-4ea3-9c48-d376703d05da",
   "metadata": {},
   "source": [
    "#### Basic Extra Trees Classifier"
   ]
  },
  {
   "cell_type": "code",
   "execution_count": 45,
   "id": "1fce44ec-f0d4-49d8-a031-09db66b4fb3d",
   "metadata": {},
   "outputs": [],
   "source": [
    "pipe_et = Pipeline([\n",
    "    ('cv', CountVectorizer()),\n",
    "    ('et', ExtraTreesRegressor(n_jobs=-1))\n",
    "\n",
    "])"
   ]
  },
  {
   "cell_type": "code",
   "execution_count": 47,
   "id": "82967d5d-b376-4e21-93f9-4f43202baddc",
   "metadata": {},
   "outputs": [
    {
     "data": {
      "text/plain": [
       "(0.9623147617826653, -0.09939177437719038)"
      ]
     },
     "execution_count": 47,
     "metadata": {},
     "output_type": "execute_result"
    }
   ],
   "source": [
    "pipe_et.fit(X_train, y_train)\n",
    "pipe_et.score(X_train, y_train), pipe_et.score(X_test, y_test)"
   ]
  },
  {
   "cell_type": "code",
   "execution_count": null,
   "id": "c69d43e2-6d06-44a2-bed5-ee8b84c44af4",
   "metadata": {},
   "outputs": [],
   "source": []
  }
 ],
 "metadata": {
  "kernelspec": {
   "display_name": "Python 3 (ipykernel)",
   "language": "python",
   "name": "python3"
  },
  "language_info": {
   "codemirror_mode": {
    "name": "ipython",
    "version": 3
   },
   "file_extension": ".py",
   "mimetype": "text/x-python",
   "name": "python",
   "nbconvert_exporter": "python",
   "pygments_lexer": "ipython3",
   "version": "3.9.7"
  }
 },
 "nbformat": 4,
 "nbformat_minor": 5
}
