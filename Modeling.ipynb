{
 "cells": [
  {
   "cell_type": "code",
   "execution_count": 82,
   "id": "ad93b2a7-08e2-4c4b-aa32-6539a1e605de",
   "metadata": {},
   "outputs": [],
   "source": [
    "import pandas as pd\n",
    "import pickle\n",
    "import numpy as np\n",
    "from sklearn.neighbors import KNeighborsRegressor, KNeighborsClassifier\n",
    "from sklearn.pipeline import Pipeline, make_pipeline\n",
    "from sklearn.model_selection import train_test_split, GridSearchCV\n",
    "from sklearn.feature_extraction.text import CountVectorizer\n",
    "from sklearn.linear_model import LogisticRegression\n",
    "from sklearn.ensemble import RandomForestRegressor, ExtraTreesRegressor, RandomForestClassifier\n",
    "from sklearn.metrics import balanced_accuracy_score, SCORERS, mean_squared_error, accuracy_score"
   ]
  },
  {
   "cell_type": "code",
   "execution_count": 122,
   "id": "d04c3a87-58d4-4d30-8d3d-23a0c2ba3e33",
   "metadata": {},
   "outputs": [],
   "source": [
    "posts_df = pd.read_csv('./Data/posts_scores_dates_viral.csv')"
   ]
  },
  {
   "cell_type": "code",
   "execution_count": 123,
   "id": "cea01880-e2af-41c5-a1b2-2ed860080111",
   "metadata": {},
   "outputs": [],
   "source": [
    "X = posts_df['title']\n",
    "y = posts_df['score']\n",
    "\n",
    "X_train, X_test, y_train, y_test = train_test_split(X, y, random_state=20)"
   ]
  },
  {
   "cell_type": "markdown",
   "id": "e1bd16c1-9edb-4ce4-b630-0670bfeedbd8",
   "metadata": {},
   "source": [
    "#### Baselines"
   ]
  },
  {
   "cell_type": "code",
   "execution_count": 72,
   "id": "d77ab0bd-b25d-4e0d-a056-fb8a0dbbe73f",
   "metadata": {},
   "outputs": [],
   "source": [
    "baseline = np.full_like(y_test, y_train.median())"
   ]
  },
  {
   "cell_type": "code",
   "execution_count": 78,
   "id": "ea94450c-b704-4526-b5be-7be8d661aa52",
   "metadata": {},
   "outputs": [
    {
     "data": {
      "text/plain": [
       "1248.1081690577198"
      ]
     },
     "execution_count": 78,
     "metadata": {},
     "output_type": "execute_result"
    }
   ],
   "source": [
    "mean_squared_error(y_test, baseline, squared = False)"
   ]
  },
  {
   "cell_type": "code",
   "execution_count": 83,
   "id": "1bd9d46c-81c6-4d7e-8936-410cef8fbe12",
   "metadata": {},
   "outputs": [
    {
     "data": {
      "text/plain": [
       "0.015351243116969799"
      ]
     },
     "execution_count": 83,
     "metadata": {},
     "output_type": "execute_result"
    }
   ],
   "source": [
    "accuracy_score(y_test, baseline)"
   ]
  },
  {
   "cell_type": "markdown",
   "id": "93b3b061-29ff-46ee-8868-7c6b64db9b6f",
   "metadata": {
    "tags": []
   },
   "source": [
    "## Regression Models to predict score"
   ]
  },
  {
   "cell_type": "markdown",
   "id": "8582cec5-9dec-4bee-a0a8-7d1dac2ea995",
   "metadata": {},
   "source": [
    "#### Basic KNN Regressor"
   ]
  },
  {
   "cell_type": "code",
   "execution_count": 60,
   "id": "75a12b0b-01aa-48a2-a242-cc81aba6c48d",
   "metadata": {},
   "outputs": [],
   "source": [
    "pipe_knn = Pipeline([\n",
    "    ('cv', CountVectorizer()),\n",
    "    ('knn', KNeighborsRegressor())\n",
    "])"
   ]
  },
  {
   "cell_type": "code",
   "execution_count": 124,
   "id": "8c91a272-3c3b-4daf-b33e-c064f70e86a9",
   "metadata": {},
   "outputs": [
    {
     "data": {
      "text/plain": [
       "Pipeline(steps=[('cv', CountVectorizer()), ('knn', KNeighborsRegressor())])"
      ]
     },
     "execution_count": 124,
     "metadata": {},
     "output_type": "execute_result"
    }
   ],
   "source": [
    "pipe_knn.fit(X_train, y_train)"
   ]
  },
  {
   "cell_type": "code",
   "execution_count": 125,
   "id": "c08ceb7f-ef59-4ad9-86ad-67c5cc7981f1",
   "metadata": {},
   "outputs": [
    {
     "data": {
      "text/plain": [
       "0.3631191779913039"
      ]
     },
     "execution_count": 125,
     "metadata": {},
     "output_type": "execute_result"
    }
   ],
   "source": [
    "pipe_knn.score(X_train, y_train)"
   ]
  },
  {
   "cell_type": "code",
   "execution_count": 126,
   "id": "efa52765-8253-4c8e-b2b0-1a3cb4f32425",
   "metadata": {},
   "outputs": [
    {
     "data": {
      "text/plain": [
       "0.30848071528913534"
      ]
     },
     "execution_count": 126,
     "metadata": {},
     "output_type": "execute_result"
    }
   ],
   "source": [
    "pipe_knn.score(X_test, y_test)"
   ]
  },
  {
   "cell_type": "code",
   "execution_count": 127,
   "id": "dbf6a461-a1b9-4367-93c7-2a1b500c3ed9",
   "metadata": {},
   "outputs": [
    {
     "data": {
      "text/plain": [
       "864.8012738490858"
      ]
     },
     "execution_count": 127,
     "metadata": {},
     "output_type": "execute_result"
    }
   ],
   "source": [
    "mean_squared_error(y_train, pipe_knn.predict(X_train), squared = False)"
   ]
  },
  {
   "cell_type": "code",
   "execution_count": 128,
   "id": "be20c0fa-da19-4577-8b4c-776317b7e041",
   "metadata": {},
   "outputs": [
    {
     "data": {
      "text/plain": [
       "1028.596439806195"
      ]
     },
     "execution_count": 128,
     "metadata": {},
     "output_type": "execute_result"
    }
   ],
   "source": [
    "mean_squared_error(y_test, pipe_knn.predict(X_test), squared = False)"
   ]
  },
  {
   "cell_type": "markdown",
   "id": "f8721880-4a56-4c6f-816a-2f14d7de9b3d",
   "metadata": {},
   "source": [
    "These numbers are both a bit better than baseline, but the model is overfit and still has a large error"
   ]
  },
  {
   "cell_type": "markdown",
   "id": "3a11114c-56ca-47fa-9207-59dc333ea24e",
   "metadata": {},
   "source": [
    "#### Basic Logistic Regressor"
   ]
  },
  {
   "cell_type": "code",
   "execution_count": 64,
   "id": "dbcbb01f-d662-468f-ae5e-b76f7cd9c66d",
   "metadata": {},
   "outputs": [],
   "source": [
    "pipe_lr = Pipeline([\n",
    "    ('cv', CountVectorizer()),\n",
    "    ('lr', LogisticRegression(max_iter=1000))\n",
    "])"
   ]
  },
  {
   "cell_type": "code",
   "execution_count": 65,
   "id": "33c3ae8c-26fa-4252-a399-792f05f65e2c",
   "metadata": {},
   "outputs": [
    {
     "data": {
      "text/plain": [
       "(0.34957721406319536, 0.2089103954613716)"
      ]
     },
     "execution_count": 65,
     "metadata": {},
     "output_type": "execute_result"
    }
   ],
   "source": [
    "pipe_lr.fit(X_train, y_train)\n",
    "pipe_lr.score(X_train, y_train), pipe_lr.score(X_test, y_test)"
   ]
  },
  {
   "cell_type": "code",
   "execution_count": 81,
   "id": "44b5a2c9-c542-483d-b207-25218a7f6e8c",
   "metadata": {},
   "outputs": [
    {
     "name": "stdout",
     "output_type": "stream",
     "text": [
      "1078.4824752551972\n",
      "1266.5016032479132\n"
     ]
    }
   ],
   "source": [
    "print(mean_squared_error(y_train, pipe_lr.predict(X_train), squared = False))\n",
    "print(mean_squared_error(y_test, pipe_lr.predict(X_test), squared = False))"
   ]
  },
  {
   "cell_type": "markdown",
   "id": "d639e574-102d-4b25-a627-328b577db76b",
   "metadata": {},
   "source": [
    "The model is underperforming, but exceeds the baseline accuracy"
   ]
  },
  {
   "cell_type": "markdown",
   "id": "28fd5cb0-9f53-4af1-b44c-abaad89c63ea",
   "metadata": {},
   "source": [
    "#### Basic Random Forest Regressor"
   ]
  },
  {
   "cell_type": "code",
   "execution_count": 66,
   "id": "064bddd1-af9d-43e9-9fa4-2fc9c36c2d0e",
   "metadata": {},
   "outputs": [],
   "source": [
    "pipe_rf = Pipeline([\n",
    "    ('cv', CountVectorizer()),\n",
    "    ('rf', RandomForestRegressor())\n",
    "])"
   ]
  },
  {
   "cell_type": "code",
   "execution_count": 67,
   "id": "4839fece-aab0-42dd-8e79-0a8351c03dd6",
   "metadata": {},
   "outputs": [
    {
     "data": {
      "text/plain": [
       "(0.49267580734014027, 0.3162584174127826)"
      ]
     },
     "execution_count": 67,
     "metadata": {},
     "output_type": "execute_result"
    }
   ],
   "source": [
    "pipe_rf.fit(X_train, y_train)\n",
    "pipe_rf.score(X_train, y_train), pipe_rf.score(X_test, y_test)"
   ]
  },
  {
   "cell_type": "code",
   "execution_count": 84,
   "id": "3cc444ab-ae1f-43da-b43a-79f90ba528b8",
   "metadata": {},
   "outputs": [
    {
     "name": "stdout",
     "output_type": "stream",
     "text": [
      "771.8448689218682\n",
      "1022.7956334127475\n"
     ]
    }
   ],
   "source": [
    "print(mean_squared_error(y_train, pipe_rf.predict(X_train), squared = False))\n",
    "print(mean_squared_error(y_test, pipe_rf.predict(X_test), squared = False))"
   ]
  },
  {
   "cell_type": "markdown",
   "id": "66cd99e5-b44d-446f-a714-2df5a9c0da07",
   "metadata": {},
   "source": [
    "The model is outperforming the baseline, but is overfit"
   ]
  },
  {
   "cell_type": "markdown",
   "id": "75c1b19a-bed9-4ea3-9c48-d376703d05da",
   "metadata": {},
   "source": [
    "#### Basic Extra Trees Regressor"
   ]
  },
  {
   "cell_type": "code",
   "execution_count": 68,
   "id": "1fce44ec-f0d4-49d8-a031-09db66b4fb3d",
   "metadata": {},
   "outputs": [],
   "source": [
    "pipe_et = Pipeline([\n",
    "    ('cv', CountVectorizer()),\n",
    "    ('et', ExtraTreesRegressor(n_jobs=-1))\n",
    "\n",
    "])"
   ]
  },
  {
   "cell_type": "code",
   "execution_count": 69,
   "id": "82967d5d-b376-4e21-93f9-4f43202baddc",
   "metadata": {},
   "outputs": [
    {
     "data": {
      "text/plain": [
       "(0.5235932501442125, 0.22721633355926607)"
      ]
     },
     "execution_count": 69,
     "metadata": {},
     "output_type": "execute_result"
    }
   ],
   "source": [
    "pipe_et.fit(X_train, y_train)\n",
    "pipe_et.score(X_train, y_train), pipe_et.score(X_test, y_test)"
   ]
  },
  {
   "cell_type": "markdown",
   "id": "19c37008-8609-4a39-bae6-02176ad897ea",
   "metadata": {},
   "source": [
    "## Classification Models to predict if viral (top 2% of scores)"
   ]
  },
  {
   "cell_type": "markdown",
   "id": "378ad0c3-b1d8-4393-8618-095e7c5c6e74",
   "metadata": {},
   "source": [
    "#### baseline"
   ]
  },
  {
   "cell_type": "code",
   "execution_count": 87,
   "id": "fd82dad1-bf83-46a7-83e8-6d570ca3d21f",
   "metadata": {},
   "outputs": [
    {
     "data": {
      "text/plain": [
       "0    0.979974\n",
       "1    0.020026\n",
       "Name: viral, dtype: float64"
      ]
     },
     "execution_count": 87,
     "metadata": {},
     "output_type": "execute_result"
    }
   ],
   "source": [
    "posts_df['viral'].value_counts(normalize=True)"
   ]
  },
  {
   "cell_type": "code",
   "execution_count": 88,
   "id": "ba0eedd9-f440-4ff1-9f0a-f93d48d48016",
   "metadata": {},
   "outputs": [],
   "source": [
    "X = posts_df['title']\n",
    "y = posts_df['viral']\n",
    "\n",
    "X_train, X_test, y_train, y_test = train_test_split(X, y, random_state=20, stratify=y)"
   ]
  },
  {
   "cell_type": "markdown",
   "id": "b0e0d220-2703-4bae-8ef0-ef0dd35511c9",
   "metadata": {},
   "source": [
    "#### Basic Logistic Regression"
   ]
  },
  {
   "cell_type": "code",
   "execution_count": 89,
   "id": "a6c07b46-dc09-4130-8639-2e88947eb095",
   "metadata": {},
   "outputs": [],
   "source": [
    "pipe_lrc = Pipeline([\n",
    "    ('cv', CountVectorizer()),\n",
    "    ('lr', LogisticRegression(max_iter=1000))\n",
    "])"
   ]
  },
  {
   "cell_type": "code",
   "execution_count": 90,
   "id": "899b924e-24d2-4159-bc20-6c46e21271d3",
   "metadata": {},
   "outputs": [
    {
     "data": {
      "text/plain": [
       "(0.9803627058299955, 0.9796429167361922)"
      ]
     },
     "execution_count": 90,
     "metadata": {},
     "output_type": "execute_result"
    }
   ],
   "source": [
    "pipe_lrc.fit(X_train, y_train)\n",
    "pipe_lrc.score(X_train, y_train), pipe_lrc.score(X_test, y_test)"
   ]
  },
  {
   "cell_type": "code",
   "execution_count": 91,
   "id": "7f3ef844-b0f1-473d-8a98-a504c6f956ad",
   "metadata": {},
   "outputs": [
    {
     "data": {
      "text/plain": [
       "0.5165247502270663"
      ]
     },
     "execution_count": 91,
     "metadata": {},
     "output_type": "execute_result"
    }
   ],
   "source": [
    "balanced_accuracy_score(y_train, pipe_lrc.predict(X_train))"
   ]
  },
  {
   "cell_type": "code",
   "execution_count": 92,
   "id": "53edac7f-08c5-42f0-8e42-e4797542e312",
   "metadata": {},
   "outputs": [
    {
     "data": {
      "text/plain": [
       "0.5039112605709746"
      ]
     },
     "execution_count": 92,
     "metadata": {},
     "output_type": "execute_result"
    }
   ],
   "source": [
    "balanced_accuracy_score(y_test, pipe_lrc.predict(X_test))"
   ]
  },
  {
   "cell_type": "markdown",
   "id": "00061a51-b0ef-4c1c-b00f-5dfd7c6d4bcb",
   "metadata": {},
   "source": [
    "The model is underperforming the baseline"
   ]
  },
  {
   "cell_type": "markdown",
   "id": "900aadbc-3a10-4bc3-86ca-c46688232102",
   "metadata": {},
   "source": [
    "#### Basic KNN Classification"
   ]
  },
  {
   "cell_type": "code",
   "execution_count": 93,
   "id": "a9f770c0-af79-4ba4-b202-28fb9ec9f7dd",
   "metadata": {},
   "outputs": [],
   "source": [
    "pipe_knnc = Pipeline([\n",
    "    ('cv', CountVectorizer()),\n",
    "    ('knn', KNeighborsClassifier())\n",
    "])"
   ]
  },
  {
   "cell_type": "code",
   "execution_count": 94,
   "id": "be2c5fc3-65cf-48a4-8723-6e12d67c8955",
   "metadata": {},
   "outputs": [
    {
     "data": {
      "text/plain": [
       "(0.982254116599911, 0.9784748873685967)"
      ]
     },
     "execution_count": 94,
     "metadata": {},
     "output_type": "execute_result"
    }
   ],
   "source": [
    "pipe_knnc.fit(X_train, y_train)\n",
    "pipe_knnc.score(X_train, y_train), pipe_knnc.score(X_test, y_test)"
   ]
  },
  {
   "cell_type": "code",
   "execution_count": 95,
   "id": "3e7317fc-ec8a-4615-9b36-867991cca4a2",
   "metadata": {},
   "outputs": [
    {
     "name": "stdout",
     "output_type": "stream",
     "text": [
      "0.6440168029064487\n",
      "0.5971905329473863\n"
     ]
    }
   ],
   "source": [
    "print(balanced_accuracy_score(y_train, pipe_knnc.predict(X_train)))\n",
    "print(balanced_accuracy_score(y_test, pipe_knnc.predict(X_test)))"
   ]
  },
  {
   "cell_type": "markdown",
   "id": "e94864c1-bdb0-4e51-ab47-66dcfa01f155",
   "metadata": {},
   "source": [
    "The model performs very similarly to the logistic regression model and is underforming the baseline"
   ]
  },
  {
   "cell_type": "markdown",
   "id": "89060391-0e8e-4341-a957-6fba3a2e4647",
   "metadata": {},
   "source": [
    "#### Basic Random Forest Classifier"
   ]
  },
  {
   "cell_type": "code",
   "execution_count": 96,
   "id": "ad6c0f4a-278f-46b6-b586-74014a0e1ee2",
   "metadata": {},
   "outputs": [],
   "source": [
    "pipe_rfc = Pipeline([\n",
    "    ('cv', CountVectorizer()),\n",
    "    ('rf', RandomForestClassifier())\n",
    "])"
   ]
  },
  {
   "cell_type": "code",
   "execution_count": 97,
   "id": "a9e7e27a-b4d6-4cec-9eaa-cf200e6acb14",
   "metadata": {},
   "outputs": [
    {
     "data": {
      "text/plain": [
       "(0.9843680462839342, 0.9763056899716336)"
      ]
     },
     "execution_count": 97,
     "metadata": {},
     "output_type": "execute_result"
    }
   ],
   "source": [
    "pipe_rfc.fit(X_train, y_train)\n",
    "pipe_rfc.score(X_train, y_train), pipe_rfc.score(X_test, y_test)"
   ]
  },
  {
   "cell_type": "code",
   "execution_count": 98,
   "id": "df30d8e2-df8a-4c2e-9d72-e3b8eff8f8fd",
   "metadata": {},
   "outputs": [
    {
     "name": "stdout",
     "output_type": "stream",
     "text": [
      "0.7253651983045716\n",
      "0.6124098984051308\n"
     ]
    }
   ],
   "source": [
    "print(balanced_accuracy_score(y_train, pipe_rfc.predict(X_train)))\n",
    "print(balanced_accuracy_score(y_test, pipe_rfc.predict(X_test)))"
   ]
  },
  {
   "cell_type": "code",
   "execution_count": 99,
   "id": "abe698e7-2344-4774-b00b-95e554761c3e",
   "metadata": {},
   "outputs": [
    {
     "data": {
      "text/plain": [
       "{'memory': None,\n",
       " 'steps': [('cv', CountVectorizer()), ('rf', RandomForestClassifier())],\n",
       " 'verbose': False,\n",
       " 'cv': CountVectorizer(),\n",
       " 'rf': RandomForestClassifier(),\n",
       " 'cv__analyzer': 'word',\n",
       " 'cv__binary': False,\n",
       " 'cv__decode_error': 'strict',\n",
       " 'cv__dtype': numpy.int64,\n",
       " 'cv__encoding': 'utf-8',\n",
       " 'cv__input': 'content',\n",
       " 'cv__lowercase': True,\n",
       " 'cv__max_df': 1.0,\n",
       " 'cv__max_features': None,\n",
       " 'cv__min_df': 1,\n",
       " 'cv__ngram_range': (1, 1),\n",
       " 'cv__preprocessor': None,\n",
       " 'cv__stop_words': None,\n",
       " 'cv__strip_accents': None,\n",
       " 'cv__token_pattern': '(?u)\\\\b\\\\w\\\\w+\\\\b',\n",
       " 'cv__tokenizer': None,\n",
       " 'cv__vocabulary': None,\n",
       " 'rf__bootstrap': True,\n",
       " 'rf__ccp_alpha': 0.0,\n",
       " 'rf__class_weight': None,\n",
       " 'rf__criterion': 'gini',\n",
       " 'rf__max_depth': None,\n",
       " 'rf__max_features': 'auto',\n",
       " 'rf__max_leaf_nodes': None,\n",
       " 'rf__max_samples': None,\n",
       " 'rf__min_impurity_decrease': 0.0,\n",
       " 'rf__min_samples_leaf': 1,\n",
       " 'rf__min_samples_split': 2,\n",
       " 'rf__min_weight_fraction_leaf': 0.0,\n",
       " 'rf__n_estimators': 100,\n",
       " 'rf__n_jobs': None,\n",
       " 'rf__oob_score': False,\n",
       " 'rf__random_state': None,\n",
       " 'rf__verbose': 0,\n",
       " 'rf__warm_start': False}"
      ]
     },
     "execution_count": 99,
     "metadata": {},
     "output_type": "execute_result"
    }
   ],
   "source": [
    "pipe_rfc.get_params(deep=True)"
   ]
  },
  {
   "cell_type": "markdown",
   "id": "4f30d048-195c-436b-aa86-c45b66eabe16",
   "metadata": {},
   "source": [
    "### Grid Search"
   ]
  },
  {
   "cell_type": "markdown",
   "id": "387112eb-cbcd-40ff-9dfd-6bb5c3467f27",
   "metadata": {},
   "source": [
    "#### grid search on random forest"
   ]
  },
  {
   "cell_type": "code",
   "execution_count": 110,
   "id": "a18e0669-1451-4c66-8e72-73ecc3f40190",
   "metadata": {},
   "outputs": [],
   "source": [
    "params = {\n",
    "    'cv__ngram_range': [(1,1),(1,2),(2,2)],\n",
    "    'cv__stop_words' :[None, 'english'],\n",
    "    'cv__min_df':[1, 2, 4],\n",
    "    'cv__lowercase':[True, False],\n",
    "    'rf__n_jobs':[-1],\n",
    "    'rf__max_depth': [None, 2, 4]\n",
    "}"
   ]
  },
  {
   "cell_type": "code",
   "execution_count": 111,
   "id": "6e8e7faf-ce3c-4a90-ade8-9d618635dda2",
   "metadata": {},
   "outputs": [],
   "source": [
    "gs = GridSearchCV(\n",
    "    pipe_rfc,\n",
    "    param_grid= params,\n",
    "    n_jobs=-1,\n",
    "    scoring='balanced_accuracy'\n",
    ")"
   ]
  },
  {
   "cell_type": "code",
   "execution_count": 112,
   "id": "808cb3ff-155c-4eb1-ab9d-9e644a3df607",
   "metadata": {},
   "outputs": [
    {
     "data": {
      "text/plain": [
       "GridSearchCV(estimator=Pipeline(steps=[('cv', CountVectorizer()),\n",
       "                                       ('rf', RandomForestClassifier())]),\n",
       "             n_jobs=-1,\n",
       "             param_grid={'cv__lowercase': [True, False],\n",
       "                         'cv__min_df': [1, 2, 4],\n",
       "                         'cv__ngram_range': [(1, 1), (1, 2), (2, 2)],\n",
       "                         'cv__stop_words': [None, 'english'],\n",
       "                         'rf__max_depth': [None, 2, 4], 'rf__n_jobs': [-1]},\n",
       "             scoring='balanced_accuracy')"
      ]
     },
     "execution_count": 112,
     "metadata": {},
     "output_type": "execute_result"
    }
   ],
   "source": [
    "gs.fit(X_train, y_train)"
   ]
  },
  {
   "cell_type": "code",
   "execution_count": 113,
   "id": "eb7a24f7-d58d-4719-9c5f-5ecce539a7de",
   "metadata": {},
   "outputs": [
    {
     "data": {
      "text/plain": [
       "{'cv__lowercase': False,\n",
       " 'cv__min_df': 1,\n",
       " 'cv__ngram_range': (2, 2),\n",
       " 'cv__stop_words': 'english',\n",
       " 'rf__max_depth': None,\n",
       " 'rf__n_jobs': -1}"
      ]
     },
     "execution_count": 113,
     "metadata": {},
     "output_type": "execute_result"
    }
   ],
   "source": [
    "gs.best_params_"
   ]
  },
  {
   "cell_type": "code",
   "execution_count": 114,
   "id": "8e489436-69a7-4c80-9451-021da3705d6b",
   "metadata": {},
   "outputs": [
    {
     "data": {
      "text/plain": [
       "Pipeline(steps=[('cv',\n",
       "                 CountVectorizer(lowercase=False, ngram_range=(2, 2),\n",
       "                                 stop_words='english')),\n",
       "                ('rf', RandomForestClassifier(n_jobs=-1))])"
      ]
     },
     "execution_count": 114,
     "metadata": {},
     "output_type": "execute_result"
    }
   ],
   "source": [
    "gs.best_estimator_"
   ]
  },
  {
   "cell_type": "code",
   "execution_count": 115,
   "id": "ffdf9915-4f15-4dc6-9c5b-6757f507e093",
   "metadata": {},
   "outputs": [
    {
     "data": {
      "text/plain": [
       "0.6251929740876908"
      ]
     },
     "execution_count": 115,
     "metadata": {},
     "output_type": "execute_result"
    }
   ],
   "source": [
    "gs.best_score_"
   ]
  },
  {
   "cell_type": "code",
   "execution_count": 116,
   "id": "437ec755-568d-4896-97f0-475c3e6bee82",
   "metadata": {},
   "outputs": [
    {
     "name": "stdout",
     "output_type": "stream",
     "text": [
      "0.7472752043596731\n",
      "0.6038211589761053\n"
     ]
    }
   ],
   "source": [
    "print(balanced_accuracy_score(y_train, gs.predict(X_train)))\n",
    "print(balanced_accuracy_score(y_test, gs.predict(X_test)))"
   ]
  },
  {
   "cell_type": "code",
   "execution_count": 117,
   "id": "6520f13d-f8c4-459e-b9dc-997fffc2b65e",
   "metadata": {},
   "outputs": [],
   "source": [
    "pipe_gs = Pipeline([\n",
    "    ('cv', CountVectorizer(ngram_range=(1,2), min_df=2)),\n",
    "    ('rf', RandomForestClassifier(n_jobs=-1))\n",
    "])"
   ]
  },
  {
   "cell_type": "code",
   "execution_count": 118,
   "id": "7c2b79e3-7a5c-4123-8ff7-93a464050050",
   "metadata": {},
   "outputs": [
    {
     "data": {
      "text/plain": [
       "(0.9843680462839342, 0.9761388286334056)"
      ]
     },
     "execution_count": 118,
     "metadata": {},
     "output_type": "execute_result"
    }
   ],
   "source": [
    "pipe_gs.fit(X_train, y_train)\n",
    "pipe_gs.score(X_train, y_train), pipe_gs.score(X_test, y_test)"
   ]
  },
  {
   "cell_type": "code",
   "execution_count": 119,
   "id": "486d824f-a6b0-46ea-b33e-91a7ce862f1c",
   "metadata": {},
   "outputs": [
    {
     "name": "stdout",
     "output_type": "stream",
     "text": [
      "0.7253651983045716\n",
      "0.6124098984051308\n"
     ]
    }
   ],
   "source": [
    "print(balanced_accuracy_score(y_train, pipe_rfc.predict(X_train)))\n",
    "print(balanced_accuracy_score(y_test, pipe_rfc.predict(X_test)))"
   ]
  },
  {
   "cell_type": "markdown",
   "id": "505a7403-ce57-4285-b1e5-9cac3942a933",
   "metadata": {},
   "source": [
    "Basic SciKit learn classification models do not perform well. Next steps are amplifying the minority class and trying neural networks"
   ]
  },
  {
   "cell_type": "code",
   "execution_count": null,
   "id": "0d0258c5-061b-4d40-82d1-9e856d324755",
   "metadata": {},
   "outputs": [],
   "source": []
  }
 ],
 "metadata": {
  "kernelspec": {
   "display_name": "Python 3 (ipykernel)",
   "language": "python",
   "name": "python3"
  },
  "language_info": {
   "codemirror_mode": {
    "name": "ipython",
    "version": 3
   },
   "file_extension": ".py",
   "mimetype": "text/x-python",
   "name": "python",
   "nbconvert_exporter": "python",
   "pygments_lexer": "ipython3",
   "version": "3.9.7"
  }
 },
 "nbformat": 4,
 "nbformat_minor": 5
}
