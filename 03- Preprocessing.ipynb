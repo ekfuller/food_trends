{
 "cells": [
  {
   "cell_type": "markdown",
   "id": "646e6b9e-eeaf-4f66-9ba5-1482e3390ed0",
   "metadata": {},
   "source": [
    "#### In this notebook I will pre-process the data to get it ready for modeling. "
   ]
  },
  {
   "cell_type": "code",
   "execution_count": 1,
   "id": "8dbc7352-2cdf-4273-8fdf-a74af929f006",
   "metadata": {},
   "outputs": [],
   "source": [
    "import pandas as pd\n",
    "import datetime as dt\n",
    "import numpy as np\n",
    "import pickle\n",
    "import pytz \n",
    "\n",
    "from sklearn.model_selection import train_test_split\n",
    "from sklearn.feature_extraction.text import CountVectorizer\n",
    "from sklearn.compose import make_column_transformer, ColumnTransformer, make_column_selector\n",
    "from sklearn.neighbors import KNeighborsRegressor"
   ]
  },
  {
   "cell_type": "code",
   "execution_count": 2,
   "id": "8d10bd23-27a9-4473-80cc-de69aa823078",
   "metadata": {},
   "outputs": [
    {
     "data": {
      "text/html": [
       "<div>\n",
       "<style scoped>\n",
       "    .dataframe tbody tr th:only-of-type {\n",
       "        vertical-align: middle;\n",
       "    }\n",
       "\n",
       "    .dataframe tbody tr th {\n",
       "        vertical-align: top;\n",
       "    }\n",
       "\n",
       "    .dataframe thead th {\n",
       "        text-align: right;\n",
       "    }\n",
       "</style>\n",
       "<table border=\"1\" class=\"dataframe\">\n",
       "  <thead>\n",
       "    <tr style=\"text-align: right;\">\n",
       "      <th></th>\n",
       "      <th>id</th>\n",
       "      <th>title</th>\n",
       "      <th>created_utc</th>\n",
       "      <th>num_comments</th>\n",
       "      <th>score</th>\n",
       "    </tr>\n",
       "  </thead>\n",
       "  <tbody>\n",
       "    <tr>\n",
       "      <th>0</th>\n",
       "      <td>uu6g0w</td>\n",
       "      <td>[homemade] Polynesian (Chick-Fil-A sauce) chic...</td>\n",
       "      <td>1653077037</td>\n",
       "      <td>0</td>\n",
       "      <td>1</td>\n",
       "    </tr>\n",
       "    <tr>\n",
       "      <th>1</th>\n",
       "      <td>uu6cni</td>\n",
       "      <td>[I ate] Scotch mutton pie, pub in Edinburgh</td>\n",
       "      <td>1653076799</td>\n",
       "      <td>0</td>\n",
       "      <td>1</td>\n",
       "    </tr>\n",
       "    <tr>\n",
       "      <th>2</th>\n",
       "      <td>uu6apo</td>\n",
       "      <td>[homemade] 🇲🇦</td>\n",
       "      <td>1653076639</td>\n",
       "      <td>0</td>\n",
       "      <td>1</td>\n",
       "    </tr>\n",
       "    <tr>\n",
       "      <th>3</th>\n",
       "      <td>uu644e</td>\n",
       "      <td>[homemade] Chilli Paneer, Spinach, Potatoes wi...</td>\n",
       "      <td>1653076091</td>\n",
       "      <td>0</td>\n",
       "      <td>1</td>\n",
       "    </tr>\n",
       "    <tr>\n",
       "      <th>4</th>\n",
       "      <td>uu5x2y</td>\n",
       "      <td>[Homemade] Tart - Salmon, spinach and goat cheese</td>\n",
       "      <td>1653075500</td>\n",
       "      <td>0</td>\n",
       "      <td>1</td>\n",
       "    </tr>\n",
       "  </tbody>\n",
       "</table>\n",
       "</div>"
      ],
      "text/plain": [
       "       id                                              title  created_utc  \\\n",
       "0  uu6g0w  [homemade] Polynesian (Chick-Fil-A sauce) chic...   1653077037   \n",
       "1  uu6cni        [I ate] Scotch mutton pie, pub in Edinburgh   1653076799   \n",
       "2  uu6apo                                      [homemade] 🇲🇦   1653076639   \n",
       "3  uu644e  [homemade] Chilli Paneer, Spinach, Potatoes wi...   1653076091   \n",
       "4  uu5x2y  [Homemade] Tart - Salmon, spinach and goat cheese   1653075500   \n",
       "\n",
       "   num_comments  score  \n",
       "0             0      1  \n",
       "1             0      1  \n",
       "2             0      1  \n",
       "3             0      1  \n",
       "4             0      1  "
      ]
     },
     "execution_count": 2,
     "metadata": {},
     "output_type": "execute_result"
    }
   ],
   "source": [
    "posts_df = pd.read_csv('../food_trends/Data/reddit_6_months.csv')\n",
    "\n",
    "posts_df.drop(columns=['subreddit','selftext'], inplace=True)\n",
    "posts_df.head(5)"
   ]
  },
  {
   "cell_type": "markdown",
   "id": "04d2cd03-1146-43f5-8283-68511b2e039c",
   "metadata": {},
   "source": [
    "#### first, I will check for any null values"
   ]
  },
  {
   "cell_type": "code",
   "execution_count": 3,
   "id": "a8f07bed-aa6f-4e48-a697-af57cee2b393",
   "metadata": {},
   "outputs": [
    {
     "data": {
      "text/plain": [
       "id              0\n",
       "title           0\n",
       "created_utc     0\n",
       "num_comments    0\n",
       "score           0\n",
       "dtype: int64"
      ]
     },
     "execution_count": 3,
     "metadata": {},
     "output_type": "execute_result"
    }
   ],
   "source": [
    "posts_df.isnull().sum()"
   ]
  },
  {
   "cell_type": "markdown",
   "id": "ab695d06-21da-4c94-a0c5-4c5456ed6f5b",
   "metadata": {
    "tags": []
   },
   "source": [
    "#### convert epoch time to datetime and convert UTC to EST "
   ]
  },
  {
   "cell_type": "markdown",
   "id": "f975c2f5-dcfa-4256-80c7-59f944f4354a",
   "metadata": {},
   "source": [
    "resource used - https://www.adamsmith.haus/python/answers/how-to-convert-a-utc-datetime-to-a-local-datetime-in-python"
   ]
  },
  {
   "cell_type": "code",
   "execution_count": 4,
   "id": "06415a00-4ee8-44ea-83d4-e5102a1195b9",
   "metadata": {},
   "outputs": [
    {
     "data": {
      "text/plain": [
       "datetime.datetime(2022, 5, 20, 20, 3, 57, tzinfo=<UTC>)"
      ]
     },
     "execution_count": 4,
     "metadata": {},
     "output_type": "execute_result"
    }
   ],
   "source": [
    "date = dt.datetime.fromtimestamp(1653077037, pytz.utc)\n",
    "date"
   ]
  },
  {
   "cell_type": "code",
   "execution_count": 5,
   "id": "513f5bd0-eaa8-49dc-93e0-3bcdb3938789",
   "metadata": {},
   "outputs": [],
   "source": [
    "local_datetime = pytz.timezone('US/Eastern')"
   ]
  },
  {
   "cell_type": "code",
   "execution_count": 87,
   "id": "6d926d4c-6581-453e-9704-db7652842b96",
   "metadata": {},
   "outputs": [],
   "source": [
    "date = date.astimezone(pytz.timezone('US/Eastern')).strftime(\"%Y-%m-%d, %H:%M\")"
   ]
  },
  {
   "cell_type": "code",
   "execution_count": 88,
   "id": "7a992fd2-d243-41e0-9f7d-b451831862ec",
   "metadata": {},
   "outputs": [
    {
     "data": {
      "text/plain": [
       "'2022-05-20, 16:03'"
      ]
     },
     "execution_count": 88,
     "metadata": {},
     "output_type": "execute_result"
    }
   ],
   "source": [
    "date"
   ]
  },
  {
   "cell_type": "code",
   "execution_count": 89,
   "id": "c04d1494-ace0-4b5d-b644-ad4372f948d9",
   "metadata": {},
   "outputs": [],
   "source": [
    "posts_df['post_time_est']= [(dt.datetime.fromtimestamp(x, pytz.utc)).astimezone(pytz.timezone('US/Eastern')).strftime(\"%Y-%m-%d, %H:%M\")\n",
    "                            for x in posts_df['created_utc']]"
   ]
  },
  {
   "cell_type": "code",
   "execution_count": 91,
   "id": "da82eef6-9078-416a-8146-bb5feae6e132",
   "metadata": {},
   "outputs": [],
   "source": [
    "posts_df['post_time_est'] = pd.to_datetime(posts_df['post_time_est'])"
   ]
  },
  {
   "cell_type": "markdown",
   "id": "c60249cd-6738-4dcb-b4c2-4760f0a63319",
   "metadata": {},
   "source": [
    "#### combine scores data with post data"
   ]
  },
  {
   "cell_type": "code",
   "execution_count": 94,
   "id": "ec477271-2569-4bbe-8e2d-3123ea0eff8e",
   "metadata": {},
   "outputs": [],
   "source": [
    "posts_df.rename(columns={'score':'score_old', 'num_comments':'comments_old'}, inplace=True)"
   ]
  },
  {
   "cell_type": "markdown",
   "id": "1f80240b-92b3-4e87-bdc7-9294d87698bd",
   "metadata": {},
   "source": [
    "read in scores and comments from api"
   ]
  },
  {
   "cell_type": "code",
   "execution_count": 95,
   "id": "6cacfd5b-eeb3-4c76-9568-3c0e4f9ed761",
   "metadata": {},
   "outputs": [],
   "source": [
    "df_10 = pd.read_csv('./Data/0_to_10k_scores.csv')\n",
    "\n",
    "df_20 = pd.read_csv('./Data/10_to_20k_scores.csv')\n",
    "\n",
    "df_30 = pd.read_csv('./Data/2_to_3k_scores.csv')\n",
    "\n",
    "df_40 = pd.read_csv('./Data/3_to_4k_scores.csv')\n",
    "\n",
    "df_50 = pd.read_csv('./Data/4_to_5k_scores.csv')\n",
    "\n",
    "df_60 = pd.read_csv('./Data/5_to_6k_scores.csv')\n",
    "\n",
    "df_70 = pd.read_csv('./Data/7_to_7k_scores.csv')\n",
    "\n",
    "df_80 = pd.read_csv('./Data/7_to_8k_scores.csv')\n",
    "\n",
    "df_90 = pd.read_csv('./Data/8_to_9k_scores.csv')\n",
    "\n",
    "df_100 = pd.read_csv('./Data/9_to_10k_scores.csv')"
   ]
  },
  {
   "cell_type": "markdown",
   "id": "47a9b2dd-3ffc-4f33-8615-9733e1e05294",
   "metadata": {},
   "source": [
    "concatenate into 1 dataframe"
   ]
  },
  {
   "cell_type": "code",
   "execution_count": 96,
   "id": "edc37b30-f145-4868-8ec9-60610461e3cc",
   "metadata": {},
   "outputs": [],
   "source": [
    "scores_df = pd.concat([df_10, df_20, df_30, df_40, df_50, df_60, df_70, df_80, df_90, df_100])"
   ]
  },
  {
   "cell_type": "code",
   "execution_count": 97,
   "id": "eef9df5d-34ed-4fe8-9a47-dabd3061f0df",
   "metadata": {},
   "outputs": [
    {
     "data": {
      "text/plain": [
       "((11238, 3), (50177, 6))"
      ]
     },
     "execution_count": 97,
     "metadata": {},
     "output_type": "execute_result"
    }
   ],
   "source": [
    "scores_df.shape, posts_df.shape"
   ]
  },
  {
   "cell_type": "code",
   "execution_count": 98,
   "id": "9a69920c-f693-4ec7-b2c9-1cbc7580fd54",
   "metadata": {},
   "outputs": [
    {
     "data": {
      "text/plain": [
       "(id           object\n",
       " score         int64\n",
       " comments    float64\n",
       " dtype: object,\n",
       " id                       object\n",
       " title                    object\n",
       " created_utc               int64\n",
       " comments_old              int64\n",
       " score_old                 int64\n",
       " post_time_est    datetime64[ns]\n",
       " dtype: object)"
      ]
     },
     "execution_count": 98,
     "metadata": {},
     "output_type": "execute_result"
    }
   ],
   "source": [
    "scores_df.dtypes, posts_df.dtypes"
   ]
  },
  {
   "cell_type": "code",
   "execution_count": 99,
   "id": "899f698a-602b-47d9-8cc8-63250cd749fe",
   "metadata": {},
   "outputs": [
    {
     "data": {
      "text/plain": [
       "id          0\n",
       "score       0\n",
       "comments    1\n",
       "dtype: int64"
      ]
     },
     "execution_count": 99,
     "metadata": {},
     "output_type": "execute_result"
    }
   ],
   "source": [
    "scores_df.isnull().sum()"
   ]
  },
  {
   "cell_type": "code",
   "execution_count": 100,
   "id": "13e011d2-7d01-4c2c-8980-216226503ee6",
   "metadata": {},
   "outputs": [],
   "source": [
    "scores_df.dropna(inplace=True)"
   ]
  },
  {
   "cell_type": "code",
   "execution_count": 101,
   "id": "fdb9297d-44d0-44b9-9059-593b7720f0f0",
   "metadata": {},
   "outputs": [],
   "source": [
    "scores_df.drop_duplicates(inplace=True)"
   ]
  },
  {
   "cell_type": "code",
   "execution_count": 102,
   "id": "3033cdff-ceb5-4da8-9f51-9863d53ce0a5",
   "metadata": {},
   "outputs": [
    {
     "data": {
      "text/plain": [
       "(10795, 3)"
      ]
     },
     "execution_count": 102,
     "metadata": {},
     "output_type": "execute_result"
    }
   ],
   "source": [
    "scores_df.shape"
   ]
  },
  {
   "cell_type": "markdown",
   "id": "9d16b3bf-7c13-4d45-a949-511c868220cb",
   "metadata": {},
   "source": [
    "join to the posts dataframe"
   ]
  },
  {
   "cell_type": "code",
   "execution_count": 103,
   "id": "af775657-4cd9-4e26-b7cd-f4c8c35887ff",
   "metadata": {},
   "outputs": [
    {
     "data": {
      "text/html": [
       "<div>\n",
       "<style scoped>\n",
       "    .dataframe tbody tr th:only-of-type {\n",
       "        vertical-align: middle;\n",
       "    }\n",
       "\n",
       "    .dataframe tbody tr th {\n",
       "        vertical-align: top;\n",
       "    }\n",
       "\n",
       "    .dataframe thead th {\n",
       "        text-align: right;\n",
       "    }\n",
       "</style>\n",
       "<table border=\"1\" class=\"dataframe\">\n",
       "  <thead>\n",
       "    <tr style=\"text-align: right;\">\n",
       "      <th></th>\n",
       "      <th>id</th>\n",
       "      <th>title</th>\n",
       "      <th>created_utc</th>\n",
       "      <th>comments_old</th>\n",
       "      <th>score_old</th>\n",
       "      <th>post_time_est</th>\n",
       "      <th>score</th>\n",
       "      <th>comments</th>\n",
       "    </tr>\n",
       "  </thead>\n",
       "  <tbody>\n",
       "    <tr>\n",
       "      <th>0</th>\n",
       "      <td>uu6g0w</td>\n",
       "      <td>[homemade] Polynesian (Chick-Fil-A sauce) chic...</td>\n",
       "      <td>1653077037</td>\n",
       "      <td>0</td>\n",
       "      <td>1</td>\n",
       "      <td>2022-05-20 16:03:00</td>\n",
       "      <td>69</td>\n",
       "      <td>7.0</td>\n",
       "    </tr>\n",
       "    <tr>\n",
       "      <th>1</th>\n",
       "      <td>uu6cni</td>\n",
       "      <td>[I ate] Scotch mutton pie, pub in Edinburgh</td>\n",
       "      <td>1653076799</td>\n",
       "      <td>0</td>\n",
       "      <td>1</td>\n",
       "      <td>2022-05-20 15:59:00</td>\n",
       "      <td>37</td>\n",
       "      <td>4.0</td>\n",
       "    </tr>\n",
       "    <tr>\n",
       "      <th>2</th>\n",
       "      <td>uu6apo</td>\n",
       "      <td>[homemade] 🇲🇦</td>\n",
       "      <td>1653076639</td>\n",
       "      <td>0</td>\n",
       "      <td>1</td>\n",
       "      <td>2022-05-20 15:57:00</td>\n",
       "      <td>1</td>\n",
       "      <td>0.0</td>\n",
       "    </tr>\n",
       "    <tr>\n",
       "      <th>3</th>\n",
       "      <td>uu644e</td>\n",
       "      <td>[homemade] Chilli Paneer, Spinach, Potatoes wi...</td>\n",
       "      <td>1653076091</td>\n",
       "      <td>0</td>\n",
       "      <td>1</td>\n",
       "      <td>2022-05-20 15:48:00</td>\n",
       "      <td>16</td>\n",
       "      <td>2.0</td>\n",
       "    </tr>\n",
       "    <tr>\n",
       "      <th>4</th>\n",
       "      <td>uu5x2y</td>\n",
       "      <td>[Homemade] Tart - Salmon, spinach and goat cheese</td>\n",
       "      <td>1653075500</td>\n",
       "      <td>0</td>\n",
       "      <td>1</td>\n",
       "      <td>2022-05-20 15:38:00</td>\n",
       "      <td>1</td>\n",
       "      <td>0.0</td>\n",
       "    </tr>\n",
       "  </tbody>\n",
       "</table>\n",
       "</div>"
      ],
      "text/plain": [
       "       id                                              title  created_utc  \\\n",
       "0  uu6g0w  [homemade] Polynesian (Chick-Fil-A sauce) chic...   1653077037   \n",
       "1  uu6cni        [I ate] Scotch mutton pie, pub in Edinburgh   1653076799   \n",
       "2  uu6apo                                      [homemade] 🇲🇦   1653076639   \n",
       "3  uu644e  [homemade] Chilli Paneer, Spinach, Potatoes wi...   1653076091   \n",
       "4  uu5x2y  [Homemade] Tart - Salmon, spinach and goat cheese   1653075500   \n",
       "\n",
       "   comments_old  score_old       post_time_est  score  comments  \n",
       "0             0          1 2022-05-20 16:03:00     69       7.0  \n",
       "1             0          1 2022-05-20 15:59:00     37       4.0  \n",
       "2             0          1 2022-05-20 15:57:00      1       0.0  \n",
       "3             0          1 2022-05-20 15:48:00     16       2.0  \n",
       "4             0          1 2022-05-20 15:38:00      1       0.0  "
      ]
     },
     "execution_count": 103,
     "metadata": {},
     "output_type": "execute_result"
    }
   ],
   "source": [
    "posts_scores_df = posts_df.merge(right=scores_df, how='inner')\n",
    "posts_scores_df.head(5)"
   ]
  },
  {
   "cell_type": "code",
   "execution_count": 104,
   "id": "e48d0617-cfbe-4391-bdaa-2559d53d832f",
   "metadata": {},
   "outputs": [
    {
     "data": {
      "text/plain": [
       "id                       object\n",
       "title                    object\n",
       "created_utc               int64\n",
       "comments_old              int64\n",
       "score_old                 int64\n",
       "post_time_est    datetime64[ns]\n",
       "score                     int64\n",
       "comments                float64\n",
       "dtype: object"
      ]
     },
     "execution_count": 104,
     "metadata": {},
     "output_type": "execute_result"
    }
   ],
   "source": [
    "posts_scores_df.dtypes"
   ]
  },
  {
   "cell_type": "code",
   "execution_count": 106,
   "id": "94ff3899-7f12-42af-8f39-b9dcce4640e2",
   "metadata": {},
   "outputs": [
    {
     "data": {
      "text/plain": [
       "id               0\n",
       "title            0\n",
       "created_utc      0\n",
       "comments_old     0\n",
       "score_old        0\n",
       "post_time_est    0\n",
       "score            0\n",
       "comments         0\n",
       "dtype: int64"
      ]
     },
     "execution_count": 106,
     "metadata": {},
     "output_type": "execute_result"
    }
   ],
   "source": [
    "posts_scores_df.isnull().sum()"
   ]
  },
  {
   "cell_type": "code",
   "execution_count": 107,
   "id": "724b9bc0-e5fd-4946-a6ce-3d064a960091",
   "metadata": {},
   "outputs": [
    {
     "data": {
      "text/plain": [
       "(10795, 8)"
      ]
     },
     "execution_count": 107,
     "metadata": {},
     "output_type": "execute_result"
    }
   ],
   "source": [
    "posts_scores_df.shape"
   ]
  },
  {
   "cell_type": "markdown",
   "id": "ad3922ba-c732-46fe-bef1-7c6510039bf1",
   "metadata": {},
   "source": [
    "#### Engineer a field to connote 'viral'. Viral is being defined as a post with a score in the top 2% of all posts"
   ]
  },
  {
   "cell_type": "code",
   "execution_count": 108,
   "id": "66d2053a-6185-4ebb-8fd1-55fcc445bc5b",
   "metadata": {},
   "outputs": [
    {
     "data": {
      "text/html": [
       "<div>\n",
       "<style scoped>\n",
       "    .dataframe tbody tr th:only-of-type {\n",
       "        vertical-align: middle;\n",
       "    }\n",
       "\n",
       "    .dataframe tbody tr th {\n",
       "        vertical-align: top;\n",
       "    }\n",
       "\n",
       "    .dataframe thead th {\n",
       "        text-align: right;\n",
       "    }\n",
       "</style>\n",
       "<table border=\"1\" class=\"dataframe\">\n",
       "  <thead>\n",
       "    <tr style=\"text-align: right;\">\n",
       "      <th></th>\n",
       "      <th>id</th>\n",
       "      <th>title</th>\n",
       "      <th>created_utc</th>\n",
       "      <th>comments_old</th>\n",
       "      <th>score_old</th>\n",
       "      <th>post_time_est</th>\n",
       "      <th>score</th>\n",
       "      <th>comments</th>\n",
       "      <th>percentile</th>\n",
       "      <th>viral</th>\n",
       "    </tr>\n",
       "  </thead>\n",
       "  <tbody>\n",
       "    <tr>\n",
       "      <th>0</th>\n",
       "      <td>uu6g0w</td>\n",
       "      <td>[homemade] Polynesian (Chick-Fil-A sauce) chic...</td>\n",
       "      <td>1653077037</td>\n",
       "      <td>0</td>\n",
       "      <td>1</td>\n",
       "      <td>2022-05-20 16:03:00</td>\n",
       "      <td>69</td>\n",
       "      <td>7.0</td>\n",
       "      <td>0.836730</td>\n",
       "      <td>0</td>\n",
       "    </tr>\n",
       "    <tr>\n",
       "      <th>1</th>\n",
       "      <td>uu6cni</td>\n",
       "      <td>[I ate] Scotch mutton pie, pub in Edinburgh</td>\n",
       "      <td>1653076799</td>\n",
       "      <td>0</td>\n",
       "      <td>1</td>\n",
       "      <td>2022-05-20 15:59:00</td>\n",
       "      <td>37</td>\n",
       "      <td>4.0</td>\n",
       "      <td>0.699491</td>\n",
       "      <td>0</td>\n",
       "    </tr>\n",
       "    <tr>\n",
       "      <th>2</th>\n",
       "      <td>uu6apo</td>\n",
       "      <td>[homemade] 🇲🇦</td>\n",
       "      <td>1653076639</td>\n",
       "      <td>0</td>\n",
       "      <td>1</td>\n",
       "      <td>2022-05-20 15:57:00</td>\n",
       "      <td>1</td>\n",
       "      <td>0.0</td>\n",
       "      <td>0.117647</td>\n",
       "      <td>0</td>\n",
       "    </tr>\n",
       "    <tr>\n",
       "      <th>3</th>\n",
       "      <td>uu644e</td>\n",
       "      <td>[homemade] Chilli Paneer, Spinach, Potatoes wi...</td>\n",
       "      <td>1653076091</td>\n",
       "      <td>0</td>\n",
       "      <td>1</td>\n",
       "      <td>2022-05-20 15:48:00</td>\n",
       "      <td>16</td>\n",
       "      <td>2.0</td>\n",
       "      <td>0.443585</td>\n",
       "      <td>0</td>\n",
       "    </tr>\n",
       "    <tr>\n",
       "      <th>4</th>\n",
       "      <td>uu5x2y</td>\n",
       "      <td>[Homemade] Tart - Salmon, spinach and goat cheese</td>\n",
       "      <td>1653075500</td>\n",
       "      <td>0</td>\n",
       "      <td>1</td>\n",
       "      <td>2022-05-20 15:38:00</td>\n",
       "      <td>1</td>\n",
       "      <td>0.0</td>\n",
       "      <td>0.117647</td>\n",
       "      <td>0</td>\n",
       "    </tr>\n",
       "  </tbody>\n",
       "</table>\n",
       "</div>"
      ],
      "text/plain": [
       "       id                                              title  created_utc  \\\n",
       "0  uu6g0w  [homemade] Polynesian (Chick-Fil-A sauce) chic...   1653077037   \n",
       "1  uu6cni        [I ate] Scotch mutton pie, pub in Edinburgh   1653076799   \n",
       "2  uu6apo                                      [homemade] 🇲🇦   1653076639   \n",
       "3  uu644e  [homemade] Chilli Paneer, Spinach, Potatoes wi...   1653076091   \n",
       "4  uu5x2y  [Homemade] Tart - Salmon, spinach and goat cheese   1653075500   \n",
       "\n",
       "   comments_old  score_old       post_time_est  score  comments  percentile  \\\n",
       "0             0          1 2022-05-20 16:03:00     69       7.0    0.836730   \n",
       "1             0          1 2022-05-20 15:59:00     37       4.0    0.699491   \n",
       "2             0          1 2022-05-20 15:57:00      1       0.0    0.117647   \n",
       "3             0          1 2022-05-20 15:48:00     16       2.0    0.443585   \n",
       "4             0          1 2022-05-20 15:38:00      1       0.0    0.117647   \n",
       "\n",
       "   viral  \n",
       "0      0  \n",
       "1      0  \n",
       "2      0  \n",
       "3      0  \n",
       "4      0  "
      ]
     },
     "execution_count": 108,
     "metadata": {},
     "output_type": "execute_result"
    }
   ],
   "source": [
    "posts_scores_df['percentile']= posts_scores_df.score.rank(pct=True)\n",
    "#https://www.geeksforgeeks.org/percentile-rank-of-a-column-in-a-pandas-dataframe/\n",
    "\n",
    "posts_scores_df['viral'] = np.where(posts_scores_df['percentile'] > .98, 1, 0 )\n",
    "\n",
    "posts_scores_df.head()"
   ]
  },
  {
   "cell_type": "code",
   "execution_count": 109,
   "id": "f85cb122-04fd-4437-a190-cd6b7c03445f",
   "metadata": {},
   "outputs": [],
   "source": [
    "posts_scores_df.to_csv('./Data/posts_scores_dates.csv', index=False)"
   ]
  }
 ],
 "metadata": {
  "kernelspec": {
   "display_name": "Python 3 (ipykernel)",
   "language": "python",
   "name": "python3"
  },
  "language_info": {
   "codemirror_mode": {
    "name": "ipython",
    "version": 3
   },
   "file_extension": ".py",
   "mimetype": "text/x-python",
   "name": "python",
   "nbconvert_exporter": "python",
   "pygments_lexer": "ipython3",
   "version": "3.9.7"
  }
 },
 "nbformat": 4,
 "nbformat_minor": 5
}
