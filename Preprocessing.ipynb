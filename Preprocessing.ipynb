{
 "cells": [
  {
   "cell_type": "markdown",
   "id": "646e6b9e-eeaf-4f66-9ba5-1482e3390ed0",
   "metadata": {},
   "source": [
    "#### In this notebook I will pre-process the data to get it ready for modeling. Since I will be using Natural Language Porcessing (NLP) models I will focus on vectoring the text of the titles"
   ]
  },
  {
   "cell_type": "code",
   "execution_count": 220,
   "id": "8dbc7352-2cdf-4273-8fdf-a74af929f006",
   "metadata": {},
   "outputs": [],
   "source": [
    "import pandas as pd\n",
    "import datetime as dt\n",
    "import numpy as np\n",
    "import pickle\n",
    "from sklearn.model_selection import train_test_split\n",
    "from sklearn.feature_extraction.text import CountVectorizer\n",
    "from sklearn.compose import make_column_transformer, ColumnTransformer, make_column_selector\n",
    "from sklearn.neighbors import KNeighborsRegressor"
   ]
  },
  {
   "cell_type": "code",
   "execution_count": 2,
   "id": "8d10bd23-27a9-4473-80cc-de69aa823078",
   "metadata": {},
   "outputs": [
    {
     "data": {
      "text/html": [
       "<div>\n",
       "<style scoped>\n",
       "    .dataframe tbody tr th:only-of-type {\n",
       "        vertical-align: middle;\n",
       "    }\n",
       "\n",
       "    .dataframe tbody tr th {\n",
       "        vertical-align: top;\n",
       "    }\n",
       "\n",
       "    .dataframe thead th {\n",
       "        text-align: right;\n",
       "    }\n",
       "</style>\n",
       "<table border=\"1\" class=\"dataframe\">\n",
       "  <thead>\n",
       "    <tr style=\"text-align: right;\">\n",
       "      <th></th>\n",
       "      <th>id</th>\n",
       "      <th>title</th>\n",
       "      <th>created_utc</th>\n",
       "      <th>num_comments</th>\n",
       "      <th>score</th>\n",
       "    </tr>\n",
       "  </thead>\n",
       "  <tbody>\n",
       "    <tr>\n",
       "      <th>0</th>\n",
       "      <td>uu6g0w</td>\n",
       "      <td>[homemade] Polynesian (Chick-Fil-A sauce) chic...</td>\n",
       "      <td>1653077037</td>\n",
       "      <td>0</td>\n",
       "      <td>1</td>\n",
       "    </tr>\n",
       "    <tr>\n",
       "      <th>1</th>\n",
       "      <td>uu6cni</td>\n",
       "      <td>[I ate] Scotch mutton pie, pub in Edinburgh</td>\n",
       "      <td>1653076799</td>\n",
       "      <td>0</td>\n",
       "      <td>1</td>\n",
       "    </tr>\n",
       "    <tr>\n",
       "      <th>2</th>\n",
       "      <td>uu6apo</td>\n",
       "      <td>[homemade] 🇲🇦</td>\n",
       "      <td>1653076639</td>\n",
       "      <td>0</td>\n",
       "      <td>1</td>\n",
       "    </tr>\n",
       "    <tr>\n",
       "      <th>3</th>\n",
       "      <td>uu644e</td>\n",
       "      <td>[homemade] Chilli Paneer, Spinach, Potatoes wi...</td>\n",
       "      <td>1653076091</td>\n",
       "      <td>0</td>\n",
       "      <td>1</td>\n",
       "    </tr>\n",
       "    <tr>\n",
       "      <th>4</th>\n",
       "      <td>uu5x2y</td>\n",
       "      <td>[Homemade] Tart - Salmon, spinach and goat cheese</td>\n",
       "      <td>1653075500</td>\n",
       "      <td>0</td>\n",
       "      <td>1</td>\n",
       "    </tr>\n",
       "    <tr>\n",
       "      <th>...</th>\n",
       "      <td>...</td>\n",
       "      <td>...</td>\n",
       "      <td>...</td>\n",
       "      <td>...</td>\n",
       "      <td>...</td>\n",
       "    </tr>\n",
       "    <tr>\n",
       "      <th>50172</th>\n",
       "      <td>r8dw7i</td>\n",
       "      <td>[homemade] Korean beef lettuce wraps</td>\n",
       "      <td>1638580177</td>\n",
       "      <td>1</td>\n",
       "      <td>1</td>\n",
       "    </tr>\n",
       "    <tr>\n",
       "      <th>50173</th>\n",
       "      <td>r8du3q</td>\n",
       "      <td>[homemade] Ramen. Inexperienced cook and I’m p...</td>\n",
       "      <td>1638580002</td>\n",
       "      <td>0</td>\n",
       "      <td>1</td>\n",
       "    </tr>\n",
       "    <tr>\n",
       "      <th>50174</th>\n",
       "      <td>r8dsud</td>\n",
       "      <td>[homemade] I am a very inexperienced cook and ...</td>\n",
       "      <td>1638579895</td>\n",
       "      <td>2</td>\n",
       "      <td>1</td>\n",
       "    </tr>\n",
       "    <tr>\n",
       "      <th>50175</th>\n",
       "      <td>r8dquz</td>\n",
       "      <td>[Homemade] Beef stew w/ fresh baked bread</td>\n",
       "      <td>1638579723</td>\n",
       "      <td>18</td>\n",
       "      <td>1</td>\n",
       "    </tr>\n",
       "    <tr>\n",
       "      <th>50176</th>\n",
       "      <td>r8dmi8</td>\n",
       "      <td>[homemade] thanksgiving leftover turkey and bi...</td>\n",
       "      <td>1638579365</td>\n",
       "      <td>2</td>\n",
       "      <td>1</td>\n",
       "    </tr>\n",
       "  </tbody>\n",
       "</table>\n",
       "<p>50177 rows × 5 columns</p>\n",
       "</div>"
      ],
      "text/plain": [
       "           id                                              title  created_utc  \\\n",
       "0      uu6g0w  [homemade] Polynesian (Chick-Fil-A sauce) chic...   1653077037   \n",
       "1      uu6cni        [I ate] Scotch mutton pie, pub in Edinburgh   1653076799   \n",
       "2      uu6apo                                      [homemade] 🇲🇦   1653076639   \n",
       "3      uu644e  [homemade] Chilli Paneer, Spinach, Potatoes wi...   1653076091   \n",
       "4      uu5x2y  [Homemade] Tart - Salmon, spinach and goat cheese   1653075500   \n",
       "...       ...                                                ...          ...   \n",
       "50172  r8dw7i               [homemade] Korean beef lettuce wraps   1638580177   \n",
       "50173  r8du3q  [homemade] Ramen. Inexperienced cook and I’m p...   1638580002   \n",
       "50174  r8dsud  [homemade] I am a very inexperienced cook and ...   1638579895   \n",
       "50175  r8dquz          [Homemade] Beef stew w/ fresh baked bread   1638579723   \n",
       "50176  r8dmi8  [homemade] thanksgiving leftover turkey and bi...   1638579365   \n",
       "\n",
       "       num_comments  score  \n",
       "0                 0      1  \n",
       "1                 0      1  \n",
       "2                 0      1  \n",
       "3                 0      1  \n",
       "4                 0      1  \n",
       "...             ...    ...  \n",
       "50172             1      1  \n",
       "50173             0      1  \n",
       "50174             2      1  \n",
       "50175            18      1  \n",
       "50176             2      1  \n",
       "\n",
       "[50177 rows x 5 columns]"
      ]
     },
     "execution_count": 2,
     "metadata": {},
     "output_type": "execute_result"
    }
   ],
   "source": [
    "posts_df = pd.read_csv('../food_trends/Data/reddit_6_months.csv')\n",
    "\n",
    "posts_df.drop(columns=['subreddit','selftext'], inplace=True)\n",
    "posts_df"
   ]
  },
  {
   "cell_type": "markdown",
   "id": "04d2cd03-1146-43f5-8283-68511b2e039c",
   "metadata": {},
   "source": [
    "#### first, I will check for any null values"
   ]
  },
  {
   "cell_type": "code",
   "execution_count": 169,
   "id": "a8f07bed-aa6f-4e48-a697-af57cee2b393",
   "metadata": {},
   "outputs": [
    {
     "data": {
      "text/plain": [
       "id               0\n",
       "title            0\n",
       "created_utc      0\n",
       "num_comments     0\n",
       "score            0\n",
       "post_time_utc    0\n",
       "dtype: int64"
      ]
     },
     "execution_count": 169,
     "metadata": {},
     "output_type": "execute_result"
    }
   ],
   "source": [
    "posts_df.isnull().sum()"
   ]
  },
  {
   "cell_type": "markdown",
   "id": "ab695d06-21da-4c94-a0c5-4c5456ed6f5b",
   "metadata": {},
   "source": [
    "#### convert epoch time to datetime"
   ]
  },
  {
   "cell_type": "code",
   "execution_count": 4,
   "id": "06415a00-4ee8-44ea-83d4-e5102a1195b9",
   "metadata": {},
   "outputs": [
    {
     "data": {
      "text/plain": [
       "'2022-05-20 16:03:57'"
      ]
     },
     "execution_count": 4,
     "metadata": {},
     "output_type": "execute_result"
    }
   ],
   "source": [
    "date = dt.datetime.fromtimestamp(1653077037)\n",
    "str(date)"
   ]
  },
  {
   "cell_type": "code",
   "execution_count": 200,
   "id": "c04d1494-ace0-4b5d-b644-ad4372f948d9",
   "metadata": {},
   "outputs": [],
   "source": [
    "posts_df['post_time_utc']= [str(dt.datetime.fromtimestamp(x)) for x in posts_df['created_utc']]"
   ]
  },
  {
   "cell_type": "code",
   "execution_count": 201,
   "id": "da82eef6-9078-416a-8146-bb5feae6e132",
   "metadata": {},
   "outputs": [
    {
     "data": {
      "text/plain": [
       "id               object\n",
       "title            object\n",
       "created_utc       int64\n",
       "num_comments      int64\n",
       "score             int64\n",
       "post_time_utc    object\n",
       "dtype: object"
      ]
     },
     "execution_count": 201,
     "metadata": {},
     "output_type": "execute_result"
    }
   ],
   "source": [
    "posts_df.dtypes"
   ]
  },
  {
   "cell_type": "code",
   "execution_count": 238,
   "id": "dcdf6fbc-0115-465d-a31b-0e32832ca16a",
   "metadata": {},
   "outputs": [],
   "source": [
    "posts_df.to_csv('./Data/posts_with_date.csv', index=False)"
   ]
  },
  {
   "cell_type": "markdown",
   "id": "304c4e42-3b7e-449f-8384-8d6213f368e6",
   "metadata": {
    "tags": []
   },
   "source": [
    "#### next, I will work on vectorizing the text of the titles"
   ]
  },
  {
   "cell_type": "code",
   "execution_count": 34,
   "id": "ef0946fd-f37c-48f1-8c66-df289946465b",
   "metadata": {},
   "outputs": [],
   "source": [
    "X = posts_df['title']\n",
    "y = posts_df['score']\n",
    "\n",
    "X_train, X_test, y_train, y_test = train_test_split(X, y, random_state=20)"
   ]
  },
  {
   "cell_type": "code",
   "execution_count": 35,
   "id": "01178243-afc6-4b46-bffe-36b0699e1abf",
   "metadata": {},
   "outputs": [
    {
     "data": {
      "text/plain": [
       "dtype('O')"
      ]
     },
     "execution_count": 35,
     "metadata": {},
     "output_type": "execute_result"
    }
   ],
   "source": [
    "X_train.dtypes"
   ]
  },
  {
   "cell_type": "code",
   "execution_count": 36,
   "id": "1624e455-1987-45bc-9faa-b43ccb3f0ed9",
   "metadata": {},
   "outputs": [],
   "source": [
    "cv = CountVectorizer()"
   ]
  },
  {
   "cell_type": "code",
   "execution_count": 37,
   "id": "2d2723c0-e5d0-4007-9827-919106ffdce5",
   "metadata": {},
   "outputs": [
    {
     "data": {
      "text/plain": [
       "CountVectorizer()"
      ]
     },
     "execution_count": 37,
     "metadata": {},
     "output_type": "execute_result"
    }
   ],
   "source": [
    "cv.fit(X_train)"
   ]
  },
  {
   "cell_type": "code",
   "execution_count": 38,
   "id": "2cb9e8f2-b8d7-47bd-bbd5-6d12eb247fb8",
   "metadata": {},
   "outputs": [],
   "source": [
    "X_train_cv = cv.transform(X_train)"
   ]
  },
  {
   "cell_type": "code",
   "execution_count": 39,
   "id": "6dc8e080-a300-436d-93d8-aa70399bf008",
   "metadata": {},
   "outputs": [],
   "source": [
    "X_test_cv = cv.transform(X_test)"
   ]
  },
  {
   "cell_type": "code",
   "execution_count": 40,
   "id": "916fdeb2-01aa-47a8-b24a-bb3219156978",
   "metadata": {},
   "outputs": [
    {
     "data": {
      "text/plain": [
       "<37632x14354 sparse matrix of type '<class 'numpy.int64'>'\n",
       "\twith 257085 stored elements in Compressed Sparse Row format>"
      ]
     },
     "execution_count": 40,
     "metadata": {},
     "output_type": "execute_result"
    }
   ],
   "source": [
    "X_train_cv"
   ]
  },
  {
   "cell_type": "code",
   "execution_count": 41,
   "id": "c23fd48d-8581-46ee-b6a0-8ae4e01766c0",
   "metadata": {},
   "outputs": [
    {
     "data": {
      "text/html": [
       "<div>\n",
       "<style scoped>\n",
       "    .dataframe tbody tr th:only-of-type {\n",
       "        vertical-align: middle;\n",
       "    }\n",
       "\n",
       "    .dataframe tbody tr th {\n",
       "        vertical-align: top;\n",
       "    }\n",
       "\n",
       "    .dataframe thead th {\n",
       "        text-align: right;\n",
       "    }\n",
       "</style>\n",
       "<table border=\"1\" class=\"dataframe\">\n",
       "  <thead>\n",
       "    <tr style=\"text-align: right;\">\n",
       "      <th></th>\n",
       "      <th>00</th>\n",
       "      <th>000</th>\n",
       "      <th>007</th>\n",
       "      <th>00pm</th>\n",
       "      <th>03</th>\n",
       "      <th>0336</th>\n",
       "      <th>04</th>\n",
       "      <th>048</th>\n",
       "      <th>05unamksrom</th>\n",
       "      <th>06</th>\n",
       "      <th>...</th>\n",
       "      <th>𝓼𝓾𝓫</th>\n",
       "      <th>𝔀𝓲𝓽𝓱</th>\n",
       "      <th>𝗛𝗼𝘄</th>\n",
       "      <th>𝗶𝗻</th>\n",
       "      <th>𝗹𝗲𝘀𝘀</th>\n",
       "      <th>𝗺𝗮𝗸𝗲</th>\n",
       "      <th>𝗺𝗶𝗻𝘂𝘁𝗲</th>\n",
       "      <th>𝗺𝘂𝗴</th>\n",
       "      <th>𝗽𝗮𝗻𝗰𝗮𝗸𝗲</th>\n",
       "      <th>𝘁𝗵𝗮𝗻</th>\n",
       "    </tr>\n",
       "  </thead>\n",
       "  <tbody>\n",
       "    <tr>\n",
       "      <th>0</th>\n",
       "      <td>0</td>\n",
       "      <td>0</td>\n",
       "      <td>0</td>\n",
       "      <td>0</td>\n",
       "      <td>0</td>\n",
       "      <td>0</td>\n",
       "      <td>0</td>\n",
       "      <td>0</td>\n",
       "      <td>0</td>\n",
       "      <td>0</td>\n",
       "      <td>...</td>\n",
       "      <td>0</td>\n",
       "      <td>0</td>\n",
       "      <td>0</td>\n",
       "      <td>0</td>\n",
       "      <td>0</td>\n",
       "      <td>0</td>\n",
       "      <td>0</td>\n",
       "      <td>0</td>\n",
       "      <td>0</td>\n",
       "      <td>0</td>\n",
       "    </tr>\n",
       "    <tr>\n",
       "      <th>1</th>\n",
       "      <td>0</td>\n",
       "      <td>0</td>\n",
       "      <td>0</td>\n",
       "      <td>0</td>\n",
       "      <td>0</td>\n",
       "      <td>0</td>\n",
       "      <td>0</td>\n",
       "      <td>0</td>\n",
       "      <td>0</td>\n",
       "      <td>0</td>\n",
       "      <td>...</td>\n",
       "      <td>0</td>\n",
       "      <td>0</td>\n",
       "      <td>0</td>\n",
       "      <td>0</td>\n",
       "      <td>0</td>\n",
       "      <td>0</td>\n",
       "      <td>0</td>\n",
       "      <td>0</td>\n",
       "      <td>0</td>\n",
       "      <td>0</td>\n",
       "    </tr>\n",
       "    <tr>\n",
       "      <th>2</th>\n",
       "      <td>0</td>\n",
       "      <td>0</td>\n",
       "      <td>0</td>\n",
       "      <td>0</td>\n",
       "      <td>0</td>\n",
       "      <td>0</td>\n",
       "      <td>0</td>\n",
       "      <td>0</td>\n",
       "      <td>0</td>\n",
       "      <td>0</td>\n",
       "      <td>...</td>\n",
       "      <td>0</td>\n",
       "      <td>0</td>\n",
       "      <td>0</td>\n",
       "      <td>0</td>\n",
       "      <td>0</td>\n",
       "      <td>0</td>\n",
       "      <td>0</td>\n",
       "      <td>0</td>\n",
       "      <td>0</td>\n",
       "      <td>0</td>\n",
       "    </tr>\n",
       "    <tr>\n",
       "      <th>3</th>\n",
       "      <td>0</td>\n",
       "      <td>0</td>\n",
       "      <td>0</td>\n",
       "      <td>0</td>\n",
       "      <td>0</td>\n",
       "      <td>0</td>\n",
       "      <td>0</td>\n",
       "      <td>0</td>\n",
       "      <td>0</td>\n",
       "      <td>0</td>\n",
       "      <td>...</td>\n",
       "      <td>0</td>\n",
       "      <td>0</td>\n",
       "      <td>0</td>\n",
       "      <td>0</td>\n",
       "      <td>0</td>\n",
       "      <td>0</td>\n",
       "      <td>0</td>\n",
       "      <td>0</td>\n",
       "      <td>0</td>\n",
       "      <td>0</td>\n",
       "    </tr>\n",
       "    <tr>\n",
       "      <th>4</th>\n",
       "      <td>0</td>\n",
       "      <td>0</td>\n",
       "      <td>0</td>\n",
       "      <td>0</td>\n",
       "      <td>0</td>\n",
       "      <td>0</td>\n",
       "      <td>0</td>\n",
       "      <td>0</td>\n",
       "      <td>0</td>\n",
       "      <td>0</td>\n",
       "      <td>...</td>\n",
       "      <td>0</td>\n",
       "      <td>0</td>\n",
       "      <td>0</td>\n",
       "      <td>0</td>\n",
       "      <td>0</td>\n",
       "      <td>0</td>\n",
       "      <td>0</td>\n",
       "      <td>0</td>\n",
       "      <td>0</td>\n",
       "      <td>0</td>\n",
       "    </tr>\n",
       "    <tr>\n",
       "      <th>...</th>\n",
       "      <td>...</td>\n",
       "      <td>...</td>\n",
       "      <td>...</td>\n",
       "      <td>...</td>\n",
       "      <td>...</td>\n",
       "      <td>...</td>\n",
       "      <td>...</td>\n",
       "      <td>...</td>\n",
       "      <td>...</td>\n",
       "      <td>...</td>\n",
       "      <td>...</td>\n",
       "      <td>...</td>\n",
       "      <td>...</td>\n",
       "      <td>...</td>\n",
       "      <td>...</td>\n",
       "      <td>...</td>\n",
       "      <td>...</td>\n",
       "      <td>...</td>\n",
       "      <td>...</td>\n",
       "      <td>...</td>\n",
       "      <td>...</td>\n",
       "    </tr>\n",
       "    <tr>\n",
       "      <th>37627</th>\n",
       "      <td>0</td>\n",
       "      <td>0</td>\n",
       "      <td>0</td>\n",
       "      <td>0</td>\n",
       "      <td>0</td>\n",
       "      <td>0</td>\n",
       "      <td>0</td>\n",
       "      <td>0</td>\n",
       "      <td>0</td>\n",
       "      <td>0</td>\n",
       "      <td>...</td>\n",
       "      <td>0</td>\n",
       "      <td>0</td>\n",
       "      <td>0</td>\n",
       "      <td>0</td>\n",
       "      <td>0</td>\n",
       "      <td>0</td>\n",
       "      <td>0</td>\n",
       "      <td>0</td>\n",
       "      <td>0</td>\n",
       "      <td>0</td>\n",
       "    </tr>\n",
       "    <tr>\n",
       "      <th>37628</th>\n",
       "      <td>0</td>\n",
       "      <td>0</td>\n",
       "      <td>0</td>\n",
       "      <td>0</td>\n",
       "      <td>0</td>\n",
       "      <td>0</td>\n",
       "      <td>0</td>\n",
       "      <td>0</td>\n",
       "      <td>0</td>\n",
       "      <td>0</td>\n",
       "      <td>...</td>\n",
       "      <td>0</td>\n",
       "      <td>0</td>\n",
       "      <td>0</td>\n",
       "      <td>0</td>\n",
       "      <td>0</td>\n",
       "      <td>0</td>\n",
       "      <td>0</td>\n",
       "      <td>0</td>\n",
       "      <td>0</td>\n",
       "      <td>0</td>\n",
       "    </tr>\n",
       "    <tr>\n",
       "      <th>37629</th>\n",
       "      <td>0</td>\n",
       "      <td>0</td>\n",
       "      <td>0</td>\n",
       "      <td>0</td>\n",
       "      <td>0</td>\n",
       "      <td>0</td>\n",
       "      <td>0</td>\n",
       "      <td>0</td>\n",
       "      <td>0</td>\n",
       "      <td>0</td>\n",
       "      <td>...</td>\n",
       "      <td>0</td>\n",
       "      <td>0</td>\n",
       "      <td>0</td>\n",
       "      <td>0</td>\n",
       "      <td>0</td>\n",
       "      <td>0</td>\n",
       "      <td>0</td>\n",
       "      <td>0</td>\n",
       "      <td>0</td>\n",
       "      <td>0</td>\n",
       "    </tr>\n",
       "    <tr>\n",
       "      <th>37630</th>\n",
       "      <td>0</td>\n",
       "      <td>0</td>\n",
       "      <td>0</td>\n",
       "      <td>0</td>\n",
       "      <td>0</td>\n",
       "      <td>0</td>\n",
       "      <td>0</td>\n",
       "      <td>0</td>\n",
       "      <td>0</td>\n",
       "      <td>0</td>\n",
       "      <td>...</td>\n",
       "      <td>0</td>\n",
       "      <td>0</td>\n",
       "      <td>0</td>\n",
       "      <td>0</td>\n",
       "      <td>0</td>\n",
       "      <td>0</td>\n",
       "      <td>0</td>\n",
       "      <td>0</td>\n",
       "      <td>0</td>\n",
       "      <td>0</td>\n",
       "    </tr>\n",
       "    <tr>\n",
       "      <th>37631</th>\n",
       "      <td>0</td>\n",
       "      <td>0</td>\n",
       "      <td>0</td>\n",
       "      <td>0</td>\n",
       "      <td>0</td>\n",
       "      <td>0</td>\n",
       "      <td>0</td>\n",
       "      <td>0</td>\n",
       "      <td>0</td>\n",
       "      <td>0</td>\n",
       "      <td>...</td>\n",
       "      <td>0</td>\n",
       "      <td>0</td>\n",
       "      <td>0</td>\n",
       "      <td>0</td>\n",
       "      <td>0</td>\n",
       "      <td>0</td>\n",
       "      <td>0</td>\n",
       "      <td>0</td>\n",
       "      <td>0</td>\n",
       "      <td>0</td>\n",
       "    </tr>\n",
       "  </tbody>\n",
       "</table>\n",
       "<p>37632 rows × 14354 columns</p>\n",
       "</div>"
      ],
      "text/plain": [
       "       00  000  007  00pm  03  0336  04  048  05unamksrom  06  ...  𝓼𝓾𝓫  𝔀𝓲𝓽𝓱  \\\n",
       "0       0    0    0     0   0     0   0    0            0   0  ...    0     0   \n",
       "1       0    0    0     0   0     0   0    0            0   0  ...    0     0   \n",
       "2       0    0    0     0   0     0   0    0            0   0  ...    0     0   \n",
       "3       0    0    0     0   0     0   0    0            0   0  ...    0     0   \n",
       "4       0    0    0     0   0     0   0    0            0   0  ...    0     0   \n",
       "...    ..  ...  ...   ...  ..   ...  ..  ...          ...  ..  ...  ...   ...   \n",
       "37627   0    0    0     0   0     0   0    0            0   0  ...    0     0   \n",
       "37628   0    0    0     0   0     0   0    0            0   0  ...    0     0   \n",
       "37629   0    0    0     0   0     0   0    0            0   0  ...    0     0   \n",
       "37630   0    0    0     0   0     0   0    0            0   0  ...    0     0   \n",
       "37631   0    0    0     0   0     0   0    0            0   0  ...    0     0   \n",
       "\n",
       "       𝗛𝗼𝘄  𝗶𝗻  𝗹𝗲𝘀𝘀  𝗺𝗮𝗸𝗲  𝗺𝗶𝗻𝘂𝘁𝗲  𝗺𝘂𝗴  𝗽𝗮𝗻𝗰𝗮𝗸𝗲  𝘁𝗵𝗮𝗻  \n",
       "0        0   0     0     0       0    0        0     0  \n",
       "1        0   0     0     0       0    0        0     0  \n",
       "2        0   0     0     0       0    0        0     0  \n",
       "3        0   0     0     0       0    0        0     0  \n",
       "4        0   0     0     0       0    0        0     0  \n",
       "...    ...  ..   ...   ...     ...  ...      ...   ...  \n",
       "37627    0   0     0     0       0    0        0     0  \n",
       "37628    0   0     0     0       0    0        0     0  \n",
       "37629    0   0     0     0       0    0        0     0  \n",
       "37630    0   0     0     0       0    0        0     0  \n",
       "37631    0   0     0     0       0    0        0     0  \n",
       "\n",
       "[37632 rows x 14354 columns]"
      ]
     },
     "execution_count": 41,
     "metadata": {},
     "output_type": "execute_result"
    }
   ],
   "source": [
    "text_df = pd.DataFrame(X_train_cv.A, columns = cv.get_feature_names_out())\n",
    "text_df"
   ]
  },
  {
   "cell_type": "code",
   "execution_count": 89,
   "id": "e108a71f-effa-4ca6-b397-aafbd56cf375",
   "metadata": {},
   "outputs": [],
   "source": [
    "text_df['post_time_utc'] = posts_df['post_time_utc']"
   ]
  },
  {
   "cell_type": "code",
   "execution_count": 92,
   "id": "2480bbb8-ff53-4e24-99f4-c6049e5e06ed",
   "metadata": {},
   "outputs": [
    {
     "data": {
      "text/plain": [
       "homemade     30443\n",
       "and          11363\n",
       "with          8634\n",
       "ate           6964\n",
       "chicken       4323\n",
       "cheese        2154\n",
       "the           1836\n",
       "in            1815\n",
       "amp           1756\n",
       "rice          1703\n",
       "sauce         1691\n",
       "fried         1684\n",
       "pizza         1597\n",
       "beef          1438\n",
       "garlic        1414\n",
       "of            1402\n",
       "on            1361\n",
       "pork          1306\n",
       "for           1268\n",
       "my            1258\n",
       "potatoes      1189\n",
       "chocolate     1175\n",
       "bacon         1154\n",
       "steak         1121\n",
       "cake          1084\n",
       "dtype: int64"
      ]
     },
     "execution_count": 92,
     "metadata": {},
     "output_type": "execute_result"
    }
   ],
   "source": [
    "text_df.sum(numeric_only=True).sort_values(ascending=False).head(25)"
   ]
  },
  {
   "cell_type": "code",
   "execution_count": null,
   "id": "6f3b5d28-5452-4af9-9b88-50cad54aa5e4",
   "metadata": {},
   "outputs": [],
   "source": []
  },
  {
   "cell_type": "markdown",
   "id": "bdf6c073-424d-45e1-806c-e83b583f880e",
   "metadata": {
    "tags": []
   },
   "source": [
    "### try with make column transformer"
   ]
  },
  {
   "cell_type": "code",
   "execution_count": 202,
   "id": "e8d62c22-993a-42df-bb7f-81847740b22a",
   "metadata": {},
   "outputs": [],
   "source": [
    "X2 = posts_df[['title', 'post_time_utc']]\n",
    "y2 = posts_df['score']"
   ]
  },
  {
   "cell_type": "code",
   "execution_count": 73,
   "id": "2e924709-7b4a-4a82-ab29-957e628f19d1",
   "metadata": {},
   "outputs": [
    {
     "data": {
      "text/plain": [
       "title                    object\n",
       "post_time_utc    datetime64[ns]\n",
       "dtype: object"
      ]
     },
     "execution_count": 73,
     "metadata": {},
     "output_type": "execute_result"
    }
   ],
   "source": [
    "X2.dtypes"
   ]
  },
  {
   "cell_type": "code",
   "execution_count": 205,
   "id": "e48eaa07-5557-447f-aa66-0b705bfd17b2",
   "metadata": {},
   "outputs": [],
   "source": [
    "X2_train, X2_test, y2_train, y2_test = train_test_split(X2,y2, random_state=20)"
   ]
  },
  {
   "cell_type": "code",
   "execution_count": 216,
   "id": "31834f04-f800-47d6-8f8a-cdb32549453a",
   "metadata": {},
   "outputs": [],
   "source": [
    "ct = make_column_transformer(\n",
    "    (CountVectorizer(),'title'),\n",
    "    remainder= 'passthrough',\n",
    "    n_jobs= -1,\n",
    "    sparse_threshold= 0,\n",
    "    verbose_feature_names_out= False\n",
    ")"
   ]
  },
  {
   "cell_type": "code",
   "execution_count": 217,
   "id": "555a8d88-b1a4-4483-ade6-65b6596f05bb",
   "metadata": {},
   "outputs": [
    {
     "data": {
      "text/plain": [
       "ColumnTransformer(n_jobs=-1, remainder='passthrough', sparse_threshold=0,\n",
       "                  transformers=[('countvectorizer', CountVectorizer(),\n",
       "                                 'title')],\n",
       "                  verbose_feature_names_out=False)"
      ]
     },
     "execution_count": 217,
     "metadata": {},
     "output_type": "execute_result"
    }
   ],
   "source": [
    "ct.fit(X2_train)"
   ]
  },
  {
   "cell_type": "code",
   "execution_count": 218,
   "id": "ea797202-dda0-44d5-bd4f-01cac56d7cce",
   "metadata": {},
   "outputs": [
    {
     "data": {
      "text/plain": [
       "array([[0, 0, 0, ..., 0, 0, '2022-05-01 23:13:06'],\n",
       "       [0, 0, 0, ..., 0, 0, '2022-03-12 11:22:58'],\n",
       "       [0, 0, 0, ..., 0, 0, '2022-04-21 23:23:24'],\n",
       "       ...,\n",
       "       [0, 0, 0, ..., 0, 0, '2022-01-11 16:36:43'],\n",
       "       [0, 0, 0, ..., 0, 0, '2022-02-12 20:32:52'],\n",
       "       [0, 0, 0, ..., 0, 0, '2021-12-09 01:25:25']], dtype=object)"
      ]
     },
     "execution_count": 218,
     "metadata": {},
     "output_type": "execute_result"
    }
   ],
   "source": [
    "ct.transform(X2_train)"
   ]
  },
  {
   "cell_type": "code",
   "execution_count": 219,
   "id": "55b5efe2-62ee-489c-86e6-a0366ee85104",
   "metadata": {},
   "outputs": [
    {
     "data": {
      "text/plain": [
       "array(['00', '000', '007', ..., '𝗽𝗮𝗻𝗰𝗮𝗸𝗲', '𝘁𝗵𝗮𝗻', 'post_time_utc'],\n",
       "      dtype=object)"
      ]
     },
     "execution_count": 219,
     "metadata": {},
     "output_type": "execute_result"
    }
   ],
   "source": [
    "ct.get_feature_names_out()"
   ]
  },
  {
   "cell_type": "markdown",
   "id": "740aeb40-94fa-4549-b5aa-d6c304a3b64c",
   "metadata": {},
   "source": [
    "#### pickling"
   ]
  },
  {
   "cell_type": "code",
   "execution_count": 225,
   "id": "bc998d84-2cdd-491f-aec6-289cf9b313d0",
   "metadata": {},
   "outputs": [],
   "source": [
    "with open('./Models/column_transformer.pkl', 'wb') as pickle_out:\n",
    "    pickle.dump(ct, pickle_out)"
   ]
  },
  {
   "cell_type": "code",
   "execution_count": 236,
   "id": "3773a8a4-c86c-41b1-9c3e-ea1f1475cf31",
   "metadata": {},
   "outputs": [],
   "source": [
    "with open('./Data/X_train.pkl', 'wb') as pickle_out:\n",
    "    pickle.dump(X2_train, pickle_out)"
   ]
  },
  {
   "cell_type": "code",
   "execution_count": 233,
   "id": "bf993c4f-8970-4421-92a8-6bfe39f64722",
   "metadata": {},
   "outputs": [],
   "source": [
    "with open('./Data/X_test.pkl', 'wb') as pickle_out:\n",
    "    pickle.dump(X2_test, pickle_out)"
   ]
  },
  {
   "cell_type": "code",
   "execution_count": 234,
   "id": "9155ef7a-97d3-4009-b6b4-1b6eaf4153ae",
   "metadata": {},
   "outputs": [],
   "source": [
    "with open('./Data/y_train.pkl', 'wb') as pickle_out:\n",
    "    pickle.dump(y2_train, pickle_out)"
   ]
  },
  {
   "cell_type": "code",
   "execution_count": 235,
   "id": "1ad81763-72c4-4d82-916a-5587af704d9e",
   "metadata": {},
   "outputs": [],
   "source": [
    "with open('./Data/y_test.pkl', 'wb') as pickle_out:\n",
    "    pickle.dump(y2_test, pickle_out)"
   ]
  },
  {
   "cell_type": "code",
   "execution_count": null,
   "id": "9374376a-8e24-4bc0-9e69-ef4145b03a68",
   "metadata": {},
   "outputs": [],
   "source": []
  }
 ],
 "metadata": {
  "kernelspec": {
   "display_name": "Python 3 (ipykernel)",
   "language": "python",
   "name": "python3"
  },
  "language_info": {
   "codemirror_mode": {
    "name": "ipython",
    "version": 3
   },
   "file_extension": ".py",
   "mimetype": "text/x-python",
   "name": "python",
   "nbconvert_exporter": "python",
   "pygments_lexer": "ipython3",
   "version": "3.9.7"
  }
 },
 "nbformat": 4,
 "nbformat_minor": 5
}
