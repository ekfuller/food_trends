{
 "cells": [
  {
   "cell_type": "markdown",
   "id": "646e6b9e-eeaf-4f66-9ba5-1482e3390ed0",
   "metadata": {},
   "source": [
    "#### In this notebook I will pre-process the data to get it ready for modeling. Since I will be using Natural Language Porcessing (NLP) models I will focus on vectoring the text of the titles"
   ]
  },
  {
   "cell_type": "code",
   "execution_count": 1,
   "id": "8dbc7352-2cdf-4273-8fdf-a74af929f006",
   "metadata": {},
   "outputs": [],
   "source": [
    "import pandas as pd\n",
    "import datetime as dt\n",
    "import numpy as np\n",
    "import pickle\n",
    "from sklearn.model_selection import train_test_split\n",
    "from sklearn.feature_extraction.text import CountVectorizer\n",
    "from sklearn.compose import make_column_transformer, ColumnTransformer, make_column_selector\n",
    "from sklearn.neighbors import KNeighborsRegressor"
   ]
  },
  {
   "cell_type": "code",
   "execution_count": 2,
   "id": "8d10bd23-27a9-4473-80cc-de69aa823078",
   "metadata": {},
   "outputs": [
    {
     "data": {
      "text/html": [
       "<div>\n",
       "<style scoped>\n",
       "    .dataframe tbody tr th:only-of-type {\n",
       "        vertical-align: middle;\n",
       "    }\n",
       "\n",
       "    .dataframe tbody tr th {\n",
       "        vertical-align: top;\n",
       "    }\n",
       "\n",
       "    .dataframe thead th {\n",
       "        text-align: right;\n",
       "    }\n",
       "</style>\n",
       "<table border=\"1\" class=\"dataframe\">\n",
       "  <thead>\n",
       "    <tr style=\"text-align: right;\">\n",
       "      <th></th>\n",
       "      <th>id</th>\n",
       "      <th>title</th>\n",
       "      <th>created_utc</th>\n",
       "      <th>num_comments</th>\n",
       "      <th>score</th>\n",
       "    </tr>\n",
       "  </thead>\n",
       "  <tbody>\n",
       "    <tr>\n",
       "      <th>0</th>\n",
       "      <td>uu6g0w</td>\n",
       "      <td>[homemade] Polynesian (Chick-Fil-A sauce) chic...</td>\n",
       "      <td>1653077037</td>\n",
       "      <td>0</td>\n",
       "      <td>1</td>\n",
       "    </tr>\n",
       "    <tr>\n",
       "      <th>1</th>\n",
       "      <td>uu6cni</td>\n",
       "      <td>[I ate] Scotch mutton pie, pub in Edinburgh</td>\n",
       "      <td>1653076799</td>\n",
       "      <td>0</td>\n",
       "      <td>1</td>\n",
       "    </tr>\n",
       "    <tr>\n",
       "      <th>2</th>\n",
       "      <td>uu6apo</td>\n",
       "      <td>[homemade] 🇲🇦</td>\n",
       "      <td>1653076639</td>\n",
       "      <td>0</td>\n",
       "      <td>1</td>\n",
       "    </tr>\n",
       "    <tr>\n",
       "      <th>3</th>\n",
       "      <td>uu644e</td>\n",
       "      <td>[homemade] Chilli Paneer, Spinach, Potatoes wi...</td>\n",
       "      <td>1653076091</td>\n",
       "      <td>0</td>\n",
       "      <td>1</td>\n",
       "    </tr>\n",
       "    <tr>\n",
       "      <th>4</th>\n",
       "      <td>uu5x2y</td>\n",
       "      <td>[Homemade] Tart - Salmon, spinach and goat cheese</td>\n",
       "      <td>1653075500</td>\n",
       "      <td>0</td>\n",
       "      <td>1</td>\n",
       "    </tr>\n",
       "    <tr>\n",
       "      <th>...</th>\n",
       "      <td>...</td>\n",
       "      <td>...</td>\n",
       "      <td>...</td>\n",
       "      <td>...</td>\n",
       "      <td>...</td>\n",
       "    </tr>\n",
       "    <tr>\n",
       "      <th>50172</th>\n",
       "      <td>r8dw7i</td>\n",
       "      <td>[homemade] Korean beef lettuce wraps</td>\n",
       "      <td>1638580177</td>\n",
       "      <td>1</td>\n",
       "      <td>1</td>\n",
       "    </tr>\n",
       "    <tr>\n",
       "      <th>50173</th>\n",
       "      <td>r8du3q</td>\n",
       "      <td>[homemade] Ramen. Inexperienced cook and I’m p...</td>\n",
       "      <td>1638580002</td>\n",
       "      <td>0</td>\n",
       "      <td>1</td>\n",
       "    </tr>\n",
       "    <tr>\n",
       "      <th>50174</th>\n",
       "      <td>r8dsud</td>\n",
       "      <td>[homemade] I am a very inexperienced cook and ...</td>\n",
       "      <td>1638579895</td>\n",
       "      <td>2</td>\n",
       "      <td>1</td>\n",
       "    </tr>\n",
       "    <tr>\n",
       "      <th>50175</th>\n",
       "      <td>r8dquz</td>\n",
       "      <td>[Homemade] Beef stew w/ fresh baked bread</td>\n",
       "      <td>1638579723</td>\n",
       "      <td>18</td>\n",
       "      <td>1</td>\n",
       "    </tr>\n",
       "    <tr>\n",
       "      <th>50176</th>\n",
       "      <td>r8dmi8</td>\n",
       "      <td>[homemade] thanksgiving leftover turkey and bi...</td>\n",
       "      <td>1638579365</td>\n",
       "      <td>2</td>\n",
       "      <td>1</td>\n",
       "    </tr>\n",
       "  </tbody>\n",
       "</table>\n",
       "<p>50177 rows × 5 columns</p>\n",
       "</div>"
      ],
      "text/plain": [
       "           id                                              title  created_utc  \\\n",
       "0      uu6g0w  [homemade] Polynesian (Chick-Fil-A sauce) chic...   1653077037   \n",
       "1      uu6cni        [I ate] Scotch mutton pie, pub in Edinburgh   1653076799   \n",
       "2      uu6apo                                      [homemade] 🇲🇦   1653076639   \n",
       "3      uu644e  [homemade] Chilli Paneer, Spinach, Potatoes wi...   1653076091   \n",
       "4      uu5x2y  [Homemade] Tart - Salmon, spinach and goat cheese   1653075500   \n",
       "...       ...                                                ...          ...   \n",
       "50172  r8dw7i               [homemade] Korean beef lettuce wraps   1638580177   \n",
       "50173  r8du3q  [homemade] Ramen. Inexperienced cook and I’m p...   1638580002   \n",
       "50174  r8dsud  [homemade] I am a very inexperienced cook and ...   1638579895   \n",
       "50175  r8dquz          [Homemade] Beef stew w/ fresh baked bread   1638579723   \n",
       "50176  r8dmi8  [homemade] thanksgiving leftover turkey and bi...   1638579365   \n",
       "\n",
       "       num_comments  score  \n",
       "0                 0      1  \n",
       "1                 0      1  \n",
       "2                 0      1  \n",
       "3                 0      1  \n",
       "4                 0      1  \n",
       "...             ...    ...  \n",
       "50172             1      1  \n",
       "50173             0      1  \n",
       "50174             2      1  \n",
       "50175            18      1  \n",
       "50176             2      1  \n",
       "\n",
       "[50177 rows x 5 columns]"
      ]
     },
     "execution_count": 2,
     "metadata": {},
     "output_type": "execute_result"
    }
   ],
   "source": [
    "posts_df = pd.read_csv('../food_trends/Data/reddit_6_months.csv')\n",
    "\n",
    "posts_df.drop(columns=['subreddit','selftext'], inplace=True)\n",
    "posts_df"
   ]
  },
  {
   "cell_type": "markdown",
   "id": "04d2cd03-1146-43f5-8283-68511b2e039c",
   "metadata": {},
   "source": [
    "#### first, I will check for any null values"
   ]
  },
  {
   "cell_type": "code",
   "execution_count": 3,
   "id": "a8f07bed-aa6f-4e48-a697-af57cee2b393",
   "metadata": {},
   "outputs": [
    {
     "data": {
      "text/plain": [
       "id              0\n",
       "title           0\n",
       "created_utc     0\n",
       "num_comments    0\n",
       "score           0\n",
       "dtype: int64"
      ]
     },
     "execution_count": 3,
     "metadata": {},
     "output_type": "execute_result"
    }
   ],
   "source": [
    "posts_df.isnull().sum()"
   ]
  },
  {
   "cell_type": "markdown",
   "id": "ab695d06-21da-4c94-a0c5-4c5456ed6f5b",
   "metadata": {},
   "source": [
    "#### convert epoch time to datetime"
   ]
  },
  {
   "cell_type": "code",
   "execution_count": 4,
   "id": "06415a00-4ee8-44ea-83d4-e5102a1195b9",
   "metadata": {},
   "outputs": [
    {
     "data": {
      "text/plain": [
       "'2022-05-20 16:03:57'"
      ]
     },
     "execution_count": 4,
     "metadata": {},
     "output_type": "execute_result"
    }
   ],
   "source": [
    "date = dt.datetime.fromtimestamp(1653077037)\n",
    "str(date)"
   ]
  },
  {
   "cell_type": "code",
   "execution_count": 5,
   "id": "c04d1494-ace0-4b5d-b644-ad4372f948d9",
   "metadata": {},
   "outputs": [],
   "source": [
    "posts_df['post_time_utc']= [str(dt.datetime.fromtimestamp(x)) for x in posts_df['created_utc']]"
   ]
  },
  {
   "cell_type": "code",
   "execution_count": 6,
   "id": "da82eef6-9078-416a-8146-bb5feae6e132",
   "metadata": {},
   "outputs": [
    {
     "data": {
      "text/plain": [
       "id               object\n",
       "title            object\n",
       "created_utc       int64\n",
       "num_comments      int64\n",
       "score             int64\n",
       "post_time_utc    object\n",
       "dtype: object"
      ]
     },
     "execution_count": 6,
     "metadata": {},
     "output_type": "execute_result"
    }
   ],
   "source": [
    "posts_df.dtypes"
   ]
  },
  {
   "cell_type": "code",
   "execution_count": 7,
   "id": "dcdf6fbc-0115-465d-a31b-0e32832ca16a",
   "metadata": {},
   "outputs": [],
   "source": [
    "posts_df.to_csv('./Data/posts_with_date.csv', index=False) ##emily go back and re-export this"
   ]
  },
  {
   "cell_type": "markdown",
   "id": "c60249cd-6738-4dcb-b4c2-4760f0a63319",
   "metadata": {},
   "source": [
    "#### combine scores data with post data"
   ]
  },
  {
   "cell_type": "code",
   "execution_count": 8,
   "id": "ec477271-2569-4bbe-8e2d-3123ea0eff8e",
   "metadata": {},
   "outputs": [],
   "source": [
    "posts_df.rename(columns={'score':'score_old', 'num_comments':'comments_old'}, inplace=True)"
   ]
  },
  {
   "cell_type": "markdown",
   "id": "1f80240b-92b3-4e87-bdc7-9294d87698bd",
   "metadata": {},
   "source": [
    "read in scores and comments from api"
   ]
  },
  {
   "cell_type": "code",
   "execution_count": 140,
   "id": "6cacfd5b-eeb3-4c76-9568-3c0e4f9ed761",
   "metadata": {},
   "outputs": [],
   "source": [
    "df_10 = pd.read_csv('./Data/0_to_10k_scores.csv')\n",
    "\n",
    "df_20 = pd.read_csv('./Data/10_to_20k_scores.csv')\n",
    "\n",
    "df_30 = pd.read_csv('./Data/2_to_3k_scores.csv')\n",
    "\n",
    "df_40 = pd.read_csv('./Data/3_to_4k_scores.csv')\n",
    "\n",
    "df_50 = pd.read_csv('./Data/4_to_5k_scores.csv')\n",
    "\n",
    "df_60 = pd.read_csv('./Data/5_to_6k_scores.csv')\n",
    "\n",
    "df_70 = pd.read_csv('./Data/7_to_7k_scores.csv')\n",
    "\n",
    "df_80 = pd.read_csv('./Data/7_to_8k_scores.csv')\n",
    "\n",
    "df_90 = pd.read_csv('./Data/8_to_9k_scores.csv')\n",
    "\n",
    "df_100 = pd.read_csv('./Data/9_to_10k_scores.csv')"
   ]
  },
  {
   "cell_type": "code",
   "execution_count": 144,
   "id": "06890b97-cf04-40aa-9efa-b0a6ea57237d",
   "metadata": {},
   "outputs": [
    {
     "data": {
      "text/plain": [
       "(1000, 3)"
      ]
     },
     "execution_count": 144,
     "metadata": {},
     "output_type": "execute_result"
    }
   ],
   "source": [
    "df_90.shape"
   ]
  },
  {
   "cell_type": "markdown",
   "id": "47a9b2dd-3ffc-4f33-8615-9733e1e05294",
   "metadata": {},
   "source": [
    "concatenate into 1 dataframe"
   ]
  },
  {
   "cell_type": "code",
   "execution_count": 146,
   "id": "edc37b30-f145-4868-8ec9-60610461e3cc",
   "metadata": {},
   "outputs": [],
   "source": [
    "scores_df = pd.concat([df_10, df_20, df_30, df_40, df_50, df_60, df_70, df_80, df_90, df_100])"
   ]
  },
  {
   "cell_type": "code",
   "execution_count": 147,
   "id": "eef9df5d-34ed-4fe8-9a47-dabd3061f0df",
   "metadata": {},
   "outputs": [
    {
     "data": {
      "text/plain": [
       "((11238, 3), (50177, 6))"
      ]
     },
     "execution_count": 147,
     "metadata": {},
     "output_type": "execute_result"
    }
   ],
   "source": [
    "scores_df.shape, posts_df.shape"
   ]
  },
  {
   "cell_type": "code",
   "execution_count": 150,
   "id": "9a69920c-f693-4ec7-b2c9-1cbc7580fd54",
   "metadata": {},
   "outputs": [
    {
     "data": {
      "text/plain": [
       "(id           object\n",
       " score         int64\n",
       " comments    float64\n",
       " dtype: object,\n",
       " id               object\n",
       " title            object\n",
       " created_utc       int64\n",
       " comments_old      int64\n",
       " score_old         int64\n",
       " post_time_utc    object\n",
       " dtype: object)"
      ]
     },
     "execution_count": 150,
     "metadata": {},
     "output_type": "execute_result"
    }
   ],
   "source": [
    "scores_df.dtypes, posts_df.dtypes"
   ]
  },
  {
   "cell_type": "code",
   "execution_count": 153,
   "id": "899f698a-602b-47d9-8cc8-63250cd749fe",
   "metadata": {},
   "outputs": [
    {
     "data": {
      "text/plain": [
       "id          0\n",
       "score       0\n",
       "comments    1\n",
       "dtype: int64"
      ]
     },
     "execution_count": 153,
     "metadata": {},
     "output_type": "execute_result"
    }
   ],
   "source": [
    "scores_df.isnull().sum()"
   ]
  },
  {
   "cell_type": "code",
   "execution_count": 154,
   "id": "13e011d2-7d01-4c2c-8980-216226503ee6",
   "metadata": {},
   "outputs": [],
   "source": [
    "scores_df.dropna(inplace=True)"
   ]
  },
  {
   "cell_type": "code",
   "execution_count": 156,
   "id": "fdb9297d-44d0-44b9-9059-593b7720f0f0",
   "metadata": {},
   "outputs": [],
   "source": [
    "scores_df.drop_duplicates(inplace=True)"
   ]
  },
  {
   "cell_type": "markdown",
   "id": "9d16b3bf-7c13-4d45-a949-511c868220cb",
   "metadata": {},
   "source": [
    "join to the posts dataframe"
   ]
  },
  {
   "cell_type": "code",
   "execution_count": 157,
   "id": "af775657-4cd9-4e26-b7cd-f4c8c35887ff",
   "metadata": {},
   "outputs": [
    {
     "data": {
      "text/html": [
       "<div>\n",
       "<style scoped>\n",
       "    .dataframe tbody tr th:only-of-type {\n",
       "        vertical-align: middle;\n",
       "    }\n",
       "\n",
       "    .dataframe tbody tr th {\n",
       "        vertical-align: top;\n",
       "    }\n",
       "\n",
       "    .dataframe thead th {\n",
       "        text-align: right;\n",
       "    }\n",
       "</style>\n",
       "<table border=\"1\" class=\"dataframe\">\n",
       "  <thead>\n",
       "    <tr style=\"text-align: right;\">\n",
       "      <th></th>\n",
       "      <th>id</th>\n",
       "      <th>title</th>\n",
       "      <th>created_utc</th>\n",
       "      <th>comments_old</th>\n",
       "      <th>score_old</th>\n",
       "      <th>post_time_utc</th>\n",
       "      <th>score</th>\n",
       "      <th>comments</th>\n",
       "    </tr>\n",
       "  </thead>\n",
       "  <tbody>\n",
       "    <tr>\n",
       "      <th>0</th>\n",
       "      <td>uu6g0w</td>\n",
       "      <td>[homemade] Polynesian (Chick-Fil-A sauce) chic...</td>\n",
       "      <td>1653077037</td>\n",
       "      <td>0</td>\n",
       "      <td>1</td>\n",
       "      <td>2022-05-20 16:03:57</td>\n",
       "      <td>69</td>\n",
       "      <td>7.0</td>\n",
       "    </tr>\n",
       "    <tr>\n",
       "      <th>1</th>\n",
       "      <td>uu6cni</td>\n",
       "      <td>[I ate] Scotch mutton pie, pub in Edinburgh</td>\n",
       "      <td>1653076799</td>\n",
       "      <td>0</td>\n",
       "      <td>1</td>\n",
       "      <td>2022-05-20 15:59:59</td>\n",
       "      <td>37</td>\n",
       "      <td>4.0</td>\n",
       "    </tr>\n",
       "    <tr>\n",
       "      <th>2</th>\n",
       "      <td>uu6apo</td>\n",
       "      <td>[homemade] 🇲🇦</td>\n",
       "      <td>1653076639</td>\n",
       "      <td>0</td>\n",
       "      <td>1</td>\n",
       "      <td>2022-05-20 15:57:19</td>\n",
       "      <td>1</td>\n",
       "      <td>0.0</td>\n",
       "    </tr>\n",
       "    <tr>\n",
       "      <th>3</th>\n",
       "      <td>uu644e</td>\n",
       "      <td>[homemade] Chilli Paneer, Spinach, Potatoes wi...</td>\n",
       "      <td>1653076091</td>\n",
       "      <td>0</td>\n",
       "      <td>1</td>\n",
       "      <td>2022-05-20 15:48:11</td>\n",
       "      <td>16</td>\n",
       "      <td>2.0</td>\n",
       "    </tr>\n",
       "    <tr>\n",
       "      <th>4</th>\n",
       "      <td>uu5x2y</td>\n",
       "      <td>[Homemade] Tart - Salmon, spinach and goat cheese</td>\n",
       "      <td>1653075500</td>\n",
       "      <td>0</td>\n",
       "      <td>1</td>\n",
       "      <td>2022-05-20 15:38:20</td>\n",
       "      <td>1</td>\n",
       "      <td>0.0</td>\n",
       "    </tr>\n",
       "    <tr>\n",
       "      <th>...</th>\n",
       "      <td>...</td>\n",
       "      <td>...</td>\n",
       "      <td>...</td>\n",
       "      <td>...</td>\n",
       "      <td>...</td>\n",
       "      <td>...</td>\n",
       "      <td>...</td>\n",
       "      <td>...</td>\n",
       "    </tr>\n",
       "    <tr>\n",
       "      <th>10790</th>\n",
       "      <td>u3jog2</td>\n",
       "      <td>[Homemade] Spinach fettuccine alfredo</td>\n",
       "      <td>1649948916</td>\n",
       "      <td>0</td>\n",
       "      <td>1</td>\n",
       "      <td>2022-04-14 11:08:36</td>\n",
       "      <td>13</td>\n",
       "      <td>0.0</td>\n",
       "    </tr>\n",
       "    <tr>\n",
       "      <th>10791</th>\n",
       "      <td>u3jezk</td>\n",
       "      <td>[homemade] Glowup of instant noodles for me an...</td>\n",
       "      <td>1649948229</td>\n",
       "      <td>0</td>\n",
       "      <td>1</td>\n",
       "      <td>2022-04-14 10:57:09</td>\n",
       "      <td>15</td>\n",
       "      <td>2.0</td>\n",
       "    </tr>\n",
       "    <tr>\n",
       "      <th>10792</th>\n",
       "      <td>u3jcej</td>\n",
       "      <td>[I ate] Napoleon cake and lemon curd tartlet.</td>\n",
       "      <td>1649948026</td>\n",
       "      <td>0</td>\n",
       "      <td>1</td>\n",
       "      <td>2022-04-14 10:53:46</td>\n",
       "      <td>14</td>\n",
       "      <td>1.0</td>\n",
       "    </tr>\n",
       "    <tr>\n",
       "      <th>10793</th>\n",
       "      <td>u3j8ay</td>\n",
       "      <td>[Homemade] Tonkatsu bento box that I made for ...</td>\n",
       "      <td>1649947706</td>\n",
       "      <td>0</td>\n",
       "      <td>1</td>\n",
       "      <td>2022-04-14 10:48:26</td>\n",
       "      <td>30</td>\n",
       "      <td>5.0</td>\n",
       "    </tr>\n",
       "    <tr>\n",
       "      <th>10794</th>\n",
       "      <td>u3j1tn</td>\n",
       "      <td>[i ate] vanilla bomb</td>\n",
       "      <td>1649947192</td>\n",
       "      <td>0</td>\n",
       "      <td>1</td>\n",
       "      <td>2022-04-14 10:39:52</td>\n",
       "      <td>13240</td>\n",
       "      <td>226.0</td>\n",
       "    </tr>\n",
       "  </tbody>\n",
       "</table>\n",
       "<p>10795 rows × 8 columns</p>\n",
       "</div>"
      ],
      "text/plain": [
       "           id                                              title  created_utc  \\\n",
       "0      uu6g0w  [homemade] Polynesian (Chick-Fil-A sauce) chic...   1653077037   \n",
       "1      uu6cni        [I ate] Scotch mutton pie, pub in Edinburgh   1653076799   \n",
       "2      uu6apo                                      [homemade] 🇲🇦   1653076639   \n",
       "3      uu644e  [homemade] Chilli Paneer, Spinach, Potatoes wi...   1653076091   \n",
       "4      uu5x2y  [Homemade] Tart - Salmon, spinach and goat cheese   1653075500   \n",
       "...       ...                                                ...          ...   \n",
       "10790  u3jog2              [Homemade] Spinach fettuccine alfredo   1649948916   \n",
       "10791  u3jezk  [homemade] Glowup of instant noodles for me an...   1649948229   \n",
       "10792  u3jcej      [I ate] Napoleon cake and lemon curd tartlet.   1649948026   \n",
       "10793  u3j8ay  [Homemade] Tonkatsu bento box that I made for ...   1649947706   \n",
       "10794  u3j1tn                               [i ate] vanilla bomb   1649947192   \n",
       "\n",
       "       comments_old  score_old        post_time_utc  score  comments  \n",
       "0                 0          1  2022-05-20 16:03:57     69       7.0  \n",
       "1                 0          1  2022-05-20 15:59:59     37       4.0  \n",
       "2                 0          1  2022-05-20 15:57:19      1       0.0  \n",
       "3                 0          1  2022-05-20 15:48:11     16       2.0  \n",
       "4                 0          1  2022-05-20 15:38:20      1       0.0  \n",
       "...             ...        ...                  ...    ...       ...  \n",
       "10790             0          1  2022-04-14 11:08:36     13       0.0  \n",
       "10791             0          1  2022-04-14 10:57:09     15       2.0  \n",
       "10792             0          1  2022-04-14 10:53:46     14       1.0  \n",
       "10793             0          1  2022-04-14 10:48:26     30       5.0  \n",
       "10794             0          1  2022-04-14 10:39:52  13240     226.0  \n",
       "\n",
       "[10795 rows x 8 columns]"
      ]
     },
     "execution_count": 157,
     "metadata": {},
     "output_type": "execute_result"
    }
   ],
   "source": [
    "posts_scores_df = posts_df.merge(right=scores_df, how='inner')\n",
    "posts_scores_df"
   ]
  },
  {
   "cell_type": "code",
   "execution_count": 158,
   "id": "e48d0617-cfbe-4391-bdaa-2559d53d832f",
   "metadata": {},
   "outputs": [
    {
     "data": {
      "text/plain": [
       "id                object\n",
       "title             object\n",
       "created_utc        int64\n",
       "comments_old       int64\n",
       "score_old          int64\n",
       "post_time_utc     object\n",
       "score              int64\n",
       "comments         float64\n",
       "dtype: object"
      ]
     },
     "execution_count": 158,
     "metadata": {},
     "output_type": "execute_result"
    }
   ],
   "source": [
    "posts_scores_df.dtypes"
   ]
  },
  {
   "cell_type": "code",
   "execution_count": 159,
   "id": "94ff3899-7f12-42af-8f39-b9dcce4640e2",
   "metadata": {},
   "outputs": [
    {
     "data": {
      "text/plain": [
       "id               0\n",
       "title            0\n",
       "created_utc      0\n",
       "comments_old     0\n",
       "score_old        0\n",
       "post_time_utc    0\n",
       "score            0\n",
       "comments         0\n",
       "dtype: int64"
      ]
     },
     "execution_count": 159,
     "metadata": {},
     "output_type": "execute_result"
    }
   ],
   "source": [
    "posts_scores_df.isnull().sum()"
   ]
  },
  {
   "cell_type": "markdown",
   "id": "ad3922ba-c732-46fe-bef1-7c6510039bf1",
   "metadata": {},
   "source": [
    "Engineering a field to connote 'viral'. Viral is being defined as a post with a score in the top 2% of all posts"
   ]
  },
  {
   "cell_type": "code",
   "execution_count": 162,
   "id": "7c07fea9-65d8-4726-a986-b37a5a534ec8",
   "metadata": {},
   "outputs": [],
   "source": [
    "posts_scores_df['percentile']= posts_scores_df.score.rank(pct=True)\n",
    "#https://www.geeksforgeeks.org/percentile-rank-of-a-column-in-a-pandas-dataframe/"
   ]
  },
  {
   "cell_type": "code",
   "execution_count": 163,
   "id": "abce5ce0-b4ad-475f-a51e-12bae93d334e",
   "metadata": {},
   "outputs": [],
   "source": [
    "posts_scores_df['viral'] = np.where(posts_scores_df['percentile'] > .98, 1, 0 )"
   ]
  },
  {
   "cell_type": "code",
   "execution_count": 164,
   "id": "f85cb122-04fd-4437-a190-cd6b7c03445f",
   "metadata": {},
   "outputs": [],
   "source": [
    "posts_scores_df.to_csv('./Data/posts_scores_dates.csv', index=False)"
   ]
  },
  {
   "cell_type": "markdown",
   "id": "304c4e42-3b7e-449f-8384-8d6213f368e6",
   "metadata": {
    "tags": []
   },
   "source": [
    "#### next, I will work on vectorizing the text of the titles"
   ]
  },
  {
   "cell_type": "code",
   "execution_count": 24,
   "id": "ef0946fd-f37c-48f1-8c66-df289946465b",
   "metadata": {},
   "outputs": [],
   "source": [
    "X = posts_scores_df['title']\n",
    "y = posts_scores_df['score']\n",
    "\n",
    "X_train, X_test, y_train, y_test = train_test_split(X, y, random_state=20)"
   ]
  },
  {
   "cell_type": "code",
   "execution_count": 26,
   "id": "1624e455-1987-45bc-9faa-b43ccb3f0ed9",
   "metadata": {},
   "outputs": [],
   "source": [
    "cv = CountVectorizer()"
   ]
  },
  {
   "cell_type": "code",
   "execution_count": 27,
   "id": "2d2723c0-e5d0-4007-9827-919106ffdce5",
   "metadata": {},
   "outputs": [
    {
     "data": {
      "text/plain": [
       "CountVectorizer()"
      ]
     },
     "execution_count": 27,
     "metadata": {},
     "output_type": "execute_result"
    }
   ],
   "source": [
    "cv.fit(X_train)"
   ]
  },
  {
   "cell_type": "code",
   "execution_count": 28,
   "id": "2cb9e8f2-b8d7-47bd-bbd5-6d12eb247fb8",
   "metadata": {},
   "outputs": [],
   "source": [
    "X_train_cv = cv.transform(X_train)"
   ]
  },
  {
   "cell_type": "code",
   "execution_count": 29,
   "id": "6dc8e080-a300-436d-93d8-aa70399bf008",
   "metadata": {},
   "outputs": [],
   "source": [
    "X_test_cv = cv.transform(X_test)"
   ]
  },
  {
   "cell_type": "code",
   "execution_count": 30,
   "id": "916fdeb2-01aa-47a8-b24a-bb3219156978",
   "metadata": {},
   "outputs": [
    {
     "data": {
      "text/plain": [
       "<12816x6169 sparse matrix of type '<class 'numpy.int64'>'\n",
       "\twith 89528 stored elements in Compressed Sparse Row format>"
      ]
     },
     "execution_count": 30,
     "metadata": {},
     "output_type": "execute_result"
    }
   ],
   "source": [
    "X_train_cv"
   ]
  },
  {
   "cell_type": "code",
   "execution_count": 31,
   "id": "c23fd48d-8581-46ee-b6a0-8ae4e01766c0",
   "metadata": {},
   "outputs": [
    {
     "data": {
      "text/html": [
       "<div>\n",
       "<style scoped>\n",
       "    .dataframe tbody tr th:only-of-type {\n",
       "        vertical-align: middle;\n",
       "    }\n",
       "\n",
       "    .dataframe tbody tr th {\n",
       "        vertical-align: top;\n",
       "    }\n",
       "\n",
       "    .dataframe thead th {\n",
       "        text-align: right;\n",
       "    }\n",
       "</style>\n",
       "<table border=\"1\" class=\"dataframe\">\n",
       "  <thead>\n",
       "    <tr style=\"text-align: right;\">\n",
       "      <th></th>\n",
       "      <th>00</th>\n",
       "      <th>04</th>\n",
       "      <th>048</th>\n",
       "      <th>05unamksrom</th>\n",
       "      <th>06</th>\n",
       "      <th>10</th>\n",
       "      <th>100</th>\n",
       "      <th>1000</th>\n",
       "      <th>1000x</th>\n",
       "      <th>10pm</th>\n",
       "      <th>...</th>\n",
       "      <th>自制</th>\n",
       "      <th>豚骨ラーメン</th>\n",
       "      <th>𝗛𝗼𝘄</th>\n",
       "      <th>𝗶𝗻</th>\n",
       "      <th>𝗹𝗲𝘀𝘀</th>\n",
       "      <th>𝗺𝗮𝗸𝗲</th>\n",
       "      <th>𝗺𝗶𝗻𝘂𝘁𝗲</th>\n",
       "      <th>𝗺𝘂𝗴</th>\n",
       "      <th>𝗽𝗮𝗻𝗰𝗮𝗸𝗲</th>\n",
       "      <th>𝘁𝗵𝗮𝗻</th>\n",
       "    </tr>\n",
       "  </thead>\n",
       "  <tbody>\n",
       "    <tr>\n",
       "      <th>0</th>\n",
       "      <td>0</td>\n",
       "      <td>0</td>\n",
       "      <td>0</td>\n",
       "      <td>0</td>\n",
       "      <td>0</td>\n",
       "      <td>0</td>\n",
       "      <td>0</td>\n",
       "      <td>0</td>\n",
       "      <td>0</td>\n",
       "      <td>0</td>\n",
       "      <td>...</td>\n",
       "      <td>0</td>\n",
       "      <td>0</td>\n",
       "      <td>0</td>\n",
       "      <td>0</td>\n",
       "      <td>0</td>\n",
       "      <td>0</td>\n",
       "      <td>0</td>\n",
       "      <td>0</td>\n",
       "      <td>0</td>\n",
       "      <td>0</td>\n",
       "    </tr>\n",
       "    <tr>\n",
       "      <th>1</th>\n",
       "      <td>0</td>\n",
       "      <td>0</td>\n",
       "      <td>0</td>\n",
       "      <td>0</td>\n",
       "      <td>0</td>\n",
       "      <td>0</td>\n",
       "      <td>0</td>\n",
       "      <td>0</td>\n",
       "      <td>0</td>\n",
       "      <td>0</td>\n",
       "      <td>...</td>\n",
       "      <td>0</td>\n",
       "      <td>0</td>\n",
       "      <td>0</td>\n",
       "      <td>0</td>\n",
       "      <td>0</td>\n",
       "      <td>0</td>\n",
       "      <td>0</td>\n",
       "      <td>0</td>\n",
       "      <td>0</td>\n",
       "      <td>0</td>\n",
       "    </tr>\n",
       "    <tr>\n",
       "      <th>2</th>\n",
       "      <td>0</td>\n",
       "      <td>0</td>\n",
       "      <td>0</td>\n",
       "      <td>0</td>\n",
       "      <td>0</td>\n",
       "      <td>0</td>\n",
       "      <td>0</td>\n",
       "      <td>0</td>\n",
       "      <td>0</td>\n",
       "      <td>0</td>\n",
       "      <td>...</td>\n",
       "      <td>0</td>\n",
       "      <td>0</td>\n",
       "      <td>0</td>\n",
       "      <td>0</td>\n",
       "      <td>0</td>\n",
       "      <td>0</td>\n",
       "      <td>0</td>\n",
       "      <td>0</td>\n",
       "      <td>0</td>\n",
       "      <td>0</td>\n",
       "    </tr>\n",
       "    <tr>\n",
       "      <th>3</th>\n",
       "      <td>0</td>\n",
       "      <td>0</td>\n",
       "      <td>0</td>\n",
       "      <td>0</td>\n",
       "      <td>0</td>\n",
       "      <td>0</td>\n",
       "      <td>0</td>\n",
       "      <td>0</td>\n",
       "      <td>0</td>\n",
       "      <td>0</td>\n",
       "      <td>...</td>\n",
       "      <td>0</td>\n",
       "      <td>0</td>\n",
       "      <td>0</td>\n",
       "      <td>0</td>\n",
       "      <td>0</td>\n",
       "      <td>0</td>\n",
       "      <td>0</td>\n",
       "      <td>0</td>\n",
       "      <td>0</td>\n",
       "      <td>0</td>\n",
       "    </tr>\n",
       "    <tr>\n",
       "      <th>4</th>\n",
       "      <td>0</td>\n",
       "      <td>0</td>\n",
       "      <td>0</td>\n",
       "      <td>0</td>\n",
       "      <td>0</td>\n",
       "      <td>0</td>\n",
       "      <td>0</td>\n",
       "      <td>0</td>\n",
       "      <td>0</td>\n",
       "      <td>0</td>\n",
       "      <td>...</td>\n",
       "      <td>0</td>\n",
       "      <td>0</td>\n",
       "      <td>0</td>\n",
       "      <td>0</td>\n",
       "      <td>0</td>\n",
       "      <td>0</td>\n",
       "      <td>0</td>\n",
       "      <td>0</td>\n",
       "      <td>0</td>\n",
       "      <td>0</td>\n",
       "    </tr>\n",
       "    <tr>\n",
       "      <th>...</th>\n",
       "      <td>...</td>\n",
       "      <td>...</td>\n",
       "      <td>...</td>\n",
       "      <td>...</td>\n",
       "      <td>...</td>\n",
       "      <td>...</td>\n",
       "      <td>...</td>\n",
       "      <td>...</td>\n",
       "      <td>...</td>\n",
       "      <td>...</td>\n",
       "      <td>...</td>\n",
       "      <td>...</td>\n",
       "      <td>...</td>\n",
       "      <td>...</td>\n",
       "      <td>...</td>\n",
       "      <td>...</td>\n",
       "      <td>...</td>\n",
       "      <td>...</td>\n",
       "      <td>...</td>\n",
       "      <td>...</td>\n",
       "      <td>...</td>\n",
       "    </tr>\n",
       "    <tr>\n",
       "      <th>12811</th>\n",
       "      <td>0</td>\n",
       "      <td>0</td>\n",
       "      <td>0</td>\n",
       "      <td>0</td>\n",
       "      <td>0</td>\n",
       "      <td>0</td>\n",
       "      <td>0</td>\n",
       "      <td>0</td>\n",
       "      <td>0</td>\n",
       "      <td>0</td>\n",
       "      <td>...</td>\n",
       "      <td>0</td>\n",
       "      <td>0</td>\n",
       "      <td>0</td>\n",
       "      <td>0</td>\n",
       "      <td>0</td>\n",
       "      <td>0</td>\n",
       "      <td>0</td>\n",
       "      <td>0</td>\n",
       "      <td>0</td>\n",
       "      <td>0</td>\n",
       "    </tr>\n",
       "    <tr>\n",
       "      <th>12812</th>\n",
       "      <td>0</td>\n",
       "      <td>0</td>\n",
       "      <td>0</td>\n",
       "      <td>0</td>\n",
       "      <td>0</td>\n",
       "      <td>0</td>\n",
       "      <td>0</td>\n",
       "      <td>0</td>\n",
       "      <td>0</td>\n",
       "      <td>0</td>\n",
       "      <td>...</td>\n",
       "      <td>0</td>\n",
       "      <td>0</td>\n",
       "      <td>0</td>\n",
       "      <td>0</td>\n",
       "      <td>0</td>\n",
       "      <td>0</td>\n",
       "      <td>0</td>\n",
       "      <td>0</td>\n",
       "      <td>0</td>\n",
       "      <td>0</td>\n",
       "    </tr>\n",
       "    <tr>\n",
       "      <th>12813</th>\n",
       "      <td>0</td>\n",
       "      <td>0</td>\n",
       "      <td>0</td>\n",
       "      <td>0</td>\n",
       "      <td>0</td>\n",
       "      <td>0</td>\n",
       "      <td>0</td>\n",
       "      <td>0</td>\n",
       "      <td>0</td>\n",
       "      <td>0</td>\n",
       "      <td>...</td>\n",
       "      <td>0</td>\n",
       "      <td>0</td>\n",
       "      <td>0</td>\n",
       "      <td>0</td>\n",
       "      <td>0</td>\n",
       "      <td>0</td>\n",
       "      <td>0</td>\n",
       "      <td>0</td>\n",
       "      <td>0</td>\n",
       "      <td>0</td>\n",
       "    </tr>\n",
       "    <tr>\n",
       "      <th>12814</th>\n",
       "      <td>0</td>\n",
       "      <td>0</td>\n",
       "      <td>0</td>\n",
       "      <td>0</td>\n",
       "      <td>0</td>\n",
       "      <td>0</td>\n",
       "      <td>0</td>\n",
       "      <td>0</td>\n",
       "      <td>0</td>\n",
       "      <td>0</td>\n",
       "      <td>...</td>\n",
       "      <td>0</td>\n",
       "      <td>0</td>\n",
       "      <td>0</td>\n",
       "      <td>0</td>\n",
       "      <td>0</td>\n",
       "      <td>0</td>\n",
       "      <td>0</td>\n",
       "      <td>0</td>\n",
       "      <td>0</td>\n",
       "      <td>0</td>\n",
       "    </tr>\n",
       "    <tr>\n",
       "      <th>12815</th>\n",
       "      <td>0</td>\n",
       "      <td>0</td>\n",
       "      <td>0</td>\n",
       "      <td>0</td>\n",
       "      <td>0</td>\n",
       "      <td>0</td>\n",
       "      <td>0</td>\n",
       "      <td>0</td>\n",
       "      <td>0</td>\n",
       "      <td>0</td>\n",
       "      <td>...</td>\n",
       "      <td>0</td>\n",
       "      <td>0</td>\n",
       "      <td>0</td>\n",
       "      <td>0</td>\n",
       "      <td>0</td>\n",
       "      <td>0</td>\n",
       "      <td>0</td>\n",
       "      <td>0</td>\n",
       "      <td>0</td>\n",
       "      <td>0</td>\n",
       "    </tr>\n",
       "  </tbody>\n",
       "</table>\n",
       "<p>12816 rows × 6169 columns</p>\n",
       "</div>"
      ],
      "text/plain": [
       "       00  04  048  05unamksrom  06  10  100  1000  1000x  10pm  ...  自制  \\\n",
       "0       0   0    0            0   0   0    0     0      0     0  ...   0   \n",
       "1       0   0    0            0   0   0    0     0      0     0  ...   0   \n",
       "2       0   0    0            0   0   0    0     0      0     0  ...   0   \n",
       "3       0   0    0            0   0   0    0     0      0     0  ...   0   \n",
       "4       0   0    0            0   0   0    0     0      0     0  ...   0   \n",
       "...    ..  ..  ...          ...  ..  ..  ...   ...    ...   ...  ...  ..   \n",
       "12811   0   0    0            0   0   0    0     0      0     0  ...   0   \n",
       "12812   0   0    0            0   0   0    0     0      0     0  ...   0   \n",
       "12813   0   0    0            0   0   0    0     0      0     0  ...   0   \n",
       "12814   0   0    0            0   0   0    0     0      0     0  ...   0   \n",
       "12815   0   0    0            0   0   0    0     0      0     0  ...   0   \n",
       "\n",
       "       豚骨ラーメン  𝗛𝗼𝘄  𝗶𝗻  𝗹𝗲𝘀𝘀  𝗺𝗮𝗸𝗲  𝗺𝗶𝗻𝘂𝘁𝗲  𝗺𝘂𝗴  𝗽𝗮𝗻𝗰𝗮𝗸𝗲  𝘁𝗵𝗮𝗻  \n",
       "0           0    0   0     0     0       0    0        0     0  \n",
       "1           0    0   0     0     0       0    0        0     0  \n",
       "2           0    0   0     0     0       0    0        0     0  \n",
       "3           0    0   0     0     0       0    0        0     0  \n",
       "4           0    0   0     0     0       0    0        0     0  \n",
       "...       ...  ...  ..   ...   ...     ...  ...      ...   ...  \n",
       "12811       0    0   0     0     0       0    0        0     0  \n",
       "12812       0    0   0     0     0       0    0        0     0  \n",
       "12813       0    0   0     0     0       0    0        0     0  \n",
       "12814       0    0   0     0     0       0    0        0     0  \n",
       "12815       0    0   0     0     0       0    0        0     0  \n",
       "\n",
       "[12816 rows x 6169 columns]"
      ]
     },
     "execution_count": 31,
     "metadata": {},
     "output_type": "execute_result"
    }
   ],
   "source": [
    "text_df = pd.DataFrame(X_train_cv.A, columns = cv.get_feature_names_out())\n",
    "text_df"
   ]
  },
  {
   "cell_type": "code",
   "execution_count": 33,
   "id": "e108a71f-effa-4ca6-b397-aafbd56cf375",
   "metadata": {},
   "outputs": [],
   "source": [
    "text_df['post_time_utc'] = posts_df['post_time_utc']"
   ]
  },
  {
   "cell_type": "code",
   "execution_count": 34,
   "id": "2480bbb8-ff53-4e24-99f4-c6049e5e06ed",
   "metadata": {},
   "outputs": [
    {
     "data": {
      "text/plain": [
       "homemade    10061\n",
       "and          4176\n",
       "with         3122\n",
       "ate          2628\n",
       "chicken      1532\n",
       "cheese        729\n",
       "the           670\n",
       "in            660\n",
       "sauce         607\n",
       "amp           598\n",
       "rice          591\n",
       "fried         580\n",
       "garlic        539\n",
       "pizza         525\n",
       "of            492\n",
       "on            472\n",
       "my            451\n",
       "pork          440\n",
       "made          430\n",
       "salad         412\n",
       "for           410\n",
       "chef          406\n",
       "potatoes      403\n",
       "bacon         394\n",
       "beef          380\n",
       "dtype: int64"
      ]
     },
     "execution_count": 34,
     "metadata": {},
     "output_type": "execute_result"
    }
   ],
   "source": [
    "text_df.sum(numeric_only=True).sort_values(ascending=False).head(25)"
   ]
  },
  {
   "cell_type": "markdown",
   "id": "bdf6c073-424d-45e1-806c-e83b583f880e",
   "metadata": {
    "tags": []
   },
   "source": [
    "### try with make column transformer"
   ]
  },
  {
   "cell_type": "code",
   "execution_count": null,
   "id": "e8d62c22-993a-42df-bb7f-81847740b22a",
   "metadata": {},
   "outputs": [],
   "source": [
    "X2 = posts_df[['title', 'post_time_utc']]\n",
    "y2 = posts_df['score']"
   ]
  },
  {
   "cell_type": "code",
   "execution_count": null,
   "id": "2e924709-7b4a-4a82-ab29-957e628f19d1",
   "metadata": {},
   "outputs": [],
   "source": [
    "X2.dtypes"
   ]
  },
  {
   "cell_type": "code",
   "execution_count": null,
   "id": "e48eaa07-5557-447f-aa66-0b705bfd17b2",
   "metadata": {},
   "outputs": [],
   "source": [
    "X2_train, X2_test, y2_train, y2_test = train_test_split(X2,y2, random_state=20)"
   ]
  },
  {
   "cell_type": "code",
   "execution_count": null,
   "id": "31834f04-f800-47d6-8f8a-cdb32549453a",
   "metadata": {},
   "outputs": [],
   "source": [
    "ct = make_column_transformer(\n",
    "    (CountVectorizer(),'title'),\n",
    "    remainder= 'passthrough',\n",
    "    n_jobs= -1,\n",
    "    sparse_threshold= 0,\n",
    "    verbose_feature_names_out= False\n",
    ")"
   ]
  },
  {
   "cell_type": "code",
   "execution_count": null,
   "id": "555a8d88-b1a4-4483-ade6-65b6596f05bb",
   "metadata": {},
   "outputs": [],
   "source": [
    "ct.fit(X2_train)"
   ]
  },
  {
   "cell_type": "code",
   "execution_count": null,
   "id": "ea797202-dda0-44d5-bd4f-01cac56d7cce",
   "metadata": {},
   "outputs": [],
   "source": [
    "ct.transform(X2_train)"
   ]
  },
  {
   "cell_type": "code",
   "execution_count": null,
   "id": "55b5efe2-62ee-489c-86e6-a0366ee85104",
   "metadata": {},
   "outputs": [],
   "source": [
    "ct.get_feature_names_out()"
   ]
  },
  {
   "cell_type": "markdown",
   "id": "740aeb40-94fa-4549-b5aa-d6c304a3b64c",
   "metadata": {},
   "source": [
    "#### pickling"
   ]
  },
  {
   "cell_type": "code",
   "execution_count": null,
   "id": "bc998d84-2cdd-491f-aec6-289cf9b313d0",
   "metadata": {},
   "outputs": [],
   "source": [
    "with open('./Models/column_transformer.pkl', 'wb') as pickle_out:\n",
    "    pickle.dump(ct, pickle_out)"
   ]
  },
  {
   "cell_type": "code",
   "execution_count": null,
   "id": "3773a8a4-c86c-41b1-9c3e-ea1f1475cf31",
   "metadata": {},
   "outputs": [],
   "source": [
    "with open('./Data/X_train.pkl', 'wb') as pickle_out:\n",
    "    pickle.dump(X2_train, pickle_out)"
   ]
  },
  {
   "cell_type": "code",
   "execution_count": null,
   "id": "bf993c4f-8970-4421-92a8-6bfe39f64722",
   "metadata": {},
   "outputs": [],
   "source": [
    "with open('./Data/X_test.pkl', 'wb') as pickle_out:\n",
    "    pickle.dump(X2_test, pickle_out)"
   ]
  },
  {
   "cell_type": "code",
   "execution_count": null,
   "id": "9155ef7a-97d3-4009-b6b4-1b6eaf4153ae",
   "metadata": {},
   "outputs": [],
   "source": [
    "with open('./Data/y_train.pkl', 'wb') as pickle_out:\n",
    "    pickle.dump(y2_train, pickle_out)"
   ]
  },
  {
   "cell_type": "code",
   "execution_count": null,
   "id": "1ad81763-72c4-4d82-916a-5587af704d9e",
   "metadata": {},
   "outputs": [],
   "source": [
    "with open('./Data/y_test.pkl', 'wb') as pickle_out:\n",
    "    pickle.dump(y2_test, pickle_out)"
   ]
  },
  {
   "cell_type": "code",
   "execution_count": null,
   "id": "9374376a-8e24-4bc0-9e69-ef4145b03a68",
   "metadata": {},
   "outputs": [],
   "source": []
  }
 ],
 "metadata": {
  "kernelspec": {
   "display_name": "Python 3 (ipykernel)",
   "language": "python",
   "name": "python3"
  },
  "language_info": {
   "codemirror_mode": {
    "name": "ipython",
    "version": 3
   },
   "file_extension": ".py",
   "mimetype": "text/x-python",
   "name": "python",
   "nbconvert_exporter": "python",
   "pygments_lexer": "ipython3",
   "version": "3.9.7"
  }
 },
 "nbformat": 4,
 "nbformat_minor": 5
}
