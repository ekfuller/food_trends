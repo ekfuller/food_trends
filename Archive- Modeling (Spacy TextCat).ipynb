{
  "nbformat": 4,
  "nbformat_minor": 0,
  "metadata": {
    "colab": {
      "name": "Spacy TextCat.ipynb",
      "provenance": []
    },
    "kernelspec": {
      "name": "python3",
      "display_name": "Python 3"
    },
    "language_info": {
      "name": "python"
    },
    "accelerator": "GPU"
  },
  "cells": [
    {
      "cell_type": "code",
      "source": [
        "%pip install spacy"
      ],
      "metadata": {
        "colab": {
          "base_uri": "https://localhost:8080/"
        },
        "id": "2xeG7_IrE529",
        "outputId": "c4581f63-526f-42f1-dc4d-91eac7d2e9cb"
      },
      "execution_count": null,
      "outputs": [
        {
          "output_type": "stream",
          "name": "stdout",
          "text": [
            "Looking in indexes: https://pypi.org/simple, https://us-python.pkg.dev/colab-wheels/public/simple/\n",
            "Requirement already satisfied: spacy in /usr/local/lib/python3.7/dist-packages (2.2.4)\n",
            "Requirement already satisfied: srsly<1.1.0,>=1.0.2 in /usr/local/lib/python3.7/dist-packages (from spacy) (1.0.5)\n",
            "Requirement already satisfied: tqdm<5.0.0,>=4.38.0 in /usr/local/lib/python3.7/dist-packages (from spacy) (4.64.0)\n",
            "Requirement already satisfied: wasabi<1.1.0,>=0.4.0 in /usr/local/lib/python3.7/dist-packages (from spacy) (0.9.1)\n",
            "Requirement already satisfied: catalogue<1.1.0,>=0.0.7 in /usr/local/lib/python3.7/dist-packages (from spacy) (1.0.0)\n",
            "Requirement already satisfied: numpy>=1.15.0 in /usr/local/lib/python3.7/dist-packages (from spacy) (1.21.6)\n",
            "Requirement already satisfied: preshed<3.1.0,>=3.0.2 in /usr/local/lib/python3.7/dist-packages (from spacy) (3.0.6)\n",
            "Requirement already satisfied: cymem<2.1.0,>=2.0.2 in /usr/local/lib/python3.7/dist-packages (from spacy) (2.0.6)\n",
            "Requirement already satisfied: blis<0.5.0,>=0.4.0 in /usr/local/lib/python3.7/dist-packages (from spacy) (0.4.1)\n",
            "Requirement already satisfied: thinc==7.4.0 in /usr/local/lib/python3.7/dist-packages (from spacy) (7.4.0)\n",
            "Requirement already satisfied: plac<1.2.0,>=0.9.6 in /usr/local/lib/python3.7/dist-packages (from spacy) (1.1.3)\n",
            "Requirement already satisfied: murmurhash<1.1.0,>=0.28.0 in /usr/local/lib/python3.7/dist-packages (from spacy) (1.0.7)\n",
            "Requirement already satisfied: requests<3.0.0,>=2.13.0 in /usr/local/lib/python3.7/dist-packages (from spacy) (2.23.0)\n",
            "Requirement already satisfied: setuptools in /usr/local/lib/python3.7/dist-packages (from spacy) (57.4.0)\n",
            "Requirement already satisfied: importlib-metadata>=0.20 in /usr/local/lib/python3.7/dist-packages (from catalogue<1.1.0,>=0.0.7->spacy) (4.11.4)\n",
            "Requirement already satisfied: zipp>=0.5 in /usr/local/lib/python3.7/dist-packages (from importlib-metadata>=0.20->catalogue<1.1.0,>=0.0.7->spacy) (3.8.0)\n",
            "Requirement already satisfied: typing-extensions>=3.6.4 in /usr/local/lib/python3.7/dist-packages (from importlib-metadata>=0.20->catalogue<1.1.0,>=0.0.7->spacy) (4.2.0)\n",
            "Requirement already satisfied: chardet<4,>=3.0.2 in /usr/local/lib/python3.7/dist-packages (from requests<3.0.0,>=2.13.0->spacy) (3.0.4)\n",
            "Requirement already satisfied: certifi>=2017.4.17 in /usr/local/lib/python3.7/dist-packages (from requests<3.0.0,>=2.13.0->spacy) (2022.5.18.1)\n",
            "Requirement already satisfied: idna<3,>=2.5 in /usr/local/lib/python3.7/dist-packages (from requests<3.0.0,>=2.13.0->spacy) (2.10)\n",
            "Requirement already satisfied: urllib3!=1.25.0,!=1.25.1,<1.26,>=1.21.1 in /usr/local/lib/python3.7/dist-packages (from requests<3.0.0,>=2.13.0->spacy) (1.24.3)\n"
          ]
        }
      ]
    },
    {
      "cell_type": "code",
      "source": [
        "import pandas as pd\n",
        "import spacy\n",
        "import random\n",
        "\n",
        "from spacy.util import minibatch\n",
        "from spacy.pipeline.textcat_multilabel import DEFAULT_MULTI_TEXTCAT_MODEL\n",
        "\n",
        "from sklearn.model_selection import train_test_split"
      ],
      "metadata": {
        "colab": {
          "base_uri": "https://localhost:8080/",
          "height": 368
        },
        "id": "2XTyOFP_FoVE",
        "outputId": "7251fca5-f030-4191-bc4e-7643a687c3d0"
      },
      "execution_count": null,
      "outputs": [
        {
          "output_type": "error",
          "ename": "ModuleNotFoundError",
          "evalue": "ignored",
          "traceback": [
            "\u001b[0;31m---------------------------------------------------------------------------\u001b[0m",
            "\u001b[0;31mModuleNotFoundError\u001b[0m                       Traceback (most recent call last)",
            "\u001b[0;32m<ipython-input-3-c178a7f90262>\u001b[0m in \u001b[0;36m<module>\u001b[0;34m()\u001b[0m\n\u001b[1;32m      5\u001b[0m \u001b[0;31m#from spacy.pipeline.textcat import single_label_cnn_config\u001b[0m\u001b[0;34m\u001b[0m\u001b[0;34m\u001b[0m\u001b[0;34m\u001b[0m\u001b[0m\n\u001b[1;32m      6\u001b[0m \u001b[0;32mimport\u001b[0m \u001b[0mrandom\u001b[0m\u001b[0;34m\u001b[0m\u001b[0;34m\u001b[0m\u001b[0m\n\u001b[0;32m----> 7\u001b[0;31m \u001b[0;32mfrom\u001b[0m \u001b[0mspacy\u001b[0m\u001b[0;34m.\u001b[0m\u001b[0mtraining\u001b[0m\u001b[0;34m.\u001b[0m\u001b[0mexample\u001b[0m \u001b[0;32mimport\u001b[0m \u001b[0mExample\u001b[0m\u001b[0;34m\u001b[0m\u001b[0;34m\u001b[0m\u001b[0m\n\u001b[0m\u001b[1;32m      8\u001b[0m \u001b[0;32mfrom\u001b[0m \u001b[0mspacy\u001b[0m\u001b[0;34m.\u001b[0m\u001b[0mpipeline\u001b[0m\u001b[0;34m.\u001b[0m\u001b[0mtextcat_multilabel\u001b[0m \u001b[0;32mimport\u001b[0m \u001b[0mDEFAULT_MULTI_TEXTCAT_MODEL\u001b[0m\u001b[0;34m\u001b[0m\u001b[0;34m\u001b[0m\u001b[0m\n\u001b[1;32m      9\u001b[0m \u001b[0;34m\u001b[0m\u001b[0m\n",
            "\u001b[0;31mModuleNotFoundError\u001b[0m: No module named 'spacy.training'",
            "",
            "\u001b[0;31m---------------------------------------------------------------------------\u001b[0;32m\nNOTE: If your import is failing due to a missing package, you can\nmanually install dependencies using either !pip or !apt.\n\nTo view examples of installing some common dependencies, click the\n\"Open Examples\" button below.\n\u001b[0;31m---------------------------------------------------------------------------\u001b[0m\n"
          ],
          "errorDetails": {
            "actions": [
              {
                "action": "open_url",
                "actionText": "Open Examples",
                "url": "/notebooks/snippets/importing_libraries.ipynb"
              }
            ]
          }
        }
      ]
    },
    {
      "cell_type": "code",
      "source": [
        "import pandas as pd\n",
        "import spacy\n",
        "from sklearn.model_selection import train_test_split"
      ],
      "metadata": {
        "id": "HaCRl5ylyznj"
      },
      "execution_count": null,
      "outputs": []
    },
    {
      "cell_type": "code",
      "source": [
        "posts_df = pd.read_csv('./posts_scores_dates.csv')\n",
        "train_df, test_df = train_test_split(posts_df, random_state=20, stratify=posts_df['viral'])"
      ],
      "metadata": {
        "id": "ncQDN6laMbpq"
      },
      "execution_count": null,
      "outputs": []
    },
    {
      "cell_type": "code",
      "execution_count": null,
      "metadata": {
        "colab": {
          "base_uri": "https://localhost:8080/"
        },
        "id": "t2zuGlGyD9D4",
        "outputId": "f676606e-6e34-4b45-d215-12580a819a83"
      },
      "outputs": [
        {
          "output_type": "stream",
          "name": "stdout",
          "text": [
            "{'textcat': 165.59590898674847}\n",
            "{'textcat': 327.45672613504274}\n",
            "{'textcat': 488.6894359766405}\n",
            "{'textcat': 645.8258839023949}\n",
            "{'textcat': 792.9818615397359}\n"
          ]
        }
      ],
      "source": [
        "df= train_df\n",
        "nlp = spacy.blank(\"en\")\n",
        "config = {\n",
        "   \"threshold\": 0.5,\n",
        "   \"model\": DEFAULT_MULTI_TEXTCAT_MODEL,\n",
        "}\n",
        "\n",
        "textcat = nlp.add_pipe(\"textcat\", config=config)\n",
        "textcat.add_label(\"viral\")\n",
        "textcat.add_label(\"not_viral\")\n",
        "train_texts = df['title'].values\n",
        "train_labels = [{'cats': {'viral': label == 1,\n",
        "                          'not_viral': label == 0}}\n",
        "                for label in df['viral']]\n",
        "train_data = list(zip(train_texts, train_labels))\n",
        "spacy.util.fix_random_seed(1)\n",
        "optimizer = nlp.initialize()\n",
        "# Create the batch generator with batch size = 8\n",
        "batches = minibatch(train_data, size=8)\n",
        "\n",
        "# Iterate through minibatches\n",
        "TRAIN_DATA = train_data\n",
        "random.shuffle(TRAIN_DATA)\n",
        "losses = {}\n",
        "for batch in minibatch(TRAIN_DATA, size=8):\n",
        "    for text, annotations in batch:\n",
        "        doc = nlp.make_doc(text)\n",
        "        example = Example.from_dict(doc, annotations)\n",
        "        nlp.update([example], drop=0.35, sgd=optimizer, losses=losses)\n",
        "\n",
        "import random\n",
        "\n",
        "random.seed(1)\n",
        "spacy.util.fix_random_seed(1)\n",
        "optimizer = nlp.begin_training()\n",
        "\n",
        "losses = {}\n",
        "for epoch in range(5):\n",
        "    random.shuffle(train_data)\n",
        "    # Create the batch generator with batch size = 8\n",
        "    batches = minibatch(train_data, size=8)\n",
        "    # Iterate through minibatches\n",
        "    for batch in batches:\n",
        "        for text, annotations in batch:\n",
        "            doc = nlp.make_doc(text)\n",
        "            example = Example.from_dict(doc, annotations)\n",
        "            nlp.update([example], drop=0.35, sgd=optimizer, losses=losses)\n",
        "    print(losses)\n"
      ]
    },
    {
      "cell_type": "code",
      "source": [
        "texts = test_df['title']\n",
        "docs = [nlp.tokenizer(text) for text in texts]"
      ],
      "metadata": {
        "id": "B632noYtcany"
      },
      "execution_count": null,
      "outputs": []
    },
    {
      "cell_type": "code",
      "source": [
        "# Use textcat to get the scores for each doc\n",
        "textcat = nlp.get_pipe('textcat')\n",
        "scores = textcat.predict(docs)\n",
        "\n",
        "print(scores)\n",
        "predicted_labels = scores.argmax(axis=1)\n",
        "print([textcat.labels[label] for label in predicted_labels])"
      ],
      "metadata": {
        "colab": {
          "base_uri": "https://localhost:8080/"
        },
        "id": "z1FThs-FcZED",
        "outputId": "095d6ac5-2a28-451b-9b03-d74f9ad22deb"
      },
      "execution_count": null,
      "outputs": [
        {
          "output_type": "stream",
          "name": "stdout",
          "text": [
            "[[0.00227116 0.9975569 ]\n",
            " [0.00259717 0.99686533]\n",
            " [0.0053241  0.9950783 ]\n",
            " ...\n",
            " [0.00325172 0.99643075]\n",
            " [0.00237572 0.9974764 ]\n",
            " [0.00236876 0.9974564 ]]\n",
            "['not_viral', 'not_viral', 'not_viral', 'not_viral', 'not_viral', 'not_viral', 'not_viral', 'not_viral', 'not_viral', 'not_viral', 'not_viral', 'not_viral', 'not_viral', 'not_viral', 'not_viral', 'not_viral', 'not_viral', 'not_viral', 'not_viral', 'not_viral', 'not_viral', 'not_viral', 'not_viral', 'not_viral', 'not_viral', 'not_viral', 'not_viral', 'not_viral', 'not_viral', 'not_viral', 'not_viral', 'not_viral', 'not_viral', 'not_viral', 'not_viral', 'not_viral', 'not_viral', 'not_viral', 'not_viral', 'not_viral', 'not_viral', 'not_viral', 'not_viral', 'not_viral', 'not_viral', 'not_viral', 'not_viral', 'not_viral', 'not_viral', 'not_viral', 'not_viral', 'not_viral', 'not_viral', 'not_viral', 'not_viral', 'not_viral', 'not_viral', 'not_viral', 'not_viral', 'not_viral', 'not_viral', 'not_viral', 'not_viral', 'not_viral', 'not_viral', 'not_viral', 'not_viral', 'not_viral', 'not_viral', 'not_viral', 'not_viral', 'not_viral', 'not_viral', 'not_viral', 'not_viral', 'not_viral', 'not_viral', 'not_viral', 'not_viral', 'not_viral', 'not_viral', 'not_viral', 'not_viral', 'not_viral', 'not_viral', 'not_viral', 'not_viral', 'not_viral', 'not_viral', 'not_viral', 'not_viral', 'not_viral', 'not_viral', 'not_viral', 'not_viral', 'not_viral', 'not_viral', 'not_viral', 'not_viral', 'not_viral', 'not_viral', 'not_viral', 'not_viral', 'not_viral', 'not_viral', 'not_viral', 'not_viral', 'not_viral', 'not_viral', 'not_viral', 'not_viral', 'not_viral', 'not_viral', 'not_viral', 'not_viral', 'not_viral', 'not_viral', 'not_viral', 'not_viral', 'not_viral', 'not_viral', 'not_viral', 'not_viral', 'not_viral', 'not_viral', 'not_viral', 'not_viral', 'not_viral', 'not_viral', 'not_viral', 'not_viral', 'not_viral', 'not_viral', 'not_viral', 'not_viral', 'not_viral', 'not_viral', 'not_viral', 'not_viral', 'not_viral', 'not_viral', 'not_viral', 'not_viral', 'not_viral', 'not_viral', 'not_viral', 'not_viral', 'not_viral', 'not_viral', 'not_viral', 'not_viral', 'not_viral', 'not_viral', 'not_viral', 'not_viral', 'not_viral', 'not_viral', 'not_viral', 'not_viral', 'not_viral', 'not_viral', 'not_viral', 'not_viral', 'not_viral', 'not_viral', 'not_viral', 'not_viral', 'not_viral', 'not_viral', 'not_viral', 'not_viral', 'not_viral', 'not_viral', 'not_viral', 'not_viral', 'not_viral', 'not_viral', 'not_viral', 'not_viral', 'not_viral', 'not_viral', 'not_viral', 'not_viral', 'not_viral', 'not_viral', 'not_viral', 'not_viral', 'not_viral', 'not_viral', 'not_viral', 'not_viral', 'not_viral', 'not_viral', 'not_viral', 'not_viral', 'not_viral', 'not_viral', 'not_viral', 'not_viral', 'not_viral', 'not_viral', 'not_viral', 'not_viral', 'not_viral', 'not_viral', 'not_viral', 'not_viral', 'not_viral', 'not_viral', 'not_viral', 'not_viral', 'not_viral', 'not_viral', 'not_viral', 'not_viral', 'not_viral', 'not_viral', 'not_viral', 'not_viral', 'not_viral', 'not_viral', 'not_viral', 'not_viral', 'not_viral', 'not_viral', 'not_viral', 'not_viral', 'not_viral', 'not_viral', 'not_viral', 'not_viral', 'not_viral', 'not_viral', 'not_viral', 'not_viral', 'not_viral', 'not_viral', 'not_viral', 'not_viral', 'not_viral', 'not_viral', 'not_viral', 'not_viral', 'not_viral', 'not_viral', 'not_viral', 'not_viral', 'not_viral', 'not_viral', 'not_viral', 'not_viral', 'not_viral', 'not_viral', 'not_viral', 'not_viral', 'not_viral', 'not_viral', 'not_viral', 'not_viral', 'not_viral', 'not_viral', 'not_viral', 'not_viral', 'not_viral', 'not_viral', 'not_viral', 'not_viral', 'not_viral', 'not_viral', 'not_viral', 'not_viral', 'not_viral', 'not_viral', 'not_viral', 'not_viral', 'not_viral', 'not_viral', 'not_viral', 'not_viral', 'not_viral', 'not_viral', 'not_viral', 'not_viral', 'not_viral', 'not_viral', 'not_viral', 'not_viral', 'not_viral', 'not_viral', 'not_viral', 'not_viral', 'not_viral', 'not_viral', 'not_viral', 'not_viral', 'not_viral', 'not_viral', 'not_viral', 'not_viral', 'not_viral', 'not_viral', 'not_viral', 'not_viral', 'not_viral', 'not_viral', 'not_viral', 'not_viral', 'not_viral', 'not_viral', 'not_viral', 'not_viral', 'not_viral', 'not_viral', 'not_viral', 'not_viral', 'not_viral', 'not_viral', 'not_viral', 'not_viral', 'not_viral', 'not_viral', 'not_viral', 'not_viral', 'not_viral', 'not_viral', 'not_viral', 'not_viral', 'not_viral', 'not_viral', 'not_viral', 'not_viral', 'not_viral', 'not_viral', 'not_viral', 'not_viral', 'not_viral', 'not_viral', 'not_viral', 'not_viral', 'not_viral', 'not_viral', 'not_viral', 'not_viral', 'not_viral', 'not_viral', 'not_viral', 'not_viral', 'not_viral', 'not_viral', 'not_viral', 'not_viral', 'not_viral', 'not_viral', 'not_viral', 'not_viral', 'not_viral', 'not_viral', 'not_viral', 'not_viral', 'not_viral', 'not_viral', 'not_viral', 'not_viral', 'not_viral', 'not_viral', 'not_viral', 'not_viral', 'not_viral', 'not_viral', 'not_viral', 'not_viral', 'not_viral', 'not_viral', 'not_viral', 'not_viral', 'not_viral', 'not_viral', 'not_viral', 'not_viral', 'not_viral', 'not_viral', 'not_viral', 'not_viral', 'not_viral', 'not_viral', 'not_viral', 'not_viral', 'not_viral', 'not_viral', 'not_viral', 'not_viral', 'not_viral', 'not_viral', 'not_viral', 'not_viral', 'not_viral', 'not_viral', 'not_viral', 'not_viral', 'not_viral', 'not_viral', 'not_viral', 'not_viral', 'not_viral', 'not_viral', 'not_viral', 'not_viral', 'not_viral', 'not_viral', 'not_viral', 'not_viral', 'not_viral', 'not_viral', 'not_viral', 'not_viral', 'not_viral', 'not_viral', 'not_viral', 'not_viral', 'not_viral', 'not_viral', 'not_viral', 'not_viral', 'not_viral', 'not_viral', 'not_viral', 'not_viral', 'not_viral', 'not_viral', 'not_viral', 'not_viral', 'not_viral', 'not_viral', 'not_viral', 'not_viral', 'not_viral', 'not_viral', 'not_viral', 'not_viral', 'not_viral', 'not_viral', 'not_viral', 'not_viral', 'not_viral', 'not_viral', 'not_viral', 'not_viral', 'not_viral', 'not_viral', 'not_viral', 'not_viral', 'not_viral', 'not_viral', 'not_viral', 'not_viral', 'not_viral', 'not_viral', 'not_viral', 'not_viral', 'not_viral', 'not_viral', 'not_viral', 'not_viral', 'not_viral', 'not_viral', 'not_viral', 'not_viral', 'not_viral', 'not_viral', 'not_viral', 'not_viral', 'not_viral', 'not_viral', 'not_viral', 'not_viral', 'not_viral', 'not_viral', 'not_viral', 'not_viral', 'not_viral', 'not_viral', 'not_viral', 'not_viral', 'not_viral', 'not_viral', 'not_viral', 'not_viral', 'not_viral', 'not_viral', 'not_viral', 'not_viral', 'not_viral', 'not_viral', 'not_viral', 'not_viral', 'not_viral', 'not_viral', 'not_viral', 'not_viral', 'not_viral', 'not_viral', 'not_viral', 'not_viral', 'not_viral', 'not_viral', 'not_viral', 'not_viral', 'not_viral', 'not_viral', 'not_viral', 'not_viral', 'not_viral', 'not_viral', 'not_viral', 'not_viral', 'not_viral', 'not_viral', 'not_viral', 'not_viral', 'not_viral', 'not_viral', 'not_viral', 'not_viral', 'not_viral', 'not_viral', 'not_viral', 'not_viral', 'not_viral', 'not_viral', 'not_viral', 'not_viral', 'not_viral', 'not_viral', 'not_viral', 'not_viral', 'not_viral', 'not_viral', 'not_viral', 'not_viral', 'not_viral', 'not_viral', 'not_viral', 'not_viral', 'not_viral', 'not_viral', 'not_viral', 'not_viral', 'not_viral', 'not_viral', 'not_viral', 'not_viral', 'not_viral', 'not_viral', 'not_viral', 'not_viral', 'not_viral', 'not_viral', 'not_viral', 'not_viral', 'not_viral', 'not_viral', 'not_viral', 'not_viral', 'not_viral', 'not_viral', 'not_viral', 'not_viral', 'not_viral', 'not_viral', 'not_viral', 'not_viral', 'not_viral', 'not_viral', 'not_viral', 'not_viral', 'not_viral', 'not_viral', 'not_viral', 'not_viral', 'not_viral', 'not_viral', 'not_viral', 'not_viral', 'not_viral', 'not_viral', 'not_viral', 'not_viral', 'not_viral', 'not_viral', 'not_viral', 'not_viral', 'not_viral', 'not_viral', 'not_viral', 'not_viral', 'not_viral', 'not_viral', 'not_viral', 'not_viral', 'not_viral', 'not_viral', 'not_viral', 'not_viral', 'not_viral', 'not_viral', 'not_viral', 'not_viral', 'not_viral', 'not_viral', 'not_viral', 'not_viral', 'not_viral', 'not_viral', 'not_viral', 'not_viral', 'not_viral', 'not_viral', 'not_viral', 'not_viral', 'not_viral', 'not_viral', 'not_viral', 'not_viral', 'not_viral', 'not_viral', 'not_viral', 'not_viral', 'not_viral', 'not_viral', 'not_viral', 'not_viral', 'not_viral', 'not_viral', 'not_viral', 'not_viral', 'not_viral', 'not_viral', 'not_viral', 'not_viral', 'not_viral', 'not_viral', 'not_viral', 'not_viral', 'not_viral', 'not_viral', 'not_viral', 'not_viral', 'not_viral', 'not_viral', 'not_viral', 'not_viral', 'not_viral', 'not_viral', 'not_viral', 'not_viral', 'not_viral', 'not_viral', 'not_viral', 'not_viral', 'not_viral', 'not_viral', 'not_viral', 'not_viral', 'not_viral', 'not_viral', 'not_viral', 'not_viral', 'not_viral', 'not_viral', 'not_viral', 'not_viral', 'not_viral', 'not_viral', 'not_viral', 'not_viral', 'not_viral', 'not_viral', 'not_viral', 'not_viral', 'not_viral', 'not_viral', 'not_viral', 'not_viral', 'not_viral', 'not_viral', 'not_viral', 'not_viral', 'not_viral', 'not_viral', 'not_viral', 'not_viral', 'not_viral', 'not_viral', 'not_viral', 'not_viral', 'not_viral', 'not_viral', 'not_viral', 'not_viral', 'not_viral', 'not_viral', 'not_viral', 'not_viral', 'not_viral', 'not_viral', 'not_viral', 'not_viral', 'not_viral', 'not_viral', 'not_viral', 'not_viral', 'not_viral', 'not_viral', 'not_viral', 'not_viral', 'not_viral', 'not_viral', 'not_viral', 'not_viral', 'not_viral', 'not_viral', 'not_viral', 'not_viral', 'not_viral', 'not_viral', 'not_viral', 'not_viral', 'not_viral', 'not_viral', 'not_viral', 'not_viral', 'not_viral', 'not_viral', 'not_viral', 'not_viral', 'not_viral', 'not_viral', 'not_viral', 'not_viral', 'not_viral', 'not_viral', 'not_viral', 'not_viral', 'not_viral', 'not_viral', 'not_viral', 'not_viral', 'not_viral', 'not_viral', 'not_viral', 'not_viral', 'not_viral', 'not_viral', 'not_viral', 'not_viral', 'not_viral', 'not_viral', 'not_viral', 'not_viral', 'not_viral', 'not_viral', 'not_viral', 'not_viral', 'not_viral', 'not_viral', 'not_viral', 'not_viral', 'not_viral', 'not_viral', 'not_viral', 'not_viral', 'not_viral', 'not_viral', 'not_viral', 'not_viral', 'not_viral', 'not_viral', 'not_viral', 'not_viral', 'not_viral', 'not_viral', 'not_viral', 'not_viral', 'not_viral', 'not_viral', 'not_viral', 'not_viral', 'not_viral', 'not_viral', 'not_viral', 'not_viral', 'not_viral', 'not_viral', 'not_viral', 'not_viral', 'not_viral', 'not_viral', 'not_viral', 'not_viral', 'not_viral', 'not_viral', 'not_viral', 'not_viral', 'not_viral', 'not_viral', 'not_viral', 'not_viral', 'not_viral', 'not_viral', 'not_viral', 'not_viral', 'not_viral', 'not_viral', 'not_viral', 'not_viral', 'not_viral', 'not_viral', 'not_viral', 'not_viral', 'not_viral', 'not_viral', 'not_viral', 'not_viral', 'not_viral', 'not_viral', 'not_viral', 'not_viral', 'not_viral', 'not_viral', 'not_viral', 'not_viral', 'not_viral', 'not_viral', 'not_viral', 'not_viral', 'not_viral', 'not_viral', 'not_viral', 'not_viral', 'not_viral', 'not_viral', 'not_viral', 'not_viral', 'not_viral', 'not_viral', 'not_viral', 'not_viral', 'not_viral', 'not_viral', 'not_viral', 'not_viral', 'not_viral', 'not_viral', 'not_viral', 'not_viral', 'not_viral', 'not_viral', 'not_viral', 'not_viral', 'not_viral', 'not_viral', 'not_viral', 'not_viral', 'not_viral', 'not_viral', 'not_viral', 'not_viral', 'not_viral', 'not_viral', 'not_viral', 'not_viral', 'not_viral', 'not_viral', 'not_viral', 'not_viral', 'not_viral', 'not_viral', 'not_viral', 'not_viral', 'not_viral', 'not_viral', 'not_viral', 'not_viral', 'not_viral', 'not_viral', 'not_viral', 'not_viral', 'not_viral', 'not_viral', 'not_viral', 'not_viral', 'not_viral', 'not_viral', 'not_viral', 'not_viral', 'not_viral', 'not_viral', 'not_viral', 'not_viral', 'not_viral', 'not_viral', 'not_viral', 'not_viral', 'not_viral', 'not_viral', 'not_viral', 'not_viral', 'not_viral', 'not_viral', 'not_viral', 'not_viral', 'not_viral', 'not_viral', 'not_viral', 'not_viral', 'not_viral', 'not_viral', 'not_viral', 'not_viral', 'not_viral', 'not_viral', 'not_viral', 'not_viral', 'not_viral', 'not_viral', 'not_viral', 'not_viral', 'not_viral', 'not_viral', 'not_viral', 'not_viral', 'not_viral', 'not_viral', 'not_viral', 'not_viral', 'not_viral', 'not_viral', 'not_viral', 'not_viral', 'not_viral', 'not_viral', 'not_viral', 'not_viral', 'not_viral', 'not_viral', 'not_viral', 'not_viral', 'not_viral', 'not_viral', 'not_viral', 'not_viral', 'not_viral', 'not_viral', 'not_viral', 'not_viral', 'not_viral', 'not_viral', 'not_viral', 'not_viral', 'not_viral', 'not_viral', 'not_viral', 'not_viral', 'not_viral', 'not_viral', 'not_viral', 'not_viral', 'not_viral', 'not_viral', 'not_viral', 'not_viral', 'not_viral', 'not_viral', 'not_viral', 'not_viral', 'not_viral', 'not_viral', 'not_viral', 'not_viral', 'not_viral', 'not_viral', 'not_viral', 'not_viral', 'not_viral', 'not_viral', 'not_viral', 'not_viral', 'not_viral', 'not_viral', 'not_viral', 'not_viral', 'not_viral', 'not_viral', 'not_viral', 'not_viral', 'not_viral', 'not_viral', 'not_viral', 'not_viral', 'not_viral', 'not_viral', 'not_viral', 'not_viral', 'not_viral', 'not_viral', 'not_viral', 'not_viral', 'not_viral', 'not_viral', 'not_viral', 'not_viral', 'not_viral', 'not_viral', 'not_viral', 'not_viral', 'not_viral', 'not_viral', 'not_viral', 'not_viral', 'not_viral', 'not_viral', 'not_viral', 'not_viral', 'not_viral', 'not_viral', 'not_viral', 'not_viral', 'not_viral', 'not_viral', 'not_viral', 'not_viral', 'not_viral', 'not_viral', 'not_viral', 'not_viral', 'not_viral', 'not_viral', 'not_viral', 'not_viral', 'not_viral', 'not_viral', 'not_viral', 'not_viral', 'not_viral', 'not_viral', 'not_viral', 'not_viral', 'not_viral', 'not_viral', 'not_viral', 'not_viral', 'not_viral', 'not_viral', 'not_viral', 'not_viral', 'not_viral', 'not_viral', 'not_viral', 'not_viral', 'not_viral', 'not_viral', 'not_viral', 'not_viral', 'not_viral', 'not_viral', 'not_viral', 'not_viral', 'not_viral', 'not_viral', 'not_viral', 'not_viral', 'not_viral', 'not_viral', 'not_viral', 'not_viral', 'not_viral', 'not_viral', 'not_viral', 'not_viral', 'not_viral', 'not_viral', 'not_viral', 'not_viral', 'not_viral', 'not_viral', 'not_viral', 'not_viral', 'not_viral', 'not_viral', 'not_viral', 'not_viral', 'not_viral', 'not_viral', 'not_viral', 'not_viral', 'not_viral', 'not_viral', 'not_viral', 'not_viral', 'not_viral', 'not_viral', 'not_viral', 'not_viral', 'not_viral', 'not_viral', 'not_viral', 'not_viral', 'not_viral', 'not_viral', 'not_viral', 'not_viral', 'not_viral', 'not_viral', 'not_viral', 'not_viral', 'not_viral', 'not_viral', 'not_viral', 'not_viral', 'not_viral', 'not_viral', 'not_viral', 'not_viral', 'not_viral', 'not_viral', 'not_viral', 'not_viral', 'not_viral', 'not_viral', 'not_viral', 'not_viral', 'not_viral', 'not_viral', 'not_viral', 'not_viral', 'not_viral', 'not_viral', 'not_viral', 'not_viral', 'not_viral', 'not_viral', 'not_viral', 'not_viral', 'not_viral', 'not_viral', 'not_viral', 'not_viral', 'not_viral', 'not_viral', 'not_viral', 'not_viral', 'not_viral', 'not_viral', 'not_viral', 'not_viral', 'not_viral', 'not_viral', 'not_viral', 'not_viral', 'not_viral', 'not_viral', 'not_viral', 'not_viral', 'not_viral', 'not_viral', 'not_viral', 'not_viral', 'not_viral', 'not_viral', 'not_viral', 'not_viral', 'not_viral', 'not_viral', 'not_viral', 'not_viral', 'not_viral', 'not_viral', 'not_viral', 'not_viral', 'not_viral', 'not_viral', 'not_viral', 'not_viral', 'not_viral', 'not_viral', 'not_viral', 'not_viral', 'not_viral', 'not_viral', 'not_viral', 'not_viral', 'not_viral', 'not_viral', 'not_viral', 'not_viral', 'not_viral', 'not_viral', 'not_viral', 'not_viral', 'not_viral', 'not_viral', 'not_viral', 'not_viral', 'not_viral', 'not_viral', 'not_viral', 'not_viral', 'not_viral', 'not_viral', 'not_viral', 'not_viral', 'not_viral', 'not_viral', 'not_viral', 'not_viral', 'not_viral', 'not_viral', 'not_viral', 'not_viral', 'not_viral', 'not_viral', 'not_viral', 'not_viral', 'not_viral', 'not_viral', 'not_viral', 'not_viral', 'not_viral', 'not_viral', 'not_viral', 'not_viral', 'not_viral', 'not_viral', 'not_viral', 'not_viral', 'not_viral', 'not_viral', 'not_viral', 'not_viral', 'not_viral', 'not_viral', 'not_viral', 'not_viral', 'not_viral', 'not_viral', 'not_viral', 'not_viral', 'not_viral', 'not_viral', 'not_viral', 'not_viral', 'not_viral', 'not_viral', 'not_viral', 'not_viral', 'not_viral', 'not_viral', 'not_viral', 'not_viral', 'not_viral', 'not_viral', 'not_viral', 'not_viral', 'not_viral', 'not_viral', 'not_viral', 'not_viral', 'not_viral', 'not_viral', 'not_viral', 'not_viral', 'not_viral', 'not_viral', 'not_viral', 'not_viral', 'not_viral', 'not_viral', 'not_viral', 'not_viral', 'not_viral', 'not_viral', 'not_viral', 'not_viral', 'not_viral', 'not_viral', 'not_viral', 'not_viral', 'not_viral', 'not_viral', 'not_viral', 'not_viral', 'not_viral', 'not_viral', 'not_viral', 'not_viral', 'not_viral', 'not_viral', 'not_viral', 'not_viral', 'not_viral', 'not_viral', 'not_viral', 'not_viral', 'not_viral', 'not_viral', 'not_viral', 'not_viral', 'not_viral', 'not_viral', 'not_viral', 'not_viral', 'not_viral', 'not_viral', 'not_viral', 'not_viral', 'not_viral', 'not_viral', 'not_viral', 'not_viral', 'not_viral', 'not_viral', 'not_viral', 'not_viral', 'not_viral', 'not_viral', 'not_viral', 'not_viral', 'not_viral', 'not_viral', 'not_viral', 'not_viral', 'not_viral', 'not_viral', 'not_viral', 'not_viral', 'not_viral', 'not_viral', 'not_viral', 'not_viral', 'not_viral', 'not_viral', 'not_viral', 'not_viral', 'not_viral', 'not_viral', 'not_viral', 'not_viral', 'not_viral', 'not_viral', 'not_viral', 'not_viral', 'not_viral', 'not_viral', 'not_viral', 'not_viral', 'not_viral', 'not_viral', 'not_viral', 'not_viral', 'not_viral', 'not_viral', 'not_viral', 'not_viral', 'not_viral', 'not_viral', 'not_viral', 'not_viral', 'not_viral', 'not_viral', 'not_viral', 'not_viral', 'not_viral', 'not_viral', 'not_viral', 'not_viral', 'not_viral', 'not_viral', 'not_viral', 'not_viral', 'not_viral', 'not_viral', 'not_viral', 'not_viral', 'not_viral', 'not_viral', 'not_viral', 'not_viral', 'not_viral', 'not_viral', 'not_viral', 'not_viral', 'not_viral', 'not_viral', 'not_viral', 'not_viral', 'not_viral', 'not_viral', 'not_viral', 'not_viral', 'not_viral', 'not_viral', 'not_viral', 'not_viral', 'not_viral', 'not_viral', 'not_viral', 'not_viral', 'not_viral', 'not_viral', 'not_viral', 'not_viral', 'not_viral', 'not_viral', 'not_viral', 'not_viral', 'not_viral', 'not_viral', 'not_viral', 'not_viral', 'not_viral', 'not_viral', 'not_viral', 'not_viral', 'not_viral', 'not_viral', 'not_viral', 'not_viral', 'not_viral', 'not_viral', 'not_viral', 'not_viral', 'not_viral', 'not_viral', 'not_viral', 'not_viral', 'not_viral', 'not_viral', 'not_viral', 'not_viral', 'not_viral', 'not_viral', 'not_viral', 'not_viral', 'not_viral', 'not_viral', 'not_viral', 'not_viral', 'not_viral', 'not_viral', 'not_viral', 'not_viral', 'not_viral', 'not_viral', 'not_viral', 'not_viral', 'not_viral', 'not_viral', 'not_viral', 'not_viral', 'not_viral', 'not_viral', 'not_viral', 'not_viral', 'not_viral', 'not_viral', 'not_viral', 'not_viral', 'not_viral', 'not_viral', 'not_viral', 'not_viral', 'not_viral', 'not_viral', 'not_viral', 'not_viral', 'not_viral', 'not_viral', 'not_viral', 'not_viral', 'not_viral', 'not_viral', 'not_viral', 'not_viral', 'not_viral', 'not_viral', 'not_viral', 'not_viral', 'not_viral', 'not_viral', 'not_viral', 'not_viral', 'not_viral', 'not_viral', 'not_viral', 'not_viral', 'not_viral', 'not_viral', 'not_viral', 'not_viral', 'not_viral', 'not_viral', 'not_viral', 'not_viral', 'not_viral', 'not_viral', 'not_viral', 'not_viral', 'not_viral', 'not_viral', 'not_viral', 'not_viral', 'not_viral', 'not_viral', 'not_viral', 'not_viral', 'not_viral', 'not_viral', 'not_viral', 'not_viral', 'not_viral', 'not_viral', 'not_viral', 'not_viral', 'not_viral', 'not_viral', 'not_viral', 'not_viral', 'not_viral', 'not_viral', 'not_viral', 'not_viral', 'not_viral', 'not_viral', 'not_viral', 'not_viral', 'not_viral', 'not_viral', 'not_viral', 'not_viral', 'not_viral', 'not_viral', 'not_viral', 'not_viral', 'not_viral', 'not_viral', 'not_viral', 'not_viral', 'not_viral', 'not_viral', 'not_viral', 'not_viral', 'not_viral', 'not_viral', 'not_viral', 'not_viral', 'not_viral', 'not_viral', 'not_viral', 'not_viral', 'not_viral', 'not_viral', 'not_viral', 'not_viral', 'not_viral', 'not_viral', 'not_viral', 'not_viral', 'not_viral', 'not_viral', 'not_viral', 'not_viral', 'not_viral', 'not_viral', 'not_viral', 'not_viral', 'not_viral', 'not_viral', 'not_viral', 'not_viral', 'not_viral', 'not_viral', 'not_viral', 'not_viral', 'not_viral', 'not_viral', 'not_viral', 'not_viral', 'not_viral', 'not_viral', 'not_viral', 'not_viral', 'not_viral', 'not_viral', 'not_viral', 'not_viral', 'not_viral', 'not_viral', 'not_viral', 'not_viral', 'not_viral', 'not_viral', 'not_viral', 'not_viral', 'not_viral', 'not_viral', 'not_viral', 'not_viral', 'not_viral', 'not_viral', 'not_viral', 'not_viral', 'not_viral', 'not_viral', 'not_viral', 'not_viral', 'not_viral', 'not_viral', 'not_viral', 'not_viral', 'not_viral', 'not_viral', 'not_viral', 'not_viral', 'not_viral', 'not_viral', 'not_viral', 'not_viral', 'not_viral', 'not_viral', 'not_viral', 'not_viral', 'not_viral', 'not_viral', 'not_viral', 'not_viral', 'not_viral', 'not_viral', 'not_viral', 'not_viral', 'not_viral', 'not_viral', 'not_viral', 'not_viral', 'not_viral', 'not_viral', 'not_viral', 'not_viral', 'not_viral', 'not_viral', 'not_viral', 'not_viral', 'not_viral', 'not_viral', 'not_viral', 'not_viral', 'not_viral', 'not_viral', 'not_viral', 'not_viral', 'not_viral', 'not_viral', 'not_viral', 'not_viral', 'not_viral', 'not_viral', 'not_viral', 'not_viral', 'not_viral', 'not_viral', 'not_viral', 'not_viral', 'not_viral', 'not_viral', 'not_viral', 'not_viral', 'not_viral', 'not_viral', 'not_viral', 'not_viral', 'not_viral', 'not_viral', 'not_viral', 'not_viral', 'not_viral', 'not_viral', 'not_viral', 'not_viral', 'not_viral', 'not_viral', 'not_viral', 'not_viral', 'not_viral', 'not_viral', 'not_viral', 'not_viral', 'not_viral', 'not_viral', 'not_viral', 'not_viral', 'not_viral', 'not_viral', 'not_viral', 'not_viral', 'not_viral', 'not_viral', 'not_viral', 'not_viral', 'not_viral', 'not_viral', 'not_viral', 'not_viral', 'not_viral', 'not_viral', 'not_viral', 'not_viral', 'not_viral', 'not_viral', 'not_viral', 'not_viral', 'not_viral', 'not_viral', 'not_viral', 'not_viral', 'not_viral', 'not_viral', 'not_viral', 'not_viral', 'not_viral', 'not_viral', 'not_viral', 'not_viral', 'not_viral', 'not_viral', 'not_viral', 'not_viral', 'not_viral', 'not_viral', 'not_viral', 'not_viral', 'not_viral', 'not_viral', 'not_viral', 'not_viral', 'not_viral', 'not_viral', 'not_viral', 'not_viral', 'not_viral', 'not_viral', 'not_viral', 'not_viral', 'not_viral', 'not_viral', 'not_viral', 'not_viral', 'not_viral', 'not_viral', 'not_viral', 'not_viral', 'not_viral', 'not_viral', 'not_viral', 'not_viral', 'not_viral', 'not_viral', 'not_viral', 'not_viral', 'not_viral', 'not_viral', 'not_viral', 'not_viral', 'not_viral', 'not_viral', 'not_viral', 'not_viral', 'not_viral', 'not_viral', 'not_viral', 'not_viral', 'not_viral', 'not_viral', 'not_viral', 'not_viral', 'not_viral', 'not_viral', 'not_viral', 'not_viral', 'not_viral', 'not_viral', 'not_viral', 'not_viral', 'not_viral', 'not_viral', 'not_viral', 'not_viral', 'not_viral', 'not_viral', 'not_viral', 'not_viral', 'not_viral', 'not_viral', 'not_viral', 'not_viral', 'not_viral', 'not_viral', 'not_viral', 'not_viral', 'not_viral', 'not_viral', 'not_viral', 'not_viral', 'not_viral', 'not_viral', 'not_viral', 'not_viral', 'not_viral', 'not_viral', 'not_viral', 'not_viral', 'not_viral', 'not_viral', 'not_viral', 'not_viral', 'not_viral', 'not_viral', 'not_viral', 'not_viral', 'not_viral', 'not_viral', 'not_viral', 'not_viral', 'not_viral', 'not_viral', 'not_viral', 'not_viral', 'not_viral', 'not_viral', 'not_viral', 'not_viral', 'not_viral', 'not_viral', 'not_viral', 'not_viral', 'not_viral', 'not_viral', 'not_viral', 'not_viral', 'not_viral', 'not_viral', 'not_viral', 'not_viral', 'not_viral', 'not_viral', 'not_viral', 'not_viral', 'not_viral', 'not_viral', 'not_viral', 'not_viral', 'not_viral', 'not_viral', 'not_viral', 'not_viral', 'not_viral', 'not_viral', 'not_viral', 'not_viral', 'not_viral', 'not_viral', 'not_viral', 'not_viral', 'not_viral', 'not_viral', 'not_viral', 'not_viral', 'not_viral', 'not_viral', 'not_viral', 'not_viral', 'not_viral', 'not_viral', 'not_viral', 'not_viral', 'not_viral', 'not_viral', 'not_viral', 'not_viral', 'not_viral', 'not_viral', 'not_viral', 'not_viral', 'not_viral', 'not_viral', 'not_viral', 'not_viral', 'not_viral', 'not_viral', 'not_viral', 'not_viral', 'not_viral', 'not_viral', 'not_viral', 'not_viral', 'not_viral', 'not_viral', 'not_viral', 'not_viral', 'not_viral', 'not_viral', 'not_viral', 'not_viral', 'not_viral', 'not_viral', 'not_viral', 'not_viral', 'not_viral', 'not_viral', 'not_viral', 'not_viral', 'not_viral', 'not_viral', 'not_viral', 'not_viral', 'not_viral', 'not_viral', 'not_viral', 'not_viral', 'not_viral', 'not_viral', 'not_viral', 'not_viral', 'not_viral', 'not_viral', 'not_viral', 'not_viral', 'not_viral', 'not_viral', 'not_viral', 'not_viral', 'not_viral', 'not_viral', 'not_viral', 'not_viral', 'not_viral', 'not_viral', 'not_viral', 'not_viral', 'not_viral', 'not_viral', 'not_viral', 'not_viral', 'not_viral', 'not_viral', 'not_viral', 'not_viral', 'not_viral', 'not_viral', 'not_viral', 'not_viral', 'not_viral', 'not_viral', 'not_viral', 'not_viral', 'not_viral', 'not_viral', 'not_viral', 'not_viral', 'not_viral', 'not_viral', 'not_viral', 'not_viral', 'not_viral', 'not_viral', 'not_viral', 'not_viral', 'not_viral', 'not_viral', 'not_viral', 'not_viral', 'not_viral', 'not_viral', 'not_viral', 'not_viral', 'not_viral', 'not_viral', 'not_viral', 'not_viral', 'not_viral', 'not_viral', 'not_viral', 'not_viral', 'not_viral', 'not_viral', 'not_viral', 'not_viral', 'not_viral', 'not_viral', 'not_viral', 'not_viral', 'not_viral', 'not_viral', 'not_viral', 'not_viral', 'not_viral', 'not_viral', 'not_viral', 'not_viral', 'not_viral', 'not_viral', 'not_viral', 'not_viral', 'not_viral', 'not_viral', 'not_viral', 'not_viral', 'not_viral', 'not_viral', 'not_viral', 'not_viral', 'not_viral', 'not_viral', 'not_viral', 'not_viral', 'not_viral', 'not_viral', 'not_viral', 'not_viral', 'not_viral', 'not_viral', 'not_viral', 'not_viral', 'not_viral', 'not_viral', 'not_viral', 'not_viral', 'not_viral', 'not_viral', 'not_viral', 'not_viral', 'not_viral', 'not_viral', 'not_viral', 'not_viral', 'not_viral', 'not_viral', 'not_viral', 'not_viral', 'not_viral', 'not_viral', 'not_viral', 'not_viral', 'not_viral', 'not_viral', 'not_viral', 'not_viral', 'not_viral', 'not_viral', 'not_viral', 'not_viral', 'not_viral', 'not_viral', 'not_viral', 'not_viral', 'not_viral', 'not_viral', 'not_viral', 'not_viral', 'not_viral', 'not_viral', 'not_viral', 'not_viral', 'not_viral', 'not_viral', 'not_viral', 'not_viral', 'not_viral', 'not_viral', 'not_viral', 'not_viral', 'not_viral', 'not_viral', 'not_viral', 'not_viral', 'not_viral', 'not_viral', 'not_viral', 'not_viral', 'not_viral', 'not_viral', 'not_viral', 'not_viral', 'not_viral', 'not_viral', 'not_viral', 'not_viral', 'not_viral', 'not_viral', 'not_viral', 'not_viral', 'not_viral', 'not_viral', 'not_viral', 'not_viral', 'not_viral', 'not_viral', 'not_viral', 'not_viral', 'not_viral', 'not_viral', 'not_viral', 'not_viral', 'not_viral', 'not_viral', 'not_viral', 'not_viral', 'not_viral', 'not_viral', 'not_viral', 'not_viral', 'not_viral', 'not_viral', 'not_viral', 'not_viral', 'not_viral', 'not_viral', 'not_viral', 'not_viral', 'not_viral', 'not_viral', 'not_viral', 'not_viral', 'not_viral', 'not_viral', 'not_viral', 'not_viral', 'not_viral', 'not_viral', 'not_viral', 'not_viral', 'not_viral', 'not_viral', 'not_viral', 'not_viral', 'not_viral', 'not_viral', 'not_viral', 'not_viral', 'not_viral', 'not_viral', 'not_viral', 'not_viral', 'not_viral', 'not_viral', 'not_viral', 'not_viral', 'not_viral', 'not_viral', 'not_viral', 'not_viral', 'not_viral', 'not_viral', 'not_viral', 'not_viral', 'not_viral', 'not_viral', 'not_viral', 'not_viral', 'not_viral', 'not_viral', 'not_viral', 'not_viral', 'not_viral', 'not_viral', 'not_viral', 'not_viral', 'not_viral', 'not_viral', 'not_viral', 'not_viral', 'not_viral', 'not_viral', 'not_viral', 'not_viral', 'not_viral', 'not_viral', 'not_viral', 'not_viral', 'not_viral', 'not_viral', 'not_viral', 'not_viral', 'not_viral', 'not_viral', 'not_viral', 'not_viral', 'not_viral', 'not_viral', 'not_viral', 'not_viral', 'not_viral', 'not_viral', 'not_viral', 'not_viral', 'not_viral', 'not_viral', 'not_viral', 'not_viral', 'not_viral', 'not_viral', 'not_viral', 'not_viral', 'not_viral', 'not_viral', 'not_viral', 'not_viral', 'not_viral', 'not_viral', 'not_viral', 'not_viral', 'not_viral', 'not_viral', 'not_viral', 'not_viral', 'not_viral', 'not_viral', 'not_viral', 'not_viral', 'not_viral', 'not_viral', 'not_viral', 'not_viral', 'not_viral', 'not_viral', 'not_viral', 'not_viral', 'not_viral', 'not_viral', 'not_viral', 'not_viral', 'not_viral', 'not_viral', 'not_viral', 'not_viral', 'not_viral', 'not_viral', 'not_viral', 'not_viral', 'not_viral', 'not_viral', 'not_viral', 'not_viral', 'not_viral', 'not_viral', 'not_viral', 'not_viral', 'not_viral', 'not_viral', 'not_viral', 'not_viral', 'not_viral', 'not_viral', 'not_viral', 'not_viral', 'not_viral', 'not_viral', 'not_viral', 'not_viral', 'not_viral', 'not_viral', 'not_viral', 'not_viral', 'not_viral', 'not_viral', 'not_viral', 'not_viral', 'not_viral', 'not_viral', 'not_viral', 'not_viral', 'not_viral', 'not_viral', 'not_viral', 'not_viral', 'not_viral', 'not_viral', 'not_viral', 'not_viral', 'not_viral', 'not_viral', 'not_viral', 'not_viral', 'not_viral', 'not_viral', 'not_viral', 'not_viral', 'not_viral', 'not_viral', 'not_viral', 'not_viral', 'not_viral', 'not_viral', 'not_viral', 'not_viral', 'not_viral', 'not_viral', 'not_viral', 'not_viral', 'not_viral', 'not_viral', 'not_viral', 'not_viral', 'not_viral', 'not_viral', 'not_viral', 'not_viral', 'not_viral', 'not_viral', 'not_viral', 'not_viral', 'not_viral', 'not_viral', 'not_viral', 'not_viral', 'not_viral', 'not_viral', 'not_viral', 'not_viral', 'not_viral', 'not_viral', 'not_viral', 'not_viral', 'not_viral', 'not_viral', 'not_viral', 'not_viral', 'not_viral', 'not_viral', 'not_viral', 'not_viral', 'not_viral', 'not_viral', 'not_viral', 'not_viral', 'not_viral', 'not_viral', 'not_viral', 'not_viral', 'not_viral', 'not_viral', 'not_viral', 'not_viral', 'not_viral', 'not_viral', 'not_viral', 'not_viral', 'not_viral', 'not_viral', 'not_viral', 'not_viral', 'not_viral', 'not_viral', 'not_viral', 'not_viral', 'not_viral', 'not_viral', 'not_viral', 'not_viral', 'not_viral', 'not_viral', 'not_viral', 'not_viral', 'not_viral', 'not_viral', 'not_viral', 'not_viral', 'not_viral', 'not_viral', 'not_viral', 'not_viral', 'not_viral', 'not_viral', 'not_viral', 'not_viral', 'not_viral', 'not_viral', 'not_viral', 'not_viral', 'not_viral', 'not_viral', 'not_viral', 'not_viral', 'not_viral', 'not_viral', 'not_viral', 'not_viral', 'not_viral', 'not_viral', 'not_viral', 'not_viral', 'not_viral', 'not_viral', 'not_viral', 'not_viral', 'not_viral', 'not_viral', 'not_viral', 'not_viral', 'not_viral', 'not_viral', 'not_viral', 'not_viral', 'not_viral', 'not_viral', 'not_viral', 'not_viral', 'not_viral', 'not_viral', 'not_viral', 'not_viral', 'not_viral', 'not_viral', 'not_viral', 'not_viral', 'not_viral', 'not_viral', 'not_viral', 'not_viral', 'not_viral', 'not_viral', 'not_viral', 'not_viral', 'not_viral', 'not_viral', 'not_viral', 'not_viral', 'not_viral', 'not_viral', 'not_viral', 'not_viral', 'not_viral', 'not_viral', 'not_viral', 'not_viral', 'not_viral', 'not_viral', 'not_viral', 'not_viral', 'not_viral', 'not_viral', 'not_viral', 'not_viral', 'not_viral', 'not_viral', 'not_viral', 'not_viral', 'not_viral', 'not_viral', 'not_viral', 'not_viral', 'not_viral', 'not_viral', 'not_viral', 'not_viral', 'not_viral', 'not_viral', 'not_viral', 'not_viral', 'not_viral', 'not_viral', 'not_viral', 'not_viral', 'not_viral', 'not_viral', 'not_viral', 'not_viral', 'not_viral', 'not_viral', 'not_viral', 'not_viral', 'not_viral', 'not_viral', 'not_viral', 'not_viral', 'not_viral', 'not_viral', 'not_viral', 'not_viral', 'not_viral', 'not_viral', 'not_viral', 'not_viral', 'not_viral', 'not_viral', 'not_viral', 'not_viral', 'not_viral', 'not_viral', 'not_viral', 'not_viral', 'not_viral', 'not_viral', 'not_viral', 'not_viral', 'not_viral', 'not_viral', 'not_viral', 'not_viral', 'not_viral', 'not_viral', 'not_viral', 'not_viral', 'not_viral', 'not_viral', 'not_viral', 'not_viral', 'not_viral', 'not_viral', 'not_viral', 'not_viral', 'not_viral', 'not_viral', 'not_viral', 'not_viral', 'not_viral', 'not_viral', 'not_viral', 'not_viral', 'not_viral', 'not_viral', 'not_viral', 'not_viral', 'not_viral', 'not_viral', 'not_viral', 'not_viral', 'not_viral', 'not_viral', 'not_viral', 'not_viral', 'not_viral', 'not_viral', 'not_viral', 'not_viral', 'not_viral', 'not_viral', 'not_viral', 'not_viral', 'not_viral', 'not_viral', 'not_viral', 'not_viral', 'not_viral', 'not_viral', 'not_viral', 'not_viral', 'not_viral', 'not_viral', 'not_viral', 'not_viral', 'not_viral', 'not_viral', 'not_viral', 'not_viral', 'not_viral', 'not_viral', 'not_viral', 'not_viral', 'not_viral', 'not_viral', 'not_viral', 'not_viral', 'not_viral', 'not_viral', 'not_viral', 'not_viral', 'not_viral', 'not_viral', 'not_viral', 'not_viral', 'not_viral', 'not_viral', 'not_viral', 'not_viral', 'not_viral', 'not_viral', 'not_viral', 'not_viral', 'not_viral', 'not_viral', 'not_viral', 'not_viral', 'not_viral', 'not_viral', 'not_viral', 'not_viral', 'not_viral', 'not_viral', 'not_viral', 'not_viral', 'not_viral', 'not_viral', 'not_viral', 'not_viral', 'not_viral', 'not_viral', 'not_viral', 'not_viral', 'not_viral', 'not_viral', 'not_viral', 'not_viral', 'not_viral', 'not_viral', 'not_viral', 'not_viral', 'not_viral', 'not_viral', 'not_viral', 'not_viral', 'not_viral', 'not_viral', 'not_viral', 'not_viral', 'not_viral', 'not_viral', 'not_viral', 'not_viral', 'not_viral', 'not_viral', 'not_viral', 'not_viral', 'not_viral', 'not_viral', 'not_viral', 'not_viral', 'not_viral', 'not_viral', 'not_viral', 'not_viral', 'not_viral', 'not_viral', 'not_viral', 'not_viral', 'not_viral', 'not_viral', 'not_viral', 'not_viral', 'not_viral', 'not_viral', 'not_viral', 'not_viral', 'not_viral', 'not_viral', 'not_viral', 'not_viral', 'not_viral', 'not_viral', 'not_viral', 'not_viral', 'not_viral', 'not_viral', 'not_viral', 'not_viral', 'not_viral', 'not_viral', 'not_viral', 'not_viral', 'not_viral', 'not_viral', 'not_viral', 'not_viral', 'not_viral', 'not_viral', 'not_viral', 'not_viral', 'not_viral', 'not_viral', 'not_viral', 'not_viral', 'not_viral', 'not_viral', 'not_viral', 'not_viral', 'not_viral', 'not_viral', 'not_viral', 'not_viral', 'not_viral', 'not_viral', 'not_viral', 'not_viral', 'not_viral', 'not_viral', 'not_viral', 'not_viral', 'not_viral', 'not_viral', 'not_viral', 'not_viral']\n"
          ]
        }
      ]
    },
    {
      "cell_type": "code",
      "source": [
        "len(textcat.predict(docs))"
      ],
      "metadata": {
        "colab": {
          "base_uri": "https://localhost:8080/"
        },
        "id": "g_PtYi0jG3mn",
        "outputId": "16ef8aa3-3368-4710-d395-50274536257e"
      },
      "execution_count": null,
      "outputs": [
        {
          "output_type": "execute_result",
          "data": {
            "text/plain": [
              "100"
            ]
          },
          "metadata": {},
          "execution_count": 15
        }
      ]
    },
    {
      "cell_type": "code",
      "source": [
        "[textcat.labels[label] for label in predicted_labels][:2]"
      ],
      "metadata": {
        "colab": {
          "base_uri": "https://localhost:8080/"
        },
        "id": "GZ0vJTEkNpl3",
        "outputId": "0325f71d-e96a-46f4-93a0-738185675ad7"
      },
      "execution_count": null,
      "outputs": [
        {
          "output_type": "execute_result",
          "data": {
            "text/plain": [
              "['not_viral', 'not_viral']"
            ]
          },
          "metadata": {},
          "execution_count": 43
        }
      ]
    },
    {
      "cell_type": "code",
      "source": [
        "textcat.predict([nlp.tokenizer(text) for text in test_df['title']]).argmax(axis=1)"
      ],
      "metadata": {
        "colab": {
          "base_uri": "https://localhost:8080/"
        },
        "id": "Sq4oALiNXs4H",
        "outputId": "7aad6963-eadf-4351-c606-e112532010df"
      },
      "execution_count": null,
      "outputs": [
        {
          "output_type": "execute_result",
          "data": {
            "text/plain": [
              "array([1, 1, 1, ..., 1, 1, 1])"
            ]
          },
          "metadata": {},
          "execution_count": 34
        }
      ]
    },
    {
      "cell_type": "code",
      "source": [
        "[textcat.labels[label] for label in textcat.predict([nlp.tokenizer(text) for text in test_df['title']]).argmax(axis=1)][:2]"
      ],
      "metadata": {
        "colab": {
          "base_uri": "https://localhost:8080/"
        },
        "id": "jc4m4cZ8Xz_m",
        "outputId": "d039af36-e71b-47a3-c7f6-926b7255e7a5"
      },
      "execution_count": null,
      "outputs": [
        {
          "output_type": "execute_result",
          "data": {
            "text/plain": [
              "['not_viral', 'not_viral']"
            ]
          },
          "metadata": {},
          "execution_count": 35
        }
      ]
    },
    {
      "cell_type": "code",
      "source": [
        "textcat.score([nlp.tokenizer(text) for text in test_df['title']])"
      ],
      "metadata": {
        "colab": {
          "base_uri": "https://localhost:8080/",
          "height": 324
        },
        "id": "W5KTFrNmZG-1",
        "outputId": "e0893626-9fa0-4ca2-a94d-10c3f59cb299"
      },
      "execution_count": null,
      "outputs": [
        {
          "output_type": "error",
          "ename": "AttributeError",
          "evalue": "ignored",
          "traceback": [
            "\u001b[0;31m---------------------------------------------------------------------------\u001b[0m",
            "\u001b[0;31mAttributeError\u001b[0m                            Traceback (most recent call last)",
            "\u001b[0;32m<ipython-input-38-fa3ee8499536>\u001b[0m in \u001b[0;36m<module>\u001b[0;34m()\u001b[0m\n\u001b[0;32m----> 1\u001b[0;31m \u001b[0mtextcat\u001b[0m\u001b[0;34m.\u001b[0m\u001b[0mscore\u001b[0m\u001b[0;34m(\u001b[0m\u001b[0;34m[\u001b[0m\u001b[0mnlp\u001b[0m\u001b[0;34m.\u001b[0m\u001b[0mtokenizer\u001b[0m\u001b[0;34m(\u001b[0m\u001b[0mtext\u001b[0m\u001b[0;34m)\u001b[0m \u001b[0;32mfor\u001b[0m \u001b[0mtext\u001b[0m \u001b[0;32min\u001b[0m \u001b[0mtest_df\u001b[0m\u001b[0;34m[\u001b[0m\u001b[0;34m'title'\u001b[0m\u001b[0;34m]\u001b[0m\u001b[0;34m]\u001b[0m\u001b[0;34m)\u001b[0m\u001b[0;34m\u001b[0m\u001b[0;34m\u001b[0m\u001b[0m\n\u001b[0m",
            "\u001b[0;32m/usr/local/lib/python3.7/dist-packages/spacy/pipeline/pipe.pyx\u001b[0m in \u001b[0;36mspacy.pipeline.pipe.Pipe.score\u001b[0;34m()\u001b[0m\n",
            "\u001b[0;32m/usr/local/lib/python3.7/dist-packages/spacy/pipeline/textcat.py\u001b[0m in \u001b[0;36mtextcat_score\u001b[0;34m(examples, **kwargs)\u001b[0m\n\u001b[1;32m    115\u001b[0m         \u001b[0;34m\"cats\"\u001b[0m\u001b[0;34m,\u001b[0m\u001b[0;34m\u001b[0m\u001b[0;34m\u001b[0m\u001b[0m\n\u001b[1;32m    116\u001b[0m         \u001b[0mmulti_label\u001b[0m\u001b[0;34m=\u001b[0m\u001b[0;32mFalse\u001b[0m\u001b[0;34m,\u001b[0m\u001b[0;34m\u001b[0m\u001b[0;34m\u001b[0m\u001b[0m\n\u001b[0;32m--> 117\u001b[0;31m         \u001b[0;34m**\u001b[0m\u001b[0mkwargs\u001b[0m\u001b[0;34m,\u001b[0m\u001b[0;34m\u001b[0m\u001b[0;34m\u001b[0m\u001b[0m\n\u001b[0m\u001b[1;32m    118\u001b[0m     )\n\u001b[1;32m    119\u001b[0m \u001b[0;34m\u001b[0m\u001b[0m\n",
            "\u001b[0;32m/usr/local/lib/python3.7/dist-packages/spacy/scorer.py\u001b[0m in \u001b[0;36mscore_cats\u001b[0;34m(examples, attr, getter, labels, multi_label, positive_label, threshold, **cfg)\u001b[0m\n\u001b[1;32m    477\u001b[0m         \u001b[0;32mif\u001b[0m \u001b[0mlabels\u001b[0m\u001b[0;34m:\u001b[0m\u001b[0;34m\u001b[0m\u001b[0;34m\u001b[0m\u001b[0m\n\u001b[1;32m    478\u001b[0m             \u001b[0;32mfor\u001b[0m \u001b[0meg\u001b[0m \u001b[0;32min\u001b[0m \u001b[0mexamples\u001b[0m\u001b[0;34m:\u001b[0m\u001b[0;34m\u001b[0m\u001b[0;34m\u001b[0m\u001b[0m\n\u001b[0;32m--> 479\u001b[0;31m                 \u001b[0mlabels\u001b[0m\u001b[0;34m.\u001b[0m\u001b[0mupdate\u001b[0m\u001b[0;34m(\u001b[0m\u001b[0meg\u001b[0m\u001b[0;34m.\u001b[0m\u001b[0mpredicted\u001b[0m\u001b[0;34m.\u001b[0m\u001b[0mcats\u001b[0m\u001b[0;34m.\u001b[0m\u001b[0mkeys\u001b[0m\u001b[0;34m(\u001b[0m\u001b[0;34m)\u001b[0m\u001b[0;34m)\u001b[0m\u001b[0;34m\u001b[0m\u001b[0;34m\u001b[0m\u001b[0m\n\u001b[0m\u001b[1;32m    480\u001b[0m                 \u001b[0mlabels\u001b[0m\u001b[0;34m.\u001b[0m\u001b[0mupdate\u001b[0m\u001b[0;34m(\u001b[0m\u001b[0meg\u001b[0m\u001b[0;34m.\u001b[0m\u001b[0mreference\u001b[0m\u001b[0;34m.\u001b[0m\u001b[0mcats\u001b[0m\u001b[0;34m.\u001b[0m\u001b[0mkeys\u001b[0m\u001b[0;34m(\u001b[0m\u001b[0;34m)\u001b[0m\u001b[0;34m)\u001b[0m\u001b[0;34m\u001b[0m\u001b[0;34m\u001b[0m\u001b[0m\n\u001b[1;32m    481\u001b[0m         \u001b[0;32mfor\u001b[0m \u001b[0mexample\u001b[0m \u001b[0;32min\u001b[0m \u001b[0mexamples\u001b[0m\u001b[0;34m:\u001b[0m\u001b[0;34m\u001b[0m\u001b[0;34m\u001b[0m\u001b[0m\n",
            "\u001b[0;31mAttributeError\u001b[0m: 'spacy.tokens.doc.Doc' object has no attribute 'predicted'"
          ]
        }
      ]
    },
    {
      "cell_type": "markdown",
      "source": [
        "Code adapted from https://github.com/roisinod/SpaCy-intro/blob/260ac6366c2d9b7b80ca65f579f34683361a1ea5/SpaCy%20textcat.py"
      ],
      "metadata": {
        "id": "P2eIeaVQa_zo"
      }
    },
    {
      "cell_type": "code",
      "source": [
        ""
      ],
      "metadata": {
        "id": "AZojw49ka_OZ"
      },
      "execution_count": null,
      "outputs": []
    },
    {
      "cell_type": "markdown",
      "source": [
        "Below is code that was used to try to generate predictions. Errors were found when trying to run the second command line prompt with a message indicating categories were not properly instantiated."
      ],
      "metadata": {
        "id": "vOUa-kckFyhT"
      }
    },
    {
      "cell_type": "code",
      "source": [
        "nlp = spacy.load('en_core_web_sm')"
      ],
      "metadata": {
        "id": "dlCm3_cuaRGm"
      },
      "execution_count": null,
      "outputs": []
    },
    {
      "cell_type": "code",
      "source": [
        "### turn data into tuples with text and label\n",
        "train_data = tuple(zip(train_df.title.tolist(), train_df.viral.to_list()))\n",
        "test_data = tuple(zip(test_df.title.tolist(), test_df.viral.to_list()))"
      ],
      "metadata": {
        "id": "dPFxvIjdbFLw"
      },
      "execution_count": null,
      "outputs": []
    },
    {
      "cell_type": "code",
      "source": [
        "### function to get docs\n",
        "def document(data):\n",
        "#Creating empty list called \"text\"\n",
        "  text = []\n",
        "  for doc, label in nlp.pipe(data, as_tuples = True):\n",
        "    if (label== 1):\n",
        "      doc.cats['viral'] = 1\n",
        "    elif (label==0):\n",
        "      doc.cats['not_viral'] = 1\n",
        "#Adding the doc into the list 'text'\n",
        "      text.append(doc)\n",
        "  return(text)"
      ],
      "metadata": {
        "id": "4_Hpb6a1pPEn"
      },
      "execution_count": null,
      "outputs": []
    },
    {
      "cell_type": "code",
      "source": [
        "#passing the train dataset into function 'document'\n",
        "train_docs = document(train_data)\n",
        "\n",
        "#Creating binary document using DocBin function in spaCy\n",
        "doc_bin = DocBin(docs = train_docs)\n",
        "\n",
        "#Saving the binary document as train.spacy\n",
        "doc_bin.to_disk(\"train.spacy\")"
      ],
      "metadata": {
        "colab": {
          "base_uri": "https://localhost:8080/",
          "height": 232
        },
        "id": "DGv3dGfm6L4M",
        "outputId": "1f4c85e0-c556-4ab5-d7f9-e116b1eb2229"
      },
      "execution_count": null,
      "outputs": [
        {
          "output_type": "error",
          "ename": "NameError",
          "evalue": "ignored",
          "traceback": [
            "\u001b[0;31m---------------------------------------------------------------------------\u001b[0m",
            "\u001b[0;31mNameError\u001b[0m                                 Traceback (most recent call last)",
            "\u001b[0;32m<ipython-input-13-b58752726336>\u001b[0m in \u001b[0;36m<module>\u001b[0;34m()\u001b[0m\n\u001b[1;32m      3\u001b[0m \u001b[0;34m\u001b[0m\u001b[0m\n\u001b[1;32m      4\u001b[0m \u001b[0;31m#Creating binary document using DocBin function in spaCy\u001b[0m\u001b[0;34m\u001b[0m\u001b[0;34m\u001b[0m\u001b[0;34m\u001b[0m\u001b[0m\n\u001b[0;32m----> 5\u001b[0;31m \u001b[0mdoc_bin\u001b[0m \u001b[0;34m=\u001b[0m \u001b[0mDocBin\u001b[0m\u001b[0;34m(\u001b[0m\u001b[0mdocs\u001b[0m \u001b[0;34m=\u001b[0m \u001b[0mtrain_docs\u001b[0m\u001b[0;34m)\u001b[0m\u001b[0;34m\u001b[0m\u001b[0;34m\u001b[0m\u001b[0m\n\u001b[0m\u001b[1;32m      6\u001b[0m \u001b[0;34m\u001b[0m\u001b[0m\n\u001b[1;32m      7\u001b[0m \u001b[0;31m#Saving the binary document as train.spacy\u001b[0m\u001b[0;34m\u001b[0m\u001b[0;34m\u001b[0m\u001b[0;34m\u001b[0m\u001b[0m\n",
            "\u001b[0;31mNameError\u001b[0m: name 'DocBin' is not defined"
          ]
        }
      ]
    },
    {
      "cell_type": "code",
      "source": [
        "#passing the test dataset into function 'document'\n",
        "test_docs = document(test)\n",
        "doc_bin = DocBin(docs = test_docs)\n",
        "doc_bin.to_disk(\"valid.spacy\")"
      ],
      "metadata": {
        "id": "wzqR-X0a6Q4v"
      },
      "execution_count": null,
      "outputs": []
    },
    {
      "cell_type": "code",
      "source": [
        "doc_bin_train = DocBin(docs=train_docs)\n",
        "doc_bin_test = DocBin(docs=test_docs)\n",
        "\n",
        "!python -m spacy init fill-config base_config.cfg config.cfg\n",
        "\n",
        "!python -m spacy train config.cfg --output ./output --paths.train doc_bin_train --paths.dev doc_bin_test"
      ],
      "metadata": {
        "id": "RmjaZvfFpZaf"
      },
      "execution_count": null,
      "outputs": []
    },
    {
      "cell_type": "markdown",
      "source": [
        ""
      ],
      "metadata": {
        "id": "K-egj9iLpOxE"
      }
    }
  ]
}