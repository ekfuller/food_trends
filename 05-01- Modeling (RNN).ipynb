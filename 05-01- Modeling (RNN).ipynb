{
  "nbformat": 4,
  "nbformat_minor": 0,
  "metadata": {
    "colab": {
      "name": "5.01 Modeling (RNN).ipynb",
      "provenance": []
    },
    "kernelspec": {
      "name": "python3",
      "display_name": "Python 3"
    },
    "language_info": {
      "name": "python"
    }
  },
  "cells": [
    {
      "cell_type": "markdown",
      "source": [
        "This notebook is exploring applying Recurrent Neural Nets for the title data."
      ],
      "metadata": {
        "id": "HZ0wSWce6mnU"
      }
    },
    {
      "cell_type": "code",
      "execution_count": 1,
      "metadata": {
        "id": "7U67yAsk9D8H"
      },
      "outputs": [],
      "source": [
        "import pandas as pd\n",
        "import numpy as np\n",
        "\n",
        "from sklearn.model_selection import train_test_split\n",
        "\n",
        "from keras.preprocessing.text import Tokenizer\n",
        "from keras.models import Sequential\n",
        "from keras.layers import SimpleRNN, Dense, Embedding, Flatten, LSTM\n",
        "from keras.preprocessing.sequence import pad_sequences"
      ]
    },
    {
      "cell_type": "code",
      "source": [
        "posts_df = pd.read_csv('./posts_scores_dates.csv')\n",
        "posts_df.head()"
      ],
      "metadata": {
        "colab": {
          "base_uri": "https://localhost:8080/",
          "height": 333
        },
        "id": "31NkzihS9SXz",
        "outputId": "24d25260-d9c8-4475-f75e-7c1c5f38d629"
      },
      "execution_count": 2,
      "outputs": [
        {
          "output_type": "execute_result",
          "data": {
            "text/plain": [
              "       id                                              title  created_utc  \\\n",
              "0  uu6g0w  [homemade] Polynesian (Chick-Fil-A sauce) chic...   1653077037   \n",
              "1  uu6cni        [I ate] Scotch mutton pie, pub in Edinburgh   1653076799   \n",
              "2  uu6apo                                      [homemade] 🇲🇦   1653076639   \n",
              "3  uu644e  [homemade] Chilli Paneer, Spinach, Potatoes wi...   1653076091   \n",
              "4  uu5x2y  [Homemade] Tart - Salmon, spinach and goat cheese   1653075500   \n",
              "\n",
              "   comments_old  score_old        post_time_utc  score  comments  percentile  \\\n",
              "0             0          1  2022-05-20 16:03:57     69       7.0    0.836730   \n",
              "1             0          1  2022-05-20 15:59:59     37       4.0    0.699491   \n",
              "2             0          1  2022-05-20 15:57:19      1       0.0    0.117647   \n",
              "3             0          1  2022-05-20 15:48:11     16       2.0    0.443585   \n",
              "4             0          1  2022-05-20 15:38:20      1       0.0    0.117647   \n",
              "\n",
              "   viral  \n",
              "0      0  \n",
              "1      0  \n",
              "2      0  \n",
              "3      0  \n",
              "4      0  "
            ],
            "text/html": [
              "\n",
              "  <div id=\"df-4f15e30e-60b0-4f70-b3cd-4522326b8a85\">\n",
              "    <div class=\"colab-df-container\">\n",
              "      <div>\n",
              "<style scoped>\n",
              "    .dataframe tbody tr th:only-of-type {\n",
              "        vertical-align: middle;\n",
              "    }\n",
              "\n",
              "    .dataframe tbody tr th {\n",
              "        vertical-align: top;\n",
              "    }\n",
              "\n",
              "    .dataframe thead th {\n",
              "        text-align: right;\n",
              "    }\n",
              "</style>\n",
              "<table border=\"1\" class=\"dataframe\">\n",
              "  <thead>\n",
              "    <tr style=\"text-align: right;\">\n",
              "      <th></th>\n",
              "      <th>id</th>\n",
              "      <th>title</th>\n",
              "      <th>created_utc</th>\n",
              "      <th>comments_old</th>\n",
              "      <th>score_old</th>\n",
              "      <th>post_time_utc</th>\n",
              "      <th>score</th>\n",
              "      <th>comments</th>\n",
              "      <th>percentile</th>\n",
              "      <th>viral</th>\n",
              "    </tr>\n",
              "  </thead>\n",
              "  <tbody>\n",
              "    <tr>\n",
              "      <th>0</th>\n",
              "      <td>uu6g0w</td>\n",
              "      <td>[homemade] Polynesian (Chick-Fil-A sauce) chic...</td>\n",
              "      <td>1653077037</td>\n",
              "      <td>0</td>\n",
              "      <td>1</td>\n",
              "      <td>2022-05-20 16:03:57</td>\n",
              "      <td>69</td>\n",
              "      <td>7.0</td>\n",
              "      <td>0.836730</td>\n",
              "      <td>0</td>\n",
              "    </tr>\n",
              "    <tr>\n",
              "      <th>1</th>\n",
              "      <td>uu6cni</td>\n",
              "      <td>[I ate] Scotch mutton pie, pub in Edinburgh</td>\n",
              "      <td>1653076799</td>\n",
              "      <td>0</td>\n",
              "      <td>1</td>\n",
              "      <td>2022-05-20 15:59:59</td>\n",
              "      <td>37</td>\n",
              "      <td>4.0</td>\n",
              "      <td>0.699491</td>\n",
              "      <td>0</td>\n",
              "    </tr>\n",
              "    <tr>\n",
              "      <th>2</th>\n",
              "      <td>uu6apo</td>\n",
              "      <td>[homemade] 🇲🇦</td>\n",
              "      <td>1653076639</td>\n",
              "      <td>0</td>\n",
              "      <td>1</td>\n",
              "      <td>2022-05-20 15:57:19</td>\n",
              "      <td>1</td>\n",
              "      <td>0.0</td>\n",
              "      <td>0.117647</td>\n",
              "      <td>0</td>\n",
              "    </tr>\n",
              "    <tr>\n",
              "      <th>3</th>\n",
              "      <td>uu644e</td>\n",
              "      <td>[homemade] Chilli Paneer, Spinach, Potatoes wi...</td>\n",
              "      <td>1653076091</td>\n",
              "      <td>0</td>\n",
              "      <td>1</td>\n",
              "      <td>2022-05-20 15:48:11</td>\n",
              "      <td>16</td>\n",
              "      <td>2.0</td>\n",
              "      <td>0.443585</td>\n",
              "      <td>0</td>\n",
              "    </tr>\n",
              "    <tr>\n",
              "      <th>4</th>\n",
              "      <td>uu5x2y</td>\n",
              "      <td>[Homemade] Tart - Salmon, spinach and goat cheese</td>\n",
              "      <td>1653075500</td>\n",
              "      <td>0</td>\n",
              "      <td>1</td>\n",
              "      <td>2022-05-20 15:38:20</td>\n",
              "      <td>1</td>\n",
              "      <td>0.0</td>\n",
              "      <td>0.117647</td>\n",
              "      <td>0</td>\n",
              "    </tr>\n",
              "  </tbody>\n",
              "</table>\n",
              "</div>\n",
              "      <button class=\"colab-df-convert\" onclick=\"convertToInteractive('df-4f15e30e-60b0-4f70-b3cd-4522326b8a85')\"\n",
              "              title=\"Convert this dataframe to an interactive table.\"\n",
              "              style=\"display:none;\">\n",
              "        \n",
              "  <svg xmlns=\"http://www.w3.org/2000/svg\" height=\"24px\"viewBox=\"0 0 24 24\"\n",
              "       width=\"24px\">\n",
              "    <path d=\"M0 0h24v24H0V0z\" fill=\"none\"/>\n",
              "    <path d=\"M18.56 5.44l.94 2.06.94-2.06 2.06-.94-2.06-.94-.94-2.06-.94 2.06-2.06.94zm-11 1L8.5 8.5l.94-2.06 2.06-.94-2.06-.94L8.5 2.5l-.94 2.06-2.06.94zm10 10l.94 2.06.94-2.06 2.06-.94-2.06-.94-.94-2.06-.94 2.06-2.06.94z\"/><path d=\"M17.41 7.96l-1.37-1.37c-.4-.4-.92-.59-1.43-.59-.52 0-1.04.2-1.43.59L10.3 9.45l-7.72 7.72c-.78.78-.78 2.05 0 2.83L4 21.41c.39.39.9.59 1.41.59.51 0 1.02-.2 1.41-.59l7.78-7.78 2.81-2.81c.8-.78.8-2.07 0-2.86zM5.41 20L4 18.59l7.72-7.72 1.47 1.35L5.41 20z\"/>\n",
              "  </svg>\n",
              "      </button>\n",
              "      \n",
              "  <style>\n",
              "    .colab-df-container {\n",
              "      display:flex;\n",
              "      flex-wrap:wrap;\n",
              "      gap: 12px;\n",
              "    }\n",
              "\n",
              "    .colab-df-convert {\n",
              "      background-color: #E8F0FE;\n",
              "      border: none;\n",
              "      border-radius: 50%;\n",
              "      cursor: pointer;\n",
              "      display: none;\n",
              "      fill: #1967D2;\n",
              "      height: 32px;\n",
              "      padding: 0 0 0 0;\n",
              "      width: 32px;\n",
              "    }\n",
              "\n",
              "    .colab-df-convert:hover {\n",
              "      background-color: #E2EBFA;\n",
              "      box-shadow: 0px 1px 2px rgba(60, 64, 67, 0.3), 0px 1px 3px 1px rgba(60, 64, 67, 0.15);\n",
              "      fill: #174EA6;\n",
              "    }\n",
              "\n",
              "    [theme=dark] .colab-df-convert {\n",
              "      background-color: #3B4455;\n",
              "      fill: #D2E3FC;\n",
              "    }\n",
              "\n",
              "    [theme=dark] .colab-df-convert:hover {\n",
              "      background-color: #434B5C;\n",
              "      box-shadow: 0px 1px 3px 1px rgba(0, 0, 0, 0.15);\n",
              "      filter: drop-shadow(0px 1px 2px rgba(0, 0, 0, 0.3));\n",
              "      fill: #FFFFFF;\n",
              "    }\n",
              "  </style>\n",
              "\n",
              "      <script>\n",
              "        const buttonEl =\n",
              "          document.querySelector('#df-4f15e30e-60b0-4f70-b3cd-4522326b8a85 button.colab-df-convert');\n",
              "        buttonEl.style.display =\n",
              "          google.colab.kernel.accessAllowed ? 'block' : 'none';\n",
              "\n",
              "        async function convertToInteractive(key) {\n",
              "          const element = document.querySelector('#df-4f15e30e-60b0-4f70-b3cd-4522326b8a85');\n",
              "          const dataTable =\n",
              "            await google.colab.kernel.invokeFunction('convertToInteractive',\n",
              "                                                     [key], {});\n",
              "          if (!dataTable) return;\n",
              "\n",
              "          const docLinkHtml = 'Like what you see? Visit the ' +\n",
              "            '<a target=\"_blank\" href=https://colab.research.google.com/notebooks/data_table.ipynb>data table notebook</a>'\n",
              "            + ' to learn more about interactive tables.';\n",
              "          element.innerHTML = '';\n",
              "          dataTable['output_type'] = 'display_data';\n",
              "          await google.colab.output.renderOutput(dataTable, element);\n",
              "          const docLink = document.createElement('div');\n",
              "          docLink.innerHTML = docLinkHtml;\n",
              "          element.appendChild(docLink);\n",
              "        }\n",
              "      </script>\n",
              "    </div>\n",
              "  </div>\n",
              "  "
            ]
          },
          "metadata": {},
          "execution_count": 2
        }
      ]
    },
    {
      "cell_type": "code",
      "source": [
        "posts_df.shape"
      ],
      "metadata": {
        "colab": {
          "base_uri": "https://localhost:8080/"
        },
        "id": "A-_bm_j02miL",
        "outputId": "e23e5c7f-1c81-4715-9d8d-57cfbac48a69"
      },
      "execution_count": 3,
      "outputs": [
        {
          "output_type": "execute_result",
          "data": {
            "text/plain": [
              "(10795, 10)"
            ]
          },
          "metadata": {},
          "execution_count": 3
        }
      ]
    },
    {
      "cell_type": "code",
      "source": [
        "posts_df.dtypes"
      ],
      "metadata": {
        "colab": {
          "base_uri": "https://localhost:8080/"
        },
        "id": "9Vvy2_wa47Xs",
        "outputId": "d551e55a-e242-4f5a-8249-b126665c4c05"
      },
      "execution_count": 4,
      "outputs": [
        {
          "output_type": "execute_result",
          "data": {
            "text/plain": [
              "id                object\n",
              "title             object\n",
              "created_utc        int64\n",
              "comments_old       int64\n",
              "score_old          int64\n",
              "post_time_utc     object\n",
              "score              int64\n",
              "comments         float64\n",
              "percentile       float64\n",
              "viral              int64\n",
              "dtype: object"
            ]
          },
          "metadata": {},
          "execution_count": 4
        }
      ]
    },
    {
      "cell_type": "code",
      "source": [
        "X = posts_df['title']\n",
        "y = posts_df['viral']\n",
        "\n",
        "X_train, X_test, y_train, y_test = train_test_split(X, y, random_state = 20, stratify = y)"
      ],
      "metadata": {
        "id": "O0lAXRsdBfWK"
      },
      "execution_count": 5,
      "outputs": []
    },
    {
      "cell_type": "code",
      "source": [
        "tokenizer = Tokenizer(num_words=500)"
      ],
      "metadata": {
        "id": "_dLod4MlCI44"
      },
      "execution_count": 6,
      "outputs": []
    },
    {
      "cell_type": "code",
      "source": [
        "tokenizer.fit_on_texts(X_train)"
      ],
      "metadata": {
        "id": "trKZ2zR0CY8O"
      },
      "execution_count": 7,
      "outputs": []
    },
    {
      "cell_type": "code",
      "source": [
        "X_train.head()"
      ],
      "metadata": {
        "colab": {
          "base_uri": "https://localhost:8080/"
        },
        "id": "ZOYs1-y85h3h",
        "outputId": "9f731950-f772-4d2f-e58b-db6883bae0ee"
      },
      "execution_count": 8,
      "outputs": [
        {
          "output_type": "execute_result",
          "data": {
            "text/plain": [
              "10358         Closer Look Easter Chick Cupcakes [homemade]\n",
              "3667     [Homemade] double stuffed bacon, egg, and chee...\n",
              "1314                [Homemade] A sunny Sunday Charcuterie.\n",
              "2388                                [homemade] Cheesesteak\n",
              "6370     [homemade]If you want to eat mushrooms but hat...\n",
              "Name: title, dtype: object"
            ]
          },
          "metadata": {},
          "execution_count": 8
        }
      ]
    },
    {
      "cell_type": "code",
      "source": [
        "X_train = tokenizer.texts_to_sequences(X_train)\n",
        "X_test = tokenizer.texts_to_sequences(X_test)"
      ],
      "metadata": {
        "id": "lQJXC_XX4fGT"
      },
      "execution_count": 9,
      "outputs": []
    },
    {
      "cell_type": "code",
      "source": [
        "X_train = pad_sequences(X_train, maxlen=100)\n",
        "X_test = pad_sequences(X_test, maxlen=100)"
      ],
      "metadata": {
        "id": "N42b_PNX5wbu"
      },
      "execution_count": 10,
      "outputs": []
    },
    {
      "cell_type": "markdown",
      "source": [
        "Basic RNN model"
      ],
      "metadata": {
        "id": "-BtQOpwy7_Ud"
      }
    },
    {
      "cell_type": "code",
      "source": [
        "model = Sequential()\n",
        "model.add(Embedding(input_dim=tokenizer.num_words, output_dim=64))\n",
        "model.add(SimpleRNN(64))\n",
        "model.add(Dense(64, activation='relu'))\n",
        "model.add(Dense(1, activation='sigmoid'))"
      ],
      "metadata": {
        "id": "6ZZ5DPZq5wx-"
      },
      "execution_count": 11,
      "outputs": []
    },
    {
      "cell_type": "code",
      "source": [
        "model.compile(loss='binary_crossentropy', metrics=['acc', 'bce'])"
      ],
      "metadata": {
        "id": "cRAlT5eO50Mb"
      },
      "execution_count": 14,
      "outputs": []
    },
    {
      "cell_type": "code",
      "source": [
        "model.fit(X_train, y_train, validation_data=(X_test, y_test), epochs=10)"
      ],
      "metadata": {
        "colab": {
          "base_uri": "https://localhost:8080/"
        },
        "id": "lI2X-uit6ckF",
        "outputId": "35dd6588-e073-45d7-8a09-b4a4d38f8986"
      },
      "execution_count": 15,
      "outputs": [
        {
          "output_type": "stream",
          "name": "stdout",
          "text": [
            "Epoch 1/10\n",
            "253/253 [==============================] - 9s 29ms/step - loss: 0.1085 - acc: 0.9775 - bce: 0.1085 - val_loss: 0.0985 - val_acc: 0.9800 - val_bce: 0.0985\n",
            "Epoch 2/10\n",
            "253/253 [==============================] - 7s 29ms/step - loss: 0.0975 - acc: 0.9800 - bce: 0.0975 - val_loss: 0.1010 - val_acc: 0.9800 - val_bce: 0.1010\n",
            "Epoch 3/10\n",
            "253/253 [==============================] - 7s 28ms/step - loss: 0.0940 - acc: 0.9800 - bce: 0.0940 - val_loss: 0.1007 - val_acc: 0.9800 - val_bce: 0.1007\n",
            "Epoch 4/10\n",
            "253/253 [==============================] - 7s 28ms/step - loss: 0.0911 - acc: 0.9800 - bce: 0.0911 - val_loss: 0.1167 - val_acc: 0.9800 - val_bce: 0.1167\n",
            "Epoch 5/10\n",
            "253/253 [==============================] - 8s 33ms/step - loss: 0.0896 - acc: 0.9800 - bce: 0.0896 - val_loss: 0.1069 - val_acc: 0.9796 - val_bce: 0.1069\n",
            "Epoch 6/10\n",
            "253/253 [==============================] - 7s 28ms/step - loss: 0.0855 - acc: 0.9802 - bce: 0.0855 - val_loss: 0.1080 - val_acc: 0.9804 - val_bce: 0.1080\n",
            "Epoch 7/10\n",
            "253/253 [==============================] - 7s 28ms/step - loss: 0.0834 - acc: 0.9806 - bce: 0.0834 - val_loss: 0.1060 - val_acc: 0.9800 - val_bce: 0.1060\n",
            "Epoch 8/10\n",
            "253/253 [==============================] - 7s 28ms/step - loss: 0.0807 - acc: 0.9810 - bce: 0.0807 - val_loss: 0.1082 - val_acc: 0.9793 - val_bce: 0.1082\n",
            "Epoch 9/10\n",
            "253/253 [==============================] - 7s 28ms/step - loss: 0.0791 - acc: 0.9815 - bce: 0.0791 - val_loss: 0.1107 - val_acc: 0.9781 - val_bce: 0.1107\n",
            "Epoch 10/10\n",
            "253/253 [==============================] - 7s 28ms/step - loss: 0.0854 - acc: 0.9792 - bce: 0.0854 - val_loss: 0.1374 - val_acc: 0.9737 - val_bce: 0.1374\n"
          ]
        },
        {
          "output_type": "execute_result",
          "data": {
            "text/plain": [
              "<keras.callbacks.History at 0x7f86a36c1490>"
            ]
          },
          "metadata": {},
          "execution_count": 15
        }
      ]
    },
    {
      "cell_type": "markdown",
      "source": [
        "Basic LSTM model"
      ],
      "metadata": {
        "id": "SXRkA7s58DlV"
      }
    },
    {
      "cell_type": "code",
      "source": [
        "model = Sequential()\n",
        "model.add(Embedding(input_dim=tokenizer.num_words, output_dim=64))\n",
        "model.add(LSTM(64))\n",
        "model.add(Dense(64, activation='relu'))\n",
        "model.add(Dense(1, activation='sigmoid'))\n",
        "\n",
        "model.compile(loss='bce', metrics=['acc'])\n",
        "model.fit(X_train, y_train, validation_data=(X_test, y_test), epochs=10)"
      ],
      "metadata": {
        "colab": {
          "base_uri": "https://localhost:8080/"
        },
        "id": "PxHQCCZv8GN3",
        "outputId": "2039b5b1-f1d2-44f8-933f-89a7f032c598"
      },
      "execution_count": 16,
      "outputs": [
        {
          "output_type": "stream",
          "name": "stdout",
          "text": [
            "Epoch 1/10\n",
            "253/253 [==============================] - 18s 64ms/step - loss: 0.1084 - acc: 0.9780 - val_loss: 0.1009 - val_acc: 0.9800\n",
            "Epoch 2/10\n",
            "253/253 [==============================] - 16s 63ms/step - loss: 0.0963 - acc: 0.9800 - val_loss: 0.1007 - val_acc: 0.9800\n",
            "Epoch 3/10\n",
            "253/253 [==============================] - 16s 62ms/step - loss: 0.0937 - acc: 0.9800 - val_loss: 0.1012 - val_acc: 0.9800\n",
            "Epoch 4/10\n",
            "253/253 [==============================] - 17s 68ms/step - loss: 0.0920 - acc: 0.9800 - val_loss: 0.1012 - val_acc: 0.9800\n",
            "Epoch 5/10\n",
            "253/253 [==============================] - 16s 61ms/step - loss: 0.0909 - acc: 0.9800 - val_loss: 0.1031 - val_acc: 0.9800\n",
            "Epoch 6/10\n",
            "253/253 [==============================] - 16s 62ms/step - loss: 0.0896 - acc: 0.9800 - val_loss: 0.1020 - val_acc: 0.9800\n",
            "Epoch 7/10\n",
            "253/253 [==============================] - 16s 62ms/step - loss: 0.0889 - acc: 0.9800 - val_loss: 0.1059 - val_acc: 0.9800\n",
            "Epoch 8/10\n",
            "253/253 [==============================] - 16s 63ms/step - loss: 0.0878 - acc: 0.9800 - val_loss: 0.1016 - val_acc: 0.9800\n",
            "Epoch 9/10\n",
            "253/253 [==============================] - 16s 62ms/step - loss: 0.0859 - acc: 0.9800 - val_loss: 0.1104 - val_acc: 0.9800\n",
            "Epoch 10/10\n",
            "253/253 [==============================] - 16s 62ms/step - loss: 0.0866 - acc: 0.9800 - val_loss: 0.1000 - val_acc: 0.9800\n"
          ]
        },
        {
          "output_type": "execute_result",
          "data": {
            "text/plain": [
              "<keras.callbacks.History at 0x7f86a428a950>"
            ]
          },
          "metadata": {},
          "execution_count": 16
        }
      ]
    }
  ]
}