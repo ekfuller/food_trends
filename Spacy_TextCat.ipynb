{
  "nbformat": 4,
  "nbformat_minor": 0,
  "metadata": {
    "colab": {
      "name": "Spacy TextCat.ipynb",
      "provenance": [],
      "authorship_tag": "ABX9TyPIiyN12CVMppPHlD0UnHbH",
      "include_colab_link": true
    },
    "kernelspec": {
      "name": "python3",
      "display_name": "Python 3"
    },
    "language_info": {
      "name": "python"
    }
  },
  "cells": [
    {
      "cell_type": "markdown",
      "metadata": {
        "id": "view-in-github",
        "colab_type": "text"
      },
      "source": [
        "<a href=\"https://colab.research.google.com/github/ekfuller/food_trends/blob/main/Spacy_TextCat.ipynb\" target=\"_parent\"><img src=\"https://colab.research.google.com/assets/colab-badge.svg\" alt=\"Open In Colab\"/></a>"
      ]
    },
    {
      "cell_type": "code",
      "source": [
        "# %pip install spacy"
      ],
      "metadata": {
        "colab": {
          "base_uri": "https://localhost:8080/",
          "height": 1000
        },
        "id": "2xeG7_IrE529",
        "outputId": "3e33a284-f4c3-45c1-8113-7671622ccc1f"
      },
      "execution_count": 5,
      "outputs": [
        {
          "output_type": "stream",
          "name": "stdout",
          "text": [
            "Looking in indexes: https://pypi.org/simple, https://us-python.pkg.dev/colab-wheels/public/simple/\n",
            "Collecting spacy\n",
            "  Using cached spacy-3.3.1-cp37-cp37m-manylinux_2_17_x86_64.manylinux2014_x86_64.whl (6.2 MB)\n",
            "Requirement already satisfied: catalogue<2.1.0,>=2.0.6 in /usr/local/lib/python3.7/dist-packages (from spacy) (2.0.7)\n",
            "Requirement already satisfied: requests<3.0.0,>=2.13.0 in /usr/local/lib/python3.7/dist-packages (from spacy) (2.23.0)\n",
            "Collecting blis<0.8.0,>=0.4.0\n",
            "  Downloading blis-0.7.7-cp37-cp37m-manylinux_2_17_x86_64.manylinux2014_x86_64.whl (9.9 MB)\n",
            "\u001b[K     |████████████████████████████████| 9.9 MB 14.4 MB/s \n",
            "\u001b[?25hRequirement already satisfied: pydantic!=1.8,!=1.8.1,<1.9.0,>=1.7.4 in /usr/local/lib/python3.7/dist-packages (from spacy) (1.8.2)\n",
            "Collecting thinc<8.1.0,>=8.0.14\n",
            "  Using cached thinc-8.0.17-cp37-cp37m-manylinux_2_17_x86_64.manylinux2014_x86_64.whl (660 kB)\n",
            "Requirement already satisfied: numpy>=1.15.0 in /usr/local/lib/python3.7/dist-packages (from spacy) (1.21.6)\n",
            "Requirement already satisfied: wasabi<1.1.0,>=0.9.1 in /usr/local/lib/python3.7/dist-packages (from spacy) (0.9.1)\n",
            "Requirement already satisfied: murmurhash<1.1.0,>=0.28.0 in /usr/local/lib/python3.7/dist-packages (from spacy) (1.0.7)\n",
            "Requirement already satisfied: pathy>=0.3.5 in /usr/local/lib/python3.7/dist-packages (from spacy) (0.6.1)\n",
            "Requirement already satisfied: jinja2 in /usr/local/lib/python3.7/dist-packages (from spacy) (2.11.3)\n",
            "Requirement already satisfied: tqdm<5.0.0,>=4.38.0 in /usr/local/lib/python3.7/dist-packages (from spacy) (4.64.0)\n",
            "Requirement already satisfied: setuptools in /usr/local/lib/python3.7/dist-packages (from spacy) (57.4.0)\n",
            "Requirement already satisfied: cymem<2.1.0,>=2.0.2 in /usr/local/lib/python3.7/dist-packages (from spacy) (2.0.6)\n",
            "Requirement already satisfied: typing-extensions<4.2.0,>=3.7.4 in /usr/local/lib/python3.7/dist-packages (from spacy) (4.1.1)\n",
            "Requirement already satisfied: langcodes<4.0.0,>=3.2.0 in /usr/local/lib/python3.7/dist-packages (from spacy) (3.3.0)\n",
            "Requirement already satisfied: spacy-loggers<2.0.0,>=1.0.0 in /usr/local/lib/python3.7/dist-packages (from spacy) (1.0.2)\n",
            "Collecting srsly<3.0.0,>=2.4.3\n",
            "  Using cached srsly-2.4.3-cp37-cp37m-manylinux_2_17_x86_64.manylinux2014_x86_64.whl (457 kB)\n",
            "Requirement already satisfied: spacy-legacy<3.1.0,>=3.0.9 in /usr/local/lib/python3.7/dist-packages (from spacy) (3.0.9)\n",
            "Requirement already satisfied: packaging>=20.0 in /usr/local/lib/python3.7/dist-packages (from spacy) (21.3)\n",
            "Requirement already satisfied: typer<0.5.0,>=0.3.0 in /usr/local/lib/python3.7/dist-packages (from spacy) (0.4.1)\n",
            "Collecting preshed<3.1.0,>=3.0.2\n",
            "  Downloading preshed-3.0.6-cp37-cp37m-manylinux_2_5_x86_64.manylinux1_x86_64.manylinux_2_17_x86_64.manylinux2014_x86_64.whl (125 kB)\n",
            "\u001b[K     |████████████████████████████████| 125 kB 8.5 MB/s \n",
            "\u001b[?25hRequirement already satisfied: zipp>=0.5 in /usr/local/lib/python3.7/dist-packages (from catalogue<2.1.0,>=2.0.6->spacy) (3.8.0)\n",
            "Requirement already satisfied: pyparsing!=3.0.5,>=2.0.2 in /usr/local/lib/python3.7/dist-packages (from packaging>=20.0->spacy) (3.0.9)\n",
            "Requirement already satisfied: smart-open<6.0.0,>=5.0.0 in /usr/local/lib/python3.7/dist-packages (from pathy>=0.3.5->spacy) (5.2.1)\n",
            "Requirement already satisfied: chardet<4,>=3.0.2 in /usr/local/lib/python3.7/dist-packages (from requests<3.0.0,>=2.13.0->spacy) (3.0.4)\n",
            "Requirement already satisfied: certifi>=2017.4.17 in /usr/local/lib/python3.7/dist-packages (from requests<3.0.0,>=2.13.0->spacy) (2022.5.18.1)\n",
            "Requirement already satisfied: urllib3!=1.25.0,!=1.25.1,<1.26,>=1.21.1 in /usr/local/lib/python3.7/dist-packages (from requests<3.0.0,>=2.13.0->spacy) (1.24.3)\n",
            "Requirement already satisfied: idna<3,>=2.5 in /usr/local/lib/python3.7/dist-packages (from requests<3.0.0,>=2.13.0->spacy) (2.10)\n",
            "Requirement already satisfied: click<9.0.0,>=7.1.1 in /usr/local/lib/python3.7/dist-packages (from typer<0.5.0,>=0.3.0->spacy) (7.1.2)\n",
            "Requirement already satisfied: MarkupSafe>=0.23 in /usr/local/lib/python3.7/dist-packages (from jinja2->spacy) (2.0.1)\n",
            "Installing collected packages: srsly, preshed, blis, thinc, spacy\n",
            "  Attempting uninstall: srsly\n",
            "    Found existing installation: srsly 1.0.5\n",
            "    Uninstalling srsly-1.0.5:\n",
            "      Successfully uninstalled srsly-1.0.5\n",
            "  Attempting uninstall: preshed\n",
            "    Found existing installation: preshed 2.0.1\n",
            "    Uninstalling preshed-2.0.1:\n",
            "      Successfully uninstalled preshed-2.0.1\n",
            "  Attempting uninstall: blis\n",
            "    Found existing installation: blis 0.2.4\n",
            "    Uninstalling blis-0.2.4:\n",
            "      Successfully uninstalled blis-0.2.4\n",
            "  Attempting uninstall: thinc\n",
            "    Found existing installation: thinc 7.0.8\n",
            "    Uninstalling thinc-7.0.8:\n",
            "      Successfully uninstalled thinc-7.0.8\n",
            "Successfully installed blis-0.7.7 preshed-3.0.6 spacy-3.3.1 srsly-2.4.3 thinc-8.0.17\n"
          ]
        },
        {
          "output_type": "display_data",
          "data": {
            "application/vnd.colab-display-data+json": {
              "pip_warning": {
                "packages": [
                  "blis",
                  "preshed",
                  "spacy",
                  "srsly",
                  "thinc"
                ]
              }
            }
          },
          "metadata": {}
        }
      ]
    },
    {
      "cell_type": "code",
      "source": [
        "import pandas as pd\n",
        "import spacy\n",
        "#from spacy.lang.en import examples\n",
        "from spacy.util import minibatch\n",
        "from spacy.pipeline.textcat import single_label_cnn_config\n",
        "import random\n",
        "from spacy.training.example import Example\n",
        "from spacy.pipeline.textcat_multilabel import DEFAULT_MULTI_TEXTCAT_MODEL\n",
        "\n",
        "from sklearn.model_selection import train_test_split"
      ],
      "metadata": {
        "id": "2XTyOFP_FoVE"
      },
      "execution_count": 39,
      "outputs": []
    },
    {
      "cell_type": "code",
      "source": [
        "posts_df = pd.read_csv('./posts_scores_dates.csv')\n",
        "train_df, test_df = train_test_split(posts_df, random_state=20, stratify=posts_df['viral'])"
      ],
      "metadata": {
        "id": "ncQDN6laMbpq"
      },
      "execution_count": 9,
      "outputs": []
    },
    {
      "cell_type": "code",
      "execution_count": 40,
      "metadata": {
        "colab": {
          "base_uri": "https://localhost:8080/"
        },
        "id": "t2zuGlGyD9D4",
        "outputId": "f676606e-6e34-4b45-d215-12580a819a83"
      },
      "outputs": [
        {
          "output_type": "stream",
          "name": "stdout",
          "text": [
            "{'textcat': 165.59590898674847}\n",
            "{'textcat': 327.45672613504274}\n",
            "{'textcat': 488.6894359766405}\n",
            "{'textcat': 645.8258839023949}\n",
            "{'textcat': 792.9818615397359}\n"
          ]
        }
      ],
      "source": [
        "df= train_df\n",
        "nlp = spacy.blank(\"en\")\n",
        "config = {\n",
        "   \"threshold\": 0.5,\n",
        "   \"model\": DEFAULT_MULTI_TEXTCAT_MODEL,\n",
        "}\n",
        "\n",
        "textcat = nlp.add_pipe(\"textcat\", config=config)\n",
        "textcat.add_label(\"viral\")\n",
        "textcat.add_label(\"not_viral\")\n",
        "train_texts = df['title'].values\n",
        "train_labels = [{'cats': {'viral': label == 1,\n",
        "                          'not_viral': label == 0}}\n",
        "                for label in df['viral']]\n",
        "train_data = list(zip(train_texts, train_labels))\n",
        "spacy.util.fix_random_seed(1)\n",
        "optimizer = nlp.initialize()\n",
        "# Create the batch generator with batch size = 8\n",
        "batches = minibatch(train_data, size=8)\n",
        "\n",
        "# Iterate through minibatches\n",
        "TRAIN_DATA = train_data\n",
        "random.shuffle(TRAIN_DATA)\n",
        "losses = {}\n",
        "for batch in minibatch(TRAIN_DATA, size=8):\n",
        "    for text, annotations in batch:\n",
        "        doc = nlp.make_doc(text)\n",
        "        example = Example.from_dict(doc, annotations)\n",
        "        nlp.update([example], drop=0.35, sgd=optimizer, losses=losses)\n",
        "\n",
        "import random\n",
        "\n",
        "random.seed(1)\n",
        "spacy.util.fix_random_seed(1)\n",
        "optimizer = nlp.begin_training()\n",
        "\n",
        "losses = {}\n",
        "for epoch in range(5):\n",
        "    random.shuffle(train_data)\n",
        "    # Create the batch generator with batch size = 8\n",
        "    batches = minibatch(train_data, size=8)\n",
        "    # Iterate through minibatches\n",
        "    for batch in batches:\n",
        "        for text, annotations in batch:\n",
        "            doc = nlp.make_doc(text)\n",
        "            example = Example.from_dict(doc, annotations)\n",
        "            nlp.update([example], drop=0.35, sgd=optimizer, losses=losses)\n",
        "    print(losses)\n"
      ]
    },
    {
      "cell_type": "code",
      "source": [
        "texts = test_df['title']\n",
        "docs = [nlp.tokenizer(text) for text in texts]"
      ],
      "metadata": {
        "id": "B632noYtcany"
      },
      "execution_count": 41,
      "outputs": []
    },
    {
      "cell_type": "code",
      "source": [
        "# Use textcat to get the scores for each doc\n",
        "textcat = nlp.get_pipe('textcat')\n",
        "scores = textcat.predict(docs)\n",
        "\n",
        "print(scores)\n",
        "predicted_labels = scores.argmax(axis=1)\n",
        "print([textcat.labels[label] for label in predicted_labels])"
      ],
      "metadata": {
        "colab": {
          "base_uri": "https://localhost:8080/"
        },
        "id": "z1FThs-FcZED",
        "outputId": "095d6ac5-2a28-451b-9b03-d74f9ad22deb"
      },
      "execution_count": 42,
      "outputs": [
        {
          "output_type": "stream",
          "name": "stdout",
          "text": [
            "[[0.00227116 0.9975569 ]\n",
            " [0.00259717 0.99686533]\n",
            " [0.0053241  0.9950783 ]\n",
            " ...\n",
            " [0.00325172 0.99643075]\n",
            " [0.00237572 0.9974764 ]\n",
            " [0.00236876 0.9974564 ]]\n",
            "['not_viral', 'not_viral', 'not_viral', 'not_viral', 'not_viral', 'not_viral', 'not_viral', 'not_viral', 'not_viral', 'not_viral', 'not_viral', 'not_viral', 'not_viral', 'not_viral', 'not_viral', 'not_viral', 'not_viral', 'not_viral', 'not_viral', 'not_viral', 'not_viral', 'not_viral', 'not_viral', 'not_viral', 'not_viral', 'not_viral', 'not_viral', 'not_viral', 'not_viral', 'not_viral', 'not_viral', 'not_viral', 'not_viral', 'not_viral', 'not_viral', 'not_viral', 'not_viral', 'not_viral', 'not_viral', 'not_viral', 'not_viral', 'not_viral', 'not_viral', 'not_viral', 'not_viral', 'not_viral', 'not_viral', 'not_viral', 'not_viral', 'not_viral', 'not_viral', 'not_viral', 'not_viral', 'not_viral', 'not_viral', 'not_viral', 'not_viral', 'not_viral', 'not_viral', 'not_viral', 'not_viral', 'not_viral', 'not_viral', 'not_viral', 'not_viral', 'not_viral', 'not_viral', 'not_viral', 'not_viral', 'not_viral', 'not_viral', 'not_viral', 'not_viral', 'not_viral', 'not_viral', 'not_viral', 'not_viral', 'not_viral', 'not_viral', 'not_viral', 'not_viral', 'not_viral', 'not_viral', 'not_viral', 'not_viral', 'not_viral', 'not_viral', 'not_viral', 'not_viral', 'not_viral', 'not_viral', 'not_viral', 'not_viral', 'not_viral', 'not_viral', 'not_viral', 'not_viral', 'not_viral', 'not_viral', 'not_viral', 'not_viral', 'not_viral', 'not_viral', 'not_viral', 'not_viral', 'not_viral', 'not_viral', 'not_viral', 'not_viral', 'not_viral', 'not_viral', 'not_viral', 'not_viral', 'not_viral', 'not_viral', 'not_viral', 'not_viral', 'not_viral', 'not_viral', 'not_viral', 'not_viral', 'not_viral', 'not_viral', 'not_viral', 'not_viral', 'not_viral', 'not_viral', 'not_viral', 'not_viral', 'not_viral', 'not_viral', 'not_viral', 'not_viral', 'not_viral', 'not_viral', 'not_viral', 'not_viral', 'not_viral', 'not_viral', 'not_viral', 'not_viral', 'not_viral', 'not_viral', 'not_viral', 'not_viral', 'not_viral', 'not_viral', 'not_viral', 'not_viral', 'not_viral', 'not_viral', 'not_viral', 'not_viral', 'not_viral', 'not_viral', 'not_viral', 'not_viral', 'not_viral', 'not_viral', 'not_viral', 'not_viral', 'not_viral', 'not_viral', 'not_viral', 'not_viral', 'not_viral', 'not_viral', 'not_viral', 'not_viral', 'not_viral', 'not_viral', 'not_viral', 'not_viral', 'not_viral', 'not_viral', 'not_viral', 'not_viral', 'not_viral', 'not_viral', 'not_viral', 'not_viral', 'not_viral', 'not_viral', 'not_viral', 'not_viral', 'not_viral', 'not_viral', 'not_viral', 'not_viral', 'not_viral', 'not_viral', 'not_viral', 'not_viral', 'not_viral', 'not_viral', 'not_viral', 'not_viral', 'not_viral', 'not_viral', 'not_viral', 'not_viral', 'not_viral', 'not_viral', 'not_viral', 'not_viral', 'not_viral', 'not_viral', 'not_viral', 'not_viral', 'not_viral', 'not_viral', 'not_viral', 'not_viral', 'not_viral', 'not_viral', 'not_viral', 'not_viral', 'not_viral', 'not_viral', 'not_viral', 'not_viral', 'not_viral', 'not_viral', 'not_viral', 'not_viral', 'not_viral', 'not_viral', 'not_viral', 'not_viral', 'not_viral', 'not_viral', 'not_viral', 'not_viral', 'not_viral', 'not_viral', 'not_viral', 'not_viral', 'not_viral', 'not_viral', 'not_viral', 'not_viral', 'not_viral', 'not_viral', 'not_viral', 'not_viral', 'not_viral', 'not_viral', 'not_viral', 'not_viral', 'not_viral', 'not_viral', 'not_viral', 'not_viral', 'not_viral', 'not_viral', 'not_viral', 'not_viral', 'not_viral', 'not_viral', 'not_viral', 'not_viral', 'not_viral', 'not_viral', 'not_viral', 'not_viral', 'not_viral', 'not_viral', 'not_viral', 'not_viral', 'not_viral', 'not_viral', 'not_viral', 'not_viral', 'not_viral', 'not_viral', 'not_viral', 'not_viral', 'not_viral', 'not_viral', 'not_viral', 'not_viral', 'not_viral', 'not_viral', 'not_viral', 'not_viral', 'not_viral', 'not_viral', 'not_viral', 'not_viral', 'not_viral', 'not_viral', 'not_viral', 'not_viral', 'not_viral', 'not_viral', 'not_viral', 'not_viral', 'not_viral', 'not_viral', 'not_viral', 'not_viral', 'not_viral', 'not_viral', 'not_viral', 'not_viral', 'not_viral', 'not_viral', 'not_viral', 'not_viral', 'not_viral', 'not_viral', 'not_viral', 'not_viral', 'not_viral', 'not_viral', 'not_viral', 'not_viral', 'not_viral', 'not_viral', 'not_viral', 'not_viral', 'not_viral', 'not_viral', 'not_viral', 'not_viral', 'not_viral', 'not_viral', 'not_viral', 'not_viral', 'not_viral', 'not_viral', 'not_viral', 'not_viral', 'not_viral', 'not_viral', 'not_viral', 'not_viral', 'not_viral', 'not_viral', 'not_viral', 'not_viral', 'not_viral', 'not_viral', 'not_viral', 'not_viral', 'not_viral', 'not_viral', 'not_viral', 'not_viral', 'not_viral', 'not_viral', 'not_viral', 'not_viral', 'not_viral', 'not_viral', 'not_viral', 'not_viral', 'not_viral', 'not_viral', 'not_viral', 'not_viral', 'not_viral', 'not_viral', 'not_viral', 'not_viral', 'not_viral', 'not_viral', 'not_viral', 'not_viral', 'not_viral', 'not_viral', 'not_viral', 'not_viral', 'not_viral', 'not_viral', 'not_viral', 'not_viral', 'not_viral', 'not_viral', 'not_viral', 'not_viral', 'not_viral', 'not_viral', 'not_viral', 'not_viral', 'not_viral', 'not_viral', 'not_viral', 'not_viral', 'not_viral', 'not_viral', 'not_viral', 'not_viral', 'not_viral', 'not_viral', 'not_viral', 'not_viral', 'not_viral', 'not_viral', 'not_viral', 'not_viral', 'not_viral', 'not_viral', 'not_viral', 'not_viral', 'not_viral', 'not_viral', 'not_viral', 'not_viral', 'not_viral', 'not_viral', 'not_viral', 'not_viral', 'not_viral', 'not_viral', 'not_viral', 'not_viral', 'not_viral', 'not_viral', 'not_viral', 'not_viral', 'not_viral', 'not_viral', 'not_viral', 'not_viral', 'not_viral', 'not_viral', 'not_viral', 'not_viral', 'not_viral', 'not_viral', 'not_viral', 'not_viral', 'not_viral', 'not_viral', 'not_viral', 'not_viral', 'not_viral', 'not_viral', 'not_viral', 'not_viral', 'not_viral', 'not_viral', 'not_viral', 'not_viral', 'not_viral', 'not_viral', 'not_viral', 'not_viral', 'not_viral', 'not_viral', 'not_viral', 'not_viral', 'not_viral', 'not_viral', 'not_viral', 'not_viral', 'not_viral', 'not_viral', 'not_viral', 'not_viral', 'not_viral', 'not_viral', 'not_viral', 'not_viral', 'not_viral', 'not_viral', 'not_viral', 'not_viral', 'not_viral', 'not_viral', 'not_viral', 'not_viral', 'not_viral', 'not_viral', 'not_viral', 'not_viral', 'not_viral', 'not_viral', 'not_viral', 'not_viral', 'not_viral', 'not_viral', 'not_viral', 'not_viral', 'not_viral', 'not_viral', 'not_viral', 'not_viral', 'not_viral', 'not_viral', 'not_viral', 'not_viral', 'not_viral', 'not_viral', 'not_viral', 'not_viral', 'not_viral', 'not_viral', 'not_viral', 'not_viral', 'not_viral', 'not_viral', 'not_viral', 'not_viral', 'not_viral', 'not_viral', 'not_viral', 'not_viral', 'not_viral', 'not_viral', 'not_viral', 'not_viral', 'not_viral', 'not_viral', 'not_viral', 'not_viral', 'not_viral', 'not_viral', 'not_viral', 'not_viral', 'not_viral', 'not_viral', 'not_viral', 'not_viral', 'not_viral', 'not_viral', 'not_viral', 'not_viral', 'not_viral', 'not_viral', 'not_viral', 'not_viral', 'not_viral', 'not_viral', 'not_viral', 'not_viral', 'not_viral', 'not_viral', 'not_viral', 'not_viral', 'not_viral', 'not_viral', 'not_viral', 'not_viral', 'not_viral', 'not_viral', 'not_viral', 'not_viral', 'not_viral', 'not_viral', 'not_viral', 'not_viral', 'not_viral', 'not_viral', 'not_viral', 'not_viral', 'not_viral', 'not_viral', 'not_viral', 'not_viral', 'not_viral', 'not_viral', 'not_viral', 'not_viral', 'not_viral', 'not_viral', 'not_viral', 'not_viral', 'not_viral', 'not_viral', 'not_viral', 'not_viral', 'not_viral', 'not_viral', 'not_viral', 'not_viral', 'not_viral', 'not_viral', 'not_viral', 'not_viral', 'not_viral', 'not_viral', 'not_viral', 'not_viral', 'not_viral', 'not_viral', 'not_viral', 'not_viral', 'not_viral', 'not_viral', 'not_viral', 'not_viral', 'not_viral', 'not_viral', 'not_viral', 'not_viral', 'not_viral', 'not_viral', 'not_viral', 'not_viral', 'not_viral', 'not_viral', 'not_viral', 'not_viral', 'not_viral', 'not_viral', 'not_viral', 'not_viral', 'not_viral', 'not_viral', 'not_viral', 'not_viral', 'not_viral', 'not_viral', 'not_viral', 'not_viral', 'not_viral', 'not_viral', 'not_viral', 'not_viral', 'not_viral', 'not_viral', 'not_viral', 'not_viral', 'not_viral', 'not_viral', 'not_viral', 'not_viral', 'not_viral', 'not_viral', 'not_viral', 'not_viral', 'not_viral', 'not_viral', 'not_viral', 'not_viral', 'not_viral', 'not_viral', 'not_viral', 'not_viral', 'not_viral', 'not_viral', 'not_viral', 'not_viral', 'not_viral', 'not_viral', 'not_viral', 'not_viral', 'not_viral', 'not_viral', 'not_viral', 'not_viral', 'not_viral', 'not_viral', 'not_viral', 'not_viral', 'not_viral', 'not_viral', 'not_viral', 'not_viral', 'not_viral', 'not_viral', 'not_viral', 'not_viral', 'not_viral', 'not_viral', 'not_viral', 'not_viral', 'not_viral', 'not_viral', 'not_viral', 'not_viral', 'not_viral', 'not_viral', 'not_viral', 'not_viral', 'not_viral', 'not_viral', 'not_viral', 'not_viral', 'not_viral', 'not_viral', 'not_viral', 'not_viral', 'not_viral', 'not_viral', 'not_viral', 'not_viral', 'not_viral', 'not_viral', 'not_viral', 'not_viral', 'not_viral', 'not_viral', 'not_viral', 'not_viral', 'not_viral', 'not_viral', 'not_viral', 'not_viral', 'not_viral', 'not_viral', 'not_viral', 'not_viral', 'not_viral', 'not_viral', 'not_viral', 'not_viral', 'not_viral', 'not_viral', 'not_viral', 'not_viral', 'not_viral', 'not_viral', 'not_viral', 'not_viral', 'not_viral', 'not_viral', 'not_viral', 'not_viral', 'not_viral', 'not_viral', 'not_viral', 'not_viral', 'not_viral', 'not_viral', 'not_viral', 'not_viral', 'not_viral', 'not_viral', 'not_viral', 'not_viral', 'not_viral', 'not_viral', 'not_viral', 'not_viral', 'not_viral', 'not_viral', 'not_viral', 'not_viral', 'not_viral', 'not_viral', 'not_viral', 'not_viral', 'not_viral', 'not_viral', 'not_viral', 'not_viral', 'not_viral', 'not_viral', 'not_viral', 'not_viral', 'not_viral', 'not_viral', 'not_viral', 'not_viral', 'not_viral', 'not_viral', 'not_viral', 'not_viral', 'not_viral', 'not_viral', 'not_viral', 'not_viral', 'not_viral', 'not_viral', 'not_viral', 'not_viral', 'not_viral', 'not_viral', 'not_viral', 'not_viral', 'not_viral', 'not_viral', 'not_viral', 'not_viral', 'not_viral', 'not_viral', 'not_viral', 'not_viral', 'not_viral', 'not_viral', 'not_viral', 'not_viral', 'not_viral', 'not_viral', 'not_viral', 'not_viral', 'not_viral', 'not_viral', 'not_viral', 'not_viral', 'not_viral', 'not_viral', 'not_viral', 'not_viral', 'not_viral', 'not_viral', 'not_viral', 'not_viral', 'not_viral', 'not_viral', 'not_viral', 'not_viral', 'not_viral', 'not_viral', 'not_viral', 'not_viral', 'not_viral', 'not_viral', 'not_viral', 'not_viral', 'not_viral', 'not_viral', 'not_viral', 'not_viral', 'not_viral', 'not_viral', 'not_viral', 'not_viral', 'not_viral', 'not_viral', 'not_viral', 'not_viral', 'not_viral', 'not_viral', 'not_viral', 'not_viral', 'not_viral', 'not_viral', 'not_viral', 'not_viral', 'not_viral', 'not_viral', 'not_viral', 'not_viral', 'not_viral', 'not_viral', 'not_viral', 'not_viral', 'not_viral', 'not_viral', 'not_viral', 'not_viral', 'not_viral', 'not_viral', 'not_viral', 'not_viral', 'not_viral', 'not_viral', 'not_viral', 'not_viral', 'not_viral', 'not_viral', 'not_viral', 'not_viral', 'not_viral', 'not_viral', 'not_viral', 'not_viral', 'not_viral', 'not_viral', 'not_viral', 'not_viral', 'not_viral', 'not_viral', 'not_viral', 'not_viral', 'not_viral', 'not_viral', 'not_viral', 'not_viral', 'not_viral', 'not_viral', 'not_viral', 'not_viral', 'not_viral', 'not_viral', 'not_viral', 'not_viral', 'not_viral', 'not_viral', 'not_viral', 'not_viral', 'not_viral', 'not_viral', 'not_viral', 'not_viral', 'not_viral', 'not_viral', 'not_viral', 'not_viral', 'not_viral', 'not_viral', 'not_viral', 'not_viral', 'not_viral', 'not_viral', 'not_viral', 'not_viral', 'not_viral', 'not_viral', 'not_viral', 'not_viral', 'not_viral', 'not_viral', 'not_viral', 'not_viral', 'not_viral', 'not_viral', 'not_viral', 'not_viral', 'not_viral', 'not_viral', 'not_viral', 'not_viral', 'not_viral', 'not_viral', 'not_viral', 'not_viral', 'not_viral', 'not_viral', 'not_viral', 'not_viral', 'not_viral', 'not_viral', 'not_viral', 'not_viral', 'not_viral', 'not_viral', 'not_viral', 'not_viral', 'not_viral', 'not_viral', 'not_viral', 'not_viral', 'not_viral', 'not_viral', 'not_viral', 'not_viral', 'not_viral', 'not_viral', 'not_viral', 'not_viral', 'not_viral', 'not_viral', 'not_viral', 'not_viral', 'not_viral', 'not_viral', 'not_viral', 'not_viral', 'not_viral', 'not_viral', 'not_viral', 'not_viral', 'not_viral', 'not_viral', 'not_viral', 'not_viral', 'not_viral', 'not_viral', 'not_viral', 'not_viral', 'not_viral', 'not_viral', 'not_viral', 'not_viral', 'not_viral', 'not_viral', 'not_viral', 'not_viral', 'not_viral', 'not_viral', 'not_viral', 'not_viral', 'not_viral', 'not_viral', 'not_viral', 'not_viral', 'not_viral', 'not_viral', 'not_viral', 'not_viral', 'not_viral', 'not_viral', 'not_viral', 'not_viral', 'not_viral', 'not_viral', 'not_viral', 'not_viral', 'not_viral', 'not_viral', 'not_viral', 'not_viral', 'not_viral', 'not_viral', 'not_viral', 'not_viral', 'not_viral', 'not_viral', 'not_viral', 'not_viral', 'not_viral', 'not_viral', 'not_viral', 'not_viral', 'not_viral', 'not_viral', 'not_viral', 'not_viral', 'not_viral', 'not_viral', 'not_viral', 'not_viral', 'not_viral', 'not_viral', 'not_viral', 'not_viral', 'not_viral', 'not_viral', 'not_viral', 'not_viral', 'not_viral', 'not_viral', 'not_viral', 'not_viral', 'not_viral', 'not_viral', 'not_viral', 'not_viral', 'not_viral', 'not_viral', 'not_viral', 'not_viral', 'not_viral', 'not_viral', 'not_viral', 'not_viral', 'not_viral', 'not_viral', 'not_viral', 'not_viral', 'not_viral', 'not_viral', 'not_viral', 'not_viral', 'not_viral', 'not_viral', 'not_viral', 'not_viral', 'not_viral', 'not_viral', 'not_viral', 'not_viral', 'not_viral', 'not_viral', 'not_viral', 'not_viral', 'not_viral', 'not_viral', 'not_viral', 'not_viral', 'not_viral', 'not_viral', 'not_viral', 'not_viral', 'not_viral', 'not_viral', 'not_viral', 'not_viral', 'not_viral', 'not_viral', 'not_viral', 'not_viral', 'not_viral', 'not_viral', 'not_viral', 'not_viral', 'not_viral', 'not_viral', 'not_viral', 'not_viral', 'not_viral', 'not_viral', 'not_viral', 'not_viral', 'not_viral', 'not_viral', 'not_viral', 'not_viral', 'not_viral', 'not_viral', 'not_viral', 'not_viral', 'not_viral', 'not_viral', 'not_viral', 'not_viral', 'not_viral', 'not_viral', 'not_viral', 'not_viral', 'not_viral', 'not_viral', 'not_viral', 'not_viral', 'not_viral', 'not_viral', 'not_viral', 'not_viral', 'not_viral', 'not_viral', 'not_viral', 'not_viral', 'not_viral', 'not_viral', 'not_viral', 'not_viral', 'not_viral', 'not_viral', 'not_viral', 'not_viral', 'not_viral', 'not_viral', 'not_viral', 'not_viral', 'not_viral', 'not_viral', 'not_viral', 'not_viral', 'not_viral', 'not_viral', 'not_viral', 'not_viral', 'not_viral', 'not_viral', 'not_viral', 'not_viral', 'not_viral', 'not_viral', 'not_viral', 'not_viral', 'not_viral', 'not_viral', 'not_viral', 'not_viral', 'not_viral', 'not_viral', 'not_viral', 'not_viral', 'not_viral', 'not_viral', 'not_viral', 'not_viral', 'not_viral', 'not_viral', 'not_viral', 'not_viral', 'not_viral', 'not_viral', 'not_viral', 'not_viral', 'not_viral', 'not_viral', 'not_viral', 'not_viral', 'not_viral', 'not_viral', 'not_viral', 'not_viral', 'not_viral', 'not_viral', 'not_viral', 'not_viral', 'not_viral', 'not_viral', 'not_viral', 'not_viral', 'not_viral', 'not_viral', 'not_viral', 'not_viral', 'not_viral', 'not_viral', 'not_viral', 'not_viral', 'not_viral', 'not_viral', 'not_viral', 'not_viral', 'not_viral', 'not_viral', 'not_viral', 'not_viral', 'not_viral', 'not_viral', 'not_viral', 'not_viral', 'not_viral', 'not_viral', 'not_viral', 'not_viral', 'not_viral', 'not_viral', 'not_viral', 'not_viral', 'not_viral', 'not_viral', 'not_viral', 'not_viral', 'not_viral', 'not_viral', 'not_viral', 'not_viral', 'not_viral', 'not_viral', 'not_viral', 'not_viral', 'not_viral', 'not_viral', 'not_viral', 'not_viral', 'not_viral', 'not_viral', 'not_viral', 'not_viral', 'not_viral', 'not_viral', 'not_viral', 'not_viral', 'not_viral', 'not_viral', 'not_viral', 'not_viral', 'not_viral', 'not_viral', 'not_viral', 'not_viral', 'not_viral', 'not_viral', 'not_viral', 'not_viral', 'not_viral', 'not_viral', 'not_viral', 'not_viral', 'not_viral', 'not_viral', 'not_viral', 'not_viral', 'not_viral', 'not_viral', 'not_viral', 'not_viral', 'not_viral', 'not_viral', 'not_viral', 'not_viral', 'not_viral', 'not_viral', 'not_viral', 'not_viral', 'not_viral', 'not_viral', 'not_viral', 'not_viral', 'not_viral', 'not_viral', 'not_viral', 'not_viral', 'not_viral', 'not_viral', 'not_viral', 'not_viral', 'not_viral', 'not_viral', 'not_viral', 'not_viral', 'not_viral', 'not_viral', 'not_viral', 'not_viral', 'not_viral', 'not_viral', 'not_viral', 'not_viral', 'not_viral', 'not_viral', 'not_viral', 'not_viral', 'not_viral', 'not_viral', 'not_viral', 'not_viral', 'not_viral', 'not_viral', 'not_viral', 'not_viral', 'not_viral', 'not_viral', 'not_viral', 'not_viral', 'not_viral', 'not_viral', 'not_viral', 'not_viral', 'not_viral', 'not_viral', 'not_viral', 'not_viral', 'not_viral', 'not_viral', 'not_viral', 'not_viral', 'not_viral', 'not_viral', 'not_viral', 'not_viral', 'not_viral', 'not_viral', 'not_viral', 'not_viral', 'not_viral', 'not_viral', 'not_viral', 'not_viral', 'not_viral', 'not_viral', 'not_viral', 'not_viral', 'not_viral', 'not_viral', 'not_viral', 'not_viral', 'not_viral', 'not_viral', 'not_viral', 'not_viral', 'not_viral', 'not_viral', 'not_viral', 'not_viral', 'not_viral', 'not_viral', 'not_viral', 'not_viral', 'not_viral', 'not_viral', 'not_viral', 'not_viral', 'not_viral', 'not_viral', 'not_viral', 'not_viral', 'not_viral', 'not_viral', 'not_viral', 'not_viral', 'not_viral', 'not_viral', 'not_viral', 'not_viral', 'not_viral', 'not_viral', 'not_viral', 'not_viral', 'not_viral', 'not_viral', 'not_viral', 'not_viral', 'not_viral', 'not_viral', 'not_viral', 'not_viral', 'not_viral', 'not_viral', 'not_viral', 'not_viral', 'not_viral', 'not_viral', 'not_viral', 'not_viral', 'not_viral', 'not_viral', 'not_viral', 'not_viral', 'not_viral', 'not_viral', 'not_viral', 'not_viral', 'not_viral', 'not_viral', 'not_viral', 'not_viral', 'not_viral', 'not_viral', 'not_viral', 'not_viral', 'not_viral', 'not_viral', 'not_viral', 'not_viral', 'not_viral', 'not_viral', 'not_viral', 'not_viral', 'not_viral', 'not_viral', 'not_viral', 'not_viral', 'not_viral', 'not_viral', 'not_viral', 'not_viral', 'not_viral', 'not_viral', 'not_viral', 'not_viral', 'not_viral', 'not_viral', 'not_viral', 'not_viral', 'not_viral', 'not_viral', 'not_viral', 'not_viral', 'not_viral', 'not_viral', 'not_viral', 'not_viral', 'not_viral', 'not_viral', 'not_viral', 'not_viral', 'not_viral', 'not_viral', 'not_viral', 'not_viral', 'not_viral', 'not_viral', 'not_viral', 'not_viral', 'not_viral', 'not_viral', 'not_viral', 'not_viral', 'not_viral', 'not_viral', 'not_viral', 'not_viral', 'not_viral', 'not_viral', 'not_viral', 'not_viral', 'not_viral', 'not_viral', 'not_viral', 'not_viral', 'not_viral', 'not_viral', 'not_viral', 'not_viral', 'not_viral', 'not_viral', 'not_viral', 'not_viral', 'not_viral', 'not_viral', 'not_viral', 'not_viral', 'not_viral', 'not_viral', 'not_viral', 'not_viral', 'not_viral', 'not_viral', 'not_viral', 'not_viral', 'not_viral', 'not_viral', 'not_viral', 'not_viral', 'not_viral', 'not_viral', 'not_viral', 'not_viral', 'not_viral', 'not_viral', 'not_viral', 'not_viral', 'not_viral', 'not_viral', 'not_viral', 'not_viral', 'not_viral', 'not_viral', 'not_viral', 'not_viral', 'not_viral', 'not_viral', 'not_viral', 'not_viral', 'not_viral', 'not_viral', 'not_viral', 'not_viral', 'not_viral', 'not_viral', 'not_viral', 'not_viral', 'not_viral', 'not_viral', 'not_viral', 'not_viral', 'not_viral', 'not_viral', 'not_viral', 'not_viral', 'not_viral', 'not_viral', 'not_viral', 'not_viral', 'not_viral', 'not_viral', 'not_viral', 'not_viral', 'not_viral', 'not_viral', 'not_viral', 'not_viral', 'not_viral', 'not_viral', 'not_viral', 'not_viral', 'not_viral', 'not_viral', 'not_viral', 'not_viral', 'not_viral', 'not_viral', 'not_viral', 'not_viral', 'not_viral', 'not_viral', 'not_viral', 'not_viral', 'not_viral', 'not_viral', 'not_viral', 'not_viral', 'not_viral', 'not_viral', 'not_viral', 'not_viral', 'not_viral', 'not_viral', 'not_viral', 'not_viral', 'not_viral', 'not_viral', 'not_viral', 'not_viral', 'not_viral', 'not_viral', 'not_viral', 'not_viral', 'not_viral', 'not_viral', 'not_viral', 'not_viral', 'not_viral', 'not_viral', 'not_viral', 'not_viral', 'not_viral', 'not_viral', 'not_viral', 'not_viral', 'not_viral', 'not_viral', 'not_viral', 'not_viral', 'not_viral', 'not_viral', 'not_viral', 'not_viral', 'not_viral', 'not_viral', 'not_viral', 'not_viral', 'not_viral', 'not_viral', 'not_viral', 'not_viral', 'not_viral', 'not_viral', 'not_viral', 'not_viral', 'not_viral', 'not_viral', 'not_viral', 'not_viral', 'not_viral', 'not_viral', 'not_viral', 'not_viral', 'not_viral', 'not_viral', 'not_viral', 'not_viral', 'not_viral', 'not_viral', 'not_viral', 'not_viral', 'not_viral', 'not_viral', 'not_viral', 'not_viral', 'not_viral', 'not_viral', 'not_viral', 'not_viral', 'not_viral', 'not_viral', 'not_viral', 'not_viral', 'not_viral', 'not_viral', 'not_viral', 'not_viral', 'not_viral', 'not_viral', 'not_viral', 'not_viral', 'not_viral', 'not_viral', 'not_viral', 'not_viral', 'not_viral', 'not_viral', 'not_viral', 'not_viral', 'not_viral', 'not_viral', 'not_viral', 'not_viral', 'not_viral', 'not_viral', 'not_viral', 'not_viral', 'not_viral', 'not_viral', 'not_viral', 'not_viral', 'not_viral', 'not_viral', 'not_viral', 'not_viral', 'not_viral', 'not_viral', 'not_viral', 'not_viral', 'not_viral', 'not_viral', 'not_viral', 'not_viral', 'not_viral', 'not_viral', 'not_viral', 'not_viral', 'not_viral', 'not_viral', 'not_viral', 'not_viral', 'not_viral', 'not_viral', 'not_viral', 'not_viral', 'not_viral', 'not_viral', 'not_viral', 'not_viral', 'not_viral', 'not_viral', 'not_viral', 'not_viral', 'not_viral', 'not_viral', 'not_viral', 'not_viral', 'not_viral', 'not_viral', 'not_viral', 'not_viral', 'not_viral', 'not_viral', 'not_viral', 'not_viral', 'not_viral', 'not_viral', 'not_viral', 'not_viral', 'not_viral', 'not_viral', 'not_viral', 'not_viral', 'not_viral', 'not_viral', 'not_viral', 'not_viral', 'not_viral', 'not_viral', 'not_viral', 'not_viral', 'not_viral', 'not_viral', 'not_viral', 'not_viral', 'not_viral', 'not_viral', 'not_viral', 'not_viral', 'not_viral', 'not_viral', 'not_viral', 'not_viral', 'not_viral', 'not_viral', 'not_viral', 'not_viral', 'not_viral', 'not_viral', 'not_viral', 'not_viral', 'not_viral', 'not_viral', 'not_viral', 'not_viral', 'not_viral', 'not_viral', 'not_viral', 'not_viral', 'not_viral', 'not_viral', 'not_viral', 'not_viral', 'not_viral', 'not_viral', 'not_viral', 'not_viral', 'not_viral', 'not_viral', 'not_viral', 'not_viral', 'not_viral', 'not_viral', 'not_viral', 'not_viral', 'not_viral', 'not_viral', 'not_viral', 'not_viral', 'not_viral', 'not_viral', 'not_viral', 'not_viral', 'not_viral', 'not_viral', 'not_viral', 'not_viral', 'not_viral', 'not_viral', 'not_viral', 'not_viral', 'not_viral', 'not_viral', 'not_viral', 'not_viral', 'not_viral', 'not_viral', 'not_viral', 'not_viral', 'not_viral', 'not_viral', 'not_viral', 'not_viral', 'not_viral', 'not_viral', 'not_viral', 'not_viral', 'not_viral', 'not_viral', 'not_viral', 'not_viral', 'not_viral', 'not_viral', 'not_viral', 'not_viral', 'not_viral', 'not_viral', 'not_viral', 'not_viral', 'not_viral', 'not_viral', 'not_viral', 'not_viral', 'not_viral', 'not_viral', 'not_viral', 'not_viral', 'not_viral', 'not_viral', 'not_viral', 'not_viral', 'not_viral', 'not_viral', 'not_viral', 'not_viral', 'not_viral', 'not_viral', 'not_viral', 'not_viral', 'not_viral', 'not_viral', 'not_viral', 'not_viral', 'not_viral', 'not_viral', 'not_viral', 'not_viral', 'not_viral', 'not_viral', 'not_viral', 'not_viral', 'not_viral', 'not_viral', 'not_viral', 'not_viral', 'not_viral', 'not_viral', 'not_viral', 'not_viral', 'not_viral', 'not_viral', 'not_viral', 'not_viral', 'not_viral', 'not_viral', 'not_viral', 'not_viral', 'not_viral', 'not_viral', 'not_viral', 'not_viral', 'not_viral', 'not_viral', 'not_viral', 'not_viral', 'not_viral', 'not_viral', 'not_viral', 'not_viral', 'not_viral', 'not_viral', 'not_viral', 'not_viral', 'not_viral', 'not_viral', 'not_viral', 'not_viral', 'not_viral', 'not_viral', 'not_viral', 'not_viral', 'not_viral', 'not_viral', 'not_viral', 'not_viral', 'not_viral', 'not_viral', 'not_viral', 'not_viral', 'not_viral', 'not_viral', 'not_viral', 'not_viral', 'not_viral', 'not_viral', 'not_viral', 'not_viral', 'not_viral', 'not_viral', 'not_viral', 'not_viral', 'not_viral', 'not_viral', 'not_viral', 'not_viral', 'not_viral', 'not_viral', 'not_viral', 'not_viral', 'not_viral', 'not_viral', 'not_viral', 'not_viral', 'not_viral', 'not_viral', 'not_viral', 'not_viral', 'not_viral', 'not_viral', 'not_viral', 'not_viral', 'not_viral', 'not_viral', 'not_viral', 'not_viral', 'not_viral', 'not_viral', 'not_viral', 'not_viral', 'not_viral', 'not_viral', 'not_viral', 'not_viral', 'not_viral', 'not_viral', 'not_viral', 'not_viral', 'not_viral', 'not_viral', 'not_viral', 'not_viral', 'not_viral', 'not_viral', 'not_viral', 'not_viral', 'not_viral', 'not_viral', 'not_viral', 'not_viral', 'not_viral', 'not_viral', 'not_viral', 'not_viral', 'not_viral', 'not_viral', 'not_viral', 'not_viral', 'not_viral', 'not_viral', 'not_viral', 'not_viral', 'not_viral', 'not_viral', 'not_viral', 'not_viral', 'not_viral', 'not_viral', 'not_viral', 'not_viral', 'not_viral', 'not_viral', 'not_viral', 'not_viral', 'not_viral', 'not_viral', 'not_viral', 'not_viral', 'not_viral', 'not_viral', 'not_viral', 'not_viral', 'not_viral', 'not_viral', 'not_viral', 'not_viral', 'not_viral', 'not_viral', 'not_viral', 'not_viral', 'not_viral', 'not_viral', 'not_viral', 'not_viral', 'not_viral', 'not_viral', 'not_viral', 'not_viral', 'not_viral', 'not_viral', 'not_viral', 'not_viral', 'not_viral', 'not_viral', 'not_viral', 'not_viral', 'not_viral', 'not_viral', 'not_viral', 'not_viral', 'not_viral', 'not_viral', 'not_viral', 'not_viral', 'not_viral', 'not_viral', 'not_viral', 'not_viral', 'not_viral', 'not_viral', 'not_viral', 'not_viral', 'not_viral', 'not_viral', 'not_viral', 'not_viral', 'not_viral', 'not_viral', 'not_viral', 'not_viral', 'not_viral', 'not_viral', 'not_viral', 'not_viral', 'not_viral', 'not_viral', 'not_viral', 'not_viral', 'not_viral', 'not_viral', 'not_viral', 'not_viral', 'not_viral', 'not_viral', 'not_viral', 'not_viral', 'not_viral', 'not_viral', 'not_viral', 'not_viral', 'not_viral', 'not_viral', 'not_viral', 'not_viral', 'not_viral', 'not_viral', 'not_viral', 'not_viral', 'not_viral', 'not_viral', 'not_viral', 'not_viral', 'not_viral', 'not_viral', 'not_viral', 'not_viral', 'not_viral', 'not_viral', 'not_viral', 'not_viral', 'not_viral', 'not_viral', 'not_viral', 'not_viral', 'not_viral', 'not_viral', 'not_viral', 'not_viral', 'not_viral', 'not_viral', 'not_viral', 'not_viral', 'not_viral', 'not_viral', 'not_viral', 'not_viral', 'not_viral', 'not_viral', 'not_viral', 'not_viral', 'not_viral', 'not_viral', 'not_viral', 'not_viral', 'not_viral', 'not_viral', 'not_viral', 'not_viral', 'not_viral', 'not_viral', 'not_viral', 'not_viral', 'not_viral', 'not_viral', 'not_viral', 'not_viral', 'not_viral', 'not_viral', 'not_viral', 'not_viral', 'not_viral', 'not_viral', 'not_viral', 'not_viral', 'not_viral', 'not_viral', 'not_viral', 'not_viral', 'not_viral', 'not_viral', 'not_viral', 'not_viral', 'not_viral', 'not_viral', 'not_viral', 'not_viral', 'not_viral', 'not_viral', 'not_viral', 'not_viral', 'not_viral', 'not_viral', 'not_viral', 'not_viral', 'not_viral', 'not_viral', 'not_viral', 'not_viral', 'not_viral', 'not_viral', 'not_viral', 'not_viral', 'not_viral', 'not_viral', 'not_viral', 'not_viral', 'not_viral', 'not_viral', 'not_viral', 'not_viral', 'not_viral', 'not_viral', 'not_viral', 'not_viral', 'not_viral', 'not_viral', 'not_viral', 'not_viral', 'not_viral', 'not_viral', 'not_viral', 'not_viral', 'not_viral', 'not_viral', 'not_viral', 'not_viral', 'not_viral', 'not_viral', 'not_viral', 'not_viral', 'not_viral', 'not_viral', 'not_viral', 'not_viral', 'not_viral', 'not_viral', 'not_viral', 'not_viral', 'not_viral', 'not_viral', 'not_viral', 'not_viral', 'not_viral', 'not_viral', 'not_viral', 'not_viral', 'not_viral', 'not_viral', 'not_viral', 'not_viral', 'not_viral', 'not_viral', 'not_viral', 'not_viral', 'not_viral', 'not_viral', 'not_viral', 'not_viral', 'not_viral', 'not_viral', 'not_viral', 'not_viral', 'not_viral', 'not_viral', 'not_viral', 'not_viral', 'not_viral', 'not_viral', 'not_viral', 'not_viral', 'not_viral', 'not_viral', 'not_viral', 'not_viral', 'not_viral', 'not_viral', 'not_viral', 'not_viral', 'not_viral', 'not_viral', 'not_viral', 'not_viral', 'not_viral', 'not_viral', 'not_viral', 'not_viral', 'not_viral', 'not_viral', 'not_viral', 'not_viral', 'not_viral', 'not_viral', 'not_viral', 'not_viral', 'not_viral', 'not_viral', 'not_viral', 'not_viral', 'not_viral', 'not_viral', 'not_viral', 'not_viral', 'not_viral', 'not_viral', 'not_viral', 'not_viral', 'not_viral', 'not_viral', 'not_viral', 'not_viral', 'not_viral', 'not_viral', 'not_viral', 'not_viral', 'not_viral', 'not_viral', 'not_viral', 'not_viral', 'not_viral', 'not_viral', 'not_viral', 'not_viral', 'not_viral', 'not_viral', 'not_viral', 'not_viral', 'not_viral', 'not_viral', 'not_viral', 'not_viral', 'not_viral', 'not_viral', 'not_viral', 'not_viral', 'not_viral', 'not_viral', 'not_viral', 'not_viral', 'not_viral', 'not_viral', 'not_viral', 'not_viral', 'not_viral', 'not_viral', 'not_viral', 'not_viral', 'not_viral', 'not_viral', 'not_viral', 'not_viral', 'not_viral', 'not_viral', 'not_viral', 'not_viral', 'not_viral', 'not_viral', 'not_viral', 'not_viral', 'not_viral', 'not_viral', 'not_viral', 'not_viral', 'not_viral', 'not_viral', 'not_viral', 'not_viral', 'not_viral', 'not_viral', 'not_viral', 'not_viral', 'not_viral', 'not_viral', 'not_viral', 'not_viral', 'not_viral', 'not_viral', 'not_viral', 'not_viral', 'not_viral', 'not_viral', 'not_viral', 'not_viral', 'not_viral', 'not_viral', 'not_viral', 'not_viral', 'not_viral', 'not_viral', 'not_viral', 'not_viral', 'not_viral', 'not_viral', 'not_viral', 'not_viral', 'not_viral', 'not_viral', 'not_viral', 'not_viral', 'not_viral', 'not_viral', 'not_viral', 'not_viral', 'not_viral', 'not_viral', 'not_viral', 'not_viral', 'not_viral', 'not_viral', 'not_viral', 'not_viral', 'not_viral', 'not_viral', 'not_viral', 'not_viral', 'not_viral', 'not_viral', 'not_viral', 'not_viral', 'not_viral', 'not_viral', 'not_viral', 'not_viral', 'not_viral', 'not_viral', 'not_viral', 'not_viral', 'not_viral', 'not_viral', 'not_viral', 'not_viral', 'not_viral', 'not_viral', 'not_viral', 'not_viral', 'not_viral', 'not_viral', 'not_viral', 'not_viral', 'not_viral', 'not_viral', 'not_viral', 'not_viral', 'not_viral', 'not_viral', 'not_viral', 'not_viral', 'not_viral', 'not_viral', 'not_viral', 'not_viral', 'not_viral', 'not_viral', 'not_viral', 'not_viral', 'not_viral', 'not_viral', 'not_viral', 'not_viral', 'not_viral', 'not_viral', 'not_viral', 'not_viral', 'not_viral', 'not_viral', 'not_viral', 'not_viral', 'not_viral', 'not_viral', 'not_viral', 'not_viral', 'not_viral', 'not_viral', 'not_viral', 'not_viral', 'not_viral', 'not_viral', 'not_viral', 'not_viral', 'not_viral', 'not_viral', 'not_viral', 'not_viral', 'not_viral', 'not_viral', 'not_viral', 'not_viral', 'not_viral', 'not_viral', 'not_viral', 'not_viral', 'not_viral', 'not_viral', 'not_viral', 'not_viral', 'not_viral', 'not_viral', 'not_viral', 'not_viral', 'not_viral', 'not_viral', 'not_viral', 'not_viral', 'not_viral', 'not_viral', 'not_viral', 'not_viral', 'not_viral', 'not_viral', 'not_viral', 'not_viral', 'not_viral', 'not_viral', 'not_viral', 'not_viral', 'not_viral', 'not_viral', 'not_viral', 'not_viral', 'not_viral', 'not_viral', 'not_viral', 'not_viral', 'not_viral', 'not_viral', 'not_viral', 'not_viral', 'not_viral', 'not_viral', 'not_viral', 'not_viral', 'not_viral', 'not_viral', 'not_viral', 'not_viral', 'not_viral', 'not_viral', 'not_viral', 'not_viral', 'not_viral', 'not_viral', 'not_viral', 'not_viral', 'not_viral', 'not_viral', 'not_viral', 'not_viral', 'not_viral', 'not_viral', 'not_viral', 'not_viral', 'not_viral', 'not_viral', 'not_viral', 'not_viral', 'not_viral', 'not_viral', 'not_viral', 'not_viral', 'not_viral', 'not_viral', 'not_viral', 'not_viral', 'not_viral', 'not_viral', 'not_viral', 'not_viral', 'not_viral', 'not_viral', 'not_viral', 'not_viral', 'not_viral', 'not_viral', 'not_viral', 'not_viral', 'not_viral', 'not_viral', 'not_viral', 'not_viral', 'not_viral', 'not_viral', 'not_viral', 'not_viral', 'not_viral', 'not_viral', 'not_viral', 'not_viral', 'not_viral', 'not_viral', 'not_viral', 'not_viral', 'not_viral', 'not_viral', 'not_viral', 'not_viral', 'not_viral', 'not_viral', 'not_viral', 'not_viral', 'not_viral', 'not_viral', 'not_viral', 'not_viral', 'not_viral', 'not_viral', 'not_viral', 'not_viral', 'not_viral', 'not_viral', 'not_viral', 'not_viral', 'not_viral', 'not_viral', 'not_viral', 'not_viral', 'not_viral', 'not_viral', 'not_viral', 'not_viral', 'not_viral', 'not_viral', 'not_viral', 'not_viral', 'not_viral', 'not_viral', 'not_viral', 'not_viral', 'not_viral', 'not_viral', 'not_viral', 'not_viral', 'not_viral', 'not_viral', 'not_viral', 'not_viral', 'not_viral', 'not_viral', 'not_viral', 'not_viral', 'not_viral', 'not_viral', 'not_viral', 'not_viral', 'not_viral', 'not_viral', 'not_viral', 'not_viral', 'not_viral', 'not_viral', 'not_viral', 'not_viral', 'not_viral', 'not_viral', 'not_viral', 'not_viral', 'not_viral', 'not_viral', 'not_viral', 'not_viral', 'not_viral', 'not_viral', 'not_viral', 'not_viral', 'not_viral', 'not_viral', 'not_viral', 'not_viral', 'not_viral', 'not_viral', 'not_viral', 'not_viral', 'not_viral', 'not_viral', 'not_viral', 'not_viral', 'not_viral', 'not_viral', 'not_viral', 'not_viral', 'not_viral', 'not_viral', 'not_viral', 'not_viral', 'not_viral', 'not_viral', 'not_viral', 'not_viral', 'not_viral', 'not_viral', 'not_viral', 'not_viral', 'not_viral', 'not_viral', 'not_viral', 'not_viral', 'not_viral', 'not_viral', 'not_viral', 'not_viral', 'not_viral', 'not_viral', 'not_viral', 'not_viral', 'not_viral', 'not_viral', 'not_viral', 'not_viral', 'not_viral', 'not_viral', 'not_viral', 'not_viral', 'not_viral', 'not_viral', 'not_viral', 'not_viral', 'not_viral', 'not_viral', 'not_viral', 'not_viral', 'not_viral', 'not_viral', 'not_viral', 'not_viral', 'not_viral', 'not_viral', 'not_viral', 'not_viral', 'not_viral', 'not_viral', 'not_viral', 'not_viral', 'not_viral', 'not_viral', 'not_viral', 'not_viral', 'not_viral', 'not_viral', 'not_viral', 'not_viral', 'not_viral', 'not_viral', 'not_viral', 'not_viral', 'not_viral', 'not_viral', 'not_viral', 'not_viral', 'not_viral', 'not_viral', 'not_viral', 'not_viral', 'not_viral', 'not_viral', 'not_viral', 'not_viral', 'not_viral', 'not_viral', 'not_viral', 'not_viral', 'not_viral', 'not_viral', 'not_viral', 'not_viral', 'not_viral', 'not_viral']\n"
          ]
        }
      ]
    },
    {
      "cell_type": "code",
      "source": [
        "len(textcat.predict(docs))"
      ],
      "metadata": {
        "colab": {
          "base_uri": "https://localhost:8080/"
        },
        "id": "g_PtYi0jG3mn",
        "outputId": "16ef8aa3-3368-4710-d395-50274536257e"
      },
      "execution_count": 15,
      "outputs": [
        {
          "output_type": "execute_result",
          "data": {
            "text/plain": [
              "100"
            ]
          },
          "metadata": {},
          "execution_count": 15
        }
      ]
    },
    {
      "cell_type": "code",
      "source": [
        "[textcat.labels[label] for label in predicted_labels][:2]"
      ],
      "metadata": {
        "colab": {
          "base_uri": "https://localhost:8080/"
        },
        "id": "GZ0vJTEkNpl3",
        "outputId": "0325f71d-e96a-46f4-93a0-738185675ad7"
      },
      "execution_count": 43,
      "outputs": [
        {
          "output_type": "execute_result",
          "data": {
            "text/plain": [
              "['not_viral', 'not_viral']"
            ]
          },
          "metadata": {},
          "execution_count": 43
        }
      ]
    },
    {
      "cell_type": "code",
      "source": [
        "textcat.predict([nlp.tokenizer(text) for text in test_df['title']]).argmax(axis=1)"
      ],
      "metadata": {
        "colab": {
          "base_uri": "https://localhost:8080/"
        },
        "id": "Sq4oALiNXs4H",
        "outputId": "7aad6963-eadf-4351-c606-e112532010df"
      },
      "execution_count": 34,
      "outputs": [
        {
          "output_type": "execute_result",
          "data": {
            "text/plain": [
              "array([1, 1, 1, ..., 1, 1, 1])"
            ]
          },
          "metadata": {},
          "execution_count": 34
        }
      ]
    },
    {
      "cell_type": "code",
      "source": [
        "[textcat.labels[label] for label in textcat.predict([nlp.tokenizer(text) for text in test_df['title']]).argmax(axis=1)][:2]"
      ],
      "metadata": {
        "colab": {
          "base_uri": "https://localhost:8080/"
        },
        "id": "jc4m4cZ8Xz_m",
        "outputId": "d039af36-e71b-47a3-c7f6-926b7255e7a5"
      },
      "execution_count": 35,
      "outputs": [
        {
          "output_type": "execute_result",
          "data": {
            "text/plain": [
              "['not_viral', 'not_viral']"
            ]
          },
          "metadata": {},
          "execution_count": 35
        }
      ]
    },
    {
      "cell_type": "code",
      "source": [
        "textcat.score([nlp.tokenizer(text) for text in test_df['title']])"
      ],
      "metadata": {
        "colab": {
          "base_uri": "https://localhost:8080/",
          "height": 324
        },
        "id": "W5KTFrNmZG-1",
        "outputId": "e0893626-9fa0-4ca2-a94d-10c3f59cb299"
      },
      "execution_count": 38,
      "outputs": [
        {
          "output_type": "error",
          "ename": "AttributeError",
          "evalue": "ignored",
          "traceback": [
            "\u001b[0;31m---------------------------------------------------------------------------\u001b[0m",
            "\u001b[0;31mAttributeError\u001b[0m                            Traceback (most recent call last)",
            "\u001b[0;32m<ipython-input-38-fa3ee8499536>\u001b[0m in \u001b[0;36m<module>\u001b[0;34m()\u001b[0m\n\u001b[0;32m----> 1\u001b[0;31m \u001b[0mtextcat\u001b[0m\u001b[0;34m.\u001b[0m\u001b[0mscore\u001b[0m\u001b[0;34m(\u001b[0m\u001b[0;34m[\u001b[0m\u001b[0mnlp\u001b[0m\u001b[0;34m.\u001b[0m\u001b[0mtokenizer\u001b[0m\u001b[0;34m(\u001b[0m\u001b[0mtext\u001b[0m\u001b[0;34m)\u001b[0m \u001b[0;32mfor\u001b[0m \u001b[0mtext\u001b[0m \u001b[0;32min\u001b[0m \u001b[0mtest_df\u001b[0m\u001b[0;34m[\u001b[0m\u001b[0;34m'title'\u001b[0m\u001b[0;34m]\u001b[0m\u001b[0;34m]\u001b[0m\u001b[0;34m)\u001b[0m\u001b[0;34m\u001b[0m\u001b[0;34m\u001b[0m\u001b[0m\n\u001b[0m",
            "\u001b[0;32m/usr/local/lib/python3.7/dist-packages/spacy/pipeline/pipe.pyx\u001b[0m in \u001b[0;36mspacy.pipeline.pipe.Pipe.score\u001b[0;34m()\u001b[0m\n",
            "\u001b[0;32m/usr/local/lib/python3.7/dist-packages/spacy/pipeline/textcat.py\u001b[0m in \u001b[0;36mtextcat_score\u001b[0;34m(examples, **kwargs)\u001b[0m\n\u001b[1;32m    115\u001b[0m         \u001b[0;34m\"cats\"\u001b[0m\u001b[0;34m,\u001b[0m\u001b[0;34m\u001b[0m\u001b[0;34m\u001b[0m\u001b[0m\n\u001b[1;32m    116\u001b[0m         \u001b[0mmulti_label\u001b[0m\u001b[0;34m=\u001b[0m\u001b[0;32mFalse\u001b[0m\u001b[0;34m,\u001b[0m\u001b[0;34m\u001b[0m\u001b[0;34m\u001b[0m\u001b[0m\n\u001b[0;32m--> 117\u001b[0;31m         \u001b[0;34m**\u001b[0m\u001b[0mkwargs\u001b[0m\u001b[0;34m,\u001b[0m\u001b[0;34m\u001b[0m\u001b[0;34m\u001b[0m\u001b[0m\n\u001b[0m\u001b[1;32m    118\u001b[0m     )\n\u001b[1;32m    119\u001b[0m \u001b[0;34m\u001b[0m\u001b[0m\n",
            "\u001b[0;32m/usr/local/lib/python3.7/dist-packages/spacy/scorer.py\u001b[0m in \u001b[0;36mscore_cats\u001b[0;34m(examples, attr, getter, labels, multi_label, positive_label, threshold, **cfg)\u001b[0m\n\u001b[1;32m    477\u001b[0m         \u001b[0;32mif\u001b[0m \u001b[0mlabels\u001b[0m\u001b[0;34m:\u001b[0m\u001b[0;34m\u001b[0m\u001b[0;34m\u001b[0m\u001b[0m\n\u001b[1;32m    478\u001b[0m             \u001b[0;32mfor\u001b[0m \u001b[0meg\u001b[0m \u001b[0;32min\u001b[0m \u001b[0mexamples\u001b[0m\u001b[0;34m:\u001b[0m\u001b[0;34m\u001b[0m\u001b[0;34m\u001b[0m\u001b[0m\n\u001b[0;32m--> 479\u001b[0;31m                 \u001b[0mlabels\u001b[0m\u001b[0;34m.\u001b[0m\u001b[0mupdate\u001b[0m\u001b[0;34m(\u001b[0m\u001b[0meg\u001b[0m\u001b[0;34m.\u001b[0m\u001b[0mpredicted\u001b[0m\u001b[0;34m.\u001b[0m\u001b[0mcats\u001b[0m\u001b[0;34m.\u001b[0m\u001b[0mkeys\u001b[0m\u001b[0;34m(\u001b[0m\u001b[0;34m)\u001b[0m\u001b[0;34m)\u001b[0m\u001b[0;34m\u001b[0m\u001b[0;34m\u001b[0m\u001b[0m\n\u001b[0m\u001b[1;32m    480\u001b[0m                 \u001b[0mlabels\u001b[0m\u001b[0;34m.\u001b[0m\u001b[0mupdate\u001b[0m\u001b[0;34m(\u001b[0m\u001b[0meg\u001b[0m\u001b[0;34m.\u001b[0m\u001b[0mreference\u001b[0m\u001b[0;34m.\u001b[0m\u001b[0mcats\u001b[0m\u001b[0;34m.\u001b[0m\u001b[0mkeys\u001b[0m\u001b[0;34m(\u001b[0m\u001b[0;34m)\u001b[0m\u001b[0;34m)\u001b[0m\u001b[0;34m\u001b[0m\u001b[0;34m\u001b[0m\u001b[0m\n\u001b[1;32m    481\u001b[0m         \u001b[0;32mfor\u001b[0m \u001b[0mexample\u001b[0m \u001b[0;32min\u001b[0m \u001b[0mexamples\u001b[0m\u001b[0;34m:\u001b[0m\u001b[0;34m\u001b[0m\u001b[0;34m\u001b[0m\u001b[0m\n",
            "\u001b[0;31mAttributeError\u001b[0m: 'spacy.tokens.doc.Doc' object has no attribute 'predicted'"
          ]
        }
      ]
    },
    {
      "cell_type": "code",
      "source": [
        ""
      ],
      "metadata": {
        "id": "AZojw49ka_OZ"
      },
      "execution_count": null,
      "outputs": []
    },
    {
      "cell_type": "code",
      "source": [
        ""
      ],
      "metadata": {
        "id": "dlCm3_cuaRGm"
      },
      "execution_count": null,
      "outputs": []
    },
    {
      "cell_type": "markdown",
      "source": [
        "Code adapted from https://github.com/roisinod/SpaCy-intro/blob/260ac6366c2d9b7b80ca65f579f34683361a1ea5/SpaCy%20textcat.py"
      ],
      "metadata": {
        "id": "P2eIeaVQa_zo"
      }
    },
    {
      "cell_type": "code",
      "source": [
        "### turn data into tuples with text and label\n",
        "train_data = tuple(zip(train_df.title.tolist(), train_df.viral.to_list()))\n",
        "test_data = tuple(zip(test_df.title.tolist(), test_df.viral.to_list()))"
      ],
      "metadata": {
        "id": "dPFxvIjdbFLw"
      },
      "execution_count": null,
      "outputs": []
    },
    {
      "cell_type": "code",
      "source": [
        "### function to get docs\n",
        "def document(data):\n",
        "#Creating empty list called \"text\"\n",
        "  text = []\n",
        "  for doc, label in nlp.pipe(data, as_tuples = True):\n",
        "    if (label=='positive'):\n",
        "      doc.cats['positive'] = 1\n",
        "      doc.cats['negative'] = 0\n",
        "      doc.cats['neutral']  = 0\n",
        "    elif (label=='negative'):\n",
        "      doc.cats['positive'] = 0\n",
        "      doc.cats['negative'] = 1\n",
        "      doc.cats['neutral']  = 0\n",
        "    else:\n",
        "      doc.cats['positive'] = 0\n",
        "      doc.cats['negative'] = 0\n",
        "      doc.cats['neutral']  = 1\n",
        "#Adding the doc into the list 'text'\n",
        "      text.append(doc)\n",
        "  return(text)"
      ],
      "metadata": {
        "id": "4_Hpb6a1pPEn"
      },
      "execution_count": null,
      "outputs": []
    },
    {
      "cell_type": "code",
      "source": [
        "#passing the train dataset into function 'document'\n",
        "train_docs = document(train)\n",
        "\n",
        "#Creating binary document using DocBin function in spaCy\n",
        "doc_bin = DocBin(docs = train_docs)\n",
        "\n",
        "#Saving the binary document as train.spacy\n",
        "doc_bin.to_disk(\"train.spacy\")"
      ],
      "metadata": {
        "id": "DGv3dGfm6L4M"
      },
      "execution_count": null,
      "outputs": []
    },
    {
      "cell_type": "code",
      "source": [
        "#passing the test dataset into function 'document'\n",
        "test_docs = document(test)\n",
        "doc_bin = DocBin(docs = test_docs)\n",
        "doc_bin.to_disk(\"valid.spacy\")"
      ],
      "metadata": {
        "id": "wzqR-X0a6Q4v"
      },
      "execution_count": null,
      "outputs": []
    },
    {
      "cell_type": "code",
      "source": [
        "doc_bin_train = DocBin(docs=train_docs)\n",
        "doc_bin_test = DocBin(docs=test_docs)\n",
        "\n",
        "!python -m spacy init fill-config base_config.cfg config.cfg\n",
        "\n",
        "!python -m spacy train config.cfg --output ./output --paths.train doc_bin_train --paths.dev doc_bin_test"
      ],
      "metadata": {
        "id": "RmjaZvfFpZaf"
      },
      "execution_count": null,
      "outputs": []
    },
    {
      "cell_type": "markdown",
      "source": [
        ""
      ],
      "metadata": {
        "id": "K-egj9iLpOxE"
      }
    }
  ]
}