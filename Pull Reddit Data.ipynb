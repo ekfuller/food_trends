{
 "cells": [
  {
   "cell_type": "markdown",
   "id": "a80e49b2-a6ee-4227-88db-6a714d43e09e",
   "metadata": {},
   "source": [
    "### This notebook utilizes the pushshift API to pull data about posts in the r/food submreddit over the last 6 months"
   ]
  },
  {
   "cell_type": "code",
   "execution_count": 1,
   "id": "662987f6-620b-4f3c-8e7b-bf0ba34e9096",
   "metadata": {},
   "outputs": [],
   "source": [
    "import requests\n",
    "import pandas as pd\n",
    "import time\n",
    "import datetime as dt"
   ]
  },
  {
   "cell_type": "code",
   "execution_count": 2,
   "id": "c5a60279-f74f-411b-9ee3-78ce777f57bc",
   "metadata": {},
   "outputs": [],
   "source": [
    "base_url='https://api.pushshift.io/reddit/search/submission/?'"
   ]
  },
  {
   "cell_type": "code",
   "execution_count": 77,
   "id": "e081931b-5df1-4a25-b92d-15fa71d0dc16",
   "metadata": {},
   "outputs": [],
   "source": [
    "def reddit_posts(topic):\n",
    "    res = requests.get(base_url, params={'subreddit':topic,\n",
    "                                         'size':100\n",
    "                                         #,'selftext':True\n",
    "                                         ,'before': utc_2_weeks\n",
    "                                        })\n",
    "    if res.status_code ==200:\n",
    "        data = res.json()\n",
    "        df = pd.DataFrame(data['data'])[['id','subreddit', 'title', 'selftext','created_utc','num_comments','score']]\n",
    "        return df #, time_stamp\n",
    "    else:\n",
    "        print('request failed')"
   ]
  },
  {
   "cell_type": "code",
   "execution_count": 71,
   "id": "3db07b3d-e5e7-4a73-b7aa-a1f83132ece8",
   "metadata": {},
   "outputs": [],
   "source": [
    "def reddit_posts1(topic, time_stamp):\n",
    "    res = requests.get(base_url, params={'subreddit':topic,\n",
    "                                         'size':100\n",
    "                                         ,'before':time_stamp\n",
    "                                         #,'selftext':True\n",
    "                                        })\n",
    "    if res.status_code==200:\n",
    "        data = res.json()\n",
    "        df = pd.DataFrame(data['data'])[['id','subreddit', 'title', 'selftext','created_utc','num_comments','score']]\n",
    "        return df #, time_stamp\n",
    "    else:\n",
    "        print('request failed')"
   ]
  },
  {
   "cell_type": "code",
   "execution_count": 72,
   "id": "7fb2a918-6514-406c-93ed-076c09ae2a5d",
   "metadata": {},
   "outputs": [],
   "source": [
    "posts=[]\n",
    "data1 = reddit_posts('Food')\n",
    "posts.append(data1)\n",
    "time_stamp = data1[-1:]['created_utc']\n",
    "time.sleep(1)\n",
    "for x in range(250):\n",
    "    data1 = reddit_posts1('Food', time_stamp)\n",
    "    posts.append(data1)\n",
    "    time_stamp = data1[-1:]['created_utc']\n",
    "    time.sleep(1)\n",
    "reddit_posts_df = pd.concat(posts)"
   ]
  },
  {
   "cell_type": "code",
   "execution_count": 73,
   "id": "f612682a-de46-40cb-931c-0f656525453f",
   "metadata": {},
   "outputs": [
    {
     "data": {
      "text/html": [
       "<div>\n",
       "<style scoped>\n",
       "    .dataframe tbody tr th:only-of-type {\n",
       "        vertical-align: middle;\n",
       "    }\n",
       "\n",
       "    .dataframe tbody tr th {\n",
       "        vertical-align: top;\n",
       "    }\n",
       "\n",
       "    .dataframe thead th {\n",
       "        text-align: right;\n",
       "    }\n",
       "</style>\n",
       "<table border=\"1\" class=\"dataframe\">\n",
       "  <thead>\n",
       "    <tr style=\"text-align: right;\">\n",
       "      <th></th>\n",
       "      <th>id</th>\n",
       "      <th>subreddit</th>\n",
       "      <th>title</th>\n",
       "      <th>selftext</th>\n",
       "      <th>created_utc</th>\n",
       "      <th>num_comments</th>\n",
       "      <th>score</th>\n",
       "    </tr>\n",
       "  </thead>\n",
       "  <tbody>\n",
       "    <tr>\n",
       "      <th>0</th>\n",
       "      <td>uu6g0w</td>\n",
       "      <td>food</td>\n",
       "      <td>[homemade] Polynesian (Chick-Fil-A sauce) chic...</td>\n",
       "      <td></td>\n",
       "      <td>1653077037</td>\n",
       "      <td>0</td>\n",
       "      <td>1</td>\n",
       "    </tr>\n",
       "    <tr>\n",
       "      <th>1</th>\n",
       "      <td>uu6cni</td>\n",
       "      <td>food</td>\n",
       "      <td>[I ate] Scotch mutton pie, pub in Edinburgh</td>\n",
       "      <td></td>\n",
       "      <td>1653076799</td>\n",
       "      <td>0</td>\n",
       "      <td>1</td>\n",
       "    </tr>\n",
       "    <tr>\n",
       "      <th>2</th>\n",
       "      <td>uu6apo</td>\n",
       "      <td>food</td>\n",
       "      <td>[homemade] 🇲🇦</td>\n",
       "      <td></td>\n",
       "      <td>1653076639</td>\n",
       "      <td>0</td>\n",
       "      <td>1</td>\n",
       "    </tr>\n",
       "    <tr>\n",
       "      <th>3</th>\n",
       "      <td>uu644e</td>\n",
       "      <td>food</td>\n",
       "      <td>[homemade] Chilli Paneer, Spinach, Potatoes wi...</td>\n",
       "      <td></td>\n",
       "      <td>1653076091</td>\n",
       "      <td>0</td>\n",
       "      <td>1</td>\n",
       "    </tr>\n",
       "    <tr>\n",
       "      <th>4</th>\n",
       "      <td>uu5x2y</td>\n",
       "      <td>food</td>\n",
       "      <td>[Homemade] Tart - Salmon, spinach and goat cheese</td>\n",
       "      <td></td>\n",
       "      <td>1653075500</td>\n",
       "      <td>0</td>\n",
       "      <td>1</td>\n",
       "    </tr>\n",
       "    <tr>\n",
       "      <th>...</th>\n",
       "      <td>...</td>\n",
       "      <td>...</td>\n",
       "      <td>...</td>\n",
       "      <td>...</td>\n",
       "      <td>...</td>\n",
       "      <td>...</td>\n",
       "      <td>...</td>\n",
       "    </tr>\n",
       "    <tr>\n",
       "      <th>95</th>\n",
       "      <td>sw1ii3</td>\n",
       "      <td>food</td>\n",
       "      <td>[Homemade] Fudgy Brownies</td>\n",
       "      <td></td>\n",
       "      <td>1645245224</td>\n",
       "      <td>3</td>\n",
       "      <td>1</td>\n",
       "    </tr>\n",
       "    <tr>\n",
       "      <th>96</th>\n",
       "      <td>sw1gwk</td>\n",
       "      <td>food</td>\n",
       "      <td>[homemade] late night cookies</td>\n",
       "      <td></td>\n",
       "      <td>1645245068</td>\n",
       "      <td>8</td>\n",
       "      <td>1</td>\n",
       "    </tr>\n",
       "    <tr>\n",
       "      <th>97</th>\n",
       "      <td>sw1fhz</td>\n",
       "      <td>food</td>\n",
       "      <td>[Homemade] Sticky, sweet and spicy roasted chi...</td>\n",
       "      <td></td>\n",
       "      <td>1645244935</td>\n",
       "      <td>6</td>\n",
       "      <td>1</td>\n",
       "    </tr>\n",
       "    <tr>\n",
       "      <th>98</th>\n",
       "      <td>sw1eeh</td>\n",
       "      <td>food</td>\n",
       "      <td>well not exactly the prettiest but my attempt ...</td>\n",
       "      <td></td>\n",
       "      <td>1645244827</td>\n",
       "      <td>3</td>\n",
       "      <td>1</td>\n",
       "    </tr>\n",
       "    <tr>\n",
       "      <th>99</th>\n",
       "      <td>sw19yz</td>\n",
       "      <td>food</td>\n",
       "      <td>[i ate] Eggs Benedict with home fries</td>\n",
       "      <td></td>\n",
       "      <td>1645244397</td>\n",
       "      <td>0</td>\n",
       "      <td>1</td>\n",
       "    </tr>\n",
       "  </tbody>\n",
       "</table>\n",
       "<p>25092 rows × 7 columns</p>\n",
       "</div>"
      ],
      "text/plain": [
       "        id subreddit                                              title  \\\n",
       "0   uu6g0w      food  [homemade] Polynesian (Chick-Fil-A sauce) chic...   \n",
       "1   uu6cni      food        [I ate] Scotch mutton pie, pub in Edinburgh   \n",
       "2   uu6apo      food                                      [homemade] 🇲🇦   \n",
       "3   uu644e      food  [homemade] Chilli Paneer, Spinach, Potatoes wi...   \n",
       "4   uu5x2y      food  [Homemade] Tart - Salmon, spinach and goat cheese   \n",
       "..     ...       ...                                                ...   \n",
       "95  sw1ii3      food                          [Homemade] Fudgy Brownies   \n",
       "96  sw1gwk      food                      [homemade] late night cookies   \n",
       "97  sw1fhz      food  [Homemade] Sticky, sweet and spicy roasted chi...   \n",
       "98  sw1eeh      food  well not exactly the prettiest but my attempt ...   \n",
       "99  sw19yz      food              [i ate] Eggs Benedict with home fries   \n",
       "\n",
       "   selftext  created_utc  num_comments  score  \n",
       "0             1653077037             0      1  \n",
       "1             1653076799             0      1  \n",
       "2             1653076639             0      1  \n",
       "3             1653076091             0      1  \n",
       "4             1653075500             0      1  \n",
       "..      ...          ...           ...    ...  \n",
       "95            1645245224             3      1  \n",
       "96            1645245068             8      1  \n",
       "97            1645244935             6      1  \n",
       "98            1645244827             3      1  \n",
       "99            1645244397             0      1  \n",
       "\n",
       "[25092 rows x 7 columns]"
      ]
     },
     "execution_count": 73,
     "metadata": {},
     "output_type": "execute_result"
    }
   ],
   "source": [
    "reddit_posts_df"
   ]
  },
  {
   "cell_type": "code",
   "execution_count": 59,
   "id": "23b36ad0-61fc-472d-a89a-78936002c444",
   "metadata": {},
   "outputs": [
    {
     "data": {
      "text/plain": [
       "23556"
      ]
     },
     "execution_count": 59,
     "metadata": {},
     "output_type": "execute_result"
    }
   ],
   "source": [
    "len(reddit_posts_df['title'].unique())"
   ]
  },
  {
   "cell_type": "code",
   "execution_count": null,
   "id": "453cf473-3749-4efc-85a3-d965c44fc495",
   "metadata": {},
   "outputs": [],
   "source": [
    "reddit_posts_df['score'].value_counts()"
   ]
  },
  {
   "cell_type": "code",
   "execution_count": 61,
   "id": "66e08342-b2c9-4eb2-ad67-e0c602125e66",
   "metadata": {},
   "outputs": [
    {
     "data": {
      "text/plain": [
       "0     18863\n",
       "1      6055\n",
       "2       107\n",
       "3        24\n",
       "6         8\n",
       "5         8\n",
       "4         7\n",
       "7         5\n",
       "8         3\n",
       "10        3\n",
       "13        3\n",
       "9         2\n",
       "11        2\n",
       "17        1\n",
       "Name: num_comments, dtype: int64"
      ]
     },
     "execution_count": 61,
     "metadata": {},
     "output_type": "execute_result"
    }
   ],
   "source": [
    "reddit_posts_df['num_comments'].value_counts()"
   ]
  },
  {
   "cell_type": "code",
   "execution_count": 47,
   "id": "ec219039-ed55-44d8-9a0a-94bb27ed7bae",
   "metadata": {},
   "outputs": [
    {
     "data": {
      "text/html": [
       "<div>\n",
       "<style scoped>\n",
       "    .dataframe tbody tr th:only-of-type {\n",
       "        vertical-align: middle;\n",
       "    }\n",
       "\n",
       "    .dataframe tbody tr th {\n",
       "        vertical-align: top;\n",
       "    }\n",
       "\n",
       "    .dataframe thead th {\n",
       "        text-align: right;\n",
       "    }\n",
       "</style>\n",
       "<table border=\"1\" class=\"dataframe\">\n",
       "  <thead>\n",
       "    <tr style=\"text-align: right;\">\n",
       "      <th></th>\n",
       "      <th>id</th>\n",
       "      <th>subreddit</th>\n",
       "      <th>title</th>\n",
       "      <th>selftext</th>\n",
       "      <th>created_utc</th>\n",
       "      <th>num_comments</th>\n",
       "      <th>score</th>\n",
       "    </tr>\n",
       "  </thead>\n",
       "  <tbody>\n",
       "    <tr>\n",
       "      <th>17</th>\n",
       "      <td>trf7y2</td>\n",
       "      <td>food</td>\n",
       "      <td>[Homemade] Nachos</td>\n",
       "      <td></td>\n",
       "      <td>1648581956</td>\n",
       "      <td>11</td>\n",
       "      <td>363</td>\n",
       "    </tr>\n",
       "    <tr>\n",
       "      <th>47</th>\n",
       "      <td>trbyju</td>\n",
       "      <td>food</td>\n",
       "      <td>[Homemade] Doughnuts</td>\n",
       "      <td></td>\n",
       "      <td>1648577405</td>\n",
       "      <td>11</td>\n",
       "      <td>316</td>\n",
       "    </tr>\n",
       "    <tr>\n",
       "      <th>76</th>\n",
       "      <td>tr7ecs</td>\n",
       "      <td>food</td>\n",
       "      <td>[Homemade] Sicilian style Pizza</td>\n",
       "      <td></td>\n",
       "      <td>1648572014</td>\n",
       "      <td>13</td>\n",
       "      <td>306</td>\n",
       "    </tr>\n",
       "    <tr>\n",
       "      <th>87</th>\n",
       "      <td>trozdr</td>\n",
       "      <td>food</td>\n",
       "      <td>[Homemade] Fish &amp;amp; Chips</td>\n",
       "      <td></td>\n",
       "      <td>1648591477</td>\n",
       "      <td>8</td>\n",
       "      <td>125</td>\n",
       "    </tr>\n",
       "    <tr>\n",
       "      <th>53</th>\n",
       "      <td>trajc4</td>\n",
       "      <td>food</td>\n",
       "      <td>[Homemade] Pizza</td>\n",
       "      <td></td>\n",
       "      <td>1648575579</td>\n",
       "      <td>4</td>\n",
       "      <td>117</td>\n",
       "    </tr>\n",
       "    <tr>\n",
       "      <th>...</th>\n",
       "      <td>...</td>\n",
       "      <td>...</td>\n",
       "      <td>...</td>\n",
       "      <td>...</td>\n",
       "      <td>...</td>\n",
       "      <td>...</td>\n",
       "      <td>...</td>\n",
       "    </tr>\n",
       "    <tr>\n",
       "      <th>24</th>\n",
       "      <td>ug5gn6</td>\n",
       "      <td>food</td>\n",
       "      <td>[I ate] Pizza topped with Summer Sausage and G...</td>\n",
       "      <td></td>\n",
       "      <td>1651427961</td>\n",
       "      <td>0</td>\n",
       "      <td>0</td>\n",
       "    </tr>\n",
       "    <tr>\n",
       "      <th>32</th>\n",
       "      <td>tru9vx</td>\n",
       "      <td>food</td>\n",
       "      <td>[Homemade]Sloppy Kings.. Not Sloppy Joes</td>\n",
       "      <td></td>\n",
       "      <td>1648601151</td>\n",
       "      <td>6</td>\n",
       "      <td>0</td>\n",
       "    </tr>\n",
       "    <tr>\n",
       "      <th>61</th>\n",
       "      <td>tj8wjh</td>\n",
       "      <td>food</td>\n",
       "      <td>[Homemade] sausage fried rice with sesame broc...</td>\n",
       "      <td></td>\n",
       "      <td>1647859455</td>\n",
       "      <td>0</td>\n",
       "      <td>0</td>\n",
       "    </tr>\n",
       "    <tr>\n",
       "      <th>5</th>\n",
       "      <td>ugc5vu</td>\n",
       "      <td>food</td>\n",
       "      <td>[Homemade] Cheeseburger</td>\n",
       "      <td></td>\n",
       "      <td>1651447386</td>\n",
       "      <td>0</td>\n",
       "      <td>0</td>\n",
       "    </tr>\n",
       "    <tr>\n",
       "      <th>6</th>\n",
       "      <td>upq579</td>\n",
       "      <td>food</td>\n",
       "      <td>[homemade] Potato and Egg Salad Recipe [I ate]...</td>\n",
       "      <td></td>\n",
       "      <td>1652561532</td>\n",
       "      <td>0</td>\n",
       "      <td>0</td>\n",
       "    </tr>\n",
       "  </tbody>\n",
       "</table>\n",
       "<p>25092 rows × 7 columns</p>\n",
       "</div>"
      ],
      "text/plain": [
       "        id subreddit                                              title  \\\n",
       "17  trf7y2      food                                  [Homemade] Nachos   \n",
       "47  trbyju      food                               [Homemade] Doughnuts   \n",
       "76  tr7ecs      food                    [Homemade] Sicilian style Pizza   \n",
       "87  trozdr      food                        [Homemade] Fish &amp; Chips   \n",
       "53  trajc4      food                                   [Homemade] Pizza   \n",
       "..     ...       ...                                                ...   \n",
       "24  ug5gn6      food  [I ate] Pizza topped with Summer Sausage and G...   \n",
       "32  tru9vx      food           [Homemade]Sloppy Kings.. Not Sloppy Joes   \n",
       "61  tj8wjh      food  [Homemade] sausage fried rice with sesame broc...   \n",
       "5   ugc5vu      food                            [Homemade] Cheeseburger   \n",
       "6   upq579      food  [homemade] Potato and Egg Salad Recipe [I ate]...   \n",
       "\n",
       "   selftext  created_utc  num_comments  score  \n",
       "17            1648581956            11    363  \n",
       "47            1648577405            11    316  \n",
       "76            1648572014            13    306  \n",
       "87            1648591477             8    125  \n",
       "53            1648575579             4    117  \n",
       "..      ...          ...           ...    ...  \n",
       "24            1651427961             0      0  \n",
       "32            1648601151             6      0  \n",
       "61            1647859455             0      0  \n",
       "5             1651447386             0      0  \n",
       "6             1652561532             0      0  \n",
       "\n",
       "[25092 rows x 7 columns]"
      ]
     },
     "execution_count": 47,
     "metadata": {},
     "output_type": "execute_result"
    }
   ],
   "source": [
    "reddit_posts_df.sort_values(by='score', ascending=False)"
   ]
  },
  {
   "cell_type": "code",
   "execution_count": 74,
   "id": "7e80b35e-c140-4139-bdd3-3ebccc4cd27c",
   "metadata": {},
   "outputs": [
    {
     "data": {
      "text/plain": [
       "99    1645244397\n",
       "Name: created_utc, dtype: int64"
      ]
     },
     "execution_count": 74,
     "metadata": {},
     "output_type": "execute_result"
    }
   ],
   "source": [
    "reddit_posts_df[-1:]['created_utc']"
   ]
  },
  {
   "cell_type": "code",
   "execution_count": 69,
   "id": "1dab31b4-1233-46b6-bf69-36a6f154105d",
   "metadata": {},
   "outputs": [],
   "source": [
    "utc_2_weeks = 1653077324"
   ]
  },
  {
   "cell_type": "code",
   "execution_count": 76,
   "id": "1d7cad86-7a84-45a7-b530-a118ff5bb74a",
   "metadata": {},
   "outputs": [],
   "source": [
    "def reddit_posts2(topic):\n",
    "    res = requests.get(base_url, params={'subreddit':topic,\n",
    "                                         'size':100\n",
    "                                         #,'selftext':True\n",
    "                                         ,'before': reddit_posts_df[-1:]['created_utc']\n",
    "                                        })\n",
    "    if res.status_code ==200:\n",
    "        data = res.json()\n",
    "        df = pd.DataFrame(data['data'])[['id','subreddit', 'title', 'selftext','created_utc','num_comments','score']]\n",
    "        return df #, time_stamp\n",
    "    else:\n",
    "        print('request failed')"
   ]
  },
  {
   "cell_type": "code",
   "execution_count": 78,
   "id": "b46ae9dc-7f37-4888-8e91-43ac250072ea",
   "metadata": {},
   "outputs": [],
   "source": [
    "def reddit_posts1(topic, time_stamp):\n",
    "    res = requests.get(base_url, params={'subreddit':topic,\n",
    "                                         'size':100\n",
    "                                         ,'before':time_stamp\n",
    "                                         #,'selftext':True\n",
    "                                        })\n",
    "    if res.status_code==200:\n",
    "        data = res.json()\n",
    "        df = pd.DataFrame(data['data'])[['id','subreddit', 'title', 'selftext','created_utc','num_comments','score']]\n",
    "        return df #, time_stamp\n",
    "    else:\n",
    "        print('request failed')"
   ]
  },
  {
   "cell_type": "code",
   "execution_count": 80,
   "id": "fb717ade-e1db-4d26-a171-727040aed53a",
   "metadata": {},
   "outputs": [],
   "source": [
    "posts=[]\n",
    "data1 = reddit_posts2('Food')\n",
    "posts.append(data1)\n",
    "time_stamp = data1[-1:]['created_utc']\n",
    "time.sleep(1)\n",
    "for x in range(250):\n",
    "    data1 = reddit_posts1('Food', time_stamp)\n",
    "    posts.append(data1)\n",
    "    time_stamp = data1[-1:]['created_utc']\n",
    "    time.sleep(1)\n",
    "reddit_posts_df_2 = pd.concat(posts)"
   ]
  },
  {
   "cell_type": "code",
   "execution_count": 81,
   "id": "cbe2bf1d-54a0-485e-ad25-786101f3a977",
   "metadata": {},
   "outputs": [
    {
     "data": {
      "text/html": [
       "<div>\n",
       "<style scoped>\n",
       "    .dataframe tbody tr th:only-of-type {\n",
       "        vertical-align: middle;\n",
       "    }\n",
       "\n",
       "    .dataframe tbody tr th {\n",
       "        vertical-align: top;\n",
       "    }\n",
       "\n",
       "    .dataframe thead th {\n",
       "        text-align: right;\n",
       "    }\n",
       "</style>\n",
       "<table border=\"1\" class=\"dataframe\">\n",
       "  <thead>\n",
       "    <tr style=\"text-align: right;\">\n",
       "      <th></th>\n",
       "      <th>id</th>\n",
       "      <th>subreddit</th>\n",
       "      <th>title</th>\n",
       "      <th>selftext</th>\n",
       "      <th>created_utc</th>\n",
       "      <th>num_comments</th>\n",
       "      <th>score</th>\n",
       "    </tr>\n",
       "  </thead>\n",
       "  <tbody>\n",
       "    <tr>\n",
       "      <th>0</th>\n",
       "      <td>sw150h</td>\n",
       "      <td>food</td>\n",
       "      <td>[Homemade] Fire Roasted Poblano and Jalapeño S...</td>\n",
       "      <td></td>\n",
       "      <td>1645243935</td>\n",
       "      <td>4</td>\n",
       "      <td>1</td>\n",
       "    </tr>\n",
       "    <tr>\n",
       "      <th>1</th>\n",
       "      <td>sw14ud</td>\n",
       "      <td>food</td>\n",
       "      <td>[Homemade] Cappuccino</td>\n",
       "      <td></td>\n",
       "      <td>1645243920</td>\n",
       "      <td>0</td>\n",
       "      <td>1</td>\n",
       "    </tr>\n",
       "    <tr>\n",
       "      <th>2</th>\n",
       "      <td>sw0uys</td>\n",
       "      <td>food</td>\n",
       "      <td>[Homemade] Chicken and Sausage Jambalaya</td>\n",
       "      <td></td>\n",
       "      <td>1645243074</td>\n",
       "      <td>6</td>\n",
       "      <td>1</td>\n",
       "    </tr>\n",
       "    <tr>\n",
       "      <th>3</th>\n",
       "      <td>sw0qfd</td>\n",
       "      <td>food</td>\n",
       "      <td>[Homemade] Beef with bell peppers and onions w...</td>\n",
       "      <td></td>\n",
       "      <td>1645242666</td>\n",
       "      <td>9</td>\n",
       "      <td>3</td>\n",
       "    </tr>\n",
       "    <tr>\n",
       "      <th>4</th>\n",
       "      <td>sw0os0</td>\n",
       "      <td>food</td>\n",
       "      <td>[homemade] Around the world: Italian, Korean, ...</td>\n",
       "      <td></td>\n",
       "      <td>1645242519</td>\n",
       "      <td>5</td>\n",
       "      <td>4</td>\n",
       "    </tr>\n",
       "    <tr>\n",
       "      <th>...</th>\n",
       "      <td>...</td>\n",
       "      <td>...</td>\n",
       "      <td>...</td>\n",
       "      <td>...</td>\n",
       "      <td>...</td>\n",
       "      <td>...</td>\n",
       "      <td>...</td>\n",
       "    </tr>\n",
       "    <tr>\n",
       "      <th>95</th>\n",
       "      <td>r8dw7i</td>\n",
       "      <td>food</td>\n",
       "      <td>[homemade] Korean beef lettuce wraps</td>\n",
       "      <td></td>\n",
       "      <td>1638580177</td>\n",
       "      <td>1</td>\n",
       "      <td>1</td>\n",
       "    </tr>\n",
       "    <tr>\n",
       "      <th>96</th>\n",
       "      <td>r8du3q</td>\n",
       "      <td>food</td>\n",
       "      <td>[homemade] Ramen. Inexperienced cook and I’m p...</td>\n",
       "      <td></td>\n",
       "      <td>1638580002</td>\n",
       "      <td>0</td>\n",
       "      <td>1</td>\n",
       "    </tr>\n",
       "    <tr>\n",
       "      <th>97</th>\n",
       "      <td>r8dsud</td>\n",
       "      <td>food</td>\n",
       "      <td>[homemade] I am a very inexperienced cook and ...</td>\n",
       "      <td></td>\n",
       "      <td>1638579895</td>\n",
       "      <td>2</td>\n",
       "      <td>1</td>\n",
       "    </tr>\n",
       "    <tr>\n",
       "      <th>98</th>\n",
       "      <td>r8dquz</td>\n",
       "      <td>food</td>\n",
       "      <td>[Homemade] Beef stew w/ fresh baked bread</td>\n",
       "      <td></td>\n",
       "      <td>1638579723</td>\n",
       "      <td>18</td>\n",
       "      <td>1</td>\n",
       "    </tr>\n",
       "    <tr>\n",
       "      <th>99</th>\n",
       "      <td>r8dmi8</td>\n",
       "      <td>food</td>\n",
       "      <td>[homemade] thanksgiving leftover turkey and bi...</td>\n",
       "      <td></td>\n",
       "      <td>1638579365</td>\n",
       "      <td>2</td>\n",
       "      <td>1</td>\n",
       "    </tr>\n",
       "  </tbody>\n",
       "</table>\n",
       "<p>25085 rows × 7 columns</p>\n",
       "</div>"
      ],
      "text/plain": [
       "        id subreddit                                              title  \\\n",
       "0   sw150h      food  [Homemade] Fire Roasted Poblano and Jalapeño S...   \n",
       "1   sw14ud      food                              [Homemade] Cappuccino   \n",
       "2   sw0uys      food           [Homemade] Chicken and Sausage Jambalaya   \n",
       "3   sw0qfd      food  [Homemade] Beef with bell peppers and onions w...   \n",
       "4   sw0os0      food  [homemade] Around the world: Italian, Korean, ...   \n",
       "..     ...       ...                                                ...   \n",
       "95  r8dw7i      food               [homemade] Korean beef lettuce wraps   \n",
       "96  r8du3q      food  [homemade] Ramen. Inexperienced cook and I’m p...   \n",
       "97  r8dsud      food  [homemade] I am a very inexperienced cook and ...   \n",
       "98  r8dquz      food          [Homemade] Beef stew w/ fresh baked bread   \n",
       "99  r8dmi8      food  [homemade] thanksgiving leftover turkey and bi...   \n",
       "\n",
       "   selftext  created_utc  num_comments  score  \n",
       "0             1645243935             4      1  \n",
       "1             1645243920             0      1  \n",
       "2             1645243074             6      1  \n",
       "3             1645242666             9      3  \n",
       "4             1645242519             5      4  \n",
       "..      ...          ...           ...    ...  \n",
       "95            1638580177             1      1  \n",
       "96            1638580002             0      1  \n",
       "97            1638579895             2      1  \n",
       "98            1638579723            18      1  \n",
       "99            1638579365             2      1  \n",
       "\n",
       "[25085 rows x 7 columns]"
      ]
     },
     "execution_count": 81,
     "metadata": {},
     "output_type": "execute_result"
    }
   ],
   "source": [
    "reddit_posts_df_2"
   ]
  },
  {
   "cell_type": "code",
   "execution_count": 93,
   "id": "17e7921b-a606-440d-b72d-5b2983664c0f",
   "metadata": {},
   "outputs": [
    {
     "data": {
      "text/plain": [
       "99    1638579365\n",
       "Name: created_utc, dtype: int64"
      ]
     },
     "execution_count": 93,
     "metadata": {},
     "output_type": "execute_result"
    }
   ],
   "source": [
    "reddit_posts_df_2[-1:]['created_utc']"
   ]
  },
  {
   "cell_type": "code",
   "execution_count": 86,
   "id": "8c30b543-86ee-4ee3-a208-a1b685d3cf99",
   "metadata": {},
   "outputs": [],
   "source": [
    "reddit_df = pd.concat([reddit_posts_df, reddit_posts_df_2])"
   ]
  },
  {
   "cell_type": "code",
   "execution_count": 92,
   "id": "9cea8a5b-6d79-423d-8b67-a678d9503a6c",
   "metadata": {},
   "outputs": [
    {
     "data": {
      "text/plain": [
       "50177"
      ]
     },
     "execution_count": 92,
     "metadata": {},
     "output_type": "execute_result"
    }
   ],
   "source": [
    "len(reddit_df['id'].unique()) #confirming pulls were unique"
   ]
  },
  {
   "cell_type": "code",
   "execution_count": 99,
   "id": "cc94661c-1b9e-41d6-b79e-e1608cb71b2f",
   "metadata": {},
   "outputs": [],
   "source": [
    "reddit_df.to_csv('./food_trends/Data/reddit_6_months.csv', index=False)"
   ]
  },
  {
   "cell_type": "code",
   "execution_count": 107,
   "id": "c96165ee-a30f-4052-8d6a-6f0b21a450c8",
   "metadata": {},
   "outputs": [
    {
     "data": {
      "text/plain": [
       "0     uu6g0w\n",
       "1     uu6cni\n",
       "2     uu6apo\n",
       "3     uu644e\n",
       "4     uu5x2y\n",
       "       ...  \n",
       "98    u3jpes\n",
       "99    u3jog2\n",
       "0     u3jezk\n",
       "1     u3jcej\n",
       "2     u3j8ay\n",
       "Name: id, Length: 10000, dtype: object"
      ]
     },
     "execution_count": 107,
     "metadata": {},
     "output_type": "execute_result"
    }
   ],
   "source": [
    "posts_10 = reddit_df['id'][:10000]\n",
    "posts_10"
   ]
  },
  {
   "cell_type": "code",
   "execution_count": 103,
   "id": "7af1f3b8-5bb6-48d9-be90-2950df0734b2",
   "metadata": {},
   "outputs": [],
   "source": [
    "import praw\n",
    "\n",
    "reddit = praw.Reddit(\n",
    "    client_id=\"yEQokwxZEpfab7-hjZGYqQ\",\n",
    "    client_secret=\"0wfgItj8y8K12zwbKGBWEQantbeK8A\",\n",
    "    password=\"capstone22\",\n",
    "    user_agent=\"food trends 2 by u/ekfuller\",\n",
    "    username=\"ekfuller\",\n",
    ")"
   ]
  },
  {
   "cell_type": "code",
   "execution_count": 104,
   "id": "34748858-ff28-4f6c-ac52-fe77bf32d48e",
   "metadata": {},
   "outputs": [],
   "source": [
    "ids =[]\n",
    "scores =[]\n",
    "comments = []\n",
    "def get_scores(posts):\n",
    "    for submission in range(0,len(posts)):\n",
    "        ids.append(posts[submission])\n",
    "        scores.append(reddit.submission(posts[submission]).score)\n",
    "        comments.append(reddit.submission(posts[submission]).num_comments)\n",
    "    return ids, scores, comments"
   ]
  },
  {
   "cell_type": "code",
   "execution_count": 106,
   "id": "577e1700-0167-424f-a98e-21568fb5848c",
   "metadata": {},
   "outputs": [
    {
     "ename": "ValueError",
     "evalue": "The truth value of a Series is ambiguous. Use a.empty, a.bool(), a.item(), a.any() or a.all().",
     "output_type": "error",
     "traceback": [
      "\u001b[0;31m---------------------------------------------------------------------------\u001b[0m",
      "\u001b[0;31mValueError\u001b[0m                                Traceback (most recent call last)",
      "\u001b[0;32m/var/folders/5x/x41g3czd3g7d18145p3cfc9r0000gn/T/ipykernel_36293/2571182465.py\u001b[0m in \u001b[0;36m<module>\u001b[0;34m\u001b[0m\n\u001b[0;32m----> 1\u001b[0;31m \u001b[0mget_scores\u001b[0m\u001b[0;34m(\u001b[0m\u001b[0mposts_10\u001b[0m\u001b[0;34m)\u001b[0m\u001b[0;34m\u001b[0m\u001b[0;34m\u001b[0m\u001b[0m\n\u001b[0m",
      "\u001b[0;32m/var/folders/5x/x41g3czd3g7d18145p3cfc9r0000gn/T/ipykernel_36293/2802639235.py\u001b[0m in \u001b[0;36mget_scores\u001b[0;34m(posts)\u001b[0m\n\u001b[1;32m      5\u001b[0m     \u001b[0;32mfor\u001b[0m \u001b[0msubmission\u001b[0m \u001b[0;32min\u001b[0m \u001b[0mrange\u001b[0m\u001b[0;34m(\u001b[0m\u001b[0;36m0\u001b[0m\u001b[0;34m,\u001b[0m\u001b[0mlen\u001b[0m\u001b[0;34m(\u001b[0m\u001b[0mposts\u001b[0m\u001b[0;34m)\u001b[0m\u001b[0;34m)\u001b[0m\u001b[0;34m:\u001b[0m\u001b[0;34m\u001b[0m\u001b[0;34m\u001b[0m\u001b[0m\n\u001b[1;32m      6\u001b[0m         \u001b[0mids\u001b[0m\u001b[0;34m.\u001b[0m\u001b[0mappend\u001b[0m\u001b[0;34m(\u001b[0m\u001b[0mposts\u001b[0m\u001b[0;34m[\u001b[0m\u001b[0msubmission\u001b[0m\u001b[0;34m]\u001b[0m\u001b[0;34m)\u001b[0m\u001b[0;34m\u001b[0m\u001b[0;34m\u001b[0m\u001b[0m\n\u001b[0;32m----> 7\u001b[0;31m         \u001b[0mscores\u001b[0m\u001b[0;34m.\u001b[0m\u001b[0mappend\u001b[0m\u001b[0;34m(\u001b[0m\u001b[0mreddit\u001b[0m\u001b[0;34m.\u001b[0m\u001b[0msubmission\u001b[0m\u001b[0;34m(\u001b[0m\u001b[0mposts\u001b[0m\u001b[0;34m[\u001b[0m\u001b[0msubmission\u001b[0m\u001b[0;34m]\u001b[0m\u001b[0;34m)\u001b[0m\u001b[0;34m.\u001b[0m\u001b[0mscore\u001b[0m\u001b[0;34m)\u001b[0m\u001b[0;34m\u001b[0m\u001b[0;34m\u001b[0m\u001b[0m\n\u001b[0m\u001b[1;32m      8\u001b[0m         \u001b[0mcomments\u001b[0m\u001b[0;34m.\u001b[0m\u001b[0mappend\u001b[0m\u001b[0;34m(\u001b[0m\u001b[0mreddit\u001b[0m\u001b[0;34m.\u001b[0m\u001b[0msubmission\u001b[0m\u001b[0;34m(\u001b[0m\u001b[0mposts\u001b[0m\u001b[0;34m[\u001b[0m\u001b[0msubmission\u001b[0m\u001b[0;34m]\u001b[0m\u001b[0;34m)\u001b[0m\u001b[0;34m.\u001b[0m\u001b[0mnum_comments\u001b[0m\u001b[0;34m)\u001b[0m\u001b[0;34m\u001b[0m\u001b[0;34m\u001b[0m\u001b[0m\n\u001b[1;32m      9\u001b[0m     \u001b[0;32mreturn\u001b[0m \u001b[0mids\u001b[0m\u001b[0;34m,\u001b[0m \u001b[0mscores\u001b[0m\u001b[0;34m,\u001b[0m \u001b[0mcomments\u001b[0m\u001b[0;34m\u001b[0m\u001b[0;34m\u001b[0m\u001b[0m\n",
      "\u001b[0;32m~/opt/anaconda3/lib/python3.9/site-packages/praw/util/deprecate_args.py\u001b[0m in \u001b[0;36mwrapped\u001b[0;34m(*args, **kwargs)\u001b[0m\n\u001b[1;32m     41\u001b[0m                     \u001b[0mstacklevel\u001b[0m\u001b[0;34m=\u001b[0m\u001b[0;36m2\u001b[0m\u001b[0;34m,\u001b[0m\u001b[0;34m\u001b[0m\u001b[0;34m\u001b[0m\u001b[0m\n\u001b[1;32m     42\u001b[0m                 )\n\u001b[0;32m---> 43\u001b[0;31m             \u001b[0;32mreturn\u001b[0m \u001b[0mfunc\u001b[0m\u001b[0;34m(\u001b[0m\u001b[0;34m**\u001b[0m\u001b[0mdict\u001b[0m\u001b[0;34m(\u001b[0m\u001b[0mzip\u001b[0m\u001b[0;34m(\u001b[0m\u001b[0m_old_args\u001b[0m\u001b[0;34m,\u001b[0m \u001b[0margs\u001b[0m\u001b[0;34m)\u001b[0m\u001b[0;34m)\u001b[0m\u001b[0;34m,\u001b[0m \u001b[0;34m**\u001b[0m\u001b[0mkwargs\u001b[0m\u001b[0;34m)\u001b[0m\u001b[0;34m\u001b[0m\u001b[0;34m\u001b[0m\u001b[0m\n\u001b[0m\u001b[1;32m     44\u001b[0m \u001b[0;34m\u001b[0m\u001b[0m\n\u001b[1;32m     45\u001b[0m         \u001b[0;32mreturn\u001b[0m \u001b[0mwrapped\u001b[0m\u001b[0;34m\u001b[0m\u001b[0;34m\u001b[0m\u001b[0m\n",
      "\u001b[0;32m~/opt/anaconda3/lib/python3.9/site-packages/praw/reddit.py\u001b[0m in \u001b[0;36msubmission\u001b[0;34m(self, id, url)\u001b[0m\n\u001b[1;32m    979\u001b[0m \u001b[0;34m\u001b[0m\u001b[0m\n\u001b[1;32m    980\u001b[0m         \"\"\"\n\u001b[0;32m--> 981\u001b[0;31m         \u001b[0;32mreturn\u001b[0m \u001b[0mmodels\u001b[0m\u001b[0;34m.\u001b[0m\u001b[0mSubmission\u001b[0m\u001b[0;34m(\u001b[0m\u001b[0mself\u001b[0m\u001b[0;34m,\u001b[0m \u001b[0mid\u001b[0m\u001b[0;34m=\u001b[0m\u001b[0mid\u001b[0m\u001b[0;34m,\u001b[0m \u001b[0murl\u001b[0m\u001b[0;34m=\u001b[0m\u001b[0murl\u001b[0m\u001b[0;34m)\u001b[0m\u001b[0;34m\u001b[0m\u001b[0;34m\u001b[0m\u001b[0m\n\u001b[0m\u001b[1;32m    982\u001b[0m \u001b[0;34m\u001b[0m\u001b[0m\n\u001b[1;32m    983\u001b[0m     \u001b[0;32mdef\u001b[0m \u001b[0musername_available\u001b[0m\u001b[0;34m(\u001b[0m\u001b[0mself\u001b[0m\u001b[0;34m,\u001b[0m \u001b[0mname\u001b[0m\u001b[0;34m:\u001b[0m \u001b[0mstr\u001b[0m\u001b[0;34m)\u001b[0m \u001b[0;34m->\u001b[0m \u001b[0mbool\u001b[0m\u001b[0;34m:\u001b[0m\u001b[0;34m\u001b[0m\u001b[0;34m\u001b[0m\u001b[0m\n",
      "\u001b[0;32m~/opt/anaconda3/lib/python3.9/site-packages/praw/models/reddit/submission.py\u001b[0m in \u001b[0;36m__init__\u001b[0;34m(self, reddit, id, url, _data)\u001b[0m\n\u001b[1;32m    572\u001b[0m \u001b[0;34m\u001b[0m\u001b[0m\n\u001b[1;32m    573\u001b[0m         \"\"\"\n\u001b[0;32m--> 574\u001b[0;31m         \u001b[0;32mif\u001b[0m \u001b[0;34m(\u001b[0m\u001b[0mid\u001b[0m\u001b[0;34m,\u001b[0m \u001b[0murl\u001b[0m\u001b[0;34m,\u001b[0m \u001b[0m_data\u001b[0m\u001b[0;34m)\u001b[0m\u001b[0;34m.\u001b[0m\u001b[0mcount\u001b[0m\u001b[0;34m(\u001b[0m\u001b[0;32mNone\u001b[0m\u001b[0;34m)\u001b[0m \u001b[0;34m!=\u001b[0m \u001b[0;36m2\u001b[0m\u001b[0;34m:\u001b[0m\u001b[0;34m\u001b[0m\u001b[0;34m\u001b[0m\u001b[0m\n\u001b[0m\u001b[1;32m    575\u001b[0m             \u001b[0;32mraise\u001b[0m \u001b[0mTypeError\u001b[0m\u001b[0;34m(\u001b[0m\u001b[0;34m\"Exactly one of `id`, `url`, or `_data` must be provided.\"\u001b[0m\u001b[0;34m)\u001b[0m\u001b[0;34m\u001b[0m\u001b[0;34m\u001b[0m\u001b[0m\n\u001b[1;32m    576\u001b[0m         \u001b[0mself\u001b[0m\u001b[0;34m.\u001b[0m\u001b[0mcomment_limit\u001b[0m \u001b[0;34m=\u001b[0m \u001b[0;36m2048\u001b[0m\u001b[0;34m\u001b[0m\u001b[0;34m\u001b[0m\u001b[0m\n",
      "\u001b[0;32m~/opt/anaconda3/lib/python3.9/site-packages/pandas/core/generic.py\u001b[0m in \u001b[0;36m__nonzero__\u001b[0;34m(self)\u001b[0m\n\u001b[1;32m   1535\u001b[0m     \u001b[0;34m@\u001b[0m\u001b[0mfinal\u001b[0m\u001b[0;34m\u001b[0m\u001b[0;34m\u001b[0m\u001b[0m\n\u001b[1;32m   1536\u001b[0m     \u001b[0;32mdef\u001b[0m \u001b[0m__nonzero__\u001b[0m\u001b[0;34m(\u001b[0m\u001b[0mself\u001b[0m\u001b[0;34m)\u001b[0m\u001b[0;34m:\u001b[0m\u001b[0;34m\u001b[0m\u001b[0;34m\u001b[0m\u001b[0m\n\u001b[0;32m-> 1537\u001b[0;31m         raise ValueError(\n\u001b[0m\u001b[1;32m   1538\u001b[0m             \u001b[0;34mf\"The truth value of a {type(self).__name__} is ambiguous. \"\u001b[0m\u001b[0;34m\u001b[0m\u001b[0;34m\u001b[0m\u001b[0m\n\u001b[1;32m   1539\u001b[0m             \u001b[0;34m\"Use a.empty, a.bool(), a.item(), a.any() or a.all().\"\u001b[0m\u001b[0;34m\u001b[0m\u001b[0;34m\u001b[0m\u001b[0m\n",
      "\u001b[0;31mValueError\u001b[0m: The truth value of a Series is ambiguous. Use a.empty, a.bool(), a.item(), a.any() or a.all()."
     ]
    }
   ],
   "source": [
    "get_scores(posts_10)"
   ]
  },
  {
   "cell_type": "code",
   "execution_count": 108,
   "id": "cbc4463f-1434-45c8-a77f-86aee3412b22",
   "metadata": {},
   "outputs": [
    {
     "ename": "SyntaxError",
     "evalue": "invalid syntax (2702059313.py, line 1)",
     "output_type": "error",
     "traceback": [
      "\u001b[0;36m  File \u001b[0;32m\"/var/folders/5x/x41g3czd3g7d18145p3cfc9r0000gn/T/ipykernel_36293/2702059313.py\"\u001b[0;36m, line \u001b[0;32m1\u001b[0m\n\u001b[0;31m    curl -X POST -d 'grant_type=password&username=ekfuller&password=capstone22' --user '56cfrE1m-Ew4azLMeQ8MWw' https://www.reddit.com/api/v1/access_token\u001b[0m\n\u001b[0m            ^\u001b[0m\n\u001b[0;31mSyntaxError\u001b[0m\u001b[0;31m:\u001b[0m invalid syntax\n"
     ]
    }
   ],
   "source": [
    "curl -X POST -d 'grant_type=password&username=ekfuller&password=capstone22' --user '56cfrE1m-Ew4azLMeQ8MWw' https://www.reddit.com/api/v1/access_token"
   ]
  },
  {
   "cell_type": "code",
   "execution_count": null,
   "id": "4a84c54c-43dc-4055-9ce2-c34043e2b235",
   "metadata": {},
   "outputs": [],
   "source": []
  }
 ],
 "metadata": {
  "kernelspec": {
   "display_name": "Python 3 (ipykernel)",
   "language": "python",
   "name": "python3"
  },
  "language_info": {
   "codemirror_mode": {
    "name": "ipython",
    "version": 3
   },
   "file_extension": ".py",
   "mimetype": "text/x-python",
   "name": "python",
   "nbconvert_exporter": "python",
   "pygments_lexer": "ipython3",
   "version": "3.9.7"
  }
 },
 "nbformat": 4,
 "nbformat_minor": 5
}
