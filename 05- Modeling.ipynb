{
 "cells": [
  {
   "cell_type": "code",
   "execution_count": 1,
   "id": "ad93b2a7-08e2-4c4b-aa32-6539a1e605de",
   "metadata": {},
   "outputs": [],
   "source": [
    "import pandas as pd\n",
    "import pickle\n",
    "import numpy as np\n",
    "from sklearn.neighbors import KNeighborsRegressor, KNeighborsClassifier\n",
    "from sklearn.pipeline import Pipeline, make_pipeline\n",
    "from sklearn.model_selection import train_test_split, GridSearchCV\n",
    "from sklearn.feature_extraction.text import CountVectorizer\n",
    "from sklearn.linear_model import LogisticRegression\n",
    "from sklearn.ensemble import RandomForestRegressor, ExtraTreesRegressor, RandomForestClassifier\n",
    "from sklearn.metrics import balanced_accuracy_score, SCORERS, mean_squared_error, accuracy_score, f1_score, ConfusionMatrixDisplay\n",
    "from imblearn.datasets import make_imbalance\n",
    "from imblearn.pipeline import make_pipeline, Pipeline\n",
    "from imblearn.over_sampling import RandomOverSampler"
   ]
  },
  {
   "cell_type": "code",
   "execution_count": 3,
   "id": "d04c3a87-58d4-4d30-8d3d-23a0c2ba3e33",
   "metadata": {},
   "outputs": [],
   "source": [
    "posts_df = pd.read_csv('./Data/posts_scores_dates.csv')"
   ]
  },
  {
   "cell_type": "code",
   "execution_count": 4,
   "id": "cea01880-e2af-41c5-a1b2-2ed860080111",
   "metadata": {},
   "outputs": [],
   "source": [
    "X = posts_df['title']\n",
    "y = posts_df['score']\n",
    "\n",
    "X_train, X_test, y_train, y_test = train_test_split(X, y, random_state=20)"
   ]
  },
  {
   "cell_type": "markdown",
   "id": "93b3b061-29ff-46ee-8868-7c6b64db9b6f",
   "metadata": {
    "tags": []
   },
   "source": [
    "## Regression Models to predict score"
   ]
  },
  {
   "cell_type": "markdown",
   "id": "e1bd16c1-9edb-4ce4-b630-0670bfeedbd8",
   "metadata": {},
   "source": [
    "#### Baselines"
   ]
  },
  {
   "cell_type": "code",
   "execution_count": 5,
   "id": "db735af0-0a15-48e0-aef2-c24c6154c1bb",
   "metadata": {},
   "outputs": [
    {
     "name": "stdout",
     "output_type": "stream",
     "text": [
      "889.3682643293197\n",
      "0.01778436457947388\n"
     ]
    }
   ],
   "source": [
    "baseline = np.full_like(y_test, y_train.median())\n",
    "\n",
    "print(mean_squared_error(y_test, baseline, squared = False))\n",
    "\n",
    "print(accuracy_score(y_test, baseline))"
   ]
  },
  {
   "cell_type": "markdown",
   "id": "8582cec5-9dec-4bee-a0a8-7d1dac2ea995",
   "metadata": {},
   "source": [
    "#### Basic KNN Regressor"
   ]
  },
  {
   "cell_type": "code",
   "execution_count": 6,
   "id": "75a12b0b-01aa-48a2-a242-cc81aba6c48d",
   "metadata": {},
   "outputs": [],
   "source": [
    "pipe_knn = Pipeline([\n",
    "    ('cv', CountVectorizer()),\n",
    "    ('knn', KNeighborsRegressor())\n",
    "])"
   ]
  },
  {
   "cell_type": "code",
   "execution_count": 7,
   "id": "8c91a272-3c3b-4daf-b33e-c064f70e86a9",
   "metadata": {},
   "outputs": [
    {
     "data": {
      "text/plain": [
       "Pipeline(steps=[('cv', CountVectorizer()), ('knn', KNeighborsRegressor())])"
      ]
     },
     "execution_count": 7,
     "metadata": {},
     "output_type": "execute_result"
    }
   ],
   "source": [
    "pipe_knn.fit(X_train, y_train)"
   ]
  },
  {
   "cell_type": "code",
   "execution_count": 8,
   "id": "c08ceb7f-ef59-4ad9-86ad-67c5cc7981f1",
   "metadata": {},
   "outputs": [
    {
     "name": "stdout",
     "output_type": "stream",
     "text": [
      "0.1883731025654961\n",
      "-0.2697590813831401\n"
     ]
    }
   ],
   "source": [
    "print(pipe_knn.score(X_train, y_train))\n",
    "print(pipe_knn.score(X_test, y_test))"
   ]
  },
  {
   "cell_type": "code",
   "execution_count": 9,
   "id": "dbf6a461-a1b9-4367-93c7-2a1b500c3ed9",
   "metadata": {},
   "outputs": [
    {
     "data": {
      "text/plain": [
       "1075.0297667838522"
      ]
     },
     "execution_count": 9,
     "metadata": {},
     "output_type": "execute_result"
    }
   ],
   "source": [
    "mean_squared_error(y_train, pipe_knn.predict(X_train), squared = False)"
   ]
  },
  {
   "cell_type": "code",
   "execution_count": 10,
   "id": "be20c0fa-da19-4577-8b4c-776317b7e041",
   "metadata": {},
   "outputs": [
    {
     "data": {
      "text/plain": [
       "992.9478033165451"
      ]
     },
     "execution_count": 10,
     "metadata": {},
     "output_type": "execute_result"
    }
   ],
   "source": [
    "mean_squared_error(y_test, pipe_knn.predict(X_test), squared = False)"
   ]
  },
  {
   "cell_type": "markdown",
   "id": "f8721880-4a56-4c6f-816a-2f14d7de9b3d",
   "metadata": {},
   "source": [
    "These numbers are both a bit worse than baseline, but the model is overfit and still has a large error"
   ]
  },
  {
   "cell_type": "markdown",
   "id": "3a11114c-56ca-47fa-9207-59dc333ea24e",
   "metadata": {},
   "source": [
    "#### Basic Logistic Regressor"
   ]
  },
  {
   "cell_type": "code",
   "execution_count": 11,
   "id": "dbcbb01f-d662-468f-ae5e-b76f7cd9c66d",
   "metadata": {},
   "outputs": [],
   "source": [
    "pipe_lr = Pipeline([\n",
    "    ('cv', CountVectorizer()),\n",
    "    ('lr', LogisticRegression(max_iter=1000))\n",
    "])"
   ]
  },
  {
   "cell_type": "code",
   "execution_count": 12,
   "id": "33c3ae8c-26fa-4252-a399-792f05f65e2c",
   "metadata": {},
   "outputs": [
    {
     "data": {
      "text/plain": [
       "(0.4967885375494071, 0.18303075213041867)"
      ]
     },
     "execution_count": 12,
     "metadata": {},
     "output_type": "execute_result"
    }
   ],
   "source": [
    "pipe_lr.fit(X_train, y_train)\n",
    "pipe_lr.score(X_train, y_train), pipe_lr.score(X_test, y_test)"
   ]
  },
  {
   "cell_type": "code",
   "execution_count": 13,
   "id": "44b5a2c9-c542-483d-b207-25218a7f6e8c",
   "metadata": {},
   "outputs": [
    {
     "name": "stdout",
     "output_type": "stream",
     "text": [
      "1170.4576042977799\n",
      "890.5628898833294\n"
     ]
    }
   ],
   "source": [
    "print(mean_squared_error(y_train, pipe_lr.predict(X_train), squared = False))\n",
    "print(mean_squared_error(y_test, pipe_lr.predict(X_test), squared = False))"
   ]
  },
  {
   "cell_type": "markdown",
   "id": "d639e574-102d-4b25-a627-328b577db76b",
   "metadata": {},
   "source": [
    "The model is underperforming, but exceeds the baseline accuracy"
   ]
  },
  {
   "cell_type": "markdown",
   "id": "28fd5cb0-9f53-4af1-b44c-abaad89c63ea",
   "metadata": {},
   "source": [
    "#### Basic Random Forest Regressor"
   ]
  },
  {
   "cell_type": "code",
   "execution_count": 14,
   "id": "064bddd1-af9d-43e9-9fa4-2fc9c36c2d0e",
   "metadata": {},
   "outputs": [],
   "source": [
    "pipe_rf = Pipeline([\n",
    "    ('cv', CountVectorizer()),\n",
    "    ('rf', RandomForestRegressor())\n",
    "])"
   ]
  },
  {
   "cell_type": "code",
   "execution_count": 15,
   "id": "4839fece-aab0-42dd-8e79-0a8351c03dd6",
   "metadata": {},
   "outputs": [
    {
     "data": {
      "text/plain": [
       "(0.7468904995170231, -0.6353309400911842)"
      ]
     },
     "execution_count": 15,
     "metadata": {},
     "output_type": "execute_result"
    }
   ],
   "source": [
    "pipe_rf.fit(X_train, y_train)\n",
    "pipe_rf.score(X_train, y_train), pipe_rf.score(X_test, y_test)"
   ]
  },
  {
   "cell_type": "code",
   "execution_count": 16,
   "id": "3cc444ab-ae1f-43da-b43a-79f90ba528b8",
   "metadata": {},
   "outputs": [
    {
     "name": "stdout",
     "output_type": "stream",
     "text": [
      "600.3389170844509\n",
      "1126.856417461666\n"
     ]
    }
   ],
   "source": [
    "print(mean_squared_error(y_train, pipe_rf.predict(X_train), squared = False))\n",
    "print(mean_squared_error(y_test, pipe_rf.predict(X_test), squared = False))"
   ]
  },
  {
   "cell_type": "markdown",
   "id": "66cd99e5-b44d-446f-a714-2df5a9c0da07",
   "metadata": {},
   "source": [
    "The model is outperforming the baseline, but is overfit"
   ]
  },
  {
   "cell_type": "markdown",
   "id": "75c1b19a-bed9-4ea3-9c48-d376703d05da",
   "metadata": {},
   "source": [
    "#### Basic Extra Trees Regressor"
   ]
  },
  {
   "cell_type": "code",
   "execution_count": 17,
   "id": "1fce44ec-f0d4-49d8-a031-09db66b4fb3d",
   "metadata": {},
   "outputs": [],
   "source": [
    "pipe_et = Pipeline([\n",
    "    ('cv', CountVectorizer()),\n",
    "    ('et', ExtraTreesRegressor(n_jobs=-1))\n",
    "\n",
    "])"
   ]
  },
  {
   "cell_type": "code",
   "execution_count": 18,
   "id": "82967d5d-b376-4e21-93f9-4f43202baddc",
   "metadata": {},
   "outputs": [
    {
     "data": {
      "text/plain": [
       "(0.9247702493419087, -1.3325938426692319)"
      ]
     },
     "execution_count": 18,
     "metadata": {},
     "output_type": "execute_result"
    }
   ],
   "source": [
    "pipe_et.fit(X_train, y_train)\n",
    "pipe_et.score(X_train, y_train), pipe_et.score(X_test, y_test)"
   ]
  },
  {
   "cell_type": "markdown",
   "id": "19c37008-8609-4a39-bae6-02176ad897ea",
   "metadata": {},
   "source": [
    "## Classification Models to predict if viral (top 2% of scores)"
   ]
  },
  {
   "cell_type": "markdown",
   "id": "283d44f4-33a7-4621-ad74-debbfd7f9b9d",
   "metadata": {},
   "source": [
    "First create a function to pull all metrics"
   ]
  },
  {
   "cell_type": "code",
   "execution_count": 12,
   "id": "561ce663-5f30-4e48-b8c9-24767f412bc0",
   "metadata": {},
   "outputs": [],
   "source": [
    "def get_metrics(function):\n",
    "    print(f'The training balanced accuracy score is {balanced_accuracy_score(y_train, function.predict(X_train))}')\n",
    "    print(f'The testing balanced accuracy score is {balanced_accuracy_score(y_test, function.predict(X_test))}')\n",
    "    print(f'The training f1 score is {f1_score(y_train, function.predict(X_train))}')\n",
    "    print(f'The testing f1 score is {f1_score(y_test, function.predict(X_test))}')\n",
    "    print(f'The training accuracy score is {accuracy_score(y_train, function.predict(X_train))}')\n",
    "    print(f'The testing accuracy score is {accuracy_score(y_test, function.predict(X_test))}')"
   ]
  },
  {
   "cell_type": "markdown",
   "id": "0426a177-d8b6-4e9f-9234-eabe1ace871d",
   "metadata": {},
   "source": [
    "Train Test Split"
   ]
  },
  {
   "cell_type": "code",
   "execution_count": 8,
   "id": "ba0eedd9-f440-4ff1-9f0a-f93d48d48016",
   "metadata": {},
   "outputs": [],
   "source": [
    "X = posts_df['title']\n",
    "y = posts_df['viral']\n",
    "\n",
    "X_train, X_test, y_train, y_test = train_test_split(X, y, random_state=20, stratify=y)"
   ]
  },
  {
   "cell_type": "markdown",
   "id": "378ad0c3-b1d8-4393-8618-095e7c5c6e74",
   "metadata": {},
   "source": [
    "#### baseline"
   ]
  },
  {
   "cell_type": "code",
   "execution_count": 21,
   "id": "fd82dad1-bf83-46a7-83e8-6d570ca3d21f",
   "metadata": {},
   "outputs": [
    {
     "data": {
      "text/plain": [
       "0    0.979991\n",
       "1    0.020009\n",
       "Name: viral, dtype: float64"
      ]
     },
     "execution_count": 21,
     "metadata": {},
     "output_type": "execute_result"
    }
   ],
   "source": [
    "posts_df['viral'].value_counts(normalize=True)"
   ]
  },
  {
   "cell_type": "code",
   "execution_count": 22,
   "id": "86f753e0-51c5-4218-ab30-1dae4eeb398c",
   "metadata": {},
   "outputs": [],
   "source": [
    "baseline_preds = np.full_like(y_test, 0)"
   ]
  },
  {
   "cell_type": "code",
   "execution_count": 23,
   "id": "1e27bbd3-01cd-4e5d-99ef-553bff9bdda4",
   "metadata": {},
   "outputs": [
    {
     "name": "stdout",
     "output_type": "stream",
     "text": [
      "The baseline balanced accuracy score is 0.5\n",
      "The baseline f1 score is 0.0\n",
      "The baseline accuracy score is 0.9799925898480919\n"
     ]
    }
   ],
   "source": [
    "print(f'The baseline balanced accuracy score is {balanced_accuracy_score(y_test, baseline_preds)}')\n",
    "print(f'The baseline f1 score is {f1_score(y_test, baseline_preds)}')\n",
    "print(f'The baseline accuracy score is {accuracy_score(y_test, baseline_preds)}')"
   ]
  },
  {
   "cell_type": "markdown",
   "id": "b0e0d220-2703-4bae-8ef0-ef0dd35511c9",
   "metadata": {},
   "source": [
    "#### Basic Logistic Regression"
   ]
  },
  {
   "cell_type": "code",
   "execution_count": 24,
   "id": "a6c07b46-dc09-4130-8639-2e88947eb095",
   "metadata": {},
   "outputs": [
    {
     "data": {
      "text/plain": [
       "Pipeline(steps=[('cv', CountVectorizer()),\n",
       "                ('lr', LogisticRegression(max_iter=1000, random_state=20))])"
      ]
     },
     "execution_count": 24,
     "metadata": {},
     "output_type": "execute_result"
    }
   ],
   "source": [
    "pipe_lrc = Pipeline([\n",
    "    ('cv', CountVectorizer()),\n",
    "    ('lr', LogisticRegression(max_iter=1000, random_state=20))\n",
    "])\n",
    "\n",
    "pipe_lrc.fit(X_train, y_train)"
   ]
  },
  {
   "cell_type": "code",
   "execution_count": 25,
   "id": "312e9b41-048b-44f2-b904-d6c1e8999fa6",
   "metadata": {},
   "outputs": [
    {
     "name": "stdout",
     "output_type": "stream",
     "text": [
      "The training balanced accuracy score is 0.5216049382716049\n",
      "The testing balanced accuracy score is 0.5090702233424351\n",
      "The training f1 score is 0.08284023668639053\n",
      "The testing f1 score is 0.03571428571428571\n",
      "The training accuracy score is 0.9808547430830039\n",
      "The testing accuracy score is 0.9799925898480919\n"
     ]
    }
   ],
   "source": [
    "get_metrics(pipe_lrc)"
   ]
  },
  {
   "cell_type": "markdown",
   "id": "00061a51-b0ef-4c1c-b00f-5dfd7c6d4bcb",
   "metadata": {},
   "source": [
    "The model is slightly out performing the baseline on all metrics"
   ]
  },
  {
   "cell_type": "markdown",
   "id": "aa55d916-561e-4c12-b795-154d091e6c25",
   "metadata": {},
   "source": [
    "#### Logistic Regression with balanced class weights"
   ]
  },
  {
   "cell_type": "code",
   "execution_count": 26,
   "id": "f56c049b-da2e-4391-aeef-8acf30716ff3",
   "metadata": {},
   "outputs": [
    {
     "data": {
      "text/plain": [
       "Pipeline(steps=[('cv', CountVectorizer()),\n",
       "                ('lr',\n",
       "                 LogisticRegression(class_weight='balanced', max_iter=1000,\n",
       "                                    random_state=20))])"
      ]
     },
     "execution_count": 26,
     "metadata": {},
     "output_type": "execute_result"
    }
   ],
   "source": [
    "pipe_lrcb = Pipeline([\n",
    "    ('cv', CountVectorizer()),\n",
    "    ('lr', LogisticRegression(max_iter= 1000, class_weight='balanced', random_state=20))\n",
    "])\n",
    "\n",
    "pipe_lrcb.fit(X_train, y_train)"
   ]
  },
  {
   "cell_type": "code",
   "execution_count": 27,
   "id": "97685a6e-68bd-42f4-81d8-2800323b04a3",
   "metadata": {},
   "outputs": [
    {
     "name": "stdout",
     "output_type": "stream",
     "text": [
      "The training balanced accuracy score is 0.9608078374988719\n",
      "The testing balanced accuracy score is 0.6103409647833089\n",
      "The training f1 score is 0.42359249329758714\n",
      "The testing f1 score is 0.11851851851851852\n",
      "The training accuracy score is 0.9468873517786561\n",
      "The testing accuracy score is 0.911819192293442\n"
     ]
    }
   ],
   "source": [
    "get_metrics(pipe_lrcb)"
   ]
  },
  {
   "cell_type": "markdown",
   "id": "3e259d88-f4d4-4503-b21e-437343f58666",
   "metadata": {},
   "source": [
    "The model's accuracy is underforming baseline, but it is significantly outperforming baseline on balanced accuracy and f1"
   ]
  },
  {
   "cell_type": "markdown",
   "id": "900aadbc-3a10-4bc3-86ca-c46688232102",
   "metadata": {},
   "source": [
    "#### Basic KNN Classification"
   ]
  },
  {
   "cell_type": "code",
   "execution_count": 30,
   "id": "a9f770c0-af79-4ba4-b202-28fb9ec9f7dd",
   "metadata": {},
   "outputs": [
    {
     "data": {
      "text/plain": [
       "Pipeline(steps=[('cv', CountVectorizer()), ('knn', KNeighborsClassifier())])"
      ]
     },
     "execution_count": 30,
     "metadata": {},
     "output_type": "execute_result"
    }
   ],
   "source": [
    "pipe_knnc = Pipeline([\n",
    "    ('cv', CountVectorizer()),\n",
    "    ('knn', KNeighborsClassifier())\n",
    "])\n",
    "\n",
    "pipe_knnc.fit(X_train, y_train)"
   ]
  },
  {
   "cell_type": "code",
   "execution_count": 31,
   "id": "b0f5552b-89e1-4126-9c4c-959b6552b1e8",
   "metadata": {},
   "outputs": [
    {
     "name": "stdout",
     "output_type": "stream",
     "text": [
      "The training balanced accuracy score is 0.5184554986042256\n",
      "The testing balanced accuracy score is 0.5092592592592593\n",
      "The training f1 score is 0.07100591715976332\n",
      "The testing f1 score is 0.03636363636363636\n",
      "The training accuracy score is 0.9806077075098815\n",
      "The testing accuracy score is 0.9803630974434976\n"
     ]
    }
   ],
   "source": [
    "get_metrics(pipe_knnc)"
   ]
  },
  {
   "cell_type": "markdown",
   "id": "e94864c1-bdb0-4e51-ab47-66dcfa01f155",
   "metadata": {},
   "source": [
    "The model performs very similarly to the logistic regression model and is slightly outperforming the baseline"
   ]
  },
  {
   "cell_type": "markdown",
   "id": "89060391-0e8e-4341-a957-6fba3a2e4647",
   "metadata": {},
   "source": [
    "#### Basic Random Forest Classifier"
   ]
  },
  {
   "cell_type": "code",
   "execution_count": 9,
   "id": "ad6c0f4a-278f-46b6-b586-74014a0e1ee2",
   "metadata": {},
   "outputs": [
    {
     "data": {
      "text/plain": [
       "Pipeline(steps=[('cv', CountVectorizer()),\n",
       "                ('rf', RandomForestClassifier(random_state=20))])"
      ]
     },
     "execution_count": 9,
     "metadata": {},
     "output_type": "execute_result"
    }
   ],
   "source": [
    "pipe_rfc = Pipeline([\n",
    "    ('cv', CountVectorizer()),\n",
    "    ('rf', RandomForestClassifier(random_state=20))\n",
    "])\n",
    "\n",
    "pipe_rfc.fit(X_train, y_train)"
   ]
  },
  {
   "cell_type": "code",
   "execution_count": 13,
   "id": "abe698e7-2344-4774-b00b-95e554761c3e",
   "metadata": {},
   "outputs": [
    {
     "name": "stdout",
     "output_type": "stream",
     "text": [
      "The training balanced accuracy score is 0.9133911871707014\n",
      "The testing balanced accuracy score is 0.5905131975075264\n",
      "The training f1 score is 0.8963210702341138\n",
      "The testing f1 score is 0.26666666666666666\n",
      "The training accuracy score is 0.9961709486166008\n",
      "The testing accuracy score is 0.9796220822526862\n"
     ]
    }
   ],
   "source": [
    "get_metrics(pipe_rfc)"
   ]
  },
  {
   "cell_type": "markdown",
   "id": "5f9cc600-be4d-40ad-97a7-dfc7ab0995fe",
   "metadata": {},
   "source": [
    "The model is performing well on the training data, but is overfit. However the testing data still outperforms the baseline on balanced accuracy score and f1 score"
   ]
  },
  {
   "cell_type": "markdown",
   "id": "4f30d048-195c-436b-aa86-c45b66eabe16",
   "metadata": {},
   "source": [
    "### Grid Search"
   ]
  },
  {
   "cell_type": "markdown",
   "id": "387112eb-cbcd-40ff-9dfd-6bb5c3467f27",
   "metadata": {},
   "source": [
    "#### grid search on random forest"
   ]
  },
  {
   "cell_type": "code",
   "execution_count": 14,
   "id": "65b7f843-1b85-4da1-a5de-ce6434251e52",
   "metadata": {},
   "outputs": [
    {
     "data": {
      "text/plain": [
       "GridSearchCV(estimator=Pipeline(steps=[('cv', CountVectorizer()),\n",
       "                                       ('rf',\n",
       "                                        RandomForestClassifier(random_state=20))]),\n",
       "             n_jobs=-1,\n",
       "             param_grid={'cv__lowercase': [True, False],\n",
       "                         'cv__min_df': [1, 2, 4],\n",
       "                         'cv__ngram_range': [(1, 1), (1, 2), (2, 2)],\n",
       "                         'cv__stop_words': [None, 'english'],\n",
       "                         'rf__max_depth': [None, 2, 4], 'rf__n_jobs': [-1]},\n",
       "             scoring='balanced_accuracy')"
      ]
     },
     "execution_count": 14,
     "metadata": {},
     "output_type": "execute_result"
    }
   ],
   "source": [
    "params = {\n",
    "    'cv__ngram_range': [(1,1),(1,2),(2,2)],\n",
    "    'cv__stop_words' :[None, 'english'],\n",
    "    'cv__min_df':[1, 2, 4],\n",
    "    'cv__lowercase':[True, False],\n",
    "    'rf__n_jobs':[-1],\n",
    "    'rf__max_depth': [None, 2, 4]\n",
    "}\n",
    "\n",
    "gs = GridSearchCV(\n",
    "    pipe_rfc,\n",
    "    param_grid= params,\n",
    "    n_jobs=-1,\n",
    "    scoring='balanced_accuracy'\n",
    ")\n",
    "\n",
    "gs.fit(X_train, y_train)"
   ]
  },
  {
   "cell_type": "code",
   "execution_count": 35,
   "id": "eb7a24f7-d58d-4719-9c5f-5ecce539a7de",
   "metadata": {},
   "outputs": [
    {
     "data": {
      "text/plain": [
       "{'cv__lowercase': False,\n",
       " 'cv__min_df': 1,\n",
       " 'cv__ngram_range': (2, 2),\n",
       " 'cv__stop_words': None,\n",
       " 'rf__max_depth': None,\n",
       " 'rf__n_jobs': -1}"
      ]
     },
     "execution_count": 35,
     "metadata": {},
     "output_type": "execute_result"
    }
   ],
   "source": [
    "gs.best_params_"
   ]
  },
  {
   "cell_type": "code",
   "execution_count": 36,
   "id": "ffdf9915-4f15-4dc6-9c5b-6757f507e093",
   "metadata": {},
   "outputs": [
    {
     "data": {
      "text/plain": [
       "0.5700145357163315"
      ]
     },
     "execution_count": 36,
     "metadata": {},
     "output_type": "execute_result"
    }
   ],
   "source": [
    "gs.best_score_"
   ]
  },
  {
   "cell_type": "code",
   "execution_count": 37,
   "id": "7c2b3b3a-0fb0-48a3-be9d-cb23614aa858",
   "metadata": {},
   "outputs": [
    {
     "name": "stdout",
     "output_type": "stream",
     "text": [
      "The training balanced accuracy score is 0.9598135232955836\n",
      "The testing balanced accuracy score is 0.5918364489252959\n",
      "The training f1 score is 0.9551282051282051\n",
      "The testing f1 score is 0.2941176470588235\n",
      "The training accuracy score is 0.9982707509881423\n",
      "The testing accuracy score is 0.9822156354205261\n"
     ]
    }
   ],
   "source": [
    "get_metrics(gs)"
   ]
  },
  {
   "cell_type": "code",
   "execution_count": 16,
   "id": "a4bfb888-6e11-486a-8359-e09938356cc5",
   "metadata": {},
   "outputs": [
    {
     "data": {
      "image/png": "[encoded data removed]",
      "text/plain": [
       "<Figure size 432x288 with 2 Axes>"
      ]
     },
     "metadata": {
      "needs_background": "light"
     },
     "output_type": "display_data"
    }
   ],
   "source": [
    "ConfusionMatrixDisplay.from_estimator(gs, X_test, y_test);"
   ]
  },
  {
   "cell_type": "code",
   "execution_count": 38,
   "id": "6520f13d-f8c4-459e-b9dc-997fffc2b65e",
   "metadata": {},
   "outputs": [
    {
     "data": {
      "text/plain": [
       "Pipeline(steps=[('cv', CountVectorizer(min_df=2, ngram_range=(1, 2))),\n",
       "                ('rf', RandomForestClassifier(n_jobs=-1, random_state=20))])"
      ]
     },
     "execution_count": 38,
     "metadata": {},
     "output_type": "execute_result"
    }
   ],
   "source": [
    "pipe_gs = Pipeline([\n",
    "    ('cv', CountVectorizer(ngram_range=(1,2), min_df=2)),\n",
    "    ('rf', RandomForestClassifier(n_jobs=-1, random_state=20))\n",
    "])\n",
    "pipe_gs.fit(X_train, y_train)"
   ]
  },
  {
   "cell_type": "code",
   "execution_count": 39,
   "id": "7c2b79e3-7a5c-4123-8ff7-93a464050050",
   "metadata": {},
   "outputs": [
    {
     "name": "stdout",
     "output_type": "stream",
     "text": [
      "The training balanced accuracy score is 0.9012345679012346\n",
      "The testing balanced accuracy score is 0.5903241615907022\n",
      "The training f1 score is 0.8904109589041096\n",
      "The testing f1 score is 0.2631578947368421\n",
      "The training accuracy score is 0.9960474308300395\n",
      "The testing accuracy score is 0.9792515746572805\n"
     ]
    }
   ],
   "source": [
    "get_metrics(pipe_gs)"
   ]
  },
  {
   "cell_type": "markdown",
   "id": "e46534f5-7d36-4818-9495-c036a22f9756",
   "metadata": {},
   "source": [
    "### Bring in other word processing"
   ]
  },
  {
   "cell_type": "code",
   "execution_count": 40,
   "id": "55f3b534-bdaf-42c8-8394-3090923a68e2",
   "metadata": {},
   "outputs": [
    {
     "name": "stderr",
     "output_type": "stream",
     "text": [
      "[nltk_data] Downloading package wordnet to\n",
      "[nltk_data]     /Users/emilyfuller/nltk_data...\n",
      "[nltk_data]   Package wordnet is already up-to-date!\n",
      "[nltk_data] Downloading package omw-1.4 to\n",
      "[nltk_data]     /Users/emilyfuller/nltk_data...\n",
      "[nltk_data]   Package omw-1.4 is already up-to-date!\n",
      "[nltk_data] Downloading package punkt to\n",
      "[nltk_data]     /Users/emilyfuller/nltk_data...\n",
      "[nltk_data]   Package punkt is already up-to-date!\n"
     ]
    }
   ],
   "source": [
    "import nltk\n",
    "nltk.download('wordnet') \n",
    "nltk.download('omw-1.4')\n",
    "nltk.download('punkt')\n",
    "from nltk import word_tokenize\n",
    "from nltk.stem import WordNetLemmatizer"
   ]
  },
  {
   "cell_type": "code",
   "execution_count": 41,
   "id": "28d8b03d-b08e-4394-83c2-185aa13e7677",
   "metadata": {},
   "outputs": [],
   "source": [
    "lemmatizer = WordNetLemmatizer()"
   ]
  },
  {
   "cell_type": "code",
   "execution_count": 42,
   "id": "0e42a8d8-0316-44f7-a709-1ef0af8f7b00",
   "metadata": {},
   "outputs": [],
   "source": [
    "class LemmaTokenizer():\n",
    "    def __init__(self):\n",
    "        self.wnl = WordNetLemmatizer()\n",
    "    def __call__(self, doc):\n",
    "        return [self.wnl.lemmatize(t) for t in word_tokenize(doc)]"
   ]
  },
  {
   "cell_type": "code",
   "execution_count": 44,
   "id": "20199bc8-2ec1-45c7-a4dc-d5266fa30340",
   "metadata": {},
   "outputs": [],
   "source": [
    "def lemma_tokenizer(doc):\n",
    "    wnl = WordNetLemmatizer()\n",
    "    return [wnl.lemmatize(w) for w in word_tokenize(doc)]"
   ]
  },
  {
   "cell_type": "code",
   "execution_count": 45,
   "id": "f49ca64c-ed99-4fe3-81b0-90f1d1cf3667",
   "metadata": {},
   "outputs": [],
   "source": [
    "cvl = CountVectorizer(tokenizer=lemma_tokenizer)"
   ]
  },
  {
   "cell_type": "code",
   "execution_count": 46,
   "id": "52da6cea-e6b4-4574-8d62-ba857e7b4a92",
   "metadata": {},
   "outputs": [
    {
     "name": "stderr",
     "output_type": "stream",
     "text": [
      "/Users/emilyfuller/opt/anaconda3/lib/python3.9/site-packages/sklearn/feature_extraction/text.py:516: UserWarning: The parameter 'token_pattern' will not be used since 'tokenizer' is not None'\n",
      "  warnings.warn(\n"
     ]
    },
    {
     "data": {
      "text/plain": [
       "CountVectorizer(tokenizer=<function lemma_tokenizer at 0x7fca4aae0c10>)"
      ]
     },
     "execution_count": 46,
     "metadata": {},
     "output_type": "execute_result"
    }
   ],
   "source": [
    "cvl.fit(X_train)"
   ]
  },
  {
   "cell_type": "code",
   "execution_count": 47,
   "id": "737585e9-0705-42d1-93eb-147592ddfe61",
   "metadata": {},
   "outputs": [],
   "source": [
    "X_train_cvl = cvl.transform(X_train)"
   ]
  },
  {
   "cell_type": "code",
   "execution_count": 48,
   "id": "e5dc2fc9-9b77-4431-b7bd-513460923d40",
   "metadata": {},
   "outputs": [
    {
     "data": {
      "text/html": [
       "<div>\n",
       "<style scoped>\n",
       "    .dataframe tbody tr th:only-of-type {\n",
       "        vertical-align: middle;\n",
       "    }\n",
       "\n",
       "    .dataframe tbody tr th {\n",
       "        vertical-align: top;\n",
       "    }\n",
       "\n",
       "    .dataframe thead th {\n",
       "        text-align: right;\n",
       "    }\n",
       "</style>\n",
       "<table border=\"1\" class=\"dataframe\">\n",
       "  <thead>\n",
       "    <tr style=\"text-align: right;\">\n",
       "      <th></th>\n",
       "      <th>\bsponge</th>\n",
       "      <th>!</th>\n",
       "      <th>#</th>\n",
       "      <th>$</th>\n",
       "      <th>%</th>\n",
       "      <th>&amp;</th>\n",
       "      <th>'</th>\n",
       "      <th>''</th>\n",
       "      <th>'all-powerful</th>\n",
       "      <th>'baked</th>\n",
       "      <th>...</th>\n",
       "      <th>🥰✌🏻</th>\n",
       "      <th>🥲</th>\n",
       "      <th>🦀</th>\n",
       "      <th>🦄💕</th>\n",
       "      <th>🧁🍪</th>\n",
       "      <th>🧇</th>\n",
       "      <th>🧑🏻‍🍳🥸</th>\n",
       "      <th>🫐</th>\n",
       "      <th>🫐🍰</th>\n",
       "      <th>🫖</th>\n",
       "    </tr>\n",
       "  </thead>\n",
       "  <tbody>\n",
       "    <tr>\n",
       "      <th>0</th>\n",
       "      <td>0</td>\n",
       "      <td>0</td>\n",
       "      <td>0</td>\n",
       "      <td>0</td>\n",
       "      <td>0</td>\n",
       "      <td>0</td>\n",
       "      <td>0</td>\n",
       "      <td>0</td>\n",
       "      <td>0</td>\n",
       "      <td>0</td>\n",
       "      <td>...</td>\n",
       "      <td>0</td>\n",
       "      <td>0</td>\n",
       "      <td>0</td>\n",
       "      <td>0</td>\n",
       "      <td>0</td>\n",
       "      <td>0</td>\n",
       "      <td>0</td>\n",
       "      <td>0</td>\n",
       "      <td>0</td>\n",
       "      <td>0</td>\n",
       "    </tr>\n",
       "    <tr>\n",
       "      <th>1</th>\n",
       "      <td>0</td>\n",
       "      <td>0</td>\n",
       "      <td>0</td>\n",
       "      <td>0</td>\n",
       "      <td>0</td>\n",
       "      <td>0</td>\n",
       "      <td>0</td>\n",
       "      <td>0</td>\n",
       "      <td>0</td>\n",
       "      <td>0</td>\n",
       "      <td>...</td>\n",
       "      <td>0</td>\n",
       "      <td>0</td>\n",
       "      <td>0</td>\n",
       "      <td>0</td>\n",
       "      <td>0</td>\n",
       "      <td>0</td>\n",
       "      <td>0</td>\n",
       "      <td>0</td>\n",
       "      <td>0</td>\n",
       "      <td>0</td>\n",
       "    </tr>\n",
       "    <tr>\n",
       "      <th>2</th>\n",
       "      <td>0</td>\n",
       "      <td>0</td>\n",
       "      <td>0</td>\n",
       "      <td>0</td>\n",
       "      <td>0</td>\n",
       "      <td>0</td>\n",
       "      <td>0</td>\n",
       "      <td>0</td>\n",
       "      <td>0</td>\n",
       "      <td>0</td>\n",
       "      <td>...</td>\n",
       "      <td>0</td>\n",
       "      <td>0</td>\n",
       "      <td>0</td>\n",
       "      <td>0</td>\n",
       "      <td>0</td>\n",
       "      <td>0</td>\n",
       "      <td>0</td>\n",
       "      <td>0</td>\n",
       "      <td>0</td>\n",
       "      <td>0</td>\n",
       "    </tr>\n",
       "    <tr>\n",
       "      <th>3</th>\n",
       "      <td>0</td>\n",
       "      <td>0</td>\n",
       "      <td>0</td>\n",
       "      <td>0</td>\n",
       "      <td>0</td>\n",
       "      <td>0</td>\n",
       "      <td>0</td>\n",
       "      <td>0</td>\n",
       "      <td>0</td>\n",
       "      <td>0</td>\n",
       "      <td>...</td>\n",
       "      <td>0</td>\n",
       "      <td>0</td>\n",
       "      <td>0</td>\n",
       "      <td>0</td>\n",
       "      <td>0</td>\n",
       "      <td>0</td>\n",
       "      <td>0</td>\n",
       "      <td>0</td>\n",
       "      <td>0</td>\n",
       "      <td>0</td>\n",
       "    </tr>\n",
       "    <tr>\n",
       "      <th>4</th>\n",
       "      <td>0</td>\n",
       "      <td>0</td>\n",
       "      <td>0</td>\n",
       "      <td>0</td>\n",
       "      <td>0</td>\n",
       "      <td>0</td>\n",
       "      <td>0</td>\n",
       "      <td>0</td>\n",
       "      <td>0</td>\n",
       "      <td>0</td>\n",
       "      <td>...</td>\n",
       "      <td>0</td>\n",
       "      <td>0</td>\n",
       "      <td>0</td>\n",
       "      <td>0</td>\n",
       "      <td>0</td>\n",
       "      <td>0</td>\n",
       "      <td>0</td>\n",
       "      <td>0</td>\n",
       "      <td>0</td>\n",
       "      <td>0</td>\n",
       "    </tr>\n",
       "  </tbody>\n",
       "</table>\n",
       "<p>5 rows × 6058 columns</p>\n",
       "</div>"
      ],
      "text/plain": [
       "   \bsponge  !  #  $  %  &  '  ''  'all-powerful  'baked  ...  🥰✌🏻  🥲  🦀  🦄💕  \\\n",
       "0        0  0  0  0  0  0  0   0              0       0  ...    0  0  0   0   \n",
       "1        0  0  0  0  0  0  0   0              0       0  ...    0  0  0   0   \n",
       "2        0  0  0  0  0  0  0   0              0       0  ...    0  0  0   0   \n",
       "3        0  0  0  0  0  0  0   0              0       0  ...    0  0  0   0   \n",
       "4        0  0  0  0  0  0  0   0              0       0  ...    0  0  0   0   \n",
       "\n",
       "   🧁🍪  🧇  🧑🏻‍🍳🥸  🫐  🫐🍰  🫖  \n",
       "0   0  0      0  0   0  0  \n",
       "1   0  0      0  0   0  0  \n",
       "2   0  0      0  0   0  0  \n",
       "3   0  0      0  0   0  0  \n",
       "4   0  0      0  0   0  0  \n",
       "\n",
       "[5 rows x 6058 columns]"
      ]
     },
     "execution_count": 48,
     "metadata": {},
     "output_type": "execute_result"
    }
   ],
   "source": [
    "pd.DataFrame(X_train_cvl.A, columns = cvl.get_feature_names_out()).head()"
   ]
  },
  {
   "cell_type": "markdown",
   "id": "2f8baa93-f50d-4dc4-843e-af058864c5eb",
   "metadata": {},
   "source": [
    "#### Gride search over LR (balanced) with the new tokenizer"
   ]
  },
  {
   "cell_type": "code",
   "execution_count": 49,
   "id": "2101a0c5-ecd6-40b3-b3a9-74e275eccb76",
   "metadata": {},
   "outputs": [],
   "source": [
    "pipe_lrcb = Pipeline([\n",
    "    ('cv', CountVectorizer()),\n",
    "    ('lr', LogisticRegression(max_iter= 1000, class_weight='balanced'))\n",
    "])"
   ]
  },
  {
   "cell_type": "code",
   "execution_count": 50,
   "id": "eaea8dfa-21c3-41ad-b98c-a88afdde3e36",
   "metadata": {},
   "outputs": [],
   "source": [
    "params_lrcb = {\n",
    "    'cv__ngram_range': [(1,1),(1,2),(2,2)],\n",
    "   # 'cv__stop_words' :[None, 'english'],\n",
    "    'cv__min_df':[1, 2, 4],\n",
    "    'cv__lowercase':[True, False],\n",
    "    'cv__tokenizer' :[None, lemma_tokenizer],\n",
    "    'lr__n_jobs':[-1]\n",
    "}"
   ]
  },
  {
   "cell_type": "code",
   "execution_count": 51,
   "id": "94d53d99-504c-4e5b-a1b1-f1451a4cd305",
   "metadata": {},
   "outputs": [],
   "source": [
    "gs_lrcb = GridSearchCV(\n",
    "    pipe_lrcb,\n",
    "    param_grid= params_lrcb,\n",
    "    n_jobs=-1,\n",
    "    scoring='balanced_accuracy'\n",
    ")"
   ]
  },
  {
   "cell_type": "code",
   "execution_count": 52,
   "id": "c7f8090a-0ad4-40f0-8c38-b7d236480bef",
   "metadata": {},
   "outputs": [
    {
     "data": {
      "text/plain": [
       "GridSearchCV(estimator=Pipeline(steps=[('cv', CountVectorizer()),\n",
       "                                       ('lr',\n",
       "                                        LogisticRegression(class_weight='balanced',\n",
       "                                                           max_iter=1000))]),\n",
       "             n_jobs=-1,\n",
       "             param_grid={'cv__lowercase': [True, False],\n",
       "                         'cv__min_df': [1, 2, 4],\n",
       "                         'cv__ngram_range': [(1, 1), (1, 2), (2, 2)],\n",
       "                         'cv__tokenizer': [None,\n",
       "                                           <function lemma_tokenizer at 0x7fca4aae0c10>],\n",
       "                         'lr__n_jobs': [-1]},\n",
       "             scoring='balanced_accuracy')"
      ]
     },
     "execution_count": 52,
     "metadata": {},
     "output_type": "execute_result"
    }
   ],
   "source": [
    "gs_lrcb.fit(X_train, y_train)"
   ]
  },
  {
   "cell_type": "code",
   "execution_count": 53,
   "id": "21107e8d-72c3-4c4f-bf77-b270199bd394",
   "metadata": {},
   "outputs": [
    {
     "data": {
      "text/plain": [
       "Pipeline(steps=[('cv', CountVectorizer(lowercase=False, ngram_range=(2, 2))),\n",
       "                ('rf', RandomForestClassifier(n_jobs=-1, random_state=20))])"
      ]
     },
     "execution_count": 53,
     "metadata": {},
     "output_type": "execute_result"
    }
   ],
   "source": [
    "gs.best_estimator_"
   ]
  },
  {
   "cell_type": "code",
   "execution_count": 54,
   "id": "7872e233-7e93-4c9e-8a06-725a6e55e34e",
   "metadata": {},
   "outputs": [
    {
     "name": "stdout",
     "output_type": "stream",
     "text": [
      "The training balanced accuracy score is 0.9212406676065192\n",
      "The testing balanced accuracy score is 0.6197822586291395\n",
      "The training f1 score is 0.28305400372439476\n",
      "The testing f1 score is 0.10270270270270271\n",
      "The training accuracy score is 0.904891304347826\n",
      "The testing accuracy score is 0.8769914783253057\n"
     ]
    }
   ],
   "source": [
    "get_metrics(gs_lrcb)"
   ]
  },
  {
   "cell_type": "markdown",
   "id": "6bd750a8-ebc9-41e7-9d82-e606f16d068c",
   "metadata": {},
   "source": [
    "There is no substantive improvement with the grid searched lr balanced model compared to the "
   ]
  },
  {
   "cell_type": "markdown",
   "id": "fe225d02-d910-4702-9bca-90f053258ab7",
   "metadata": {},
   "source": [
    "#### gridsearch over rfc with the new tokenizer"
   ]
  },
  {
   "cell_type": "code",
   "execution_count": 56,
   "id": "70030b92-ac2a-47c0-8b5d-94d4eaa2f335",
   "metadata": {},
   "outputs": [
    {
     "data": {
      "text/plain": [
       "Pipeline(steps=[('cv', CountVectorizer()),\n",
       "                ('rf', RandomForestClassifier(random_state=20))])"
      ]
     },
     "execution_count": 56,
     "metadata": {},
     "output_type": "execute_result"
    }
   ],
   "source": [
    "pipe_rfc"
   ]
  },
  {
   "cell_type": "code",
   "execution_count": 57,
   "id": "80a36f5f-57f3-4641-a382-9627b44472a6",
   "metadata": {},
   "outputs": [],
   "source": [
    "params_rfc  = {\n",
    "    'cv__ngram_range': [(1,1),(1,2),(2,2)],\n",
    "    'cv__min_df':[1, 2, 4],\n",
    "    'cv__lowercase':[True, False],\n",
    "    'cv__tokenizer' :[None, lemma_tokenizer],\n",
    "    'rf__n_jobs':[-1],\n",
    "}"
   ]
  },
  {
   "cell_type": "code",
   "execution_count": 58,
   "id": "02414ada-ec75-433a-b6e2-f5233ea445b8",
   "metadata": {},
   "outputs": [],
   "source": [
    "gs_rfc = GridSearchCV(\n",
    "    pipe_rfc,\n",
    "    param_grid= params_rfc,\n",
    "    n_jobs=-1,\n",
    "    scoring='balanced_accuracy'\n",
    ")"
   ]
  },
  {
   "cell_type": "code",
   "execution_count": 59,
   "id": "bfebf983-1db2-437f-9a40-5d177b7993ec",
   "metadata": {},
   "outputs": [
    {
     "data": {
      "text/plain": [
       "GridSearchCV(estimator=Pipeline(steps=[('cv', CountVectorizer()),\n",
       "                                       ('rf',\n",
       "                                        RandomForestClassifier(random_state=20))]),\n",
       "             n_jobs=-1,\n",
       "             param_grid={'cv__lowercase': [True, False],\n",
       "                         'cv__min_df': [1, 2, 4],\n",
       "                         'cv__ngram_range': [(1, 1), (1, 2), (2, 2)],\n",
       "                         'cv__tokenizer': [None,\n",
       "                                           <function lemma_tokenizer at 0x7fca4aae0c10>],\n",
       "                         'rf__n_jobs': [-1]},\n",
       "             scoring='balanced_accuracy')"
      ]
     },
     "execution_count": 59,
     "metadata": {},
     "output_type": "execute_result"
    }
   ],
   "source": [
    "gs_rfc.fit(X_train, y_train)"
   ]
  },
  {
   "cell_type": "code",
   "execution_count": 60,
   "id": "feac6529-5b6f-4673-8809-b9c21260de89",
   "metadata": {},
   "outputs": [
    {
     "data": {
      "text/plain": [
       "Pipeline(steps=[('cv',\n",
       "                 CountVectorizer(tokenizer=<function lemma_tokenizer at 0x7fca4aae0c10>)),\n",
       "                ('rf', RandomForestClassifier(n_jobs=-1, random_state=20))])"
      ]
     },
     "execution_count": 60,
     "metadata": {},
     "output_type": "execute_result"
    }
   ],
   "source": [
    "gs_rfc.best_estimator_"
   ]
  },
  {
   "cell_type": "code",
   "execution_count": 62,
   "id": "36f16ce2-e720-42c6-af0f-fc8be8fbb2bd",
   "metadata": {},
   "outputs": [
    {
     "name": "stdout",
     "output_type": "stream",
     "text": [
      "The training balanced accuracy score is 0.9226504464299607\n",
      "The testing balanced accuracy score is 0.5907022334243506\n",
      "The training f1 score is 0.9072847682119205\n",
      "The testing f1 score is 0.2702702702702703\n",
      "The training accuracy score is 0.9965415019762845\n",
      "The testing accuracy score is 0.9799925898480919\n"
     ]
    }
   ],
   "source": [
    "get_metrics(gs_rfc)"
   ]
  },
  {
   "cell_type": "markdown",
   "id": "3a148597-7adb-4e1b-89f2-d7890165add4",
   "metadata": {},
   "source": [
    "There is no substantive improvement from the original rfc pipe model"
   ]
  },
  {
   "cell_type": "markdown",
   "id": "40fb8475-6147-4eee-ae2e-5f9708e897ee",
   "metadata": {},
   "source": [
    "### Try strategies to overcome the imbalanced data"
   ]
  },
  {
   "cell_type": "code",
   "execution_count": 63,
   "id": "e2d16aec-dba8-4ebb-a3bc-4569bbd23668",
   "metadata": {},
   "outputs": [
    {
     "data": {
      "text/plain": [
       "Pipeline(steps=[('cv', CountVectorizer()), ('ros', RandomOverSampler()),\n",
       "                ('rfc', RandomForestClassifier())])"
      ]
     },
     "execution_count": 63,
     "metadata": {},
     "output_type": "execute_result"
    }
   ],
   "source": [
    "pipe_ros = Pipeline([\n",
    "    ('cv', CountVectorizer()),\n",
    "    ('ros', RandomOverSampler()),\n",
    "    ('rfc', RandomForestClassifier())\n",
    "])\n",
    "\n",
    "pipe_ros.fit(X_train, y_train)"
   ]
  },
  {
   "cell_type": "code",
   "execution_count": 64,
   "id": "6b4dd096-d4d3-4359-bcb6-de01128f3ca8",
   "metadata": {},
   "outputs": [
    {
     "name": "stdout",
     "output_type": "stream",
     "text": [
      "The training balanced accuracy score is 0.9938240483992942\n",
      "The testing balanced accuracy score is 0.5995799201848351\n",
      "The training f1 score is 0.7677725118483413\n",
      "The testing f1 score is 0.1889763779527559\n",
      "The training accuracy score is 0.9878952569169961\n",
      "The testing accuracy score is 0.9618377176732124\n"
     ]
    }
   ],
   "source": [
    "get_metrics(pipe_ros)"
   ]
  },
  {
   "cell_type": "markdown",
   "id": "d2dec2f2-bc6e-4452-a34f-20ce2659e6b5",
   "metadata": {},
   "source": [
    "Adding the basic random oversampling slightly improves the RFC metrics. We may be able to further improve by tuning the parameters"
   ]
  },
  {
   "cell_type": "code",
   "execution_count": 65,
   "id": "3cef404e-4d79-4ff5-9828-bbc074b395d9",
   "metadata": {},
   "outputs": [],
   "source": [
    "params_ros  = {\n",
    "    'cv__ngram_range': [(1,1),(1,2),(2,2)],\n",
    "    'cv__min_df':[1, 2, 4],\n",
    "    'cv__lowercase':[True, False],\n",
    "    'cv__tokenizer' :[None, lemma_tokenizer],\n",
    "    'ros__sampling_strategy':[0, .25, .5, .75, 1],\n",
    "    'rfc__n_jobs':[-1],\n",
    "}"
   ]
  },
  {
   "cell_type": "code",
   "execution_count": 66,
   "id": "d4f2a5b4-07df-4332-a5d8-73ea0754b882",
   "metadata": {},
   "outputs": [
    {
     "name": "stderr",
     "output_type": "stream",
     "text": [
      "/Users/emilyfuller/opt/anaconda3/lib/python3.9/site-packages/sklearn/model_selection/_validation.py:372: FitFailedWarning: \n",
      "180 fits failed out of a total of 900.\n",
      "The score on these train-test partitions for these parameters will be set to nan.\n",
      "If these failures are not expected, you can try to debug them by setting error_score='raise'.\n",
      "\n",
      "Below are more details about the failures:\n",
      "--------------------------------------------------------------------------------\n",
      "180 fits failed with the following error:\n",
      "Traceback (most recent call last):\n",
      "  File \"/Users/emilyfuller/opt/anaconda3/lib/python3.9/site-packages/sklearn/model_selection/_validation.py\", line 680, in _fit_and_score\n",
      "    estimator.fit(X_train, y_train, **fit_params)\n",
      "  File \"/Users/emilyfuller/opt/anaconda3/lib/python3.9/site-packages/imblearn/pipeline.py\", line 268, in fit\n",
      "    Xt, yt = self._fit(X, y, **fit_params_steps)\n",
      "  File \"/Users/emilyfuller/opt/anaconda3/lib/python3.9/site-packages/imblearn/pipeline.py\", line 226, in _fit\n",
      "    X, y, fitted_transformer = fit_resample_one_cached(\n",
      "  File \"/Users/emilyfuller/opt/anaconda3/lib/python3.9/site-packages/joblib/memory.py\", line 349, in __call__\n",
      "    return self.func(*args, **kwargs)\n",
      "  File \"/Users/emilyfuller/opt/anaconda3/lib/python3.9/site-packages/imblearn/pipeline.py\", line 394, in _fit_resample_one\n",
      "    X_res, y_res = sampler.fit_resample(X, y, **fit_params)\n",
      "  File \"/Users/emilyfuller/opt/anaconda3/lib/python3.9/site-packages/imblearn/base.py\", line 79, in fit_resample\n",
      "    self.sampling_strategy_ = check_sampling_strategy(\n",
      "  File \"/Users/emilyfuller/opt/anaconda3/lib/python3.9/site-packages/imblearn/utils/_validation.py\", line 528, in check_sampling_strategy\n",
      "    raise ValueError(\n",
      "ValueError: When 'sampling_strategy' is a float, it should be in the range (0, 1]. Got 0 instead.\n",
      "\n",
      "  warnings.warn(some_fits_failed_message, FitFailedWarning)\n",
      "/Users/emilyfuller/opt/anaconda3/lib/python3.9/site-packages/sklearn/model_selection/_search.py:969: UserWarning: One or more of the test scores are non-finite: [       nan 0.58135894 0.58278246 0.58518256 0.58205756        nan\n",
      " 0.5832819  0.58221026 0.58145415 0.58120195        nan 0.57131716\n",
      " 0.5760862  0.57583407 0.57589713        nan 0.57586023 0.57497814\n",
      " 0.57447381 0.57396975        nan 0.57318188 0.57763582 0.57738374\n",
      " 0.57744679        nan 0.57204218 0.56989977 0.56996262 0.5697105\n",
      "        nan 0.58028774 0.58711574 0.57988904 0.58064936        nan\n",
      " 0.58397984 0.58546649 0.58183736 0.58636457        nan 0.57573958\n",
      " 0.57230521 0.57505213 0.57824385        nan 0.58255692 0.57747855\n",
      " 0.57981552 0.57776777        nan 0.56606117 0.56635016 0.58338719\n",
      " 0.58951638        nan 0.56845571 0.56650222 0.58409092 0.59521805\n",
      "        nan 0.58540921 0.58721617 0.58935363 0.59289348        nan\n",
      " 0.58433244 0.58111819 0.58776687 0.5800736         nan 0.57401226\n",
      " 0.57900198 0.57636689 0.58631795        nan 0.58322406 0.5799472\n",
      " 0.58501485 0.58299839        nan 0.54378692 0.55784179 0.57576454\n",
      " 0.60333053        nan 0.55199152 0.5484623  0.5548418  0.57819001\n",
      "        nan 0.57513561 0.57507264 0.5717586  0.57169551        nan\n",
      " 0.57055585 0.56629639 0.56661145 0.5666745         nan 0.57096517\n",
      " 0.57371213 0.57346009 0.57346009        nan 0.57150107 0.57074484\n",
      " 0.56749378 0.56774583        nan 0.57049275 0.57282989 0.57295591\n",
      " 0.57289286        nan 0.56793498 0.56736779 0.5673047  0.56743073\n",
      "        nan 0.57403288 0.57887954 0.58229392 0.58134858        nan\n",
      " 0.57466288 0.57767722 0.5762906  0.57439968        nan 0.57210519\n",
      " 0.58342296 0.58996187 0.58907946        nan 0.56853926 0.58225177\n",
      " 0.58373806 0.58260369        nan 0.56422213 0.57868119 0.57654843\n",
      " 0.58240564        nan 0.56507357 0.56066245 0.56120021 0.55671714\n",
      "        nan 0.58016215 0.5865554  0.59098128 0.59196367        nan\n",
      " 0.56807195 0.58018324 0.58460565 0.58384947        nan 0.58202142\n",
      " 0.58247989 0.59318721 0.59016244        nan 0.57713216 0.5869638\n",
      " 0.58299357 0.58463729        nan 0.55403899 0.56417555 0.56341925\n",
      " 0.58938483        nan 0.54990616 0.55796921 0.55491494 0.58627568]\n",
      "  warnings.warn(\n"
     ]
    },
    {
     "data": {
      "text/plain": [
       "GridSearchCV(estimator=Pipeline(steps=[('cv', CountVectorizer()),\n",
       "                                       ('ros', RandomOverSampler()),\n",
       "                                       ('rfc', RandomForestClassifier())]),\n",
       "             n_jobs=-1,\n",
       "             param_grid={'cv__lowercase': [True, False],\n",
       "                         'cv__min_df': [1, 2, 4],\n",
       "                         'cv__ngram_range': [(1, 1), (1, 2), (2, 2)],\n",
       "                         'cv__tokenizer': [None,\n",
       "                                           <function lemma_tokenizer at 0x7fca4aae0c10>],\n",
       "                         'rfc__n_jobs': [-1],\n",
       "                         'ros__sampling_strategy': [0, 0.25, 0.5, 0.75, 1]},\n",
       "             scoring='balanced_accuracy')"
      ]
     },
     "execution_count": 66,
     "metadata": {},
     "output_type": "execute_result"
    }
   ],
   "source": [
    "gs_ros = GridSearchCV(\n",
    "    pipe_ros,\n",
    "    param_grid= params_ros,\n",
    "    n_jobs=-1,\n",
    "    scoring='balanced_accuracy'\n",
    ")\n",
    "\n",
    "gs_ros.fit(X_train, y_train)"
   ]
  },
  {
   "cell_type": "code",
   "execution_count": 67,
   "id": "0d83d4e5-1e52-45a5-b0d0-a42111c25e13",
   "metadata": {},
   "outputs": [
    {
     "name": "stdout",
     "output_type": "stream",
     "text": [
      "The training balanced accuracy score is 0.9025081925888581\n",
      "The testing balanced accuracy score is 0.5832808233564377\n",
      "The training f1 score is 0.1731694281133084\n",
      "The testing f1 score is 0.05904059040590406\n",
      "The training accuracy score is 0.8089179841897233\n",
      "The testing accuracy score is 0.7165616895146351\n"
     ]
    }
   ],
   "source": [
    "get_metrics(gs_ros)"
   ]
  },
  {
   "cell_type": "code",
   "execution_count": 68,
   "id": "b73175ae-3d26-4434-beca-1f1e98824b93",
   "metadata": {},
   "outputs": [
    {
     "data": {
      "text/plain": [
       "Pipeline(steps=[('cv', CountVectorizer(min_df=4, ngram_range=(2, 2))),\n",
       "                ('ros', RandomOverSampler(sampling_strategy=1)),\n",
       "                ('rfc', RandomForestClassifier(n_jobs=-1))])"
      ]
     },
     "execution_count": 68,
     "metadata": {},
     "output_type": "execute_result"
    }
   ],
   "source": [
    "gs_ros.best_estimator_"
   ]
  },
  {
   "cell_type": "code",
   "execution_count": 69,
   "id": "edec6377-e590-46f8-8bab-2b9c5e3c864a",
   "metadata": {},
   "outputs": [
    {
     "data": {
      "text/plain": [
       "{'cv__lowercase': True,\n",
       " 'cv__min_df': 4,\n",
       " 'cv__ngram_range': (2, 2),\n",
       " 'cv__tokenizer': None,\n",
       " 'rfc__n_jobs': -1,\n",
       " 'ros__sampling_strategy': 1}"
      ]
     },
     "execution_count": 69,
     "metadata": {},
     "output_type": "execute_result"
    }
   ],
   "source": [
    "gs_ros.best_params_"
   ]
  },
  {
   "cell_type": "code",
   "execution_count": null,
   "id": "62bc176f-bd44-4f97-94b0-17111223d524",
   "metadata": {},
   "outputs": [],
   "source": []
  }
 ],
 "metadata": {
  "kernelspec": {
   "display_name": "Python 3 (ipykernel)",
   "language": "python",
   "name": "python3"
  },
  "language_info": {
   "codemirror_mode": {
    "name": "ipython",
    "version": 3
   },
   "file_extension": ".py",
   "mimetype": "text/x-python",
   "name": "python",
   "nbconvert_exporter": "python",
   "pygments_lexer": "ipython3",
   "version": "3.9.7"
  }
 },
 "nbformat": 4,
 "nbformat_minor": 5
}
