{
 "cells": [
  {
   "cell_type": "code",
   "execution_count": 34,
   "id": "e805ef60-93a4-48b1-89be-638417b794ec",
   "metadata": {},
   "outputs": [],
   "source": [
    "import pandas as pd\n",
    "import matplotlib.pyplot as plt\n",
    "import seaborn as sns\n",
    "import numpy as np"
   ]
  },
  {
   "cell_type": "code",
   "execution_count": 117,
   "id": "039e6fde-04b8-4e01-a4ec-64be74e2aad7",
   "metadata": {},
   "outputs": [
    {
     "data": {
      "text/html": [
       "<div>\n",
       "<style scoped>\n",
       "    .dataframe tbody tr th:only-of-type {\n",
       "        vertical-align: middle;\n",
       "    }\n",
       "\n",
       "    .dataframe tbody tr th {\n",
       "        vertical-align: top;\n",
       "    }\n",
       "\n",
       "    .dataframe thead th {\n",
       "        text-align: right;\n",
       "    }\n",
       "</style>\n",
       "<table border=\"1\" class=\"dataframe\">\n",
       "  <thead>\n",
       "    <tr style=\"text-align: right;\">\n",
       "      <th></th>\n",
       "      <th>id</th>\n",
       "      <th>title</th>\n",
       "      <th>created_utc</th>\n",
       "      <th>comments_old</th>\n",
       "      <th>score_old</th>\n",
       "      <th>post_time_utc</th>\n",
       "      <th>score</th>\n",
       "      <th>comments</th>\n",
       "      <th>percentile</th>\n",
       "      <th>viral</th>\n",
       "    </tr>\n",
       "  </thead>\n",
       "  <tbody>\n",
       "    <tr>\n",
       "      <th>0</th>\n",
       "      <td>uu6g0w</td>\n",
       "      <td>[homemade] Polynesian (Chick-Fil-A sauce) chic...</td>\n",
       "      <td>1653077037</td>\n",
       "      <td>0</td>\n",
       "      <td>1</td>\n",
       "      <td>2022-05-20 16:03:57</td>\n",
       "      <td>69</td>\n",
       "      <td>7.0</td>\n",
       "      <td>0.836730</td>\n",
       "      <td>0</td>\n",
       "    </tr>\n",
       "    <tr>\n",
       "      <th>1</th>\n",
       "      <td>uu6cni</td>\n",
       "      <td>[I ate] Scotch mutton pie, pub in Edinburgh</td>\n",
       "      <td>1653076799</td>\n",
       "      <td>0</td>\n",
       "      <td>1</td>\n",
       "      <td>2022-05-20 15:59:59</td>\n",
       "      <td>37</td>\n",
       "      <td>4.0</td>\n",
       "      <td>0.699491</td>\n",
       "      <td>0</td>\n",
       "    </tr>\n",
       "    <tr>\n",
       "      <th>2</th>\n",
       "      <td>uu6apo</td>\n",
       "      <td>[homemade] 🇲🇦</td>\n",
       "      <td>1653076639</td>\n",
       "      <td>0</td>\n",
       "      <td>1</td>\n",
       "      <td>2022-05-20 15:57:19</td>\n",
       "      <td>1</td>\n",
       "      <td>0.0</td>\n",
       "      <td>0.117647</td>\n",
       "      <td>0</td>\n",
       "    </tr>\n",
       "    <tr>\n",
       "      <th>3</th>\n",
       "      <td>uu644e</td>\n",
       "      <td>[homemade] Chilli Paneer, Spinach, Potatoes wi...</td>\n",
       "      <td>1653076091</td>\n",
       "      <td>0</td>\n",
       "      <td>1</td>\n",
       "      <td>2022-05-20 15:48:11</td>\n",
       "      <td>16</td>\n",
       "      <td>2.0</td>\n",
       "      <td>0.443585</td>\n",
       "      <td>0</td>\n",
       "    </tr>\n",
       "    <tr>\n",
       "      <th>4</th>\n",
       "      <td>uu5x2y</td>\n",
       "      <td>[Homemade] Tart - Salmon, spinach and goat cheese</td>\n",
       "      <td>1653075500</td>\n",
       "      <td>0</td>\n",
       "      <td>1</td>\n",
       "      <td>2022-05-20 15:38:20</td>\n",
       "      <td>1</td>\n",
       "      <td>0.0</td>\n",
       "      <td>0.117647</td>\n",
       "      <td>0</td>\n",
       "    </tr>\n",
       "    <tr>\n",
       "      <th>...</th>\n",
       "      <td>...</td>\n",
       "      <td>...</td>\n",
       "      <td>...</td>\n",
       "      <td>...</td>\n",
       "      <td>...</td>\n",
       "      <td>...</td>\n",
       "      <td>...</td>\n",
       "      <td>...</td>\n",
       "      <td>...</td>\n",
       "      <td>...</td>\n",
       "    </tr>\n",
       "    <tr>\n",
       "      <th>10790</th>\n",
       "      <td>u3jog2</td>\n",
       "      <td>[Homemade] Spinach fettuccine alfredo</td>\n",
       "      <td>1649948916</td>\n",
       "      <td>0</td>\n",
       "      <td>1</td>\n",
       "      <td>2022-04-14 11:08:36</td>\n",
       "      <td>13</td>\n",
       "      <td>0.0</td>\n",
       "      <td>0.387957</td>\n",
       "      <td>0</td>\n",
       "    </tr>\n",
       "    <tr>\n",
       "      <th>10791</th>\n",
       "      <td>u3jezk</td>\n",
       "      <td>[homemade] Glowup of instant noodles for me an...</td>\n",
       "      <td>1649948229</td>\n",
       "      <td>0</td>\n",
       "      <td>1</td>\n",
       "      <td>2022-04-14 10:57:09</td>\n",
       "      <td>15</td>\n",
       "      <td>2.0</td>\n",
       "      <td>0.424965</td>\n",
       "      <td>0</td>\n",
       "    </tr>\n",
       "    <tr>\n",
       "      <th>10792</th>\n",
       "      <td>u3jcej</td>\n",
       "      <td>[I ate] Napoleon cake and lemon curd tartlet.</td>\n",
       "      <td>1649948026</td>\n",
       "      <td>0</td>\n",
       "      <td>1</td>\n",
       "      <td>2022-04-14 10:53:46</td>\n",
       "      <td>14</td>\n",
       "      <td>1.0</td>\n",
       "      <td>0.405743</td>\n",
       "      <td>0</td>\n",
       "    </tr>\n",
       "    <tr>\n",
       "      <th>10793</th>\n",
       "      <td>u3j8ay</td>\n",
       "      <td>[Homemade] Tonkatsu bento box that I made for ...</td>\n",
       "      <td>1649947706</td>\n",
       "      <td>0</td>\n",
       "      <td>1</td>\n",
       "      <td>2022-04-14 10:48:26</td>\n",
       "      <td>30</td>\n",
       "      <td>5.0</td>\n",
       "      <td>0.636406</td>\n",
       "      <td>0</td>\n",
       "    </tr>\n",
       "    <tr>\n",
       "      <th>10794</th>\n",
       "      <td>u3j1tn</td>\n",
       "      <td>[i ate] vanilla bomb</td>\n",
       "      <td>1649947192</td>\n",
       "      <td>0</td>\n",
       "      <td>1</td>\n",
       "      <td>2022-04-14 10:39:52</td>\n",
       "      <td>13240</td>\n",
       "      <td>226.0</td>\n",
       "      <td>0.998055</td>\n",
       "      <td>1</td>\n",
       "    </tr>\n",
       "  </tbody>\n",
       "</table>\n",
       "<p>10795 rows × 10 columns</p>\n",
       "</div>"
      ],
      "text/plain": [
       "           id                                              title  created_utc  \\\n",
       "0      uu6g0w  [homemade] Polynesian (Chick-Fil-A sauce) chic...   1653077037   \n",
       "1      uu6cni        [I ate] Scotch mutton pie, pub in Edinburgh   1653076799   \n",
       "2      uu6apo                                      [homemade] 🇲🇦   1653076639   \n",
       "3      uu644e  [homemade] Chilli Paneer, Spinach, Potatoes wi...   1653076091   \n",
       "4      uu5x2y  [Homemade] Tart - Salmon, spinach and goat cheese   1653075500   \n",
       "...       ...                                                ...          ...   \n",
       "10790  u3jog2              [Homemade] Spinach fettuccine alfredo   1649948916   \n",
       "10791  u3jezk  [homemade] Glowup of instant noodles for me an...   1649948229   \n",
       "10792  u3jcej      [I ate] Napoleon cake and lemon curd tartlet.   1649948026   \n",
       "10793  u3j8ay  [Homemade] Tonkatsu bento box that I made for ...   1649947706   \n",
       "10794  u3j1tn                               [i ate] vanilla bomb   1649947192   \n",
       "\n",
       "       comments_old  score_old        post_time_utc  score  comments  \\\n",
       "0                 0          1  2022-05-20 16:03:57     69       7.0   \n",
       "1                 0          1  2022-05-20 15:59:59     37       4.0   \n",
       "2                 0          1  2022-05-20 15:57:19      1       0.0   \n",
       "3                 0          1  2022-05-20 15:48:11     16       2.0   \n",
       "4                 0          1  2022-05-20 15:38:20      1       0.0   \n",
       "...             ...        ...                  ...    ...       ...   \n",
       "10790             0          1  2022-04-14 11:08:36     13       0.0   \n",
       "10791             0          1  2022-04-14 10:57:09     15       2.0   \n",
       "10792             0          1  2022-04-14 10:53:46     14       1.0   \n",
       "10793             0          1  2022-04-14 10:48:26     30       5.0   \n",
       "10794             0          1  2022-04-14 10:39:52  13240     226.0   \n",
       "\n",
       "       percentile  viral  \n",
       "0        0.836730      0  \n",
       "1        0.699491      0  \n",
       "2        0.117647      0  \n",
       "3        0.443585      0  \n",
       "4        0.117647      0  \n",
       "...           ...    ...  \n",
       "10790    0.387957      0  \n",
       "10791    0.424965      0  \n",
       "10792    0.405743      0  \n",
       "10793    0.636406      0  \n",
       "10794    0.998055      1  \n",
       "\n",
       "[10795 rows x 10 columns]"
      ]
     },
     "execution_count": 117,
     "metadata": {},
     "output_type": "execute_result"
    }
   ],
   "source": [
    "posts_df = pd.read_csv('./Data/posts_scores_dates.csv')\n",
    "posts_df"
   ]
  },
  {
   "cell_type": "markdown",
   "id": "30f34050-098c-44e6-a7d2-33f76653fcef",
   "metadata": {},
   "source": [
    "### Look at the distribution of scores"
   ]
  },
  {
   "cell_type": "code",
   "execution_count": 118,
   "id": "177fe3e0-729d-4fc8-b862-e28e0ec697e3",
   "metadata": {},
   "outputs": [
    {
     "data": {
      "text/plain": [
       "1        2183\n",
       "15        212\n",
       "14        203\n",
       "16        190\n",
       "17        186\n",
       "         ... \n",
       "871         1\n",
       "875         1\n",
       "531         1\n",
       "529         1\n",
       "13240       1\n",
       "Name: score, Length: 716, dtype: int64"
      ]
     },
     "execution_count": 118,
     "metadata": {},
     "output_type": "execute_result"
    }
   ],
   "source": [
    "posts_df['score'].value_counts()"
   ]
  },
  {
   "cell_type": "code",
   "execution_count": 119,
   "id": "68199344-31e7-4b17-8cfe-040f9d439e16",
   "metadata": {},
   "outputs": [
    {
     "data": {
      "image/png": "[encoded data removed]",
      "text/plain": [
       "<Figure size 432x288 with 1 Axes>"
      ]
     },
     "metadata": {
      "needs_background": "light"
     },
     "output_type": "display_data"
    }
   ],
   "source": [
    "posts_df['score'].value_counts().plot(kind='hist');"
   ]
  },
  {
   "cell_type": "code",
   "execution_count": 120,
   "id": "7d08703b-dd6a-4bf7-a645-a69f7840d3d3",
   "metadata": {},
   "outputs": [
    {
     "data": {
      "image/png": "[encoded data removed]",
      "text/plain": [
       "<Figure size 432x288 with 1 Axes>"
      ]
     },
     "metadata": {
      "needs_background": "light"
     },
     "output_type": "display_data"
    }
   ],
   "source": [
    "posts_df['score'].value_counts().plot(kind='box');"
   ]
  },
  {
   "cell_type": "code",
   "execution_count": 121,
   "id": "bc9e767c-f39b-472d-b379-cee549feec57",
   "metadata": {},
   "outputs": [
    {
     "data": {
      "image/png": "[encoded data removed]",
      "text/plain": [
       "<Figure size 432x288 with 1 Axes>"
      ]
     },
     "metadata": {
      "needs_background": "light"
     },
     "output_type": "display_data"
    }
   ],
   "source": [
    "sns.boxplot(x= posts_df['score']);"
   ]
  },
  {
   "cell_type": "code",
   "execution_count": 122,
   "id": "a3cc173c-1fa6-4ea3-ac7e-fa2769ca6be8",
   "metadata": {},
   "outputs": [
    {
     "data": {
      "text/plain": [
       "<AxesSubplot:xlabel='score', ylabel='Count'>"
      ]
     },
     "execution_count": 122,
     "metadata": {},
     "output_type": "execute_result"
    },
    {
     "data": {
      "image/png": "[encoded data removed]",
      "text/plain": [
       "<Figure size 432x288 with 1 Axes>"
      ]
     },
     "metadata": {
      "needs_background": "light"
     },
     "output_type": "display_data"
    }
   ],
   "source": [
    "sns.histplot(x= posts_df['score'], bins = 100)"
   ]
  },
  {
   "cell_type": "markdown",
   "id": "8a0ed2c6-9d58-49cc-bd54-9238d9679ab0",
   "metadata": {},
   "source": [
    "### Look at the distribution of num_comments"
   ]
  },
  {
   "cell_type": "code",
   "execution_count": 123,
   "id": "89c80bfc-1e09-4c10-84ff-83f9112894f0",
   "metadata": {},
   "outputs": [
    {
     "data": {
      "text/plain": [
       "0.0      2643\n",
       "1.0      2008\n",
       "2.0      1284\n",
       "3.0       977\n",
       "4.0       714\n",
       "         ... \n",
       "108.0       1\n",
       "122.0       1\n",
       "281.0       1\n",
       "175.0       1\n",
       "226.0       1\n",
       "Name: comments, Length: 181, dtype: int64"
      ]
     },
     "execution_count": 123,
     "metadata": {},
     "output_type": "execute_result"
    }
   ],
   "source": [
    "posts_df['comments'].value_counts()"
   ]
  },
  {
   "cell_type": "code",
   "execution_count": 124,
   "id": "71aaf79b-0000-4283-b25e-ec9e0d3aabbf",
   "metadata": {},
   "outputs": [
    {
     "data": {
      "image/png": "[encoded data removed]",
      "text/plain": [
       "<Figure size 432x288 with 1 Axes>"
      ]
     },
     "metadata": {
      "needs_background": "light"
     },
     "output_type": "display_data"
    }
   ],
   "source": [
    "posts_df['comments'].value_counts().plot(kind='hist');"
   ]
  },
  {
   "cell_type": "code",
   "execution_count": 125,
   "id": "3021605f-3f54-4a66-bc42-2ce52388971a",
   "metadata": {},
   "outputs": [
    {
     "data": {
      "image/png": "[encoded data removed]",
      "text/plain": [
       "<Figure size 432x288 with 1 Axes>"
      ]
     },
     "metadata": {
      "needs_background": "light"
     },
     "output_type": "display_data"
    }
   ],
   "source": [
    "posts_df['comments'].value_counts().plot(kind='box');"
   ]
  },
  {
   "cell_type": "code",
   "execution_count": 126,
   "id": "daf7d4b4-423a-43d6-9d57-74cb36ab1942",
   "metadata": {},
   "outputs": [
    {
     "data": {
      "image/png": "[encoded data removed]",
      "text/plain": [
       "<Figure size 432x288 with 1 Axes>"
      ]
     },
     "metadata": {
      "needs_background": "light"
     },
     "output_type": "display_data"
    }
   ],
   "source": [
    "plt.scatter(posts_df['score'], posts_df['comments']);"
   ]
  },
  {
   "cell_type": "code",
   "execution_count": 127,
   "id": "3844fb11-4585-4369-9e35-b72422cd8415",
   "metadata": {},
   "outputs": [
    {
     "data": {
      "text/plain": [
       "0.7075095079427783"
      ]
     },
     "execution_count": 127,
     "metadata": {},
     "output_type": "execute_result"
    }
   ],
   "source": [
    "posts_df['score'].corr(posts_df['comments'])"
   ]
  },
  {
   "cell_type": "markdown",
   "id": "e1564da6-83d6-46d3-9868-5a5884d3d98b",
   "metadata": {},
   "source": [
    "the total score and number of comments are highly correlated"
   ]
  },
  {
   "cell_type": "markdown",
   "id": "35251272-c1c0-40bb-974a-286eeaccc6fe",
   "metadata": {},
   "source": [
    "#### It is clear that there are some outliers, I will not drop the outliers since they are the poster children of 'viral'"
   ]
  },
  {
   "cell_type": "code",
   "execution_count": 128,
   "id": "1b3c7d07-8a92-4a74-8442-9ceefb31e183",
   "metadata": {},
   "outputs": [
    {
     "data": {
      "text/plain": [
       "161.3009726725336"
      ]
     },
     "execution_count": 128,
     "metadata": {},
     "output_type": "execute_result"
    }
   ],
   "source": [
    "posts_df['score'].mean()"
   ]
  },
  {
   "cell_type": "code",
   "execution_count": 129,
   "id": "498f2c0b-fed9-48d8-a8a4-8ffbd587a7e3",
   "metadata": {},
   "outputs": [
    {
     "data": {
      "text/plain": [
       "19.0"
      ]
     },
     "execution_count": 129,
     "metadata": {},
     "output_type": "execute_result"
    }
   ],
   "source": [
    "posts_df['score'].median()"
   ]
  },
  {
   "cell_type": "code",
   "execution_count": 130,
   "id": "f44a3693-1c6c-40ed-b139-9d3815db13ec",
   "metadata": {},
   "outputs": [
    {
     "data": {
      "text/plain": [
       "34219"
      ]
     },
     "execution_count": 130,
     "metadata": {},
     "output_type": "execute_result"
    }
   ],
   "source": [
    "posts_df['score'].max()"
   ]
  },
  {
   "cell_type": "code",
   "execution_count": 131,
   "id": "b9eeb320-59e7-4b02-ab31-fb9f298ef485",
   "metadata": {},
   "outputs": [
    {
     "data": {
      "text/html": [
       "<div>\n",
       "<style scoped>\n",
       "    .dataframe tbody tr th:only-of-type {\n",
       "        vertical-align: middle;\n",
       "    }\n",
       "\n",
       "    .dataframe tbody tr th {\n",
       "        vertical-align: top;\n",
       "    }\n",
       "\n",
       "    .dataframe thead th {\n",
       "        text-align: right;\n",
       "    }\n",
       "</style>\n",
       "<table border=\"1\" class=\"dataframe\">\n",
       "  <thead>\n",
       "    <tr style=\"text-align: right;\">\n",
       "      <th></th>\n",
       "      <th>id</th>\n",
       "      <th>title</th>\n",
       "      <th>created_utc</th>\n",
       "      <th>comments_old</th>\n",
       "      <th>score_old</th>\n",
       "      <th>post_time_utc</th>\n",
       "      <th>score</th>\n",
       "      <th>comments</th>\n",
       "      <th>percentile</th>\n",
       "      <th>viral</th>\n",
       "    </tr>\n",
       "  </thead>\n",
       "  <tbody>\n",
       "    <tr>\n",
       "      <th>112</th>\n",
       "      <td>utr520</td>\n",
       "      <td>[I ate] The Fries Box</td>\n",
       "      <td>1653042409</td>\n",
       "      <td>0</td>\n",
       "      <td>1</td>\n",
       "      <td>2022-05-20 06:26:49</td>\n",
       "      <td>34219</td>\n",
       "      <td>1216.0</td>\n",
       "      <td>1.000000</td>\n",
       "      <td>1</td>\n",
       "    </tr>\n",
       "    <tr>\n",
       "      <th>2549</th>\n",
       "      <td>umy385</td>\n",
       "      <td>[Homemade] M&amp;amp;M Cookies</td>\n",
       "      <td>1652232268</td>\n",
       "      <td>1</td>\n",
       "      <td>1</td>\n",
       "      <td>2022-05-10 21:24:28</td>\n",
       "      <td>30934</td>\n",
       "      <td>380.0</td>\n",
       "      <td>0.999907</td>\n",
       "      <td>1</td>\n",
       "    </tr>\n",
       "    <tr>\n",
       "      <th>7719</th>\n",
       "      <td>ub3xng</td>\n",
       "      <td>[Homemade] Lowcountry Boil</td>\n",
       "      <td>1650833252</td>\n",
       "      <td>0</td>\n",
       "      <td>1</td>\n",
       "      <td>2022-04-24 16:47:32</td>\n",
       "      <td>27426</td>\n",
       "      <td>5.0</td>\n",
       "      <td>0.999815</td>\n",
       "      <td>1</td>\n",
       "    </tr>\n",
       "    <tr>\n",
       "      <th>8578</th>\n",
       "      <td>u8w6d7</td>\n",
       "      <td>[homemade] Cajun Bacon Fusilli.</td>\n",
       "      <td>1650571236</td>\n",
       "      <td>1</td>\n",
       "      <td>1</td>\n",
       "      <td>2022-04-21 16:00:36</td>\n",
       "      <td>25975</td>\n",
       "      <td>459.0</td>\n",
       "      <td>0.999722</td>\n",
       "      <td>1</td>\n",
       "    </tr>\n",
       "    <tr>\n",
       "      <th>10254</th>\n",
       "      <td>u4ze3j</td>\n",
       "      <td>[Homemade] French Fries</td>\n",
       "      <td>1650120610</td>\n",
       "      <td>1</td>\n",
       "      <td>1</td>\n",
       "      <td>2022-04-16 10:50:10</td>\n",
       "      <td>23742</td>\n",
       "      <td>416.0</td>\n",
       "      <td>0.999629</td>\n",
       "      <td>1</td>\n",
       "    </tr>\n",
       "    <tr>\n",
       "      <th>5788</th>\n",
       "      <td>ug219w</td>\n",
       "      <td>[HOMEMADE] Algerian Baklava</td>\n",
       "      <td>1651418197</td>\n",
       "      <td>0</td>\n",
       "      <td>1</td>\n",
       "      <td>2022-05-01 11:16:37</td>\n",
       "      <td>17958</td>\n",
       "      <td>229.0</td>\n",
       "      <td>0.999537</td>\n",
       "      <td>1</td>\n",
       "    </tr>\n",
       "    <tr>\n",
       "      <th>9789</th>\n",
       "      <td>u5qpf0</td>\n",
       "      <td>[I ate] A Connecticut Lobster Roll</td>\n",
       "      <td>1650213251</td>\n",
       "      <td>1</td>\n",
       "      <td>1</td>\n",
       "      <td>2022-04-17 12:34:11</td>\n",
       "      <td>17831</td>\n",
       "      <td>942.0</td>\n",
       "      <td>0.999444</td>\n",
       "      <td>1</td>\n",
       "    </tr>\n",
       "    <tr>\n",
       "      <th>4444</th>\n",
       "      <td>ujlmg1</td>\n",
       "      <td>[i ate] Platter, green tea and blue lagoon.</td>\n",
       "      <td>1651837578</td>\n",
       "      <td>0</td>\n",
       "      <td>1</td>\n",
       "      <td>2022-05-06 07:46:18</td>\n",
       "      <td>17420</td>\n",
       "      <td>346.0</td>\n",
       "      <td>0.999352</td>\n",
       "      <td>1</td>\n",
       "    </tr>\n",
       "    <tr>\n",
       "      <th>4445</th>\n",
       "      <td>ujlmg1</td>\n",
       "      <td>[i ate] Platter, green tea and blue lagoon.</td>\n",
       "      <td>1651837578</td>\n",
       "      <td>0</td>\n",
       "      <td>1</td>\n",
       "      <td>2022-05-06 07:46:18</td>\n",
       "      <td>17415</td>\n",
       "      <td>346.0</td>\n",
       "      <td>0.999259</td>\n",
       "      <td>1</td>\n",
       "    </tr>\n",
       "    <tr>\n",
       "      <th>6027</th>\n",
       "      <td>ufiz7h</td>\n",
       "      <td>[I ate] Lobster Roll and Poutine</td>\n",
       "      <td>1651349343</td>\n",
       "      <td>0</td>\n",
       "      <td>1</td>\n",
       "      <td>2022-04-30 16:09:03</td>\n",
       "      <td>17186</td>\n",
       "      <td>608.0</td>\n",
       "      <td>0.999166</td>\n",
       "      <td>1</td>\n",
       "    </tr>\n",
       "  </tbody>\n",
       "</table>\n",
       "</div>"
      ],
      "text/plain": [
       "           id                                        title  created_utc  \\\n",
       "112    utr520                        [I ate] The Fries Box   1653042409   \n",
       "2549   umy385                   [Homemade] M&amp;M Cookies   1652232268   \n",
       "7719   ub3xng                   [Homemade] Lowcountry Boil   1650833252   \n",
       "8578   u8w6d7              [homemade] Cajun Bacon Fusilli.   1650571236   \n",
       "10254  u4ze3j                      [Homemade] French Fries   1650120610   \n",
       "5788   ug219w                  [HOMEMADE] Algerian Baklava   1651418197   \n",
       "9789   u5qpf0           [I ate] A Connecticut Lobster Roll   1650213251   \n",
       "4444   ujlmg1  [i ate] Platter, green tea and blue lagoon.   1651837578   \n",
       "4445   ujlmg1  [i ate] Platter, green tea and blue lagoon.   1651837578   \n",
       "6027   ufiz7h             [I ate] Lobster Roll and Poutine   1651349343   \n",
       "\n",
       "       comments_old  score_old        post_time_utc  score  comments  \\\n",
       "112               0          1  2022-05-20 06:26:49  34219    1216.0   \n",
       "2549              1          1  2022-05-10 21:24:28  30934     380.0   \n",
       "7719              0          1  2022-04-24 16:47:32  27426       5.0   \n",
       "8578              1          1  2022-04-21 16:00:36  25975     459.0   \n",
       "10254             1          1  2022-04-16 10:50:10  23742     416.0   \n",
       "5788              0          1  2022-05-01 11:16:37  17958     229.0   \n",
       "9789              1          1  2022-04-17 12:34:11  17831     942.0   \n",
       "4444              0          1  2022-05-06 07:46:18  17420     346.0   \n",
       "4445              0          1  2022-05-06 07:46:18  17415     346.0   \n",
       "6027              0          1  2022-04-30 16:09:03  17186     608.0   \n",
       "\n",
       "       percentile  viral  \n",
       "112      1.000000      1  \n",
       "2549     0.999907      1  \n",
       "7719     0.999815      1  \n",
       "8578     0.999722      1  \n",
       "10254    0.999629      1  \n",
       "5788     0.999537      1  \n",
       "9789     0.999444      1  \n",
       "4444     0.999352      1  \n",
       "4445     0.999259      1  \n",
       "6027     0.999166      1  "
      ]
     },
     "execution_count": 131,
     "metadata": {},
     "output_type": "execute_result"
    }
   ],
   "source": [
    "posts_df.sort_values(by='score', ascending=False).head(10)"
   ]
  },
  {
   "cell_type": "code",
   "execution_count": 132,
   "id": "223c9f6f-c1eb-4813-9056-98aaf8b94f4a",
   "metadata": {},
   "outputs": [
    {
     "data": {
      "text/html": [
       "<div>\n",
       "<style scoped>\n",
       "    .dataframe tbody tr th:only-of-type {\n",
       "        vertical-align: middle;\n",
       "    }\n",
       "\n",
       "    .dataframe tbody tr th {\n",
       "        vertical-align: top;\n",
       "    }\n",
       "\n",
       "    .dataframe thead th {\n",
       "        text-align: right;\n",
       "    }\n",
       "</style>\n",
       "<table border=\"1\" class=\"dataframe\">\n",
       "  <thead>\n",
       "    <tr style=\"text-align: right;\">\n",
       "      <th></th>\n",
       "      <th>id</th>\n",
       "      <th>title</th>\n",
       "      <th>created_utc</th>\n",
       "      <th>comments_old</th>\n",
       "      <th>score_old</th>\n",
       "      <th>post_time_utc</th>\n",
       "      <th>score</th>\n",
       "      <th>comments</th>\n",
       "      <th>percentile</th>\n",
       "      <th>viral</th>\n",
       "    </tr>\n",
       "  </thead>\n",
       "  <tbody>\n",
       "    <tr>\n",
       "      <th>6709</th>\n",
       "      <td>udj7d1</td>\n",
       "      <td>[homemade] Cuisinart 360 Burgers!</td>\n",
       "      <td>1651108918</td>\n",
       "      <td>0</td>\n",
       "      <td>1</td>\n",
       "      <td>2022-04-27 21:21:58</td>\n",
       "      <td>0</td>\n",
       "      <td>2.0</td>\n",
       "      <td>0.008291</td>\n",
       "      <td>0</td>\n",
       "    </tr>\n",
       "    <tr>\n",
       "      <th>6299</th>\n",
       "      <td>ueqf6s</td>\n",
       "      <td>Raw Meat On Bread [Homemade]</td>\n",
       "      <td>1651251635</td>\n",
       "      <td>0</td>\n",
       "      <td>1</td>\n",
       "      <td>2022-04-29 13:00:35</td>\n",
       "      <td>0</td>\n",
       "      <td>0.0</td>\n",
       "      <td>0.008291</td>\n",
       "      <td>0</td>\n",
       "    </tr>\n",
       "    <tr>\n",
       "      <th>6833</th>\n",
       "      <td>ude4kq</td>\n",
       "      <td>[i ate] Pop tarts</td>\n",
       "      <td>1651094160</td>\n",
       "      <td>0</td>\n",
       "      <td>1</td>\n",
       "      <td>2022-04-27 17:16:00</td>\n",
       "      <td>0</td>\n",
       "      <td>6.0</td>\n",
       "      <td>0.008291</td>\n",
       "      <td>0</td>\n",
       "    </tr>\n",
       "    <tr>\n",
       "      <th>2693</th>\n",
       "      <td>umir6d</td>\n",
       "      <td>[Homemade] Simple Sushi (more colorful)</td>\n",
       "      <td>1652189374</td>\n",
       "      <td>1</td>\n",
       "      <td>1</td>\n",
       "      <td>2022-05-10 09:29:34</td>\n",
       "      <td>0</td>\n",
       "      <td>6.0</td>\n",
       "      <td>0.008291</td>\n",
       "      <td>0</td>\n",
       "    </tr>\n",
       "    <tr>\n",
       "      <th>2186</th>\n",
       "      <td>uo9oit</td>\n",
       "      <td>[I ate] The Mod's Hearts.</td>\n",
       "      <td>1652385656</td>\n",
       "      <td>1</td>\n",
       "      <td>1</td>\n",
       "      <td>2022-05-12 16:00:56</td>\n",
       "      <td>0</td>\n",
       "      <td>4.0</td>\n",
       "      <td>0.008291</td>\n",
       "      <td>0</td>\n",
       "    </tr>\n",
       "    <tr>\n",
       "      <th>6030</th>\n",
       "      <td>ufipc4</td>\n",
       "      <td>[i ate] fully loaded nachos</td>\n",
       "      <td>1651348523</td>\n",
       "      <td>0</td>\n",
       "      <td>1</td>\n",
       "      <td>2022-04-30 15:55:23</td>\n",
       "      <td>0</td>\n",
       "      <td>9.0</td>\n",
       "      <td>0.008291</td>\n",
       "      <td>0</td>\n",
       "    </tr>\n",
       "    <tr>\n",
       "      <th>6031</th>\n",
       "      <td>ufim9z</td>\n",
       "      <td>[I ate] Hot Cheetos burger and fries</td>\n",
       "      <td>1651348257</td>\n",
       "      <td>0</td>\n",
       "      <td>1</td>\n",
       "      <td>2022-04-30 15:50:57</td>\n",
       "      <td>0</td>\n",
       "      <td>2.0</td>\n",
       "      <td>0.008291</td>\n",
       "      <td>0</td>\n",
       "    </tr>\n",
       "    <tr>\n",
       "      <th>5838</th>\n",
       "      <td>ufz6y0</td>\n",
       "      <td>[homemade] Buffalo Chicken Wings</td>\n",
       "      <td>1651409308</td>\n",
       "      <td>0</td>\n",
       "      <td>0</td>\n",
       "      <td>2022-05-01 08:48:28</td>\n",
       "      <td>0</td>\n",
       "      <td>0.0</td>\n",
       "      <td>0.008291</td>\n",
       "      <td>0</td>\n",
       "    </tr>\n",
       "    <tr>\n",
       "      <th>6033</th>\n",
       "      <td>ufik7l</td>\n",
       "      <td>[I ate] Slice of pizza</td>\n",
       "      <td>1651348082</td>\n",
       "      <td>0</td>\n",
       "      <td>1</td>\n",
       "      <td>2022-04-30 15:48:02</td>\n",
       "      <td>0</td>\n",
       "      <td>1.0</td>\n",
       "      <td>0.008291</td>\n",
       "      <td>0</td>\n",
       "    </tr>\n",
       "    <tr>\n",
       "      <th>3814</th>\n",
       "      <td>uko02f</td>\n",
       "      <td>[I ate] bún (grilled beef/ bò nuong)</td>\n",
       "      <td>1651962412</td>\n",
       "      <td>0</td>\n",
       "      <td>1</td>\n",
       "      <td>2022-05-07 18:26:52</td>\n",
       "      <td>0</td>\n",
       "      <td>16.0</td>\n",
       "      <td>0.008291</td>\n",
       "      <td>0</td>\n",
       "    </tr>\n",
       "  </tbody>\n",
       "</table>\n",
       "</div>"
      ],
      "text/plain": [
       "          id                                    title  created_utc  \\\n",
       "6709  udj7d1        [homemade] Cuisinart 360 Burgers!   1651108918   \n",
       "6299  ueqf6s             Raw Meat On Bread [Homemade]   1651251635   \n",
       "6833  ude4kq                        [i ate] Pop tarts   1651094160   \n",
       "2693  umir6d  [Homemade] Simple Sushi (more colorful)   1652189374   \n",
       "2186  uo9oit                [I ate] The Mod's Hearts.   1652385656   \n",
       "6030  ufipc4              [i ate] fully loaded nachos   1651348523   \n",
       "6031  ufim9z     [I ate] Hot Cheetos burger and fries   1651348257   \n",
       "5838  ufz6y0         [homemade] Buffalo Chicken Wings   1651409308   \n",
       "6033  ufik7l                   [I ate] Slice of pizza   1651348082   \n",
       "3814  uko02f     [I ate] bún (grilled beef/ bò nuong)   1651962412   \n",
       "\n",
       "      comments_old  score_old        post_time_utc  score  comments  \\\n",
       "6709             0          1  2022-04-27 21:21:58      0       2.0   \n",
       "6299             0          1  2022-04-29 13:00:35      0       0.0   \n",
       "6833             0          1  2022-04-27 17:16:00      0       6.0   \n",
       "2693             1          1  2022-05-10 09:29:34      0       6.0   \n",
       "2186             1          1  2022-05-12 16:00:56      0       4.0   \n",
       "6030             0          1  2022-04-30 15:55:23      0       9.0   \n",
       "6031             0          1  2022-04-30 15:50:57      0       2.0   \n",
       "5838             0          0  2022-05-01 08:48:28      0       0.0   \n",
       "6033             0          1  2022-04-30 15:48:02      0       1.0   \n",
       "3814             0          1  2022-05-07 18:26:52      0      16.0   \n",
       "\n",
       "      percentile  viral  \n",
       "6709    0.008291      0  \n",
       "6299    0.008291      0  \n",
       "6833    0.008291      0  \n",
       "2693    0.008291      0  \n",
       "2186    0.008291      0  \n",
       "6030    0.008291      0  \n",
       "6031    0.008291      0  \n",
       "5838    0.008291      0  \n",
       "6033    0.008291      0  \n",
       "3814    0.008291      0  "
      ]
     },
     "execution_count": 132,
     "metadata": {},
     "output_type": "execute_result"
    }
   ],
   "source": [
    "posts_df.sort_values(by='score', ascending=True).head(10)"
   ]
  },
  {
   "cell_type": "markdown",
   "id": "002055d1-2624-4e01-8273-d0238381dc70",
   "metadata": {},
   "source": [
    "#### Baseline"
   ]
  },
  {
   "cell_type": "code",
   "execution_count": 133,
   "id": "2e3fc204-57fd-4ae3-9987-8cea0284727f",
   "metadata": {},
   "outputs": [
    {
     "data": {
      "text/plain": [
       "1        0.202223\n",
       "15       0.019639\n",
       "14       0.018805\n",
       "16       0.017601\n",
       "17       0.017230\n",
       "           ...   \n",
       "871      0.000093\n",
       "875      0.000093\n",
       "531      0.000093\n",
       "529      0.000093\n",
       "13240    0.000093\n",
       "Name: score, Length: 716, dtype: float64"
      ]
     },
     "execution_count": 133,
     "metadata": {},
     "output_type": "execute_result"
    }
   ],
   "source": [
    "posts_df['score'].value_counts(normalize=True)"
   ]
  },
  {
   "cell_type": "markdown",
   "id": "89e4e61e-7129-43aa-9f4d-60225a3d8c81",
   "metadata": {},
   "source": [
    "If picking 1 as the score 100% of the time, the model would have an accuracy score of .2, any model should perform better than baseline."
   ]
  },
  {
   "cell_type": "markdown",
   "id": "6e4809a8-8ec8-4c77-bb73-94ba4b5b63b5",
   "metadata": {},
   "source": [
    "if we condsider 'viral to be within the top 2% of posts' and treat this as a classification problem then the baseline accuracy is 98%"
   ]
  },
  {
   "cell_type": "code",
   "execution_count": 134,
   "id": "e5cbce84-e662-4fb2-8298-a80792f904c7",
   "metadata": {},
   "outputs": [
    {
     "data": {
      "text/plain": [
       "0    0.979991\n",
       "1    0.020009\n",
       "Name: viral, dtype: float64"
      ]
     },
     "execution_count": 134,
     "metadata": {},
     "output_type": "execute_result"
    }
   ],
   "source": [
    "posts_df['viral'].value_counts(normalize=True)"
   ]
  },
  {
   "cell_type": "code",
   "execution_count": 112,
   "id": "c400b24e-b716-43ac-afeb-a9826c5ca6cf",
   "metadata": {},
   "outputs": [
    {
     "data": {
      "text/html": [
       "<div>\n",
       "<style scoped>\n",
       "    .dataframe tbody tr th:only-of-type {\n",
       "        vertical-align: middle;\n",
       "    }\n",
       "\n",
       "    .dataframe tbody tr th {\n",
       "        vertical-align: top;\n",
       "    }\n",
       "\n",
       "    .dataframe thead th {\n",
       "        text-align: right;\n",
       "    }\n",
       "</style>\n",
       "<table border=\"1\" class=\"dataframe\">\n",
       "  <thead>\n",
       "    <tr style=\"text-align: right;\">\n",
       "      <th></th>\n",
       "      <th>id</th>\n",
       "      <th>title</th>\n",
       "      <th>created_utc</th>\n",
       "      <th>comments_old</th>\n",
       "      <th>score_old</th>\n",
       "      <th>post_time_utc</th>\n",
       "      <th>score</th>\n",
       "      <th>comments</th>\n",
       "      <th>percentile</th>\n",
       "      <th>viral</th>\n",
       "    </tr>\n",
       "  </thead>\n",
       "  <tbody>\n",
       "    <tr>\n",
       "      <th>112</th>\n",
       "      <td>utr520</td>\n",
       "      <td>[I ate] The Fries Box</td>\n",
       "      <td>1653042409</td>\n",
       "      <td>0</td>\n",
       "      <td>1</td>\n",
       "      <td>2022-05-20 06:26:49</td>\n",
       "      <td>34219.0</td>\n",
       "      <td>1216.0</td>\n",
       "      <td>1.000000</td>\n",
       "      <td>1</td>\n",
       "    </tr>\n",
       "    <tr>\n",
       "      <th>13546</th>\n",
       "      <td>umy6ag</td>\n",
       "      <td>[homemade] quiche- bacon, onion, spinach, tomato.</td>\n",
       "      <td>1652232540</td>\n",
       "      <td>1</td>\n",
       "      <td>1</td>\n",
       "      <td>2022-05-10 21:29:00</td>\n",
       "      <td>30931.0</td>\n",
       "      <td>380.0</td>\n",
       "      <td>0.999937</td>\n",
       "      <td>1</td>\n",
       "    </tr>\n",
       "    <tr>\n",
       "      <th>13548</th>\n",
       "      <td>umy6ag</td>\n",
       "      <td>[homemade] quiche- bacon, onion, spinach, tomato.</td>\n",
       "      <td>1652232540</td>\n",
       "      <td>1</td>\n",
       "      <td>1</td>\n",
       "      <td>2022-05-10 21:29:00</td>\n",
       "      <td>30931.0</td>\n",
       "      <td>380.0</td>\n",
       "      <td>0.999937</td>\n",
       "      <td>1</td>\n",
       "    </tr>\n",
       "    <tr>\n",
       "      <th>13549</th>\n",
       "      <td>umy6ag</td>\n",
       "      <td>[homemade] quiche- bacon, onion, spinach, tomato.</td>\n",
       "      <td>1652232540</td>\n",
       "      <td>1</td>\n",
       "      <td>1</td>\n",
       "      <td>2022-05-10 21:29:00</td>\n",
       "      <td>30929.0</td>\n",
       "      <td>380.0</td>\n",
       "      <td>0.999875</td>\n",
       "      <td>1</td>\n",
       "    </tr>\n",
       "    <tr>\n",
       "      <th>13547</th>\n",
       "      <td>umy6ag</td>\n",
       "      <td>[homemade] quiche- bacon, onion, spinach, tomato.</td>\n",
       "      <td>1652232540</td>\n",
       "      <td>1</td>\n",
       "      <td>1</td>\n",
       "      <td>2022-05-10 21:29:00</td>\n",
       "      <td>30927.0</td>\n",
       "      <td>380.0</td>\n",
       "      <td>0.999833</td>\n",
       "      <td>1</td>\n",
       "    </tr>\n",
       "    <tr>\n",
       "      <th>...</th>\n",
       "      <td>...</td>\n",
       "      <td>...</td>\n",
       "      <td>...</td>\n",
       "      <td>...</td>\n",
       "      <td>...</td>\n",
       "      <td>...</td>\n",
       "      <td>...</td>\n",
       "      <td>...</td>\n",
       "      <td>...</td>\n",
       "      <td>...</td>\n",
       "    </tr>\n",
       "    <tr>\n",
       "      <th>12583</th>\n",
       "      <td>undd1m</td>\n",
       "      <td>[Homemade] Shrimp and Grits Pizza</td>\n",
       "      <td>1652285344</td>\n",
       "      <td>1</td>\n",
       "      <td>1</td>\n",
       "      <td>2022-05-11 12:09:04</td>\n",
       "      <td>1309.0</td>\n",
       "      <td>26.0</td>\n",
       "      <td>0.980162</td>\n",
       "      <td>1</td>\n",
       "    </tr>\n",
       "    <tr>\n",
       "      <th>12581</th>\n",
       "      <td>undd1m</td>\n",
       "      <td>[Homemade] Shrimp and Grits Pizza</td>\n",
       "      <td>1652285344</td>\n",
       "      <td>1</td>\n",
       "      <td>1</td>\n",
       "      <td>2022-05-11 12:09:04</td>\n",
       "      <td>1309.0</td>\n",
       "      <td>26.0</td>\n",
       "      <td>0.980162</td>\n",
       "      <td>1</td>\n",
       "    </tr>\n",
       "    <tr>\n",
       "      <th>12575</th>\n",
       "      <td>undng9</td>\n",
       "      <td>[Homemade] West Lake Beef Soup</td>\n",
       "      <td>1652286111</td>\n",
       "      <td>1</td>\n",
       "      <td>1</td>\n",
       "      <td>2022-05-11 12:21:51</td>\n",
       "      <td>1308.0</td>\n",
       "      <td>26.0</td>\n",
       "      <td>0.980078</td>\n",
       "      <td>1</td>\n",
       "    </tr>\n",
       "    <tr>\n",
       "      <th>12576</th>\n",
       "      <td>undng9</td>\n",
       "      <td>[Homemade] West Lake Beef Soup</td>\n",
       "      <td>1652286111</td>\n",
       "      <td>1</td>\n",
       "      <td>1</td>\n",
       "      <td>2022-05-11 12:21:51</td>\n",
       "      <td>1308.0</td>\n",
       "      <td>26.0</td>\n",
       "      <td>0.980078</td>\n",
       "      <td>1</td>\n",
       "    </tr>\n",
       "    <tr>\n",
       "      <th>12584</th>\n",
       "      <td>undd1m</td>\n",
       "      <td>[Homemade] Shrimp and Grits Pizza</td>\n",
       "      <td>1652285344</td>\n",
       "      <td>1</td>\n",
       "      <td>1</td>\n",
       "      <td>2022-05-11 12:09:04</td>\n",
       "      <td>1307.0</td>\n",
       "      <td>26.0</td>\n",
       "      <td>0.980016</td>\n",
       "      <td>1</td>\n",
       "    </tr>\n",
       "  </tbody>\n",
       "</table>\n",
       "<p>480 rows × 10 columns</p>\n",
       "</div>"
      ],
      "text/plain": [
       "           id                                              title  created_utc  \\\n",
       "112    utr520                              [I ate] The Fries Box   1653042409   \n",
       "13546  umy6ag  [homemade] quiche- bacon, onion, spinach, tomato.   1652232540   \n",
       "13548  umy6ag  [homemade] quiche- bacon, onion, spinach, tomato.   1652232540   \n",
       "13549  umy6ag  [homemade] quiche- bacon, onion, spinach, tomato.   1652232540   \n",
       "13547  umy6ag  [homemade] quiche- bacon, onion, spinach, tomato.   1652232540   \n",
       "...       ...                                                ...          ...   \n",
       "12583  undd1m                  [Homemade] Shrimp and Grits Pizza   1652285344   \n",
       "12581  undd1m                  [Homemade] Shrimp and Grits Pizza   1652285344   \n",
       "12575  undng9                     [Homemade] West Lake Beef Soup   1652286111   \n",
       "12576  undng9                     [Homemade] West Lake Beef Soup   1652286111   \n",
       "12584  undd1m                  [Homemade] Shrimp and Grits Pizza   1652285344   \n",
       "\n",
       "       comments_old  score_old        post_time_utc    score  comments  \\\n",
       "112               0          1  2022-05-20 06:26:49  34219.0    1216.0   \n",
       "13546             1          1  2022-05-10 21:29:00  30931.0     380.0   \n",
       "13548             1          1  2022-05-10 21:29:00  30931.0     380.0   \n",
       "13549             1          1  2022-05-10 21:29:00  30929.0     380.0   \n",
       "13547             1          1  2022-05-10 21:29:00  30927.0     380.0   \n",
       "...             ...        ...                  ...      ...       ...   \n",
       "12583             1          1  2022-05-11 12:09:04   1309.0      26.0   \n",
       "12581             1          1  2022-05-11 12:09:04   1309.0      26.0   \n",
       "12575             1          1  2022-05-11 12:21:51   1308.0      26.0   \n",
       "12576             1          1  2022-05-11 12:21:51   1308.0      26.0   \n",
       "12584             1          1  2022-05-11 12:09:04   1307.0      26.0   \n",
       "\n",
       "       percentile  viral  \n",
       "112      1.000000      1  \n",
       "13546    0.999937      1  \n",
       "13548    0.999937      1  \n",
       "13549    0.999875      1  \n",
       "13547    0.999833      1  \n",
       "...           ...    ...  \n",
       "12583    0.980162      1  \n",
       "12581    0.980162      1  \n",
       "12575    0.980078      1  \n",
       "12576    0.980078      1  \n",
       "12584    0.980016      1  \n",
       "\n",
       "[480 rows x 10 columns]"
      ]
     },
     "execution_count": 112,
     "metadata": {},
     "output_type": "execute_result"
    }
   ],
   "source": [
    "posts_df[posts_df['viral']==1].sort_values(by='score', ascending= False)"
   ]
  },
  {
   "cell_type": "code",
   "execution_count": 135,
   "id": "c54c6566-9eb2-4cd7-baa6-b9e1dc17a1de",
   "metadata": {},
   "outputs": [
    {
     "data": {
      "text/plain": [
       "(34219, 1209)"
      ]
     },
     "execution_count": 135,
     "metadata": {},
     "output_type": "execute_result"
    }
   ],
   "source": [
    "posts_df[posts_df['viral']==1]['score'].max(), posts_df[posts_df['viral']==1]['score'].min()"
   ]
  },
  {
   "cell_type": "code",
   "execution_count": 136,
   "id": "133559b8-a4d0-4e2d-a713-50c75401f8bf",
   "metadata": {},
   "outputs": [
    {
     "data": {
      "image/png": "[encoded data removed]",
      "text/plain": [
       "<Figure size 432x288 with 1 Axes>"
      ]
     },
     "metadata": {
      "needs_background": "light"
     },
     "output_type": "display_data"
    }
   ],
   "source": [
    "sns.histplot(posts_df[posts_df['viral']==1]['score']); #even within the top 5% of posts, there is still major skew"
   ]
  },
  {
   "cell_type": "code",
   "execution_count": null,
   "id": "61facd77-8bf3-4969-b496-2c573be8180f",
   "metadata": {},
   "outputs": [],
   "source": []
  }
 ],
 "metadata": {
  "kernelspec": {
   "display_name": "Python 3 (ipykernel)",
   "language": "python",
   "name": "python3"
  },
  "language_info": {
   "codemirror_mode": {
    "name": "ipython",
    "version": 3
   },
   "file_extension": ".py",
   "mimetype": "text/x-python",
   "name": "python",
   "nbconvert_exporter": "python",
   "pygments_lexer": "ipython3",
   "version": "3.9.7"
  }
 },
 "nbformat": 4,
 "nbformat_minor": 5
}
