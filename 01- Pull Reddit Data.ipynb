{
 "cells": [
  {
   "cell_type": "markdown",
   "id": "a80e49b2-a6ee-4227-88db-6a714d43e09e",
   "metadata": {},
   "source": [
    "### This notebook utilizes the pushshift API to pull data about posts in the r/food submreddit"
   ]
  },
  {
   "cell_type": "code",
   "execution_count": 3,
   "id": "662987f6-620b-4f3c-8e7b-bf0ba34e9096",
   "metadata": {},
   "outputs": [],
   "source": [
    "import requests\n",
    "import pandas as pd\n",
    "import time\n",
    "import datetime as dt"
   ]
  },
  {
   "cell_type": "code",
   "execution_count": 8,
   "id": "c5a60279-f74f-411b-9ee3-78ce777f57bc",
   "metadata": {},
   "outputs": [],
   "source": [
    "base_url='https://api.pushshift.io/reddit/search/submission/?'"
   ]
  },
  {
   "cell_type": "code",
   "execution_count": 4,
   "id": "c960a661-0050-43ab-918e-28a8167564f8",
   "metadata": {},
   "outputs": [],
   "source": [
    "utc_2_weeks = 1653077324"
   ]
  },
  {
   "cell_type": "code",
   "execution_count": 9,
   "id": "e081931b-5df1-4a25-b92d-15fa71d0dc16",
   "metadata": {},
   "outputs": [],
   "source": [
    "def reddit_posts(topic):\n",
    "    res = requests.get(base_url, params={'subreddit':topic,\n",
    "                                         'size':100\n",
    "                                         #,'selftext':True\n",
    "                                         ,'before': utc_2_weeks\n",
    "                                        })\n",
    "    if res.status_code ==200:\n",
    "        data = res.json()\n",
    "        df = pd.DataFrame(data['data'])[['id','subreddit', 'title', 'selftext','created_utc','num_comments','score']]\n",
    "        return df #, time_stamp\n",
    "    else:\n",
    "        print('request failed')"
   ]
  },
  {
   "cell_type": "code",
   "execution_count": 10,
   "id": "3db07b3d-e5e7-4a73-b7aa-a1f83132ece8",
   "metadata": {},
   "outputs": [],
   "source": [
    "def reddit_posts1(topic, time_stamp):\n",
    "    res = requests.get(base_url, params={'subreddit':topic,\n",
    "                                         'size':100\n",
    "                                         ,'before':time_stamp\n",
    "                                         #,'selftext':True\n",
    "                                        })\n",
    "    if res.status_code==200:\n",
    "        data = res.json()\n",
    "        df = pd.DataFrame(data['data'])[['id','subreddit', 'title', 'selftext','created_utc','num_comments','score']]\n",
    "        return df #, time_stamp\n",
    "    else:\n",
    "        print('request failed')"
   ]
  },
  {
   "cell_type": "code",
   "execution_count": 11,
   "id": "7fb2a918-6514-406c-93ed-076c09ae2a5d",
   "metadata": {},
   "outputs": [],
   "source": [
    "posts=[]\n",
    "data1 = reddit_posts('Food')\n",
    "posts.append(data1)\n",
    "time_stamp = data1[-1:]['created_utc']\n",
    "time.sleep(1)\n",
    "for x in range(250):\n",
    "    data1 = reddit_posts1('Food', time_stamp)\n",
    "    posts.append(data1)\n",
    "    time_stamp = data1[-1:]['created_utc']\n",
    "    time.sleep(1)\n",
    "reddit_posts_df = pd.concat(posts)"
   ]
  },
  {
   "cell_type": "code",
   "execution_count": 12,
   "id": "f612682a-de46-40cb-931c-0f656525453f",
   "metadata": {},
   "outputs": [
    {
     "data": {
      "text/html": [
       "<div>\n",
       "<style scoped>\n",
       "    .dataframe tbody tr th:only-of-type {\n",
       "        vertical-align: middle;\n",
       "    }\n",
       "\n",
       "    .dataframe tbody tr th {\n",
       "        vertical-align: top;\n",
       "    }\n",
       "\n",
       "    .dataframe thead th {\n",
       "        text-align: right;\n",
       "    }\n",
       "</style>\n",
       "<table border=\"1\" class=\"dataframe\">\n",
       "  <thead>\n",
       "    <tr style=\"text-align: right;\">\n",
       "      <th></th>\n",
       "      <th>id</th>\n",
       "      <th>subreddit</th>\n",
       "      <th>title</th>\n",
       "      <th>selftext</th>\n",
       "      <th>created_utc</th>\n",
       "      <th>num_comments</th>\n",
       "      <th>score</th>\n",
       "    </tr>\n",
       "  </thead>\n",
       "  <tbody>\n",
       "    <tr>\n",
       "      <th>0</th>\n",
       "      <td>uu6g0w</td>\n",
       "      <td>food</td>\n",
       "      <td>[homemade] Polynesian (Chick-Fil-A sauce) chic...</td>\n",
       "      <td></td>\n",
       "      <td>1653077037</td>\n",
       "      <td>0</td>\n",
       "      <td>1</td>\n",
       "    </tr>\n",
       "    <tr>\n",
       "      <th>1</th>\n",
       "      <td>uu6cni</td>\n",
       "      <td>food</td>\n",
       "      <td>[I ate] Scotch mutton pie, pub in Edinburgh</td>\n",
       "      <td></td>\n",
       "      <td>1653076799</td>\n",
       "      <td>0</td>\n",
       "      <td>1</td>\n",
       "    </tr>\n",
       "    <tr>\n",
       "      <th>2</th>\n",
       "      <td>uu6apo</td>\n",
       "      <td>food</td>\n",
       "      <td>[homemade] 🇲🇦</td>\n",
       "      <td></td>\n",
       "      <td>1653076639</td>\n",
       "      <td>0</td>\n",
       "      <td>1</td>\n",
       "    </tr>\n",
       "    <tr>\n",
       "      <th>3</th>\n",
       "      <td>uu644e</td>\n",
       "      <td>food</td>\n",
       "      <td>[homemade] Chilli Paneer, Spinach, Potatoes wi...</td>\n",
       "      <td></td>\n",
       "      <td>1653076091</td>\n",
       "      <td>0</td>\n",
       "      <td>1</td>\n",
       "    </tr>\n",
       "    <tr>\n",
       "      <th>4</th>\n",
       "      <td>uu5x2y</td>\n",
       "      <td>food</td>\n",
       "      <td>[Homemade] Tart - Salmon, spinach and goat cheese</td>\n",
       "      <td></td>\n",
       "      <td>1653075500</td>\n",
       "      <td>0</td>\n",
       "      <td>1</td>\n",
       "    </tr>\n",
       "  </tbody>\n",
       "</table>\n",
       "</div>"
      ],
      "text/plain": [
       "       id subreddit                                              title  \\\n",
       "0  uu6g0w      food  [homemade] Polynesian (Chick-Fil-A sauce) chic...   \n",
       "1  uu6cni      food        [I ate] Scotch mutton pie, pub in Edinburgh   \n",
       "2  uu6apo      food                                      [homemade] 🇲🇦   \n",
       "3  uu644e      food  [homemade] Chilli Paneer, Spinach, Potatoes wi...   \n",
       "4  uu5x2y      food  [Homemade] Tart - Salmon, spinach and goat cheese   \n",
       "\n",
       "  selftext  created_utc  num_comments  score  \n",
       "0            1653077037             0      1  \n",
       "1            1653076799             0      1  \n",
       "2            1653076639             0      1  \n",
       "3            1653076091             0      1  \n",
       "4            1653075500             0      1  "
      ]
     },
     "execution_count": 12,
     "metadata": {},
     "output_type": "execute_result"
    }
   ],
   "source": [
    "reddit_posts_df.head()"
   ]
  },
  {
   "cell_type": "code",
   "execution_count": null,
   "id": "453cf473-3749-4efc-85a3-d965c44fc495",
   "metadata": {},
   "outputs": [],
   "source": [
    "reddit_posts_df['score'].value_counts()"
   ]
  },
  {
   "cell_type": "code",
   "execution_count": 61,
   "id": "66e08342-b2c9-4eb2-ad67-e0c602125e66",
   "metadata": {},
   "outputs": [
    {
     "data": {
      "text/plain": [
       "0     18863\n",
       "1      6055\n",
       "2       107\n",
       "3        24\n",
       "6         8\n",
       "5         8\n",
       "4         7\n",
       "7         5\n",
       "8         3\n",
       "10        3\n",
       "13        3\n",
       "9         2\n",
       "11        2\n",
       "17        1\n",
       "Name: num_comments, dtype: int64"
      ]
     },
     "execution_count": 61,
     "metadata": {},
     "output_type": "execute_result"
    }
   ],
   "source": [
    "reddit_posts_df['num_comments'].value_counts()"
   ]
  },
  {
   "cell_type": "code",
   "execution_count": 47,
   "id": "ec219039-ed55-44d8-9a0a-94bb27ed7bae",
   "metadata": {},
   "outputs": [
    {
     "data": {
      "text/html": [
       "<div>\n",
       "<style scoped>\n",
       "    .dataframe tbody tr th:only-of-type {\n",
       "        vertical-align: middle;\n",
       "    }\n",
       "\n",
       "    .dataframe tbody tr th {\n",
       "        vertical-align: top;\n",
       "    }\n",
       "\n",
       "    .dataframe thead th {\n",
       "        text-align: right;\n",
       "    }\n",
       "</style>\n",
       "<table border=\"1\" class=\"dataframe\">\n",
       "  <thead>\n",
       "    <tr style=\"text-align: right;\">\n",
       "      <th></th>\n",
       "      <th>id</th>\n",
       "      <th>subreddit</th>\n",
       "      <th>title</th>\n",
       "      <th>selftext</th>\n",
       "      <th>created_utc</th>\n",
       "      <th>num_comments</th>\n",
       "      <th>score</th>\n",
       "    </tr>\n",
       "  </thead>\n",
       "  <tbody>\n",
       "    <tr>\n",
       "      <th>17</th>\n",
       "      <td>trf7y2</td>\n",
       "      <td>food</td>\n",
       "      <td>[Homemade] Nachos</td>\n",
       "      <td></td>\n",
       "      <td>1648581956</td>\n",
       "      <td>11</td>\n",
       "      <td>363</td>\n",
       "    </tr>\n",
       "    <tr>\n",
       "      <th>47</th>\n",
       "      <td>trbyju</td>\n",
       "      <td>food</td>\n",
       "      <td>[Homemade] Doughnuts</td>\n",
       "      <td></td>\n",
       "      <td>1648577405</td>\n",
       "      <td>11</td>\n",
       "      <td>316</td>\n",
       "    </tr>\n",
       "    <tr>\n",
       "      <th>76</th>\n",
       "      <td>tr7ecs</td>\n",
       "      <td>food</td>\n",
       "      <td>[Homemade] Sicilian style Pizza</td>\n",
       "      <td></td>\n",
       "      <td>1648572014</td>\n",
       "      <td>13</td>\n",
       "      <td>306</td>\n",
       "    </tr>\n",
       "    <tr>\n",
       "      <th>87</th>\n",
       "      <td>trozdr</td>\n",
       "      <td>food</td>\n",
       "      <td>[Homemade] Fish &amp;amp; Chips</td>\n",
       "      <td></td>\n",
       "      <td>1648591477</td>\n",
       "      <td>8</td>\n",
       "      <td>125</td>\n",
       "    </tr>\n",
       "    <tr>\n",
       "      <th>53</th>\n",
       "      <td>trajc4</td>\n",
       "      <td>food</td>\n",
       "      <td>[Homemade] Pizza</td>\n",
       "      <td></td>\n",
       "      <td>1648575579</td>\n",
       "      <td>4</td>\n",
       "      <td>117</td>\n",
       "    </tr>\n",
       "    <tr>\n",
       "      <th>...</th>\n",
       "      <td>...</td>\n",
       "      <td>...</td>\n",
       "      <td>...</td>\n",
       "      <td>...</td>\n",
       "      <td>...</td>\n",
       "      <td>...</td>\n",
       "      <td>...</td>\n",
       "    </tr>\n",
       "    <tr>\n",
       "      <th>24</th>\n",
       "      <td>ug5gn6</td>\n",
       "      <td>food</td>\n",
       "      <td>[I ate] Pizza topped with Summer Sausage and G...</td>\n",
       "      <td></td>\n",
       "      <td>1651427961</td>\n",
       "      <td>0</td>\n",
       "      <td>0</td>\n",
       "    </tr>\n",
       "    <tr>\n",
       "      <th>32</th>\n",
       "      <td>tru9vx</td>\n",
       "      <td>food</td>\n",
       "      <td>[Homemade]Sloppy Kings.. Not Sloppy Joes</td>\n",
       "      <td></td>\n",
       "      <td>1648601151</td>\n",
       "      <td>6</td>\n",
       "      <td>0</td>\n",
       "    </tr>\n",
       "    <tr>\n",
       "      <th>61</th>\n",
       "      <td>tj8wjh</td>\n",
       "      <td>food</td>\n",
       "      <td>[Homemade] sausage fried rice with sesame broc...</td>\n",
       "      <td></td>\n",
       "      <td>1647859455</td>\n",
       "      <td>0</td>\n",
       "      <td>0</td>\n",
       "    </tr>\n",
       "    <tr>\n",
       "      <th>5</th>\n",
       "      <td>ugc5vu</td>\n",
       "      <td>food</td>\n",
       "      <td>[Homemade] Cheeseburger</td>\n",
       "      <td></td>\n",
       "      <td>1651447386</td>\n",
       "      <td>0</td>\n",
       "      <td>0</td>\n",
       "    </tr>\n",
       "    <tr>\n",
       "      <th>6</th>\n",
       "      <td>upq579</td>\n",
       "      <td>food</td>\n",
       "      <td>[homemade] Potato and Egg Salad Recipe [I ate]...</td>\n",
       "      <td></td>\n",
       "      <td>1652561532</td>\n",
       "      <td>0</td>\n",
       "      <td>0</td>\n",
       "    </tr>\n",
       "  </tbody>\n",
       "</table>\n",
       "<p>25092 rows × 7 columns</p>\n",
       "</div>"
      ],
      "text/plain": [
       "        id subreddit                                              title  \\\n",
       "17  trf7y2      food                                  [Homemade] Nachos   \n",
       "47  trbyju      food                               [Homemade] Doughnuts   \n",
       "76  tr7ecs      food                    [Homemade] Sicilian style Pizza   \n",
       "87  trozdr      food                        [Homemade] Fish &amp; Chips   \n",
       "53  trajc4      food                                   [Homemade] Pizza   \n",
       "..     ...       ...                                                ...   \n",
       "24  ug5gn6      food  [I ate] Pizza topped with Summer Sausage and G...   \n",
       "32  tru9vx      food           [Homemade]Sloppy Kings.. Not Sloppy Joes   \n",
       "61  tj8wjh      food  [Homemade] sausage fried rice with sesame broc...   \n",
       "5   ugc5vu      food                            [Homemade] Cheeseburger   \n",
       "6   upq579      food  [homemade] Potato and Egg Salad Recipe [I ate]...   \n",
       "\n",
       "   selftext  created_utc  num_comments  score  \n",
       "17            1648581956            11    363  \n",
       "47            1648577405            11    316  \n",
       "76            1648572014            13    306  \n",
       "87            1648591477             8    125  \n",
       "53            1648575579             4    117  \n",
       "..      ...          ...           ...    ...  \n",
       "24            1651427961             0      0  \n",
       "32            1648601151             6      0  \n",
       "61            1647859455             0      0  \n",
       "5             1651447386             0      0  \n",
       "6             1652561532             0      0  \n",
       "\n",
       "[25092 rows x 7 columns]"
      ]
     },
     "execution_count": 47,
     "metadata": {},
     "output_type": "execute_result"
    }
   ],
   "source": [
    "reddit_posts_df.sort_values(by='score', ascending=False)"
   ]
  },
  {
   "cell_type": "markdown",
   "id": "9e7040a4-866c-40df-9e75-ffcbbb1fe039",
   "metadata": {},
   "source": [
    "Taking a quick look at these scores and comparing to the scores seen when visiting the the webpage it is clear that they are inaccurate. See the notebook 'redditAPI' for how to pull the accurate data correctly."
   ]
  },
  {
   "cell_type": "code",
   "execution_count": 74,
   "id": "7e80b35e-c140-4139-bdd3-3ebccc4cd27c",
   "metadata": {},
   "outputs": [
    {
     "data": {
      "text/plain": [
       "99    1645244397\n",
       "Name: created_utc, dtype: int64"
      ]
     },
     "execution_count": 74,
     "metadata": {},
     "output_type": "execute_result"
    }
   ],
   "source": [
    "reddit_posts_df[-1:]['created_utc']"
   ]
  },
  {
   "cell_type": "code",
   "execution_count": 69,
   "id": "1dab31b4-1233-46b6-bf69-36a6f154105d",
   "metadata": {},
   "outputs": [],
   "source": [
    "utc_2_weeks = 1653077324"
   ]
  },
  {
   "cell_type": "code",
   "execution_count": 76,
   "id": "1d7cad86-7a84-45a7-b530-a118ff5bb74a",
   "metadata": {},
   "outputs": [],
   "source": [
    "def reddit_posts2(topic):\n",
    "    res = requests.get(base_url, params={'subreddit':topic,\n",
    "                                         'size':100\n",
    "                                         #,'selftext':True\n",
    "                                         ,'before': reddit_posts_df[-1:]['created_utc']\n",
    "                                        })\n",
    "    if res.status_code ==200:\n",
    "        data = res.json()\n",
    "        df = pd.DataFrame(data['data'])[['id','subreddit', 'title', 'selftext','created_utc','num_comments','score']]\n",
    "        return df #, time_stamp\n",
    "    else:\n",
    "        print('request failed')"
   ]
  },
  {
   "cell_type": "code",
   "execution_count": 78,
   "id": "b46ae9dc-7f37-4888-8e91-43ac250072ea",
   "metadata": {},
   "outputs": [],
   "source": [
    "def reddit_posts1(topic, time_stamp):\n",
    "    res = requests.get(base_url, params={'subreddit':topic,\n",
    "                                         'size':100\n",
    "                                         ,'before':time_stamp\n",
    "                                         #,'selftext':True\n",
    "                                        })\n",
    "    if res.status_code==200:\n",
    "        data = res.json()\n",
    "        df = pd.DataFrame(data['data'])[['id','subreddit', 'title', 'selftext','created_utc','num_comments','score']]\n",
    "        return df #, time_stamp\n",
    "    else:\n",
    "        print('request failed')"
   ]
  },
  {
   "cell_type": "code",
   "execution_count": 80,
   "id": "fb717ade-e1db-4d26-a171-727040aed53a",
   "metadata": {},
   "outputs": [],
   "source": [
    "posts=[]\n",
    "data1 = reddit_posts2('Food')\n",
    "posts.append(data1)\n",
    "time_stamp = data1[-1:]['created_utc']\n",
    "time.sleep(1)\n",
    "for x in range(250):\n",
    "    data1 = reddit_posts1('Food', time_stamp)\n",
    "    posts.append(data1)\n",
    "    time_stamp = data1[-1:]['created_utc']\n",
    "    time.sleep(1)\n",
    "reddit_posts_df_2 = pd.concat(posts)"
   ]
  },
  {
   "cell_type": "code",
   "execution_count": 81,
   "id": "cbe2bf1d-54a0-485e-ad25-786101f3a977",
   "metadata": {},
   "outputs": [
    {
     "data": {
      "text/html": [
       "<div>\n",
       "<style scoped>\n",
       "    .dataframe tbody tr th:only-of-type {\n",
       "        vertical-align: middle;\n",
       "    }\n",
       "\n",
       "    .dataframe tbody tr th {\n",
       "        vertical-align: top;\n",
       "    }\n",
       "\n",
       "    .dataframe thead th {\n",
       "        text-align: right;\n",
       "    }\n",
       "</style>\n",
       "<table border=\"1\" class=\"dataframe\">\n",
       "  <thead>\n",
       "    <tr style=\"text-align: right;\">\n",
       "      <th></th>\n",
       "      <th>id</th>\n",
       "      <th>subreddit</th>\n",
       "      <th>title</th>\n",
       "      <th>selftext</th>\n",
       "      <th>created_utc</th>\n",
       "      <th>num_comments</th>\n",
       "      <th>score</th>\n",
       "    </tr>\n",
       "  </thead>\n",
       "  <tbody>\n",
       "    <tr>\n",
       "      <th>0</th>\n",
       "      <td>sw150h</td>\n",
       "      <td>food</td>\n",
       "      <td>[Homemade] Fire Roasted Poblano and Jalapeño S...</td>\n",
       "      <td></td>\n",
       "      <td>1645243935</td>\n",
       "      <td>4</td>\n",
       "      <td>1</td>\n",
       "    </tr>\n",
       "    <tr>\n",
       "      <th>1</th>\n",
       "      <td>sw14ud</td>\n",
       "      <td>food</td>\n",
       "      <td>[Homemade] Cappuccino</td>\n",
       "      <td></td>\n",
       "      <td>1645243920</td>\n",
       "      <td>0</td>\n",
       "      <td>1</td>\n",
       "    </tr>\n",
       "    <tr>\n",
       "      <th>2</th>\n",
       "      <td>sw0uys</td>\n",
       "      <td>food</td>\n",
       "      <td>[Homemade] Chicken and Sausage Jambalaya</td>\n",
       "      <td></td>\n",
       "      <td>1645243074</td>\n",
       "      <td>6</td>\n",
       "      <td>1</td>\n",
       "    </tr>\n",
       "    <tr>\n",
       "      <th>3</th>\n",
       "      <td>sw0qfd</td>\n",
       "      <td>food</td>\n",
       "      <td>[Homemade] Beef with bell peppers and onions w...</td>\n",
       "      <td></td>\n",
       "      <td>1645242666</td>\n",
       "      <td>9</td>\n",
       "      <td>3</td>\n",
       "    </tr>\n",
       "    <tr>\n",
       "      <th>4</th>\n",
       "      <td>sw0os0</td>\n",
       "      <td>food</td>\n",
       "      <td>[homemade] Around the world: Italian, Korean, ...</td>\n",
       "      <td></td>\n",
       "      <td>1645242519</td>\n",
       "      <td>5</td>\n",
       "      <td>4</td>\n",
       "    </tr>\n",
       "    <tr>\n",
       "      <th>...</th>\n",
       "      <td>...</td>\n",
       "      <td>...</td>\n",
       "      <td>...</td>\n",
       "      <td>...</td>\n",
       "      <td>...</td>\n",
       "      <td>...</td>\n",
       "      <td>...</td>\n",
       "    </tr>\n",
       "    <tr>\n",
       "      <th>95</th>\n",
       "      <td>r8dw7i</td>\n",
       "      <td>food</td>\n",
       "      <td>[homemade] Korean beef lettuce wraps</td>\n",
       "      <td></td>\n",
       "      <td>1638580177</td>\n",
       "      <td>1</td>\n",
       "      <td>1</td>\n",
       "    </tr>\n",
       "    <tr>\n",
       "      <th>96</th>\n",
       "      <td>r8du3q</td>\n",
       "      <td>food</td>\n",
       "      <td>[homemade] Ramen. Inexperienced cook and I’m p...</td>\n",
       "      <td></td>\n",
       "      <td>1638580002</td>\n",
       "      <td>0</td>\n",
       "      <td>1</td>\n",
       "    </tr>\n",
       "    <tr>\n",
       "      <th>97</th>\n",
       "      <td>r8dsud</td>\n",
       "      <td>food</td>\n",
       "      <td>[homemade] I am a very inexperienced cook and ...</td>\n",
       "      <td></td>\n",
       "      <td>1638579895</td>\n",
       "      <td>2</td>\n",
       "      <td>1</td>\n",
       "    </tr>\n",
       "    <tr>\n",
       "      <th>98</th>\n",
       "      <td>r8dquz</td>\n",
       "      <td>food</td>\n",
       "      <td>[Homemade] Beef stew w/ fresh baked bread</td>\n",
       "      <td></td>\n",
       "      <td>1638579723</td>\n",
       "      <td>18</td>\n",
       "      <td>1</td>\n",
       "    </tr>\n",
       "    <tr>\n",
       "      <th>99</th>\n",
       "      <td>r8dmi8</td>\n",
       "      <td>food</td>\n",
       "      <td>[homemade] thanksgiving leftover turkey and bi...</td>\n",
       "      <td></td>\n",
       "      <td>1638579365</td>\n",
       "      <td>2</td>\n",
       "      <td>1</td>\n",
       "    </tr>\n",
       "  </tbody>\n",
       "</table>\n",
       "<p>25085 rows × 7 columns</p>\n",
       "</div>"
      ],
      "text/plain": [
       "        id subreddit                                              title  \\\n",
       "0   sw150h      food  [Homemade] Fire Roasted Poblano and Jalapeño S...   \n",
       "1   sw14ud      food                              [Homemade] Cappuccino   \n",
       "2   sw0uys      food           [Homemade] Chicken and Sausage Jambalaya   \n",
       "3   sw0qfd      food  [Homemade] Beef with bell peppers and onions w...   \n",
       "4   sw0os0      food  [homemade] Around the world: Italian, Korean, ...   \n",
       "..     ...       ...                                                ...   \n",
       "95  r8dw7i      food               [homemade] Korean beef lettuce wraps   \n",
       "96  r8du3q      food  [homemade] Ramen. Inexperienced cook and I’m p...   \n",
       "97  r8dsud      food  [homemade] I am a very inexperienced cook and ...   \n",
       "98  r8dquz      food          [Homemade] Beef stew w/ fresh baked bread   \n",
       "99  r8dmi8      food  [homemade] thanksgiving leftover turkey and bi...   \n",
       "\n",
       "   selftext  created_utc  num_comments  score  \n",
       "0             1645243935             4      1  \n",
       "1             1645243920             0      1  \n",
       "2             1645243074             6      1  \n",
       "3             1645242666             9      3  \n",
       "4             1645242519             5      4  \n",
       "..      ...          ...           ...    ...  \n",
       "95            1638580177             1      1  \n",
       "96            1638580002             0      1  \n",
       "97            1638579895             2      1  \n",
       "98            1638579723            18      1  \n",
       "99            1638579365             2      1  \n",
       "\n",
       "[25085 rows x 7 columns]"
      ]
     },
     "execution_count": 81,
     "metadata": {},
     "output_type": "execute_result"
    }
   ],
   "source": [
    "reddit_posts_df_2"
   ]
  },
  {
   "cell_type": "code",
   "execution_count": 93,
   "id": "17e7921b-a606-440d-b72d-5b2983664c0f",
   "metadata": {},
   "outputs": [
    {
     "data": {
      "text/plain": [
       "99    1638579365\n",
       "Name: created_utc, dtype: int64"
      ]
     },
     "execution_count": 93,
     "metadata": {},
     "output_type": "execute_result"
    }
   ],
   "source": [
    "reddit_posts_df_2[-1:]['created_utc']"
   ]
  },
  {
   "cell_type": "code",
   "execution_count": 2,
   "id": "8c30b543-86ee-4ee3-a208-a1b685d3cf99",
   "metadata": {},
   "outputs": [
    {
     "ename": "NameError",
     "evalue": "name 'pd' is not defined",
     "output_type": "error",
     "traceback": [
      "\u001b[0;31m---------------------------------------------------------------------------\u001b[0m",
      "\u001b[0;31mNameError\u001b[0m                                 Traceback (most recent call last)",
      "\u001b[0;32m/var/folders/5x/x41g3czd3g7d18145p3cfc9r0000gn/T/ipykernel_20744/651609118.py\u001b[0m in \u001b[0;36m<module>\u001b[0;34m\u001b[0m\n\u001b[0;32m----> 1\u001b[0;31m \u001b[0mreddit_df\u001b[0m \u001b[0;34m=\u001b[0m \u001b[0mpd\u001b[0m\u001b[0;34m.\u001b[0m\u001b[0mconcat\u001b[0m\u001b[0;34m(\u001b[0m\u001b[0;34m[\u001b[0m\u001b[0mreddit_posts_df\u001b[0m\u001b[0;34m,\u001b[0m \u001b[0mreddit_posts_df_2\u001b[0m\u001b[0;34m]\u001b[0m\u001b[0;34m)\u001b[0m\u001b[0;34m\u001b[0m\u001b[0;34m\u001b[0m\u001b[0m\n\u001b[0m",
      "\u001b[0;31mNameError\u001b[0m: name 'pd' is not defined"
     ]
    }
   ],
   "source": [
    "reddit_df = pd.concat([reddit_posts_df, reddit_posts_df_2])"
   ]
  },
  {
   "cell_type": "code",
   "execution_count": 92,
   "id": "9cea8a5b-6d79-423d-8b67-a678d9503a6c",
   "metadata": {},
   "outputs": [
    {
     "data": {
      "text/plain": [
       "50177"
      ]
     },
     "execution_count": 92,
     "metadata": {},
     "output_type": "execute_result"
    }
   ],
   "source": [
    "len(reddit_df['id'].unique()) #confirming pulls were unique"
   ]
  },
  {
   "cell_type": "code",
   "execution_count": 1,
   "id": "0acc9c3c-a5ea-4d78-87ed-640a65ee336f",
   "metadata": {},
   "outputs": [
    {
     "ename": "NameError",
     "evalue": "name 'reddit_df' is not defined",
     "output_type": "error",
     "traceback": [
      "\u001b[0;31m---------------------------------------------------------------------------\u001b[0m",
      "\u001b[0;31mNameError\u001b[0m                                 Traceback (most recent call last)",
      "\u001b[0;32m/var/folders/5x/x41g3czd3g7d18145p3cfc9r0000gn/T/ipykernel_20744/2226025171.py\u001b[0m in \u001b[0;36m<module>\u001b[0;34m\u001b[0m\n\u001b[0;32m----> 1\u001b[0;31m \u001b[0mreddit_df\u001b[0m\u001b[0;34m[\u001b[0m\u001b[0;34m'score'\u001b[0m\u001b[0;34m]\u001b[0m\u001b[0;34m.\u001b[0m\u001b[0mvalue_counts\u001b[0m\u001b[0;34m(\u001b[0m\u001b[0;34m)\u001b[0m\u001b[0;34m\u001b[0m\u001b[0;34m\u001b[0m\u001b[0m\n\u001b[0m",
      "\u001b[0;31mNameError\u001b[0m: name 'reddit_df' is not defined"
     ]
    }
   ],
   "source": [
    "reddit_df['score'].value_counts()"
   ]
  },
  {
   "cell_type": "code",
   "execution_count": 1,
   "id": "cc94661c-1b9e-41d6-b79e-e1608cb71b2f",
   "metadata": {},
   "outputs": [
    {
     "ename": "NameError",
     "evalue": "name 'reddit_df' is not defined",
     "output_type": "error",
     "traceback": [
      "\u001b[0;31m---------------------------------------------------------------------------\u001b[0m",
      "\u001b[0;31mNameError\u001b[0m                                 Traceback (most recent call last)",
      "\u001b[0;32m/var/folders/5x/x41g3czd3g7d18145p3cfc9r0000gn/T/ipykernel_86918/2501438629.py\u001b[0m in \u001b[0;36m<module>\u001b[0;34m\u001b[0m\n\u001b[0;32m----> 1\u001b[0;31m \u001b[0mreddit_df\u001b[0m\u001b[0;34m.\u001b[0m\u001b[0mto_csv\u001b[0m\u001b[0;34m(\u001b[0m\u001b[0;34m'./food_trends/Data/reddit_6_months.csv'\u001b[0m\u001b[0;34m,\u001b[0m \u001b[0mindex\u001b[0m\u001b[0;34m=\u001b[0m\u001b[0;32mFalse\u001b[0m\u001b[0;34m)\u001b[0m\u001b[0;34m\u001b[0m\u001b[0;34m\u001b[0m\u001b[0m\n\u001b[0m",
      "\u001b[0;31mNameError\u001b[0m: name 'reddit_df' is not defined"
     ]
    }
   ],
   "source": [
    "reddit_df.to_csv('./food_trends/Data/reddit_6_months.csv', index=False)"
   ]
  },
  {
   "cell_type": "code",
   "execution_count": null,
   "id": "f2d00596-6c0d-4a25-a19f-f7090e4920b9",
   "metadata": {},
   "outputs": [],
   "source": []
  }
 ],
 "metadata": {
  "kernelspec": {
   "display_name": "Python 3 (ipykernel)",
   "language": "python",
   "name": "python3"
  },
  "language_info": {
   "codemirror_mode": {
    "name": "ipython",
    "version": 3
   },
   "file_extension": ".py",
   "mimetype": "text/x-python",
   "name": "python",
   "nbconvert_exporter": "python",
   "pygments_lexer": "ipython3",
   "version": "3.9.7"
  }
 },
 "nbformat": 4,
 "nbformat_minor": 5
}
